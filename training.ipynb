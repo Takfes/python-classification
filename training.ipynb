{
 "cells": [
  {
   "cell_type": "code",
   "execution_count": 1,
   "id": "85d2d58c",
   "metadata": {},
   "outputs": [],
   "source": [
    "import numpy as np\n",
    "import pandas as pd\n",
    "from functools import partial\n",
    "from sklearn.experimental import enable_halving_search_cv\n",
    "from sklearn.base import clone\n",
    "from sklearn.model_selection import (\n",
    "    train_test_split,\n",
    "    cross_val_score,\n",
    "    cross_validate,\n",
    "    cross_val_predict,\n",
    "    RandomizedSearchCV,\n",
    "    HalvingRandomSearchCV,\n",
    ")\n",
    "from sklearn.pipeline import Pipeline\n",
    "from sklearn.preprocessing import StandardScaler, OneHotEncoder\n",
    "from sklearn.compose import ColumnTransformer, make_column_selector\n",
    "from sklearn.ensemble import RandomForestClassifier\n",
    "from sklearn.metrics import (\n",
    "    make_scorer,\n",
    "    accuracy_score,\n",
    "    precision_score,\n",
    "    recall_score,\n",
    "    f1_score,\n",
    "    fbeta_score,\n",
    "    roc_auc_score,\n",
    "    average_precision_score,\n",
    "    log_loss,\n",
    "    confusion_matrix,\n",
    "    classification_report,\n",
    "    precision_recall_curve,\n",
    "    roc_curve,\n",
    ")\n",
    "from xgboost import XGBClassifier\n",
    "import category_encoders as ce"
   ]
  },
  {
   "cell_type": "markdown",
   "id": "0eb69b84",
   "metadata": {},
   "source": [
    "### Settings"
   ]
  },
  {
   "cell_type": "code",
   "execution_count": 2,
   "id": "dee5c370",
   "metadata": {},
   "outputs": [],
   "source": [
    "SEED = 1990\n",
    "TEST_RATIO = 1 / 4"
   ]
  },
  {
   "cell_type": "markdown",
   "id": "bcbdd347",
   "metadata": {},
   "source": [
    "### Train-Test Split"
   ]
  },
  {
   "cell_type": "code",
   "execution_count": 3,
   "id": "a28d9814",
   "metadata": {},
   "outputs": [],
   "source": [
    "data = pd.read_pickle(\"classification_dataset.pkl\")\n",
    "X = data.drop(\"target\", axis=1)\n",
    "y = data[\"target\"]"
   ]
  },
  {
   "cell_type": "code",
   "execution_count": 4,
   "id": "00b61228",
   "metadata": {},
   "outputs": [],
   "source": [
    "X_train, X_test, y_train, y_test = train_test_split(\n",
    "    X, y, test_size=TEST_RATIO, random_state=SEED, stratify=y\n",
    ")"
   ]
  },
  {
   "cell_type": "code",
   "execution_count": 5,
   "id": "1a9a2b34",
   "metadata": {},
   "outputs": [
    {
     "data": {
      "text/plain": [
       "target\n",
       "0    0.7\n",
       "1    0.3\n",
       "Name: proportion, dtype: float64"
      ]
     },
     "execution_count": 5,
     "metadata": {},
     "output_type": "execute_result"
    }
   ],
   "source": [
    "y_train.value_counts(normalize=True)"
   ]
  },
  {
   "cell_type": "markdown",
   "id": "91abe4ff",
   "metadata": {},
   "source": [
    "### Define Pipeline"
   ]
  },
  {
   "cell_type": "code",
   "execution_count": 6,
   "id": "dafd0ba4",
   "metadata": {},
   "outputs": [],
   "source": [
    "pipen = Pipeline([(\"numeric\", StandardScaler())])"
   ]
  },
  {
   "cell_type": "code",
   "execution_count": 7,
   "id": "01b74e7f",
   "metadata": {},
   "outputs": [],
   "source": [
    "pipec = Pipeline([(\"categorical\", ce.CatBoostEncoder())])"
   ]
  },
  {
   "cell_type": "code",
   "execution_count": 8,
   "id": "76825a8f",
   "metadata": {},
   "outputs": [],
   "source": [
    "prepro = ColumnTransformer(\n",
    "    [\n",
    "        (\"num\", pipen, make_column_selector(dtype_include=np.number)),\n",
    "        (\"cat\", pipec, make_column_selector(dtype_include=object)),\n",
    "    ]\n",
    ")"
   ]
  },
  {
   "cell_type": "markdown",
   "id": "a43632cd",
   "metadata": {},
   "source": [
    "### Add model to the Pipeline"
   ]
  },
  {
   "cell_type": "code",
   "execution_count": 9,
   "id": "30ad378e",
   "metadata": {},
   "outputs": [],
   "source": [
    "model = Pipeline([(\"prp\", prepro), (\"clf\", XGBClassifier())])"
   ]
  },
  {
   "cell_type": "markdown",
   "id": "18b92f83",
   "metadata": {},
   "source": [
    "### cross_val_score"
   ]
  },
  {
   "cell_type": "code",
   "execution_count": 10,
   "id": "404edf0d",
   "metadata": {},
   "outputs": [
    {
     "data": {
      "text/plain": [
       "array([0.82191781, 0.73291925, 0.75167785])"
      ]
     },
     "execution_count": 10,
     "metadata": {},
     "output_type": "execute_result"
    }
   ],
   "source": [
    "cvscore1 = cross_val_score(model, X_train, y_train, scoring=\"f1\", cv=3)\n",
    "cvscore1"
   ]
  },
  {
   "cell_type": "markdown",
   "id": "f5a651a5",
   "metadata": {},
   "source": [
    "### cross_validate"
   ]
  },
  {
   "cell_type": "code",
   "execution_count": 11,
   "id": "ed7d1e89",
   "metadata": {},
   "outputs": [],
   "source": [
    "scoring = {\n",
    "    \"accuracy\": make_scorer(accuracy_score),\n",
    "    \"f1\": make_scorer(f1_score),\n",
    "    \"f2\": make_scorer(fbeta_score, beta=2),\n",
    "    \"f0.5\": make_scorer(fbeta_score, beta=0.5),\n",
    "    \"precision\": make_scorer(precision_score),\n",
    "    \"recall\": make_scorer(recall_score),\n",
    "    \"roc_auc\": make_scorer(roc_auc_score),\n",
    "    \"pr_auc\": make_scorer(average_precision_score),\n",
    "    \"log_loss\": make_scorer(log_loss),\n",
    "}"
   ]
  },
  {
   "cell_type": "code",
   "execution_count": 12,
   "id": "94e68997",
   "metadata": {},
   "outputs": [
    {
     "data": {
      "text/plain": [
       "{'fit_time': array([0.07668686, 0.03370309, 0.03618717]),\n",
       " 'score_time': array([0.00866818, 0.00733995, 0.00747395]),\n",
       " 'test_accuracy': array([0.896, 0.828, 0.852]),\n",
       " 'train_accuracy': array([0.964, 0.994, 0.982]),\n",
       " 'test_f1': array([0.82191781, 0.73291925, 0.75167785]),\n",
       " 'train_f1': array([0.93918919, 0.98996656, 0.9704918 ]),\n",
       " 'test_f2': array([0.80862534, 0.7642487 , 0.7486631 ]),\n",
       " 'train_f2': array([0.93163539, 0.98798398, 0.98013245]),\n",
       " 'test_f0.5': array([0.8356546 , 0.70405728, 0.75471698]),\n",
       " 'train_f0.5': array([0.94686649, 0.9919571 , 0.96103896]),\n",
       " 'test_precision': array([0.84507042, 0.68604651, 0.75675676]),\n",
       " 'train_precision': array([0.95205479, 0.99328859, 0.95483871]),\n",
       " 'test_recall': array([0.8       , 0.78666667, 0.74666667]),\n",
       " 'train_recall': array([0.92666667, 0.98666667, 0.98666667]),\n",
       " 'test_roc_auc': array([0.86857143, 0.81619048, 0.82190476]),\n",
       " 'train_roc_auc': array([0.95333333, 0.99190476, 0.98333333]),\n",
       " 'test_pr_auc': array([0.73605634, 0.60368992, 0.64104505]),\n",
       " 'train_pr_auc': array([0.90423744, 0.98404474, 0.94610753]),\n",
       " 'test_log_loss': array([3.74853995, 6.19950838, 5.3344607 ]),\n",
       " 'train_log_loss': array([1.29757152, 0.21626192, 0.64878576])}"
      ]
     },
     "execution_count": 12,
     "metadata": {},
     "output_type": "execute_result"
    }
   ],
   "source": [
    "cvscore2 = cross_validate(\n",
    "    model,\n",
    "    X_train,\n",
    "    y_train,\n",
    "    scoring=scoring,\n",
    "    cv=3,\n",
    "    return_train_score=True,\n",
    ")\n",
    "cvscore2"
   ]
  },
  {
   "cell_type": "code",
   "execution_count": 13,
   "id": "5c6077f7",
   "metadata": {},
   "outputs": [
    {
     "data": {
      "text/html": [
       "<div>\n",
       "<style scoped>\n",
       "    .dataframe tbody tr th:only-of-type {\n",
       "        vertical-align: middle;\n",
       "    }\n",
       "\n",
       "    .dataframe tbody tr th {\n",
       "        vertical-align: top;\n",
       "    }\n",
       "\n",
       "    .dataframe thead th {\n",
       "        text-align: right;\n",
       "    }\n",
       "</style>\n",
       "<table border=\"1\" class=\"dataframe\">\n",
       "  <thead>\n",
       "    <tr style=\"text-align: right;\">\n",
       "      <th></th>\n",
       "      <th>fit_time</th>\n",
       "      <th>score_time</th>\n",
       "      <th>test_accuracy</th>\n",
       "      <th>train_accuracy</th>\n",
       "      <th>test_f1</th>\n",
       "      <th>train_f1</th>\n",
       "      <th>test_f2</th>\n",
       "      <th>train_f2</th>\n",
       "      <th>test_f0.5</th>\n",
       "      <th>train_f0.5</th>\n",
       "      <th>test_precision</th>\n",
       "      <th>train_precision</th>\n",
       "      <th>test_recall</th>\n",
       "      <th>train_recall</th>\n",
       "      <th>test_roc_auc</th>\n",
       "      <th>train_roc_auc</th>\n",
       "      <th>test_pr_auc</th>\n",
       "      <th>train_pr_auc</th>\n",
       "      <th>test_log_loss</th>\n",
       "      <th>train_log_loss</th>\n",
       "    </tr>\n",
       "  </thead>\n",
       "  <tbody>\n",
       "    <tr>\n",
       "      <th>0</th>\n",
       "      <td>0.076687</td>\n",
       "      <td>0.008668</td>\n",
       "      <td>0.896</td>\n",
       "      <td>0.964</td>\n",
       "      <td>0.821918</td>\n",
       "      <td>0.939189</td>\n",
       "      <td>0.808625</td>\n",
       "      <td>0.931635</td>\n",
       "      <td>0.835655</td>\n",
       "      <td>0.946866</td>\n",
       "      <td>0.845070</td>\n",
       "      <td>0.952055</td>\n",
       "      <td>0.800000</td>\n",
       "      <td>0.926667</td>\n",
       "      <td>0.868571</td>\n",
       "      <td>0.953333</td>\n",
       "      <td>0.736056</td>\n",
       "      <td>0.904237</td>\n",
       "      <td>3.748540</td>\n",
       "      <td>1.297572</td>\n",
       "    </tr>\n",
       "    <tr>\n",
       "      <th>1</th>\n",
       "      <td>0.033703</td>\n",
       "      <td>0.007340</td>\n",
       "      <td>0.828</td>\n",
       "      <td>0.994</td>\n",
       "      <td>0.732919</td>\n",
       "      <td>0.989967</td>\n",
       "      <td>0.764249</td>\n",
       "      <td>0.987984</td>\n",
       "      <td>0.704057</td>\n",
       "      <td>0.991957</td>\n",
       "      <td>0.686047</td>\n",
       "      <td>0.993289</td>\n",
       "      <td>0.786667</td>\n",
       "      <td>0.986667</td>\n",
       "      <td>0.816190</td>\n",
       "      <td>0.991905</td>\n",
       "      <td>0.603690</td>\n",
       "      <td>0.984045</td>\n",
       "      <td>6.199508</td>\n",
       "      <td>0.216262</td>\n",
       "    </tr>\n",
       "    <tr>\n",
       "      <th>2</th>\n",
       "      <td>0.036187</td>\n",
       "      <td>0.007474</td>\n",
       "      <td>0.852</td>\n",
       "      <td>0.982</td>\n",
       "      <td>0.751678</td>\n",
       "      <td>0.970492</td>\n",
       "      <td>0.748663</td>\n",
       "      <td>0.980132</td>\n",
       "      <td>0.754717</td>\n",
       "      <td>0.961039</td>\n",
       "      <td>0.756757</td>\n",
       "      <td>0.954839</td>\n",
       "      <td>0.746667</td>\n",
       "      <td>0.986667</td>\n",
       "      <td>0.821905</td>\n",
       "      <td>0.983333</td>\n",
       "      <td>0.641045</td>\n",
       "      <td>0.946108</td>\n",
       "      <td>5.334461</td>\n",
       "      <td>0.648786</td>\n",
       "    </tr>\n",
       "  </tbody>\n",
       "</table>\n",
       "</div>"
      ],
      "text/plain": [
       "   fit_time  score_time  test_accuracy  train_accuracy   test_f1  train_f1   \n",
       "0  0.076687    0.008668          0.896           0.964  0.821918  0.939189  \\\n",
       "1  0.033703    0.007340          0.828           0.994  0.732919  0.989967   \n",
       "2  0.036187    0.007474          0.852           0.982  0.751678  0.970492   \n",
       "\n",
       "    test_f2  train_f2  test_f0.5  train_f0.5  test_precision  train_precision   \n",
       "0  0.808625  0.931635   0.835655    0.946866        0.845070         0.952055  \\\n",
       "1  0.764249  0.987984   0.704057    0.991957        0.686047         0.993289   \n",
       "2  0.748663  0.980132   0.754717    0.961039        0.756757         0.954839   \n",
       "\n",
       "   test_recall  train_recall  test_roc_auc  train_roc_auc  test_pr_auc   \n",
       "0     0.800000      0.926667      0.868571       0.953333     0.736056  \\\n",
       "1     0.786667      0.986667      0.816190       0.991905     0.603690   \n",
       "2     0.746667      0.986667      0.821905       0.983333     0.641045   \n",
       "\n",
       "   train_pr_auc  test_log_loss  train_log_loss  \n",
       "0      0.904237       3.748540        1.297572  \n",
       "1      0.984045       6.199508        0.216262  \n",
       "2      0.946108       5.334461        0.648786  "
      ]
     },
     "execution_count": 13,
     "metadata": {},
     "output_type": "execute_result"
    }
   ],
   "source": [
    "pd.DataFrame(cvscore2)"
   ]
  },
  {
   "cell_type": "markdown",
   "id": "8cd41757",
   "metadata": {},
   "source": [
    "### RandomizedSearchCV"
   ]
  },
  {
   "cell_type": "markdown",
   "id": "a4a26f71",
   "metadata": {},
   "source": [
    "* RandomizedSearchCV [documentation](https://scikit-learn.org/stable/modules/generated/sklearn.model_selection.RandomizedSearchCV.html)\n",
    "* this will sample **n_iter** from the params_grid; each grid will be evaluated with cross-validation on **cv** folds\n",
    "* the output will return the results **cv** results, corresponding to the evaluation on the different folds\n",
    "* output will contain the test fold(s) results and potentially the train folds - if **return_train_score**\n",
    "* **refit** : Refit an estimator using the best found parameters on the whole dataset.\n",
    "* if **refit** is used, the best params_grid examined will be selected based on the **refit** value to train the estimator on the **entire dataset**\n",
    "* **cv** : For integer/None inputs, if the estimator is a classifier and y is either binary or multiclass, StratifiedKFold is used. In all other cases, KFold is used. These splitters are instantiated with shuffle=False so the splits will be the same across calls."
   ]
  },
  {
   "cell_type": "code",
   "execution_count": 14,
   "id": "b7c1dfb9",
   "metadata": {},
   "outputs": [],
   "source": [
    "params_grid = {\n",
    "    \"clf__n_estimators\": [100, 150, 200],\n",
    "    \"clf__learning_rate\": [0.01, 0.1, 0.5],\n",
    "    \"clf__max_depth\": [3, 5, 7],\n",
    "    \"clf__min_child_weight\": [1, 3, 5],\n",
    "    \"clf__subsample\": [0.6, 0.8, 1.0],\n",
    "    \"clf__colsample_bytree\": [0.6, 0.8, 1.0],\n",
    "    \"clf__gamma\": [0, 0.3, 0.5],\n",
    "    \"clf__reg_alpha\": [0.1, 0.25, 0.75],\n",
    "    \"clf__reg_lambda\": [0.1, 0.25, 0.75],\n",
    "}"
   ]
  },
  {
   "cell_type": "code",
   "execution_count": 15,
   "id": "302f1249",
   "metadata": {},
   "outputs": [],
   "source": [
    "search1 = RandomizedSearchCV(\n",
    "    estimator=model,\n",
    "    param_distributions=params_grid,\n",
    "    n_iter=20,\n",
    "    scoring=scoring,\n",
    "    refit=\"accuracy\",\n",
    "    cv=3,\n",
    "    verbose=1,\n",
    "    return_train_score=True,\n",
    "    random_state=SEED,\n",
    ")"
   ]
  },
  {
   "cell_type": "code",
   "execution_count": 16,
   "id": "41881e4d",
   "metadata": {},
   "outputs": [
    {
     "name": "stdout",
     "output_type": "stream",
     "text": [
      "Fitting 3 folds for each of 20 candidates, totalling 60 fits\n"
     ]
    },
    {
     "data": {
      "text/html": [
       "<style>#sk-container-id-1 {color: black;background-color: white;}#sk-container-id-1 pre{padding: 0;}#sk-container-id-1 div.sk-toggleable {background-color: white;}#sk-container-id-1 label.sk-toggleable__label {cursor: pointer;display: block;width: 100%;margin-bottom: 0;padding: 0.3em;box-sizing: border-box;text-align: center;}#sk-container-id-1 label.sk-toggleable__label-arrow:before {content: \"▸\";float: left;margin-right: 0.25em;color: #696969;}#sk-container-id-1 label.sk-toggleable__label-arrow:hover:before {color: black;}#sk-container-id-1 div.sk-estimator:hover label.sk-toggleable__label-arrow:before {color: black;}#sk-container-id-1 div.sk-toggleable__content {max-height: 0;max-width: 0;overflow: hidden;text-align: left;background-color: #f0f8ff;}#sk-container-id-1 div.sk-toggleable__content pre {margin: 0.2em;color: black;border-radius: 0.25em;background-color: #f0f8ff;}#sk-container-id-1 input.sk-toggleable__control:checked~div.sk-toggleable__content {max-height: 200px;max-width: 100%;overflow: auto;}#sk-container-id-1 input.sk-toggleable__control:checked~label.sk-toggleable__label-arrow:before {content: \"▾\";}#sk-container-id-1 div.sk-estimator input.sk-toggleable__control:checked~label.sk-toggleable__label {background-color: #d4ebff;}#sk-container-id-1 div.sk-label input.sk-toggleable__control:checked~label.sk-toggleable__label {background-color: #d4ebff;}#sk-container-id-1 input.sk-hidden--visually {border: 0;clip: rect(1px 1px 1px 1px);clip: rect(1px, 1px, 1px, 1px);height: 1px;margin: -1px;overflow: hidden;padding: 0;position: absolute;width: 1px;}#sk-container-id-1 div.sk-estimator {font-family: monospace;background-color: #f0f8ff;border: 1px dotted black;border-radius: 0.25em;box-sizing: border-box;margin-bottom: 0.5em;}#sk-container-id-1 div.sk-estimator:hover {background-color: #d4ebff;}#sk-container-id-1 div.sk-parallel-item::after {content: \"\";width: 100%;border-bottom: 1px solid gray;flex-grow: 1;}#sk-container-id-1 div.sk-label:hover label.sk-toggleable__label {background-color: #d4ebff;}#sk-container-id-1 div.sk-serial::before {content: \"\";position: absolute;border-left: 1px solid gray;box-sizing: border-box;top: 0;bottom: 0;left: 50%;z-index: 0;}#sk-container-id-1 div.sk-serial {display: flex;flex-direction: column;align-items: center;background-color: white;padding-right: 0.2em;padding-left: 0.2em;position: relative;}#sk-container-id-1 div.sk-item {position: relative;z-index: 1;}#sk-container-id-1 div.sk-parallel {display: flex;align-items: stretch;justify-content: center;background-color: white;position: relative;}#sk-container-id-1 div.sk-item::before, #sk-container-id-1 div.sk-parallel-item::before {content: \"\";position: absolute;border-left: 1px solid gray;box-sizing: border-box;top: 0;bottom: 0;left: 50%;z-index: -1;}#sk-container-id-1 div.sk-parallel-item {display: flex;flex-direction: column;z-index: 1;position: relative;background-color: white;}#sk-container-id-1 div.sk-parallel-item:first-child::after {align-self: flex-end;width: 50%;}#sk-container-id-1 div.sk-parallel-item:last-child::after {align-self: flex-start;width: 50%;}#sk-container-id-1 div.sk-parallel-item:only-child::after {width: 0;}#sk-container-id-1 div.sk-dashed-wrapped {border: 1px dashed gray;margin: 0 0.4em 0.5em 0.4em;box-sizing: border-box;padding-bottom: 0.4em;background-color: white;}#sk-container-id-1 div.sk-label label {font-family: monospace;font-weight: bold;display: inline-block;line-height: 1.2em;}#sk-container-id-1 div.sk-label-container {text-align: center;}#sk-container-id-1 div.sk-container {/* jupyter's `normalize.less` sets `[hidden] { display: none; }` but bootstrap.min.css set `[hidden] { display: none !important; }` so we also need the `!important` here to be able to override the default hidden behavior on the sphinx rendered scikit-learn.org. See: https://github.com/scikit-learn/scikit-learn/issues/21755 */display: inline-block !important;position: relative;}#sk-container-id-1 div.sk-text-repr-fallback {display: none;}</style><div id=\"sk-container-id-1\" class=\"sk-top-container\"><div class=\"sk-text-repr-fallback\"><pre>RandomizedSearchCV(cv=3,\n",
       "                   estimator=Pipeline(steps=[(&#x27;prp&#x27;,\n",
       "                                              ColumnTransformer(transformers=[(&#x27;num&#x27;,\n",
       "                                                                               Pipeline(steps=[(&#x27;numeric&#x27;,\n",
       "                                                                                                StandardScaler())]),\n",
       "                                                                               &lt;sklearn.compose._column_transformer.make_column_selector object at 0x15a907bb0&gt;),\n",
       "                                                                              (&#x27;cat&#x27;,\n",
       "                                                                               Pipeline(steps=[(&#x27;categorical&#x27;,\n",
       "                                                                                                CatBoostEncoder())]),\n",
       "                                                                               &lt;sklearn.compose._column_transformer.make_column_selector object at 0x15...\n",
       "                   scoring={&#x27;accuracy&#x27;: make_scorer(accuracy_score),\n",
       "                            &#x27;f0.5&#x27;: make_scorer(fbeta_score, beta=0.5),\n",
       "                            &#x27;f1&#x27;: make_scorer(f1_score),\n",
       "                            &#x27;f2&#x27;: make_scorer(fbeta_score, beta=2),\n",
       "                            &#x27;log_loss&#x27;: make_scorer(log_loss),\n",
       "                            &#x27;pr_auc&#x27;: make_scorer(average_precision_score),\n",
       "                            &#x27;precision&#x27;: make_scorer(precision_score),\n",
       "                            &#x27;recall&#x27;: make_scorer(recall_score),\n",
       "                            &#x27;roc_auc&#x27;: make_scorer(roc_auc_score)},\n",
       "                   verbose=1)</pre><b>In a Jupyter environment, please rerun this cell to show the HTML representation or trust the notebook. <br />On GitHub, the HTML representation is unable to render, please try loading this page with nbviewer.org.</b></div><div class=\"sk-container\" hidden><div class=\"sk-item sk-dashed-wrapped\"><div class=\"sk-label-container\"><div class=\"sk-label sk-toggleable\"><input class=\"sk-toggleable__control sk-hidden--visually\" id=\"sk-estimator-id-1\" type=\"checkbox\" ><label for=\"sk-estimator-id-1\" class=\"sk-toggleable__label sk-toggleable__label-arrow\">RandomizedSearchCV</label><div class=\"sk-toggleable__content\"><pre>RandomizedSearchCV(cv=3,\n",
       "                   estimator=Pipeline(steps=[(&#x27;prp&#x27;,\n",
       "                                              ColumnTransformer(transformers=[(&#x27;num&#x27;,\n",
       "                                                                               Pipeline(steps=[(&#x27;numeric&#x27;,\n",
       "                                                                                                StandardScaler())]),\n",
       "                                                                               &lt;sklearn.compose._column_transformer.make_column_selector object at 0x15a907bb0&gt;),\n",
       "                                                                              (&#x27;cat&#x27;,\n",
       "                                                                               Pipeline(steps=[(&#x27;categorical&#x27;,\n",
       "                                                                                                CatBoostEncoder())]),\n",
       "                                                                               &lt;sklearn.compose._column_transformer.make_column_selector object at 0x15...\n",
       "                   scoring={&#x27;accuracy&#x27;: make_scorer(accuracy_score),\n",
       "                            &#x27;f0.5&#x27;: make_scorer(fbeta_score, beta=0.5),\n",
       "                            &#x27;f1&#x27;: make_scorer(f1_score),\n",
       "                            &#x27;f2&#x27;: make_scorer(fbeta_score, beta=2),\n",
       "                            &#x27;log_loss&#x27;: make_scorer(log_loss),\n",
       "                            &#x27;pr_auc&#x27;: make_scorer(average_precision_score),\n",
       "                            &#x27;precision&#x27;: make_scorer(precision_score),\n",
       "                            &#x27;recall&#x27;: make_scorer(recall_score),\n",
       "                            &#x27;roc_auc&#x27;: make_scorer(roc_auc_score)},\n",
       "                   verbose=1)</pre></div></div></div><div class=\"sk-parallel\"><div class=\"sk-parallel-item\"><div class=\"sk-item\"><div class=\"sk-label-container\"><div class=\"sk-label sk-toggleable\"><input class=\"sk-toggleable__control sk-hidden--visually\" id=\"sk-estimator-id-2\" type=\"checkbox\" ><label for=\"sk-estimator-id-2\" class=\"sk-toggleable__label sk-toggleable__label-arrow\">estimator: Pipeline</label><div class=\"sk-toggleable__content\"><pre>Pipeline(steps=[(&#x27;prp&#x27;,\n",
       "                 ColumnTransformer(transformers=[(&#x27;num&#x27;,\n",
       "                                                  Pipeline(steps=[(&#x27;numeric&#x27;,\n",
       "                                                                   StandardScaler())]),\n",
       "                                                  &lt;sklearn.compose._column_transformer.make_column_selector object at 0x15a907bb0&gt;),\n",
       "                                                 (&#x27;cat&#x27;,\n",
       "                                                  Pipeline(steps=[(&#x27;categorical&#x27;,\n",
       "                                                                   CatBoostEncoder())]),\n",
       "                                                  &lt;sklearn.compose._column_transformer.make_column_selector object at 0x15a907c10&gt;)])),\n",
       "                (&#x27;clf&#x27;,\n",
       "                 XGBClassifier(...\n",
       "                               feature_types=None, gamma=None, gpu_id=None,\n",
       "                               grow_policy=None, importance_type=None,\n",
       "                               interaction_constraints=None, learning_rate=None,\n",
       "                               max_bin=None, max_cat_threshold=None,\n",
       "                               max_cat_to_onehot=None, max_delta_step=None,\n",
       "                               max_depth=None, max_leaves=None,\n",
       "                               min_child_weight=None, missing=nan,\n",
       "                               monotone_constraints=None, n_estimators=100,\n",
       "                               n_jobs=None, num_parallel_tree=None,\n",
       "                               predictor=None, random_state=None, ...))])</pre></div></div></div><div class=\"sk-serial\"><div class=\"sk-item\"><div class=\"sk-serial\"><div class=\"sk-item sk-dashed-wrapped\"><div class=\"sk-label-container\"><div class=\"sk-label sk-toggleable\"><input class=\"sk-toggleable__control sk-hidden--visually\" id=\"sk-estimator-id-3\" type=\"checkbox\" ><label for=\"sk-estimator-id-3\" class=\"sk-toggleable__label sk-toggleable__label-arrow\">prp: ColumnTransformer</label><div class=\"sk-toggleable__content\"><pre>ColumnTransformer(transformers=[(&#x27;num&#x27;,\n",
       "                                 Pipeline(steps=[(&#x27;numeric&#x27;,\n",
       "                                                  StandardScaler())]),\n",
       "                                 &lt;sklearn.compose._column_transformer.make_column_selector object at 0x15a907bb0&gt;),\n",
       "                                (&#x27;cat&#x27;,\n",
       "                                 Pipeline(steps=[(&#x27;categorical&#x27;,\n",
       "                                                  CatBoostEncoder())]),\n",
       "                                 &lt;sklearn.compose._column_transformer.make_column_selector object at 0x15a907c10&gt;)])</pre></div></div></div><div class=\"sk-parallel\"><div class=\"sk-parallel-item\"><div class=\"sk-item\"><div class=\"sk-label-container\"><div class=\"sk-label sk-toggleable\"><input class=\"sk-toggleable__control sk-hidden--visually\" id=\"sk-estimator-id-4\" type=\"checkbox\" ><label for=\"sk-estimator-id-4\" class=\"sk-toggleable__label sk-toggleable__label-arrow\">num</label><div class=\"sk-toggleable__content\"><pre>&lt;sklearn.compose._column_transformer.make_column_selector object at 0x15a907bb0&gt;</pre></div></div></div><div class=\"sk-serial\"><div class=\"sk-item\"><div class=\"sk-serial\"><div class=\"sk-item\"><div class=\"sk-estimator sk-toggleable\"><input class=\"sk-toggleable__control sk-hidden--visually\" id=\"sk-estimator-id-5\" type=\"checkbox\" ><label for=\"sk-estimator-id-5\" class=\"sk-toggleable__label sk-toggleable__label-arrow\">StandardScaler</label><div class=\"sk-toggleable__content\"><pre>StandardScaler()</pre></div></div></div></div></div></div></div></div><div class=\"sk-parallel-item\"><div class=\"sk-item\"><div class=\"sk-label-container\"><div class=\"sk-label sk-toggleable\"><input class=\"sk-toggleable__control sk-hidden--visually\" id=\"sk-estimator-id-6\" type=\"checkbox\" ><label for=\"sk-estimator-id-6\" class=\"sk-toggleable__label sk-toggleable__label-arrow\">cat</label><div class=\"sk-toggleable__content\"><pre>&lt;sklearn.compose._column_transformer.make_column_selector object at 0x15a907c10&gt;</pre></div></div></div><div class=\"sk-serial\"><div class=\"sk-item\"><div class=\"sk-serial\"><div class=\"sk-item\"><div class=\"sk-estimator sk-toggleable\"><input class=\"sk-toggleable__control sk-hidden--visually\" id=\"sk-estimator-id-7\" type=\"checkbox\" ><label for=\"sk-estimator-id-7\" class=\"sk-toggleable__label sk-toggleable__label-arrow\">CatBoostEncoder</label><div class=\"sk-toggleable__content\"><pre>CatBoostEncoder()</pre></div></div></div></div></div></div></div></div></div></div><div class=\"sk-item\"><div class=\"sk-estimator sk-toggleable\"><input class=\"sk-toggleable__control sk-hidden--visually\" id=\"sk-estimator-id-8\" type=\"checkbox\" ><label for=\"sk-estimator-id-8\" class=\"sk-toggleable__label sk-toggleable__label-arrow\">XGBClassifier</label><div class=\"sk-toggleable__content\"><pre>XGBClassifier(base_score=None, booster=None, callbacks=None,\n",
       "              colsample_bylevel=None, colsample_bynode=None,\n",
       "              colsample_bytree=None, early_stopping_rounds=None,\n",
       "              enable_categorical=False, eval_metric=None, feature_types=None,\n",
       "              gamma=None, gpu_id=None, grow_policy=None, importance_type=None,\n",
       "              interaction_constraints=None, learning_rate=None, max_bin=None,\n",
       "              max_cat_threshold=None, max_cat_to_onehot=None,\n",
       "              max_delta_step=None, max_depth=None, max_leaves=None,\n",
       "              min_child_weight=None, missing=nan, monotone_constraints=None,\n",
       "              n_estimators=100, n_jobs=None, num_parallel_tree=None,\n",
       "              predictor=None, random_state=None, ...)</pre></div></div></div></div></div></div></div></div></div></div></div></div>"
      ],
      "text/plain": [
       "RandomizedSearchCV(cv=3,\n",
       "                   estimator=Pipeline(steps=[('prp',\n",
       "                                              ColumnTransformer(transformers=[('num',\n",
       "                                                                               Pipeline(steps=[('numeric',\n",
       "                                                                                                StandardScaler())]),\n",
       "                                                                               <sklearn.compose._column_transformer.make_column_selector object at 0x15a907bb0>),\n",
       "                                                                              ('cat',\n",
       "                                                                               Pipeline(steps=[('categorical',\n",
       "                                                                                                CatBoostEncoder())]),\n",
       "                                                                               <sklearn.compose._column_transformer.make_column_selector object at 0x15...\n",
       "                   scoring={'accuracy': make_scorer(accuracy_score),\n",
       "                            'f0.5': make_scorer(fbeta_score, beta=0.5),\n",
       "                            'f1': make_scorer(f1_score),\n",
       "                            'f2': make_scorer(fbeta_score, beta=2),\n",
       "                            'log_loss': make_scorer(log_loss),\n",
       "                            'pr_auc': make_scorer(average_precision_score),\n",
       "                            'precision': make_scorer(precision_score),\n",
       "                            'recall': make_scorer(recall_score),\n",
       "                            'roc_auc': make_scorer(roc_auc_score)},\n",
       "                   verbose=1)"
      ]
     },
     "execution_count": 16,
     "metadata": {},
     "output_type": "execute_result"
    }
   ],
   "source": [
    "search1.fit(X_train, y_train)"
   ]
  },
  {
   "cell_type": "code",
   "execution_count": 17,
   "id": "035f917c",
   "metadata": {},
   "outputs": [
    {
     "data": {
      "text/plain": [
       "['best_estimator_',\n",
       " 'best_index_',\n",
       " 'best_params_',\n",
       " 'best_score_',\n",
       " 'classes_',\n",
       " 'cv',\n",
       " 'cv_results_',\n",
       " 'decision_function',\n",
       " 'error_score',\n",
       " 'estimator',\n",
       " 'feature_names_in_',\n",
       " 'fit',\n",
       " 'get_params',\n",
       " 'inverse_transform',\n",
       " 'multimetric_',\n",
       " 'n_features_in_',\n",
       " 'n_iter',\n",
       " 'n_jobs',\n",
       " 'n_splits_',\n",
       " 'param_distributions',\n",
       " 'pre_dispatch',\n",
       " 'predict',\n",
       " 'predict_log_proba',\n",
       " 'predict_proba',\n",
       " 'random_state',\n",
       " 'refit',\n",
       " 'refit_time_',\n",
       " 'return_train_score',\n",
       " 'score',\n",
       " 'score_samples',\n",
       " 'scorer_',\n",
       " 'scoring',\n",
       " 'set_params',\n",
       " 'transform',\n",
       " 'verbose']"
      ]
     },
     "execution_count": 17,
     "metadata": {},
     "output_type": "execute_result"
    }
   ],
   "source": [
    "[x for x in dir(search1) if not x.startswith('_')]"
   ]
  },
  {
   "cell_type": "code",
   "execution_count": 18,
   "id": "9962f506",
   "metadata": {},
   "outputs": [
    {
     "data": {
      "text/html": [
       "<style>#sk-container-id-2 {color: black;background-color: white;}#sk-container-id-2 pre{padding: 0;}#sk-container-id-2 div.sk-toggleable {background-color: white;}#sk-container-id-2 label.sk-toggleable__label {cursor: pointer;display: block;width: 100%;margin-bottom: 0;padding: 0.3em;box-sizing: border-box;text-align: center;}#sk-container-id-2 label.sk-toggleable__label-arrow:before {content: \"▸\";float: left;margin-right: 0.25em;color: #696969;}#sk-container-id-2 label.sk-toggleable__label-arrow:hover:before {color: black;}#sk-container-id-2 div.sk-estimator:hover label.sk-toggleable__label-arrow:before {color: black;}#sk-container-id-2 div.sk-toggleable__content {max-height: 0;max-width: 0;overflow: hidden;text-align: left;background-color: #f0f8ff;}#sk-container-id-2 div.sk-toggleable__content pre {margin: 0.2em;color: black;border-radius: 0.25em;background-color: #f0f8ff;}#sk-container-id-2 input.sk-toggleable__control:checked~div.sk-toggleable__content {max-height: 200px;max-width: 100%;overflow: auto;}#sk-container-id-2 input.sk-toggleable__control:checked~label.sk-toggleable__label-arrow:before {content: \"▾\";}#sk-container-id-2 div.sk-estimator input.sk-toggleable__control:checked~label.sk-toggleable__label {background-color: #d4ebff;}#sk-container-id-2 div.sk-label input.sk-toggleable__control:checked~label.sk-toggleable__label {background-color: #d4ebff;}#sk-container-id-2 input.sk-hidden--visually {border: 0;clip: rect(1px 1px 1px 1px);clip: rect(1px, 1px, 1px, 1px);height: 1px;margin: -1px;overflow: hidden;padding: 0;position: absolute;width: 1px;}#sk-container-id-2 div.sk-estimator {font-family: monospace;background-color: #f0f8ff;border: 1px dotted black;border-radius: 0.25em;box-sizing: border-box;margin-bottom: 0.5em;}#sk-container-id-2 div.sk-estimator:hover {background-color: #d4ebff;}#sk-container-id-2 div.sk-parallel-item::after {content: \"\";width: 100%;border-bottom: 1px solid gray;flex-grow: 1;}#sk-container-id-2 div.sk-label:hover label.sk-toggleable__label {background-color: #d4ebff;}#sk-container-id-2 div.sk-serial::before {content: \"\";position: absolute;border-left: 1px solid gray;box-sizing: border-box;top: 0;bottom: 0;left: 50%;z-index: 0;}#sk-container-id-2 div.sk-serial {display: flex;flex-direction: column;align-items: center;background-color: white;padding-right: 0.2em;padding-left: 0.2em;position: relative;}#sk-container-id-2 div.sk-item {position: relative;z-index: 1;}#sk-container-id-2 div.sk-parallel {display: flex;align-items: stretch;justify-content: center;background-color: white;position: relative;}#sk-container-id-2 div.sk-item::before, #sk-container-id-2 div.sk-parallel-item::before {content: \"\";position: absolute;border-left: 1px solid gray;box-sizing: border-box;top: 0;bottom: 0;left: 50%;z-index: -1;}#sk-container-id-2 div.sk-parallel-item {display: flex;flex-direction: column;z-index: 1;position: relative;background-color: white;}#sk-container-id-2 div.sk-parallel-item:first-child::after {align-self: flex-end;width: 50%;}#sk-container-id-2 div.sk-parallel-item:last-child::after {align-self: flex-start;width: 50%;}#sk-container-id-2 div.sk-parallel-item:only-child::after {width: 0;}#sk-container-id-2 div.sk-dashed-wrapped {border: 1px dashed gray;margin: 0 0.4em 0.5em 0.4em;box-sizing: border-box;padding-bottom: 0.4em;background-color: white;}#sk-container-id-2 div.sk-label label {font-family: monospace;font-weight: bold;display: inline-block;line-height: 1.2em;}#sk-container-id-2 div.sk-label-container {text-align: center;}#sk-container-id-2 div.sk-container {/* jupyter's `normalize.less` sets `[hidden] { display: none; }` but bootstrap.min.css set `[hidden] { display: none !important; }` so we also need the `!important` here to be able to override the default hidden behavior on the sphinx rendered scikit-learn.org. See: https://github.com/scikit-learn/scikit-learn/issues/21755 */display: inline-block !important;position: relative;}#sk-container-id-2 div.sk-text-repr-fallback {display: none;}</style><div id=\"sk-container-id-2\" class=\"sk-top-container\"><div class=\"sk-text-repr-fallback\"><pre>Pipeline(steps=[(&#x27;prp&#x27;,\n",
       "                 ColumnTransformer(transformers=[(&#x27;num&#x27;,\n",
       "                                                  Pipeline(steps=[(&#x27;numeric&#x27;,\n",
       "                                                                   StandardScaler())]),\n",
       "                                                  &lt;sklearn.compose._column_transformer.make_column_selector object at 0x15a0e0f40&gt;),\n",
       "                                                 (&#x27;cat&#x27;,\n",
       "                                                  Pipeline(steps=[(&#x27;categorical&#x27;,\n",
       "                                                                   CatBoostEncoder())]),\n",
       "                                                  &lt;sklearn.compose._column_transformer.make_column_selector object at 0x10634d8b0&gt;)])),\n",
       "                (&#x27;clf&#x27;,\n",
       "                 XGBClassifier(...\n",
       "                               feature_types=None, gamma=0, gpu_id=None,\n",
       "                               grow_policy=None, importance_type=None,\n",
       "                               interaction_constraints=None, learning_rate=0.01,\n",
       "                               max_bin=None, max_cat_threshold=None,\n",
       "                               max_cat_to_onehot=None, max_delta_step=None,\n",
       "                               max_depth=3, max_leaves=None, min_child_weight=1,\n",
       "                               missing=nan, monotone_constraints=None,\n",
       "                               n_estimators=200, n_jobs=None,\n",
       "                               num_parallel_tree=None, predictor=None,\n",
       "                               random_state=None, ...))])</pre><b>In a Jupyter environment, please rerun this cell to show the HTML representation or trust the notebook. <br />On GitHub, the HTML representation is unable to render, please try loading this page with nbviewer.org.</b></div><div class=\"sk-container\" hidden><div class=\"sk-item sk-dashed-wrapped\"><div class=\"sk-label-container\"><div class=\"sk-label sk-toggleable\"><input class=\"sk-toggleable__control sk-hidden--visually\" id=\"sk-estimator-id-9\" type=\"checkbox\" ><label for=\"sk-estimator-id-9\" class=\"sk-toggleable__label sk-toggleable__label-arrow\">Pipeline</label><div class=\"sk-toggleable__content\"><pre>Pipeline(steps=[(&#x27;prp&#x27;,\n",
       "                 ColumnTransformer(transformers=[(&#x27;num&#x27;,\n",
       "                                                  Pipeline(steps=[(&#x27;numeric&#x27;,\n",
       "                                                                   StandardScaler())]),\n",
       "                                                  &lt;sklearn.compose._column_transformer.make_column_selector object at 0x15a0e0f40&gt;),\n",
       "                                                 (&#x27;cat&#x27;,\n",
       "                                                  Pipeline(steps=[(&#x27;categorical&#x27;,\n",
       "                                                                   CatBoostEncoder())]),\n",
       "                                                  &lt;sklearn.compose._column_transformer.make_column_selector object at 0x10634d8b0&gt;)])),\n",
       "                (&#x27;clf&#x27;,\n",
       "                 XGBClassifier(...\n",
       "                               feature_types=None, gamma=0, gpu_id=None,\n",
       "                               grow_policy=None, importance_type=None,\n",
       "                               interaction_constraints=None, learning_rate=0.01,\n",
       "                               max_bin=None, max_cat_threshold=None,\n",
       "                               max_cat_to_onehot=None, max_delta_step=None,\n",
       "                               max_depth=3, max_leaves=None, min_child_weight=1,\n",
       "                               missing=nan, monotone_constraints=None,\n",
       "                               n_estimators=200, n_jobs=None,\n",
       "                               num_parallel_tree=None, predictor=None,\n",
       "                               random_state=None, ...))])</pre></div></div></div><div class=\"sk-serial\"><div class=\"sk-item sk-dashed-wrapped\"><div class=\"sk-label-container\"><div class=\"sk-label sk-toggleable\"><input class=\"sk-toggleable__control sk-hidden--visually\" id=\"sk-estimator-id-10\" type=\"checkbox\" ><label for=\"sk-estimator-id-10\" class=\"sk-toggleable__label sk-toggleable__label-arrow\">prp: ColumnTransformer</label><div class=\"sk-toggleable__content\"><pre>ColumnTransformer(transformers=[(&#x27;num&#x27;,\n",
       "                                 Pipeline(steps=[(&#x27;numeric&#x27;,\n",
       "                                                  StandardScaler())]),\n",
       "                                 &lt;sklearn.compose._column_transformer.make_column_selector object at 0x15a0e0f40&gt;),\n",
       "                                (&#x27;cat&#x27;,\n",
       "                                 Pipeline(steps=[(&#x27;categorical&#x27;,\n",
       "                                                  CatBoostEncoder())]),\n",
       "                                 &lt;sklearn.compose._column_transformer.make_column_selector object at 0x10634d8b0&gt;)])</pre></div></div></div><div class=\"sk-parallel\"><div class=\"sk-parallel-item\"><div class=\"sk-item\"><div class=\"sk-label-container\"><div class=\"sk-label sk-toggleable\"><input class=\"sk-toggleable__control sk-hidden--visually\" id=\"sk-estimator-id-11\" type=\"checkbox\" ><label for=\"sk-estimator-id-11\" class=\"sk-toggleable__label sk-toggleable__label-arrow\">num</label><div class=\"sk-toggleable__content\"><pre>&lt;sklearn.compose._column_transformer.make_column_selector object at 0x15a0e0f40&gt;</pre></div></div></div><div class=\"sk-serial\"><div class=\"sk-item\"><div class=\"sk-serial\"><div class=\"sk-item\"><div class=\"sk-estimator sk-toggleable\"><input class=\"sk-toggleable__control sk-hidden--visually\" id=\"sk-estimator-id-12\" type=\"checkbox\" ><label for=\"sk-estimator-id-12\" class=\"sk-toggleable__label sk-toggleable__label-arrow\">StandardScaler</label><div class=\"sk-toggleable__content\"><pre>StandardScaler()</pre></div></div></div></div></div></div></div></div><div class=\"sk-parallel-item\"><div class=\"sk-item\"><div class=\"sk-label-container\"><div class=\"sk-label sk-toggleable\"><input class=\"sk-toggleable__control sk-hidden--visually\" id=\"sk-estimator-id-13\" type=\"checkbox\" ><label for=\"sk-estimator-id-13\" class=\"sk-toggleable__label sk-toggleable__label-arrow\">cat</label><div class=\"sk-toggleable__content\"><pre>&lt;sklearn.compose._column_transformer.make_column_selector object at 0x10634d8b0&gt;</pre></div></div></div><div class=\"sk-serial\"><div class=\"sk-item\"><div class=\"sk-serial\"><div class=\"sk-item\"><div class=\"sk-estimator sk-toggleable\"><input class=\"sk-toggleable__control sk-hidden--visually\" id=\"sk-estimator-id-14\" type=\"checkbox\" ><label for=\"sk-estimator-id-14\" class=\"sk-toggleable__label sk-toggleable__label-arrow\">CatBoostEncoder</label><div class=\"sk-toggleable__content\"><pre>CatBoostEncoder()</pre></div></div></div></div></div></div></div></div></div></div><div class=\"sk-item\"><div class=\"sk-estimator sk-toggleable\"><input class=\"sk-toggleable__control sk-hidden--visually\" id=\"sk-estimator-id-15\" type=\"checkbox\" ><label for=\"sk-estimator-id-15\" class=\"sk-toggleable__label sk-toggleable__label-arrow\">XGBClassifier</label><div class=\"sk-toggleable__content\"><pre>XGBClassifier(base_score=None, booster=None, callbacks=None,\n",
       "              colsample_bylevel=None, colsample_bynode=None,\n",
       "              colsample_bytree=0.6, early_stopping_rounds=None,\n",
       "              enable_categorical=False, eval_metric=None, feature_types=None,\n",
       "              gamma=0, gpu_id=None, grow_policy=None, importance_type=None,\n",
       "              interaction_constraints=None, learning_rate=0.01, max_bin=None,\n",
       "              max_cat_threshold=None, max_cat_to_onehot=None,\n",
       "              max_delta_step=None, max_depth=3, max_leaves=None,\n",
       "              min_child_weight=1, missing=nan, monotone_constraints=None,\n",
       "              n_estimators=200, n_jobs=None, num_parallel_tree=None,\n",
       "              predictor=None, random_state=None, ...)</pre></div></div></div></div></div></div></div>"
      ],
      "text/plain": [
       "Pipeline(steps=[('prp',\n",
       "                 ColumnTransformer(transformers=[('num',\n",
       "                                                  Pipeline(steps=[('numeric',\n",
       "                                                                   StandardScaler())]),\n",
       "                                                  <sklearn.compose._column_transformer.make_column_selector object at 0x15a0e0f40>),\n",
       "                                                 ('cat',\n",
       "                                                  Pipeline(steps=[('categorical',\n",
       "                                                                   CatBoostEncoder())]),\n",
       "                                                  <sklearn.compose._column_transformer.make_column_selector object at 0x10634d8b0>)])),\n",
       "                ('clf',\n",
       "                 XGBClassifier(...\n",
       "                               feature_types=None, gamma=0, gpu_id=None,\n",
       "                               grow_policy=None, importance_type=None,\n",
       "                               interaction_constraints=None, learning_rate=0.01,\n",
       "                               max_bin=None, max_cat_threshold=None,\n",
       "                               max_cat_to_onehot=None, max_delta_step=None,\n",
       "                               max_depth=3, max_leaves=None, min_child_weight=1,\n",
       "                               missing=nan, monotone_constraints=None,\n",
       "                               n_estimators=200, n_jobs=None,\n",
       "                               num_parallel_tree=None, predictor=None,\n",
       "                               random_state=None, ...))])"
      ]
     },
     "execution_count": 18,
     "metadata": {},
     "output_type": "execute_result"
    }
   ],
   "source": [
    "search1.best_estimator_"
   ]
  },
  {
   "cell_type": "code",
   "execution_count": 19,
   "id": "1b12618a",
   "metadata": {},
   "outputs": [
    {
     "data": {
      "text/plain": [
       "{'clf__subsample': 0.6,\n",
       " 'clf__reg_lambda': 0.1,\n",
       " 'clf__reg_alpha': 0.1,\n",
       " 'clf__n_estimators': 200,\n",
       " 'clf__min_child_weight': 1,\n",
       " 'clf__max_depth': 3,\n",
       " 'clf__learning_rate': 0.01,\n",
       " 'clf__gamma': 0,\n",
       " 'clf__colsample_bytree': 0.6}"
      ]
     },
     "execution_count": 19,
     "metadata": {},
     "output_type": "execute_result"
    }
   ],
   "source": [
    "search1.best_params_"
   ]
  },
  {
   "cell_type": "code",
   "execution_count": 20,
   "id": "af4b1747",
   "metadata": {},
   "outputs": [
    {
     "data": {
      "text/plain": [
       "12"
      ]
     },
     "execution_count": 20,
     "metadata": {},
     "output_type": "execute_result"
    }
   ],
   "source": [
    "search1.best_index_"
   ]
  },
  {
   "cell_type": "code",
   "execution_count": 21,
   "id": "2f601378",
   "metadata": {},
   "outputs": [
    {
     "data": {
      "text/plain": [
       "0.88"
      ]
     },
     "execution_count": 21,
     "metadata": {},
     "output_type": "execute_result"
    }
   ],
   "source": [
    "search1.best_score_"
   ]
  },
  {
   "cell_type": "code",
   "execution_count": 22,
   "id": "d2762cef",
   "metadata": {},
   "outputs": [
    {
     "data": {
      "text/plain": [
       "{'mean_fit_time': array([0.05614996, 0.05674537, 0.03621348, 0.05003985, 0.04905128,\n",
       "        0.04927524, 0.06132825, 0.0982333 , 0.09122992, 0.09380666,\n",
       "        0.02850533, 0.04601518, 0.04472955, 0.04888368, 0.03485163,\n",
       "        0.05151097, 0.02844906, 0.09120719, 0.04138207, 0.03571733]),\n",
       " 'std_fit_time': array([0.01583372, 0.01906867, 0.00068062, 0.00078674, 0.00073927,\n",
       "        0.01150806, 0.02085171, 0.04809876, 0.00062886, 0.05204609,\n",
       "        0.00259916, 0.00533749, 0.00167083, 0.00387338, 0.00094033,\n",
       "        0.00181772, 0.00055746, 0.02518351, 0.001623  , 0.00052102]),\n",
       " 'mean_score_time': array([0.00757305, 0.00744073, 0.00712768, 0.00866779, 0.00715407,\n",
       "        0.00778858, 0.00735601, 0.00792805, 0.00735005, 0.00795078,\n",
       "        0.00875926, 0.00726064, 0.00718339, 0.00717998, 0.00718204,\n",
       "        0.00724912, 0.00700959, 0.00946283, 0.00715844, 0.00867931]),\n",
       " 'std_score_time': array([4.28623929e-04, 1.95190941e-04, 2.86303114e-05, 1.94201370e-03,\n",
       "        8.84770316e-05, 1.89179830e-04, 7.15155948e-05, 7.00301817e-04,\n",
       "        5.22357871e-04, 3.03098255e-04, 2.38568109e-03, 1.90748108e-05,\n",
       "        2.13925232e-05, 7.02287411e-05, 1.71012594e-05, 1.70198138e-05,\n",
       "        4.85630548e-06, 1.82490754e-03, 6.33853727e-05, 2.13819170e-03]),\n",
       " 'param_clf__subsample': masked_array(data=[1.0, 0.6, 0.6, 0.8, 0.8, 0.8, 0.6, 0.6, 0.6, 0.8, 1.0,\n",
       "                    1.0, 0.6, 0.6, 0.6, 0.8, 0.6, 1.0, 0.8, 0.6],\n",
       "              mask=[False, False, False, False, False, False, False, False,\n",
       "                    False, False, False, False, False, False, False, False,\n",
       "                    False, False, False, False],\n",
       "        fill_value='?',\n",
       "             dtype=object),\n",
       " 'param_clf__reg_lambda': masked_array(data=[0.75, 0.1, 0.25, 0.75, 0.25, 0.1, 0.25, 0.25, 0.25,\n",
       "                    0.75, 0.25, 0.25, 0.1, 0.75, 0.25, 0.1, 0.75, 0.75,\n",
       "                    0.1, 0.25],\n",
       "              mask=[False, False, False, False, False, False, False, False,\n",
       "                    False, False, False, False, False, False, False, False,\n",
       "                    False, False, False, False],\n",
       "        fill_value='?',\n",
       "             dtype=object),\n",
       " 'param_clf__reg_alpha': masked_array(data=[0.1, 0.25, 0.1, 0.1, 0.25, 0.1, 0.1, 0.25, 0.1, 0.25,\n",
       "                    0.75, 0.75, 0.1, 0.1, 0.1, 0.75, 0.75, 0.1, 0.1, 0.75],\n",
       "              mask=[False, False, False, False, False, False, False, False,\n",
       "                    False, False, False, False, False, False, False, False,\n",
       "                    False, False, False, False],\n",
       "        fill_value='?',\n",
       "             dtype=object),\n",
       " 'param_clf__n_estimators': masked_array(data=[150, 100, 150, 150, 200, 100, 200, 200, 100, 200, 100,\n",
       "                    150, 200, 200, 100, 150, 100, 200, 200, 150],\n",
       "              mask=[False, False, False, False, False, False, False, False,\n",
       "                    False, False, False, False, False, False, False, False,\n",
       "                    False, False, False, False],\n",
       "        fill_value='?',\n",
       "             dtype=object),\n",
       " 'param_clf__min_child_weight': masked_array(data=[3, 5, 1, 1, 1, 1, 3, 3, 3, 5, 5, 5, 1, 3, 1, 1, 1, 3,\n",
       "                    5, 1],\n",
       "              mask=[False, False, False, False, False, False, False, False,\n",
       "                    False, False, False, False, False, False, False, False,\n",
       "                    False, False, False, False],\n",
       "        fill_value='?',\n",
       "             dtype=object),\n",
       " 'param_clf__max_depth': masked_array(data=[3, 5, 3, 5, 3, 3, 7, 7, 7, 7, 5, 5, 3, 3, 5, 5, 3, 7,\n",
       "                    3, 5],\n",
       "              mask=[False, False, False, False, False, False, False, False,\n",
       "                    False, False, False, False, False, False, False, False,\n",
       "                    False, False, False, False],\n",
       "        fill_value='?',\n",
       "             dtype=object),\n",
       " 'param_clf__learning_rate': masked_array(data=[0.01, 0.01, 0.5, 0.1, 0.01, 0.01, 0.1, 0.01, 0.01,\n",
       "                    0.01, 0.5, 0.01, 0.01, 0.01, 0.1, 0.1, 0.1, 0.01, 0.5,\n",
       "                    0.5],\n",
       "              mask=[False, False, False, False, False, False, False, False,\n",
       "                    False, False, False, False, False, False, False, False,\n",
       "                    False, False, False, False],\n",
       "        fill_value='?',\n",
       "             dtype=object),\n",
       " 'param_clf__gamma': masked_array(data=[0, 0.3, 0.5, 0.5, 0, 0, 0.5, 0, 0.5, 0.3, 0, 0.3, 0,\n",
       "                    0.3, 0.5, 0.5, 0.5, 0, 0.3, 0],\n",
       "              mask=[False, False, False, False, False, False, False, False,\n",
       "                    False, False, False, False, False, False, False, False,\n",
       "                    False, False, False, False],\n",
       "        fill_value='?',\n",
       "             dtype=object),\n",
       " 'param_clf__colsample_bytree': masked_array(data=[0.6, 0.8, 1.0, 1.0, 1.0, 0.8, 0.6, 0.6, 1.0, 0.6, 1.0,\n",
       "                    0.6, 0.6, 0.8, 0.8, 0.8, 0.8, 1.0, 1.0, 0.6],\n",
       "              mask=[False, False, False, False, False, False, False, False,\n",
       "                    False, False, False, False, False, False, False, False,\n",
       "                    False, False, False, False],\n",
       "        fill_value='?',\n",
       "             dtype=object),\n",
       " 'params': [{'clf__subsample': 1.0,\n",
       "   'clf__reg_lambda': 0.75,\n",
       "   'clf__reg_alpha': 0.1,\n",
       "   'clf__n_estimators': 150,\n",
       "   'clf__min_child_weight': 3,\n",
       "   'clf__max_depth': 3,\n",
       "   'clf__learning_rate': 0.01,\n",
       "   'clf__gamma': 0,\n",
       "   'clf__colsample_bytree': 0.6},\n",
       "  {'clf__subsample': 0.6,\n",
       "   'clf__reg_lambda': 0.1,\n",
       "   'clf__reg_alpha': 0.25,\n",
       "   'clf__n_estimators': 100,\n",
       "   'clf__min_child_weight': 5,\n",
       "   'clf__max_depth': 5,\n",
       "   'clf__learning_rate': 0.01,\n",
       "   'clf__gamma': 0.3,\n",
       "   'clf__colsample_bytree': 0.8},\n",
       "  {'clf__subsample': 0.6,\n",
       "   'clf__reg_lambda': 0.25,\n",
       "   'clf__reg_alpha': 0.1,\n",
       "   'clf__n_estimators': 150,\n",
       "   'clf__min_child_weight': 1,\n",
       "   'clf__max_depth': 3,\n",
       "   'clf__learning_rate': 0.5,\n",
       "   'clf__gamma': 0.5,\n",
       "   'clf__colsample_bytree': 1.0},\n",
       "  {'clf__subsample': 0.8,\n",
       "   'clf__reg_lambda': 0.75,\n",
       "   'clf__reg_alpha': 0.1,\n",
       "   'clf__n_estimators': 150,\n",
       "   'clf__min_child_weight': 1,\n",
       "   'clf__max_depth': 5,\n",
       "   'clf__learning_rate': 0.1,\n",
       "   'clf__gamma': 0.5,\n",
       "   'clf__colsample_bytree': 1.0},\n",
       "  {'clf__subsample': 0.8,\n",
       "   'clf__reg_lambda': 0.25,\n",
       "   'clf__reg_alpha': 0.25,\n",
       "   'clf__n_estimators': 200,\n",
       "   'clf__min_child_weight': 1,\n",
       "   'clf__max_depth': 3,\n",
       "   'clf__learning_rate': 0.01,\n",
       "   'clf__gamma': 0,\n",
       "   'clf__colsample_bytree': 1.0},\n",
       "  {'clf__subsample': 0.8,\n",
       "   'clf__reg_lambda': 0.1,\n",
       "   'clf__reg_alpha': 0.1,\n",
       "   'clf__n_estimators': 100,\n",
       "   'clf__min_child_weight': 1,\n",
       "   'clf__max_depth': 3,\n",
       "   'clf__learning_rate': 0.01,\n",
       "   'clf__gamma': 0,\n",
       "   'clf__colsample_bytree': 0.8},\n",
       "  {'clf__subsample': 0.6,\n",
       "   'clf__reg_lambda': 0.25,\n",
       "   'clf__reg_alpha': 0.1,\n",
       "   'clf__n_estimators': 200,\n",
       "   'clf__min_child_weight': 3,\n",
       "   'clf__max_depth': 7,\n",
       "   'clf__learning_rate': 0.1,\n",
       "   'clf__gamma': 0.5,\n",
       "   'clf__colsample_bytree': 0.6},\n",
       "  {'clf__subsample': 0.6,\n",
       "   'clf__reg_lambda': 0.25,\n",
       "   'clf__reg_alpha': 0.25,\n",
       "   'clf__n_estimators': 200,\n",
       "   'clf__min_child_weight': 3,\n",
       "   'clf__max_depth': 7,\n",
       "   'clf__learning_rate': 0.01,\n",
       "   'clf__gamma': 0,\n",
       "   'clf__colsample_bytree': 0.6},\n",
       "  {'clf__subsample': 0.6,\n",
       "   'clf__reg_lambda': 0.25,\n",
       "   'clf__reg_alpha': 0.1,\n",
       "   'clf__n_estimators': 100,\n",
       "   'clf__min_child_weight': 3,\n",
       "   'clf__max_depth': 7,\n",
       "   'clf__learning_rate': 0.01,\n",
       "   'clf__gamma': 0.5,\n",
       "   'clf__colsample_bytree': 1.0},\n",
       "  {'clf__subsample': 0.8,\n",
       "   'clf__reg_lambda': 0.75,\n",
       "   'clf__reg_alpha': 0.25,\n",
       "   'clf__n_estimators': 200,\n",
       "   'clf__min_child_weight': 5,\n",
       "   'clf__max_depth': 7,\n",
       "   'clf__learning_rate': 0.01,\n",
       "   'clf__gamma': 0.3,\n",
       "   'clf__colsample_bytree': 0.6},\n",
       "  {'clf__subsample': 1.0,\n",
       "   'clf__reg_lambda': 0.25,\n",
       "   'clf__reg_alpha': 0.75,\n",
       "   'clf__n_estimators': 100,\n",
       "   'clf__min_child_weight': 5,\n",
       "   'clf__max_depth': 5,\n",
       "   'clf__learning_rate': 0.5,\n",
       "   'clf__gamma': 0,\n",
       "   'clf__colsample_bytree': 1.0},\n",
       "  {'clf__subsample': 1.0,\n",
       "   'clf__reg_lambda': 0.25,\n",
       "   'clf__reg_alpha': 0.75,\n",
       "   'clf__n_estimators': 150,\n",
       "   'clf__min_child_weight': 5,\n",
       "   'clf__max_depth': 5,\n",
       "   'clf__learning_rate': 0.01,\n",
       "   'clf__gamma': 0.3,\n",
       "   'clf__colsample_bytree': 0.6},\n",
       "  {'clf__subsample': 0.6,\n",
       "   'clf__reg_lambda': 0.1,\n",
       "   'clf__reg_alpha': 0.1,\n",
       "   'clf__n_estimators': 200,\n",
       "   'clf__min_child_weight': 1,\n",
       "   'clf__max_depth': 3,\n",
       "   'clf__learning_rate': 0.01,\n",
       "   'clf__gamma': 0,\n",
       "   'clf__colsample_bytree': 0.6},\n",
       "  {'clf__subsample': 0.6,\n",
       "   'clf__reg_lambda': 0.75,\n",
       "   'clf__reg_alpha': 0.1,\n",
       "   'clf__n_estimators': 200,\n",
       "   'clf__min_child_weight': 3,\n",
       "   'clf__max_depth': 3,\n",
       "   'clf__learning_rate': 0.01,\n",
       "   'clf__gamma': 0.3,\n",
       "   'clf__colsample_bytree': 0.8},\n",
       "  {'clf__subsample': 0.6,\n",
       "   'clf__reg_lambda': 0.25,\n",
       "   'clf__reg_alpha': 0.1,\n",
       "   'clf__n_estimators': 100,\n",
       "   'clf__min_child_weight': 1,\n",
       "   'clf__max_depth': 5,\n",
       "   'clf__learning_rate': 0.1,\n",
       "   'clf__gamma': 0.5,\n",
       "   'clf__colsample_bytree': 0.8},\n",
       "  {'clf__subsample': 0.8,\n",
       "   'clf__reg_lambda': 0.1,\n",
       "   'clf__reg_alpha': 0.75,\n",
       "   'clf__n_estimators': 150,\n",
       "   'clf__min_child_weight': 1,\n",
       "   'clf__max_depth': 5,\n",
       "   'clf__learning_rate': 0.1,\n",
       "   'clf__gamma': 0.5,\n",
       "   'clf__colsample_bytree': 0.8},\n",
       "  {'clf__subsample': 0.6,\n",
       "   'clf__reg_lambda': 0.75,\n",
       "   'clf__reg_alpha': 0.75,\n",
       "   'clf__n_estimators': 100,\n",
       "   'clf__min_child_weight': 1,\n",
       "   'clf__max_depth': 3,\n",
       "   'clf__learning_rate': 0.1,\n",
       "   'clf__gamma': 0.5,\n",
       "   'clf__colsample_bytree': 0.8},\n",
       "  {'clf__subsample': 1.0,\n",
       "   'clf__reg_lambda': 0.75,\n",
       "   'clf__reg_alpha': 0.1,\n",
       "   'clf__n_estimators': 200,\n",
       "   'clf__min_child_weight': 3,\n",
       "   'clf__max_depth': 7,\n",
       "   'clf__learning_rate': 0.01,\n",
       "   'clf__gamma': 0,\n",
       "   'clf__colsample_bytree': 1.0},\n",
       "  {'clf__subsample': 0.8,\n",
       "   'clf__reg_lambda': 0.1,\n",
       "   'clf__reg_alpha': 0.1,\n",
       "   'clf__n_estimators': 200,\n",
       "   'clf__min_child_weight': 5,\n",
       "   'clf__max_depth': 3,\n",
       "   'clf__learning_rate': 0.5,\n",
       "   'clf__gamma': 0.3,\n",
       "   'clf__colsample_bytree': 1.0},\n",
       "  {'clf__subsample': 0.6,\n",
       "   'clf__reg_lambda': 0.25,\n",
       "   'clf__reg_alpha': 0.75,\n",
       "   'clf__n_estimators': 150,\n",
       "   'clf__min_child_weight': 1,\n",
       "   'clf__max_depth': 5,\n",
       "   'clf__learning_rate': 0.5,\n",
       "   'clf__gamma': 0,\n",
       "   'clf__colsample_bytree': 0.6}],\n",
       " 'split0_test_accuracy': array([0.876, 0.88 , 0.876, 0.9  , 0.892, 0.888, 0.868, 0.892, 0.86 ,\n",
       "        0.88 , 0.88 , 0.888, 0.896, 0.888, 0.876, 0.892, 0.876, 0.88 ,\n",
       "        0.88 , 0.876]),\n",
       " 'split1_test_accuracy': array([0.88 , 0.824, 0.824, 0.824, 0.876, 0.876, 0.808, 0.836, 0.836,\n",
       "        0.832, 0.82 , 0.84 , 0.88 , 0.872, 0.824, 0.816, 0.816, 0.82 ,\n",
       "        0.816, 0.824]),\n",
       " 'split2_test_accuracy': array([0.86 , 0.856, 0.864, 0.852, 0.864, 0.856, 0.872, 0.864, 0.856,\n",
       "        0.856, 0.864, 0.852, 0.864, 0.864, 0.864, 0.868, 0.856, 0.86 ,\n",
       "        0.856, 0.84 ]),\n",
       " 'mean_test_accuracy': array([0.872     , 0.85333333, 0.85466667, 0.85866667, 0.87733333,\n",
       "        0.87333333, 0.84933333, 0.864     , 0.85066667, 0.856     ,\n",
       "        0.85466667, 0.86      , 0.88      , 0.87466667, 0.85466667,\n",
       "        0.85866667, 0.84933333, 0.85333333, 0.85066667, 0.84666667]),\n",
       " 'std_test_accuracy': array([0.00864099, 0.02293953, 0.02223111, 0.03138294, 0.01146977,\n",
       "        0.01319933, 0.02927266, 0.0228619 , 0.01049868, 0.01959592,\n",
       "        0.0253684 , 0.02039608, 0.01306395, 0.00997775, 0.02223111,\n",
       "        0.03172101, 0.02494438, 0.02494438, 0.02639865, 0.02174601]),\n",
       " 'rank_test_accuracy': array([ 5, 14, 11,  8,  2,  4, 18,  6, 16, 10, 11,  7,  1,  3, 11,  8, 18,\n",
       "        14, 16, 20], dtype=int32),\n",
       " 'split0_train_accuracy': array([0.89 , 0.888, 0.942, 0.95 , 0.892, 0.882, 0.938, 0.896, 0.898,\n",
       "        0.898, 0.95 , 0.904, 0.888, 0.886, 0.956, 0.952, 0.934, 0.924,\n",
       "        0.946, 0.952]),\n",
       " 'split1_train_accuracy': array([0.906, 0.892, 0.98 , 0.992, 0.904, 0.896, 0.962, 0.924, 0.92 ,\n",
       "        0.92 , 0.972, 0.924, 0.91 , 0.898, 0.984, 0.986, 0.958, 0.952,\n",
       "        0.972, 0.988]),\n",
       " 'split2_train_accuracy': array([0.9  , 0.89 , 0.964, 0.976, 0.908, 0.902, 0.956, 0.916, 0.904,\n",
       "        0.908, 0.964, 0.904, 0.898, 0.892, 0.968, 0.972, 0.936, 0.92 ,\n",
       "        0.96 , 0.968]),\n",
       " 'mean_train_accuracy': array([0.89866667, 0.89      , 0.962     , 0.97266667, 0.90133333,\n",
       "        0.89333333, 0.952     , 0.912     , 0.90733333, 0.90866667,\n",
       "        0.962     , 0.91066667, 0.89866667, 0.892     , 0.96933333,\n",
       "        0.97      , 0.94266667, 0.932     , 0.95933333, 0.96933333]),\n",
       " 'std_train_accuracy': array([0.00659966, 0.00163299, 0.01557776, 0.01730767, 0.00679869,\n",
       "        0.00837987, 0.01019804, 0.01177568, 0.00928559, 0.00899383,\n",
       "        0.00909212, 0.00942809, 0.00899383, 0.00489898, 0.01146977,\n",
       "        0.0139523 , 0.010873  , 0.0142361 , 0.01062492, 0.01472715]),\n",
       " 'split0_test_f1': array([0.78014184, 0.7972973 , 0.7862069 , 0.82993197, 0.8137931 ,\n",
       "        0.8028169 , 0.7755102 , 0.8137931 , 0.76510067, 0.79166667,\n",
       "        0.79452055, 0.8028169 , 0.81944444, 0.80555556, 0.7862069 ,\n",
       "        0.81879195, 0.78321678, 0.79452055, 0.7972973 , 0.78911565]),\n",
       " 'split1_test_f1': array([0.7761194 , 0.71428571, 0.725     , 0.725     , 0.77697842,\n",
       "        0.76335878, 0.7037037 , 0.73548387, 0.73202614, 0.72727273,\n",
       "        0.72727273, 0.74025974, 0.77941176, 0.77142857, 0.72839506,\n",
       "        0.70886076, 0.70886076, 0.70967742, 0.72619048, 0.725     ]),\n",
       " 'split2_test_f1': array([0.73282443, 0.74647887, 0.77333333, 0.75496689, 0.75714286,\n",
       "        0.73913043, 0.78082192, 0.75714286, 0.74647887, 0.74647887,\n",
       "        0.77333333, 0.73758865, 0.75      , 0.75714286, 0.76712329,\n",
       "        0.76923077, 0.75      , 0.74452555, 0.76      , 0.73684211]),\n",
       " 'mean_test_f1': array([0.76302856, 0.75268729, 0.76151341, 0.76996629, 0.78263813,\n",
       "        0.76843537, 0.75334528, 0.76880661, 0.74786856, 0.75513942,\n",
       "        0.7650422 , 0.76022176, 0.78295207, 0.77804233, 0.76057508,\n",
       "        0.76562783, 0.74735918, 0.7495745 , 0.76116259, 0.75031925]),\n",
       " 'std_test_f1': array([0.02142058, 0.03417249, 0.02634836, 0.04413174, 0.02347107,\n",
       "        0.02624653, 0.03516881, 0.03301632, 0.01353833, 0.02699258,\n",
       "        0.02807282, 0.03013904, 0.02846089, 0.02031016, 0.02405149,\n",
       "        0.04495147, 0.0304131 , 0.03482057, 0.02904088, 0.02785593]),\n",
       " 'rank_test_f1': array([ 9, 16, 10,  4,  2,  6, 15,  5, 19, 14,  8, 13,  1,  3, 12,  7, 20,\n",
       "        18, 11, 17], dtype=int32),\n",
       " 'split0_train_f1': array([0.80144404, 0.8041958 , 0.8989547 , 0.91694352, 0.80714286,\n",
       "        0.78388278, 0.89491525, 0.81560284, 0.82105263, 0.81850534,\n",
       "        0.91582492, 0.82608696, 0.8       , 0.79569892, 0.9261745 ,\n",
       "        0.92105263, 0.88581315, 0.86713287, 0.909699  , 0.91946309]),\n",
       " 'split1_train_f1': array([0.83154122, 0.81879195, 0.96644295, 0.98657718, 0.83098592,\n",
       "        0.8115942 , 0.93811075, 0.87162162, 0.86206897, 0.86666667,\n",
       "        0.95394737, 0.8707483 , 0.84210526, 0.81978799, 0.97315436,\n",
       "        0.97643098, 0.92881356, 0.91666667, 0.95454545, 0.98026316]),\n",
       " 'split2_train_f1': array([0.81751825, 0.81099656, 0.94193548, 0.9602649 , 0.83453237,\n",
       "        0.82181818, 0.9261745 , 0.85211268, 0.83561644, 0.83687943,\n",
       "        0.94155844, 0.82978723, 0.81588448, 0.80714286, 0.94736842,\n",
       "        0.95394737, 0.89115646, 0.86394558, 0.93464052, 0.94871795]),\n",
       " 'mean_train_f1': array([0.8168345 , 0.8113281 , 0.93577771, 0.9545952 , 0.82422038,\n",
       "        0.80576506, 0.9197335 , 0.84644571, 0.83957935, 0.84068381,\n",
       "        0.93711024, 0.8422075 , 0.81932991, 0.80754326, 0.94889909,\n",
       "        0.95047699, 0.90192772, 0.8825817 , 0.93296166, 0.9494814 ]),\n",
       " 'std_train_f1': array([0.01229663, 0.00596346, 0.0278939 , 0.02870912, 0.01216212,\n",
       "        0.01602618, 0.01821314, 0.02321798, 0.0169777 , 0.01984496,\n",
       "        0.01587808, 0.02023785, 0.01736119, 0.00983839, 0.01920997,\n",
       "        0.0227409 , 0.0191359 , 0.02413681, 0.01834694, 0.02482739]),\n",
       " 'split0_test_f2': array([0.75136612, 0.79088472, 0.77027027, 0.81989247, 0.7972973 ,\n",
       "        0.77656676, 0.76612903, 0.7972973 , 0.76203209, 0.77235772,\n",
       "        0.78167116, 0.77656676, 0.79945799, 0.78590786, 0.77027027,\n",
       "        0.81550802, 0.76086957, 0.78167116, 0.79088472, 0.77956989]),\n",
       " 'split1_test_f2': array([0.72423398, 0.72559367, 0.75324675, 0.75324675, 0.74175824,\n",
       "        0.70224719, 0.73643411, 0.75      , 0.74074074, 0.73878628,\n",
       "        0.76923077, 0.75197889, 0.73407202, 0.73972603, 0.7622739 ,\n",
       "        0.7310705 , 0.7310705 , 0.72368421, 0.77608142, 0.75324675]),\n",
       " 'split2_test_f2': array([0.6741573 , 0.72207084, 0.77333333, 0.75797872, 0.7260274 ,\n",
       "        0.70247934, 0.76819407, 0.7260274 , 0.72207084, 0.72207084,\n",
       "        0.77333333, 0.71038251, 0.70637119, 0.7260274 , 0.75471698,\n",
       "        0.74728261, 0.73170732, 0.70441989, 0.76      , 0.74270557]),\n",
       " 'mean_test_f2': array([0.7165858 , 0.74618308, 0.76561679, 0.77703932, 0.75502765,\n",
       "        0.72709776, 0.75691907, 0.7577749 , 0.74161456, 0.74440495,\n",
       "        0.77474509, 0.74630939, 0.74663374, 0.75055376, 0.76242038,\n",
       "        0.76462038, 0.74121579, 0.73659175, 0.77565538, 0.75850741]),\n",
       " 'std_test_f2': array([0.03198095, 0.03164154, 0.00883587, 0.03036327, 0.03057131,\n",
       "        0.03497999, 0.01450957, 0.02961066, 0.0163258 , 0.02091044,\n",
       "        0.00517595, 0.02731539, 0.03902679, 0.02561702, 0.00635045,\n",
       "        0.03658663, 0.01389975, 0.03283183, 0.01261223, 0.0155027 ]),\n",
       " 'rank_test_f2': array([20, 14,  4,  1, 10, 19,  9,  8, 16, 15,  3, 13, 12, 11,  6,  5, 17,\n",
       "        18,  2,  7], dtype=int32),\n",
       " 'split0_train_f2': array([0.76341128, 0.78125   , 0.87516961, 0.91877497, 0.7739726 ,\n",
       "        0.73997234, 0.88590604, 0.78551913, 0.79591837, 0.78659371,\n",
       "        0.9103079 , 0.78512397, 0.76712329, 0.76131687, 0.92245989,\n",
       "        0.92838196, 0.86603518, 0.8423913 , 0.90787717, 0.9157754 ]),\n",
       " 'split1_train_f2': array([0.79561043, 0.81550802, 0.96256684, 0.98262032, 0.80381471,\n",
       "        0.77134986, 0.95112285, 0.86461126, 0.84459459, 0.86666667,\n",
       "        0.96153846, 0.86021505, 0.81632653, 0.79126876, 0.96925134,\n",
       "        0.97054886, 0.91946309, 0.89430894, 0.96965699, 0.98806366]),\n",
       " 'split2_train_f2': array([0.77348066, 0.79622132, 0.96052632, 0.96409574, 0.7967033 ,\n",
       "        0.77931034, 0.92245989, 0.82425068, 0.82210243, 0.80601093,\n",
       "        0.95646438, 0.79918033, 0.77716644, 0.7739726 , 0.95490716,\n",
       "        0.96153846, 0.88037634, 0.85349462, 0.9457672 , 0.97112861]),\n",
       " 'mean_train_f2': array([0.77750079, 0.79765978, 0.93275426, 0.95516368, 0.79149687,\n",
       "        0.76354418, 0.9198296 , 0.82479369, 0.8208718 , 0.8197571 ,\n",
       "        0.94277025, 0.81483978, 0.78687209, 0.77551941, 0.9488728 ,\n",
       "        0.95348976, 0.88862487, 0.86339829, 0.94110045, 0.95832256]),\n",
       " 'std_train_f2': array([0.0134491 , 0.01402272, 0.04072702, 0.02681907, 0.01272709,\n",
       "        0.01698168, 0.02668954, 0.03229151, 0.01989103, 0.03410413,\n",
       "        0.02304763, 0.03259429, 0.02122718, 0.01227663, 0.01957328,\n",
       "        0.01813097, 0.02257822, 0.02232222, 0.02543646, 0.03086956]),\n",
       " 'split0_test_f0.5': array([0.81120944, 0.80381471, 0.8028169 , 0.84022039, 0.83098592,\n",
       "        0.83090379, 0.78512397, 0.83098592, 0.76819407, 0.81196581,\n",
       "        0.80779944, 0.83090379, 0.84045584, 0.82621083, 0.8028169 ,\n",
       "        0.82210243, 0.80691643, 0.80779944, 0.80381471, 0.79889807]),\n",
       " 'split1_test_f0.5': array([0.83601286, 0.70332481, 0.69879518, 0.69879518, 0.81570997,\n",
       "        0.8361204 , 0.67375887, 0.72151899, 0.72351421, 0.71611253,\n",
       "        0.68965517, 0.72890026, 0.830721  , 0.80597015, 0.69739953,\n",
       "        0.68796069, 0.68796069, 0.69620253, 0.68232662, 0.69879518]),\n",
       " 'split2_test_f0.5': array([0.80267559, 0.77259475, 0.77333333, 0.75197889, 0.79104478,\n",
       "        0.77981651, 0.79387187, 0.79104478, 0.77259475, 0.77259475,\n",
       "        0.77333333, 0.76696165, 0.79937304, 0.79104478, 0.77994429,\n",
       "        0.7925072 , 0.76923077, 0.78947368, 0.76      , 0.7310705 ]),\n",
       " 'mean_test_f0.5': array([0.81663263, 0.75991142, 0.75831514, 0.76366482, 0.81258022,\n",
       "        0.81561357, 0.75091823, 0.78118323, 0.75476768, 0.76689103,\n",
       "        0.75692932, 0.77558857, 0.82351663, 0.80774192, 0.76005357,\n",
       "        0.76752344, 0.75470263, 0.76449189, 0.74871378, 0.74292125]),\n",
       " 'std_test_f0.5': array([0.01413982, 0.04199369, 0.04377434, 0.05832491, 0.0164554 ,\n",
       "        0.02540177, 0.05467667, 0.04523044, 0.02217244, 0.03933923,\n",
       "        0.04960737, 0.0420872 , 0.01752857, 0.01441104, 0.04527646,\n",
       "        0.05754212, 0.04963814, 0.048864  , 0.05023527, 0.04171712]),\n",
       " 'rank_test_f0.5': array([ 2, 13, 14, 11,  4,  3, 18,  6, 16,  9, 15,  7,  1,  5, 12,  8, 17,\n",
       "        10, 19, 20], dtype=int32),\n",
       " 'split0_train_f0.5': array([0.84346505, 0.82853026, 0.92406877, 0.91511936, 0.84328358,\n",
       "        0.83333333, 0.90410959, 0.8480826 , 0.84782609, 0.85311573,\n",
       "        0.92140921, 0.87155963, 0.8358209 , 0.83333333, 0.92991914,\n",
       "        0.91383812, 0.90651558, 0.89337176, 0.91152815, 0.92318059]),\n",
       " 'split1_train_f0.5': array([0.87087087, 0.82210243, 0.9703504 , 0.99056604, 0.86005831,\n",
       "        0.85626911, 0.92544987, 0.87874659, 0.88028169, 0.86666667,\n",
       "        0.9464752 , 0.8815427 , 0.86956522, 0.85043988, 0.97708895,\n",
       "        0.98238482, 0.93835616, 0.94017094, 0.9398977 , 0.97258486]),\n",
       " 'split2_train_f0.5': array([0.86687307, 0.82633053, 0.92405063, 0.95646438, 0.87613293,\n",
       "        0.86923077, 0.92991914, 0.8819242 , 0.84958217, 0.87020649,\n",
       "        0.92710997, 0.86283186, 0.85866261, 0.84328358, 0.93994778,\n",
       "        0.9464752 , 0.90220386, 0.87465565, 0.92377261, 0.9273183 ]),\n",
       " 'mean_train_f0.5': array([0.86040299, 0.82565441, 0.93948994, 0.95404993, 0.85982494,\n",
       "        0.85294441, 0.9198262 , 0.86958446, 0.85922998, 0.86332963,\n",
       "        0.93166479, 0.87197806, 0.85468291, 0.84235227, 0.94898529,\n",
       "        0.94756605, 0.91569187, 0.90273278, 0.92506615, 0.94102792]),\n",
       " 'std_train_f0.5': array([0.01208763, 0.00266735, 0.02182165, 0.03084826, 0.01341171,\n",
       "        0.01484243, 0.0112621 , 0.01525936, 0.01490306, 0.00736548,\n",
       "        0.01072802, 0.0076444 , 0.01406054, 0.0070147 , 0.02028966,\n",
       "        0.0279947 , 0.01612246, 0.0275534 , 0.01161788, 0.02237797]),\n",
       " 'split0_test_precision': array([0.83333333, 0.80821918, 0.81428571, 0.84722222, 0.84285714,\n",
       "        0.85074627, 0.79166667, 0.84285714, 0.77027027, 0.82608696,\n",
       "        0.81690141, 0.85074627, 0.85507246, 0.84057971, 0.81428571,\n",
       "        0.82432432, 0.82352941, 0.81690141, 0.80821918, 0.80555556]),\n",
       " 'split1_test_precision': array([0.88135593, 0.69620253, 0.68235294, 0.68235294, 0.84375   ,\n",
       "        0.89285714, 0.65517241, 0.7125    , 0.71794872, 0.70886076,\n",
       "        0.66666667, 0.72151899, 0.86885246, 0.83076923, 0.67816092,\n",
       "        0.6746988 , 0.6746988 , 0.6875    , 0.65591398, 0.68235294]),\n",
       " 'split2_test_precision': array([0.85714286, 0.79104478, 0.77333333, 0.75      , 0.81538462,\n",
       "        0.80952381, 0.8028169 , 0.81538462, 0.79104478, 0.79104478,\n",
       "        0.77333333, 0.78787879, 0.83606557, 0.81538462, 0.78873239,\n",
       "        0.80882353, 0.7826087 , 0.82258065, 0.76      , 0.72727273]),\n",
       " 'mean_test_precision': array([0.85727737, 0.7651555 , 0.75665733, 0.75985839, 0.83399725,\n",
       "        0.85104241, 0.74988533, 0.79024725, 0.75975459, 0.77533083,\n",
       "        0.75230047, 0.78671468, 0.85333017, 0.82891119, 0.76039301,\n",
       "        0.76928222, 0.76027897, 0.77566068, 0.74137772, 0.73839374]),\n",
       " 'std_test_precision': array([0.01960537, 0.04925866, 0.05513699, 0.06766762, 0.01316617,\n",
       "        0.03402134, 0.06712667, 0.056108  , 0.03075379, 0.04913038,\n",
       "        0.06311051, 0.05276324, 0.01344177, 0.01036942, 0.05907527,\n",
       "        0.06717929, 0.06277792, 0.06238212, 0.06355738, 0.05090828]),\n",
       " 'rank_test_precision': array([ 1, 11, 16, 14,  4,  3, 18,  6, 15,  9, 17,  7,  2,  5, 12, 10, 13,\n",
       "         8, 19, 20], dtype=int32),\n",
       " 'split0_train_precision': array([0.87401575, 0.84558824, 0.94160584, 0.91390728, 0.86923077,\n",
       "        0.8699187 , 0.91034483, 0.87121212, 0.86666667, 0.8778626 ,\n",
       "        0.92517007, 0.9047619 , 0.86153846, 0.86046512, 0.93243243,\n",
       "        0.90909091, 0.92086331, 0.91176471, 0.91275168, 0.92567568]),\n",
       " 'split1_train_precision': array([0.89922481, 0.82432432, 0.97297297, 0.99324324, 0.88059701,\n",
       "        0.88888889, 0.91719745, 0.88356164, 0.89285714, 0.86666667,\n",
       "        0.94155844, 0.88888889, 0.88888889, 0.87218045, 0.97972973,\n",
       "        0.98639456, 0.94482759, 0.95652174, 0.93037975, 0.96753247]),\n",
       " 'split2_train_precision': array([0.90322581, 0.83687943, 0.9125    , 0.95394737, 0.90625   ,\n",
       "        0.904     , 0.93243243, 0.90298507, 0.85915493, 0.89393939,\n",
       "        0.91772152, 0.88636364, 0.88976378, 0.86923077, 0.93506494,\n",
       "        0.94155844, 0.90972222, 0.88194444, 0.91666667, 0.91358025]),\n",
       " 'mean_train_precision': array([0.89215545, 0.83559733, 0.9423596 , 0.9536993 , 0.88535926,\n",
       "        0.88760253, 0.91999157, 0.88591961, 0.87289291, 0.87948955,\n",
       "        0.92815001, 0.89333814, 0.88006371, 0.86729211, 0.9490757 ,\n",
       "        0.9456813 , 0.92513771, 0.91674363, 0.9199327 , 0.93559613]),\n",
       " 'std_train_precision': array([0.01293029, 0.00872817, 0.02469374, 0.03238924, 0.01548365,\n",
       "        0.01394333, 0.00923114, 0.01307798, 0.01444609, 0.01119332,\n",
       "        0.0099569 , 0.00814334, 0.0131042 , 0.00497534, 0.0217023 ,\n",
       "        0.03169345, 0.01464694, 0.03064893, 0.0075581 , 0.02311597]),\n",
       " 'split0_test_recall': array([0.73333333, 0.78666667, 0.76      , 0.81333333, 0.78666667,\n",
       "        0.76      , 0.76      , 0.78666667, 0.76      , 0.76      ,\n",
       "        0.77333333, 0.76      , 0.78666667, 0.77333333, 0.76      ,\n",
       "        0.81333333, 0.74666667, 0.77333333, 0.78666667, 0.77333333]),\n",
       " 'split1_test_recall': array([0.69333333, 0.73333333, 0.77333333, 0.77333333, 0.72      ,\n",
       "        0.66666667, 0.76      , 0.76      , 0.74666667, 0.74666667,\n",
       "        0.8       , 0.76      , 0.70666667, 0.72      , 0.78666667,\n",
       "        0.74666667, 0.74666667, 0.73333333, 0.81333333, 0.77333333]),\n",
       " 'split2_test_recall': array([0.64      , 0.70666667, 0.77333333, 0.76      , 0.70666667,\n",
       "        0.68      , 0.76      , 0.70666667, 0.70666667, 0.70666667,\n",
       "        0.77333333, 0.69333333, 0.68      , 0.70666667, 0.74666667,\n",
       "        0.73333333, 0.72      , 0.68      , 0.76      , 0.74666667]),\n",
       " 'mean_test_recall': array([0.68888889, 0.74222222, 0.76888889, 0.78222222, 0.73777778,\n",
       "        0.70222222, 0.76      , 0.75111111, 0.73777778, 0.73777778,\n",
       "        0.78222222, 0.73777778, 0.72444444, 0.73333333, 0.76444444,\n",
       "        0.76444444, 0.73777778, 0.72888889, 0.78666667, 0.76444444]),\n",
       " 'std_test_recall': array([3.82325567e-02, 3.32591768e-02, 6.28539361e-03, 2.26623089e-02,\n",
       "        3.49955906e-02, 4.12160822e-02, 1.11022302e-16, 3.32591768e-02,\n",
       "        2.26623089e-02, 2.26623089e-02, 1.25707872e-02, 3.14269681e-02,\n",
       "        4.53246179e-02, 2.88032920e-02, 1.66295884e-02, 3.49955906e-02,\n",
       "        1.25707872e-02, 3.82325567e-02, 2.17732422e-02, 1.25707872e-02]),\n",
       " 'rank_test_recall': array([20, 10,  4,  2, 11, 19,  8,  9, 11, 11,  2, 11, 18, 16,  5,  5, 11,\n",
       "        17,  1,  5], dtype=int32),\n",
       " 'split0_train_recall': array([0.74      , 0.76666667, 0.86      , 0.92      , 0.75333333,\n",
       "        0.71333333, 0.88      , 0.76666667, 0.78      , 0.76666667,\n",
       "        0.90666667, 0.76      , 0.74666667, 0.74      , 0.92      ,\n",
       "        0.93333333, 0.85333333, 0.82666667, 0.90666667, 0.91333333]),\n",
       " 'split1_train_recall': array([0.77333333, 0.81333333, 0.96      , 0.98      , 0.78666667,\n",
       "        0.74666667, 0.96      , 0.86      , 0.83333333, 0.86666667,\n",
       "        0.96666667, 0.85333333, 0.8       , 0.77333333, 0.96666667,\n",
       "        0.96666667, 0.91333333, 0.88      , 0.98      , 0.99333333]),\n",
       " 'split2_train_recall': array([0.74666667, 0.78666667, 0.97333333, 0.96666667, 0.77333333,\n",
       "        0.75333333, 0.92      , 0.80666667, 0.81333333, 0.78666667,\n",
       "        0.96666667, 0.78      , 0.75333333, 0.75333333, 0.96      ,\n",
       "        0.96666667, 0.87333333, 0.84666667, 0.95333333, 0.98666667]),\n",
       " 'mean_train_recall': array([0.75333333, 0.78888889, 0.93111111, 0.95555556, 0.77111111,\n",
       "        0.73777778, 0.92      , 0.81111111, 0.80888889, 0.80666667,\n",
       "        0.94666667, 0.79777778, 0.76666667, 0.75555556, 0.94888889,\n",
       "        0.95555556, 0.88      , 0.85111111, 0.94666667, 0.96444444]),\n",
       " 'std_train_recall': array([0.01440165, 0.01911628, 0.05057692, 0.02572408, 0.0136987 ,\n",
       "        0.0174978 , 0.03265986, 0.03823256, 0.02199888, 0.04320494,\n",
       "        0.02828427, 0.04012327, 0.02372684, 0.0136987 , 0.02060804,\n",
       "        0.01571348, 0.02494438, 0.02199888, 0.03030707, 0.03624335]),\n",
       " 'split0_test_roc_auc': array([0.8352381 , 0.85333333, 0.84285714, 0.8752381 , 0.86190476,\n",
       "        0.85142857, 0.83714286, 0.86190476, 0.83142857, 0.84571429,\n",
       "        0.84952381, 0.85142857, 0.8647619 , 0.8552381 , 0.84285714,\n",
       "        0.86952381, 0.83904762, 0.84952381, 0.85333333, 0.84666667]),\n",
       " 'split1_test_roc_auc': array([0.82666667, 0.79809524, 0.80952381, 0.80952381, 0.83142857,\n",
       "        0.81619048, 0.79428571, 0.81428571, 0.81047619, 0.80761905,\n",
       "        0.81428571, 0.81714286, 0.83047619, 0.82857143, 0.81333333,\n",
       "        0.79619048, 0.79619048, 0.7952381 , 0.8152381 , 0.80952381]),\n",
       " 'split2_test_roc_auc': array([0.79714286, 0.81333333, 0.83809524, 0.82571429, 0.81904762,\n",
       "        0.80571429, 0.84      , 0.81904762, 0.81333333, 0.81333333,\n",
       "        0.83809524, 0.80666667, 0.81142857, 0.81904762, 0.83047619,\n",
       "        0.82952381, 0.81714286, 0.80857143, 0.82857143, 0.81333333]),\n",
       " 'mean_test_roc_auc': array([0.81968254, 0.8215873 , 0.83015873, 0.8368254 , 0.83746032,\n",
       "        0.82444444, 0.82380952, 0.83174603, 0.8184127 , 0.82222222,\n",
       "        0.83396825, 0.82507937, 0.83555556, 0.83428571, 0.82888889,\n",
       "        0.83174603, 0.81746032, 0.81777778, 0.83238095, 0.8231746 ]),\n",
       " 'std_test_roc_auc': array([0.01631758, 0.02329389, 0.01472003, 0.02795454, 0.0180087 ,\n",
       "        0.01955411, 0.02090905, 0.02141387, 0.00927723, 0.01677441,\n",
       "        0.01467889, 0.01911628, 0.02206749, 0.01531725, 0.01210519,\n",
       "        0.02997942, 0.0174978 , 0.02309837, 0.01578388, 0.01668404]),\n",
       " 'rank_test_roc_auc': array([17, 16,  9,  2,  1, 12, 13,  8, 18, 15,  5, 11,  3,  4, 10,  7, 20,\n",
       "        19,  6, 14], dtype=int32),\n",
       " 'split0_train_roc_auc': array([0.84714286, 0.85333333, 0.91857143, 0.94142857, 0.85238095,\n",
       "        0.83380952, 0.92142857, 0.85904762, 0.86428571, 0.86047619,\n",
       "        0.93761905, 0.86285714, 0.84761905, 0.84428571, 0.94571429,\n",
       "        0.94666667, 0.91095238, 0.89619048, 0.9347619 , 0.94095238]),\n",
       " 'split1_train_roc_auc': array([0.86809524, 0.86952381, 0.97428571, 0.98857143, 0.87047619,\n",
       "        0.85333333, 0.96142857, 0.90571429, 0.8952381 , 0.9047619 ,\n",
       "        0.97047619, 0.90380952, 0.87857143, 0.86238095, 0.97904762,\n",
       "        0.98047619, 0.9452381 , 0.93142857, 0.97428571, 0.98952381]),\n",
       " 'split2_train_roc_auc': array([0.85619048, 0.86047619, 0.96666667, 0.97333333, 0.86952381,\n",
       "        0.85952381, 0.94571429, 0.8847619 , 0.87809524, 0.87333333,\n",
       "        0.9647619 , 0.86857143, 0.85666667, 0.85238095, 0.96571429,\n",
       "        0.97047619, 0.91809524, 0.89904762, 0.95809524, 0.97333333]),\n",
       " 'mean_train_roc_auc': array([0.85714286, 0.86111111, 0.9531746 , 0.96777778, 0.86412698,\n",
       "        0.84888889, 0.94285714, 0.8831746 , 0.87920635, 0.87952381,\n",
       "        0.95761905, 0.8784127 , 0.86095238, 0.85301587, 0.96349206,\n",
       "        0.96587302, 0.9247619 , 0.90888889, 0.95571429, 0.96793651]),\n",
       " 'std_train_roc_auc': array([0.00858024, 0.00662496, 0.02466505, 0.01964282, 0.00831479,\n",
       "        0.01095813, 0.01645443, 0.01908462, 0.01266066, 0.01860193,\n",
       "        0.01433325, 0.01810916, 0.01299456, 0.00740098, 0.0136987 ,\n",
       "        0.01418128, 0.01476958, 0.01598059, 0.01622312, 0.02019307]),\n",
       " 'split0_test_pr_auc': array([0.69111111, 0.69979909, 0.69085714, 0.74507407, 0.72704762,\n",
       "        0.71856716, 0.67366667, 0.72704762, 0.65740541, 0.69982609,\n",
       "        0.69973709, 0.71856716, 0.736657  , 0.71804831, 0.69085714,\n",
       "        0.72645045, 0.69090196, 0.69973709, 0.69979909, 0.69096296]),\n",
       " 'split1_test_pr_auc': array([0.70307345, 0.59054852, 0.59568627, 0.59568627, 0.6915    ,\n",
       "        0.6952381 , 0.56993103, 0.6135    , 0.61206838, 0.6052827 ,\n",
       "        0.59333333, 0.62035443, 0.70198907, 0.68215385, 0.59748659,\n",
       "        0.5797751 , 0.5797751 , 0.58416667, 0.5894767 , 0.59568627]),\n",
       " 'split2_test_pr_auc': array([0.65657143, 0.64700498, 0.66604444, 0.642     , 0.66420513,\n",
       "        0.64647619, 0.68214085, 0.66420513, 0.64700498, 0.64700498,\n",
       "        0.66604444, 0.63826263, 0.66452459, 0.66420513, 0.66492019,\n",
       "        0.67313725, 0.64747826, 0.65535484, 0.6496    , 0.6190303 ]),\n",
       " 'mean_test_pr_auc': array([0.68358533, 0.6457842 , 0.65086262, 0.66092012, 0.69425092,\n",
       "        0.68676048, 0.64191285, 0.66825092, 0.63882625, 0.65070459,\n",
       "        0.65303829, 0.65906141, 0.70105689, 0.68813576, 0.65108797,\n",
       "        0.6597876 , 0.63938511, 0.64641953, 0.64629193, 0.63522651]),\n",
       " 'std_test_pr_auc': array([0.01971611, 0.04460971, 0.04030913, 0.06243747, 0.02572898,\n",
       "        0.03003531, 0.05101627, 0.04644381, 0.01939124, 0.03868573,\n",
       "        0.04440203, 0.04270735, 0.02945531, 0.02238466, 0.03935321,\n",
       "        0.06061944, 0.04572686, 0.04760259, 0.04509963, 0.0405475 ]),\n",
       " 'rank_test_pr_auc': array([ 5, 16, 12,  7,  2,  4, 17,  6, 19, 13, 10,  9,  1,  3, 11,  8, 18,\n",
       "        14, 15, 20], dtype=int32),\n",
       " 'split0_train_pr_auc': array([0.72477165, 0.71828431, 0.85178102, 0.8647947 , 0.72882051,\n",
       "        0.70654201, 0.83710345, 0.73792929, 0.742     , 0.74302799,\n",
       "        0.86682086, 0.75961905, 0.71928205, 0.71474419, 0.88183784,\n",
       "        0.86848485, 0.82980336, 0.80572549, 0.85556152, 0.87145045]),\n",
       " 'split1_train_pr_auc': array([0.76340052, 0.72645045, 0.94605405, 0.97937838, 0.75673632,\n",
       "        0.7397037 , 0.89250955, 0.80186301, 0.79404762, 0.79111111,\n",
       "        0.92017316, 0.80251852, 0.77111111, 0.74248622, 0.95707207,\n",
       "        0.96351474, 0.88894253, 0.87773913, 0.91777215, 0.96308225]),\n",
       " 'split2_train_pr_auc': array([0.7504086 , 0.72234515, 0.89616667, 0.93214912, 0.76883333,\n",
       "        0.75501333, 0.88183784, 0.78640796, 0.75477934, 0.76723232,\n",
       "        0.8971308 , 0.75736364, 0.74428871, 0.72882051, 0.90966234,\n",
       "        0.92017316, 0.83249074, 0.79271296, 0.88788889, 0.90539918]),\n",
       " 'mean_train_pr_auc': array([0.74619359, 0.72235997, 0.89800058, 0.92544073, 0.75146339,\n",
       "        0.73375301, 0.87048361, 0.77540009, 0.76360899, 0.76712381,\n",
       "        0.89470827, 0.77316707, 0.74489396, 0.72868364, 0.91619075,\n",
       "        0.91739092, 0.85041221, 0.82539253, 0.88707419, 0.91331063]),\n",
       " 'std_train_pr_auc': array([0.01604934, 0.00333383, 0.03850864, 0.04701848, 0.01675528,\n",
       "        0.02023076, 0.02400205, 0.02723674, 0.02214664, 0.01963   ,\n",
       "        0.02184824, 0.02077502, 0.02116345, 0.01132605, 0.03105922,\n",
       "        0.03884564, 0.02726713, 0.03739391, 0.02540392, 0.03782451]),\n",
       " 'split0_test_log_loss': array([4.46941302, 4.32523841, 4.46941302, 3.60436534, 3.89271457,\n",
       "        4.03688918, 4.75776225, 3.89271457, 5.04611147, 4.32523841,\n",
       "        4.32523841, 4.03688918, 3.74853995, 4.03688918, 4.46941302,\n",
       "        3.89271457, 4.46941302, 4.32523841, 4.32523841, 4.46941302]),\n",
       " 'split1_test_log_loss': array([4.32523841, 6.343683  , 6.343683  , 6.343683  , 4.46941302,\n",
       "        4.46941302, 6.92038145, 5.91115916, 5.91115916, 6.05533377,\n",
       "        6.48785761, 5.76698454, 4.32523841, 4.61358763, 6.343683  ,\n",
       "        6.63203222, 6.63203222, 6.48785761, 6.63203222, 6.343683  ]),\n",
       " 'split2_test_log_loss': array([5.04611147, 5.19028609, 4.90193686, 5.3344607 , 4.90193686,\n",
       "        5.19028609, 4.61358763, 4.90193686, 5.19028609, 5.19028609,\n",
       "        4.90193686, 5.3344607 , 4.90193686, 4.90193686, 4.90193686,\n",
       "        4.75776225, 5.19028609, 5.04611147, 5.19028609, 5.76698454]),\n",
       " 'mean_test_log_loss': array([4.61358763, 5.2864025 , 5.23834429, 5.09416968, 4.42135482,\n",
       "        4.56552943, 5.43057711, 4.90193686, 5.38251891, 5.19028609,\n",
       "        5.23834429, 5.04611147, 4.32523841, 4.51747122, 5.23834429,\n",
       "        5.09416968, 5.43057711, 5.2864025 , 5.38251891, 5.52669352]),\n",
       " 'std_test_log_loss': array([0.31145276, 0.82682461, 0.8012904 , 1.13115579, 0.41341231,\n",
       "        0.47575195, 1.05509377, 0.82402655, 0.37841068, 0.70630847,\n",
       "        0.9143697 , 0.73514917, 0.47087232, 0.35963467, 0.8012904 ,\n",
       "        1.14334095, 0.89908668, 0.89908668, 0.9515039 , 0.7838056 ]),\n",
       " 'rank_test_log_loss': array([16,  6,  8, 13, 19, 17,  2, 15,  4, 11,  8, 14, 20, 18,  8, 12,  2,\n",
       "         6,  4,  1], dtype=int32),\n",
       " 'split0_train_log_loss': array([3.96480187, 4.03688918, 2.0905319 , 1.80218267, 3.89271457,\n",
       "        4.2531511 , 2.23470651, 3.74853995, 3.67645265, 3.67645265,\n",
       "        1.80218267, 3.46019073, 4.03688918, 4.10897649, 1.58592075,\n",
       "        1.73009536, 2.37888112, 2.73931766, 1.94635728, 1.73009536]),\n",
       " 'split1_train_log_loss': array([3.38810342, 3.89271457, 0.72087307, 0.28834923, 3.46019073,\n",
       "        3.74853995, 1.36965883, 2.73931766, 2.88349227, 2.88349227,\n",
       "        1.00922229, 2.73931766, 3.24392881, 3.67645265, 0.57669845,\n",
       "        0.50461115, 1.51383344, 1.73009536, 1.00922229, 0.43252384]),\n",
       " 'split2_train_log_loss': array([3.60436534, 3.96480187, 1.29757152, 0.86504768, 3.31601611,\n",
       "        3.53227803, 1.58592075, 3.02766688, 3.46019073, 3.31601611,\n",
       "        1.29757152, 3.46019073, 3.67645265, 3.89271457, 1.15339691,\n",
       "        1.00922229, 2.30679382, 2.88349227, 1.44174614, 1.15339691]),\n",
       " 'mean_train_log_loss': array([3.65242354, 3.96480187, 1.36965883, 0.98519319, 3.55630713,\n",
       "        3.84465636, 1.73009536, 3.1718415 , 3.34004521, 3.29198701,\n",
       "        1.36965883, 3.2198997 , 3.65242354, 3.89271457, 1.1053387 ,\n",
       "        1.0813096 , 2.06650279, 2.45096843, 1.46577524, 1.1053387 ]),\n",
       " 'std_train_log_loss': array([0.23787598, 0.05885904, 0.56147945, 0.62383178, 0.24504972,\n",
       "        0.30204113, 0.36757458, 0.42443857, 0.33468667, 0.32417031,\n",
       "        0.32771326, 0.33982282, 0.32417031, 0.17657712, 0.41341231,\n",
       "        0.50289185, 0.3919028 , 0.51312121, 0.38296087, 0.53082022])}"
      ]
     },
     "execution_count": 22,
     "metadata": {},
     "output_type": "execute_result"
    }
   ],
   "source": [
    "search1.cv_results_"
   ]
  },
  {
   "cell_type": "code",
   "execution_count": 23,
   "id": "2688af0e",
   "metadata": {},
   "outputs": [
    {
     "data": {
      "text/html": [
       "<div>\n",
       "<style scoped>\n",
       "    .dataframe tbody tr th:only-of-type {\n",
       "        vertical-align: middle;\n",
       "    }\n",
       "\n",
       "    .dataframe tbody tr th {\n",
       "        vertical-align: top;\n",
       "    }\n",
       "\n",
       "    .dataframe thead th {\n",
       "        text-align: right;\n",
       "    }\n",
       "</style>\n",
       "<table border=\"1\" class=\"dataframe\">\n",
       "  <thead>\n",
       "    <tr style=\"text-align: right;\">\n",
       "      <th></th>\n",
       "      <th>mean_fit_time</th>\n",
       "      <th>std_fit_time</th>\n",
       "      <th>mean_score_time</th>\n",
       "      <th>std_score_time</th>\n",
       "      <th>param_clf__subsample</th>\n",
       "      <th>param_clf__reg_lambda</th>\n",
       "      <th>param_clf__reg_alpha</th>\n",
       "      <th>param_clf__n_estimators</th>\n",
       "      <th>param_clf__min_child_weight</th>\n",
       "      <th>param_clf__max_depth</th>\n",
       "      <th>...</th>\n",
       "      <th>split1_test_log_loss</th>\n",
       "      <th>split2_test_log_loss</th>\n",
       "      <th>mean_test_log_loss</th>\n",
       "      <th>std_test_log_loss</th>\n",
       "      <th>rank_test_log_loss</th>\n",
       "      <th>split0_train_log_loss</th>\n",
       "      <th>split1_train_log_loss</th>\n",
       "      <th>split2_train_log_loss</th>\n",
       "      <th>mean_train_log_loss</th>\n",
       "      <th>std_train_log_loss</th>\n",
       "    </tr>\n",
       "  </thead>\n",
       "  <tbody>\n",
       "    <tr>\n",
       "      <th>0</th>\n",
       "      <td>0.056150</td>\n",
       "      <td>0.015834</td>\n",
       "      <td>0.007573</td>\n",
       "      <td>0.000429</td>\n",
       "      <td>1.0</td>\n",
       "      <td>0.75</td>\n",
       "      <td>0.1</td>\n",
       "      <td>150</td>\n",
       "      <td>3</td>\n",
       "      <td>3</td>\n",
       "      <td>...</td>\n",
       "      <td>4.325238</td>\n",
       "      <td>5.046111</td>\n",
       "      <td>4.613588</td>\n",
       "      <td>0.311453</td>\n",
       "      <td>16</td>\n",
       "      <td>3.964802</td>\n",
       "      <td>3.388103</td>\n",
       "      <td>3.604365</td>\n",
       "      <td>3.652424</td>\n",
       "      <td>0.237876</td>\n",
       "    </tr>\n",
       "    <tr>\n",
       "      <th>1</th>\n",
       "      <td>0.056745</td>\n",
       "      <td>0.019069</td>\n",
       "      <td>0.007441</td>\n",
       "      <td>0.000195</td>\n",
       "      <td>0.6</td>\n",
       "      <td>0.1</td>\n",
       "      <td>0.25</td>\n",
       "      <td>100</td>\n",
       "      <td>5</td>\n",
       "      <td>5</td>\n",
       "      <td>...</td>\n",
       "      <td>6.343683</td>\n",
       "      <td>5.190286</td>\n",
       "      <td>5.286402</td>\n",
       "      <td>0.826825</td>\n",
       "      <td>6</td>\n",
       "      <td>4.036889</td>\n",
       "      <td>3.892715</td>\n",
       "      <td>3.964802</td>\n",
       "      <td>3.964802</td>\n",
       "      <td>0.058859</td>\n",
       "    </tr>\n",
       "    <tr>\n",
       "      <th>2</th>\n",
       "      <td>0.036213</td>\n",
       "      <td>0.000681</td>\n",
       "      <td>0.007128</td>\n",
       "      <td>0.000029</td>\n",
       "      <td>0.6</td>\n",
       "      <td>0.25</td>\n",
       "      <td>0.1</td>\n",
       "      <td>150</td>\n",
       "      <td>1</td>\n",
       "      <td>3</td>\n",
       "      <td>...</td>\n",
       "      <td>6.343683</td>\n",
       "      <td>4.901937</td>\n",
       "      <td>5.238344</td>\n",
       "      <td>0.801290</td>\n",
       "      <td>8</td>\n",
       "      <td>2.090532</td>\n",
       "      <td>0.720873</td>\n",
       "      <td>1.297572</td>\n",
       "      <td>1.369659</td>\n",
       "      <td>0.561479</td>\n",
       "    </tr>\n",
       "    <tr>\n",
       "      <th>3</th>\n",
       "      <td>0.050040</td>\n",
       "      <td>0.000787</td>\n",
       "      <td>0.008668</td>\n",
       "      <td>0.001942</td>\n",
       "      <td>0.8</td>\n",
       "      <td>0.75</td>\n",
       "      <td>0.1</td>\n",
       "      <td>150</td>\n",
       "      <td>1</td>\n",
       "      <td>5</td>\n",
       "      <td>...</td>\n",
       "      <td>6.343683</td>\n",
       "      <td>5.334461</td>\n",
       "      <td>5.094170</td>\n",
       "      <td>1.131156</td>\n",
       "      <td>13</td>\n",
       "      <td>1.802183</td>\n",
       "      <td>0.288349</td>\n",
       "      <td>0.865048</td>\n",
       "      <td>0.985193</td>\n",
       "      <td>0.623832</td>\n",
       "    </tr>\n",
       "    <tr>\n",
       "      <th>4</th>\n",
       "      <td>0.049051</td>\n",
       "      <td>0.000739</td>\n",
       "      <td>0.007154</td>\n",
       "      <td>0.000088</td>\n",
       "      <td>0.8</td>\n",
       "      <td>0.25</td>\n",
       "      <td>0.25</td>\n",
       "      <td>200</td>\n",
       "      <td>1</td>\n",
       "      <td>3</td>\n",
       "      <td>...</td>\n",
       "      <td>4.469413</td>\n",
       "      <td>4.901937</td>\n",
       "      <td>4.421355</td>\n",
       "      <td>0.413412</td>\n",
       "      <td>19</td>\n",
       "      <td>3.892715</td>\n",
       "      <td>3.460191</td>\n",
       "      <td>3.316016</td>\n",
       "      <td>3.556307</td>\n",
       "      <td>0.245050</td>\n",
       "    </tr>\n",
       "    <tr>\n",
       "      <th>5</th>\n",
       "      <td>0.049275</td>\n",
       "      <td>0.011508</td>\n",
       "      <td>0.007789</td>\n",
       "      <td>0.000189</td>\n",
       "      <td>0.8</td>\n",
       "      <td>0.1</td>\n",
       "      <td>0.1</td>\n",
       "      <td>100</td>\n",
       "      <td>1</td>\n",
       "      <td>3</td>\n",
       "      <td>...</td>\n",
       "      <td>4.469413</td>\n",
       "      <td>5.190286</td>\n",
       "      <td>4.565529</td>\n",
       "      <td>0.475752</td>\n",
       "      <td>17</td>\n",
       "      <td>4.253151</td>\n",
       "      <td>3.748540</td>\n",
       "      <td>3.532278</td>\n",
       "      <td>3.844656</td>\n",
       "      <td>0.302041</td>\n",
       "    </tr>\n",
       "    <tr>\n",
       "      <th>6</th>\n",
       "      <td>0.061328</td>\n",
       "      <td>0.020852</td>\n",
       "      <td>0.007356</td>\n",
       "      <td>0.000072</td>\n",
       "      <td>0.6</td>\n",
       "      <td>0.25</td>\n",
       "      <td>0.1</td>\n",
       "      <td>200</td>\n",
       "      <td>3</td>\n",
       "      <td>7</td>\n",
       "      <td>...</td>\n",
       "      <td>6.920381</td>\n",
       "      <td>4.613588</td>\n",
       "      <td>5.430577</td>\n",
       "      <td>1.055094</td>\n",
       "      <td>2</td>\n",
       "      <td>2.234707</td>\n",
       "      <td>1.369659</td>\n",
       "      <td>1.585921</td>\n",
       "      <td>1.730095</td>\n",
       "      <td>0.367575</td>\n",
       "    </tr>\n",
       "    <tr>\n",
       "      <th>7</th>\n",
       "      <td>0.098233</td>\n",
       "      <td>0.048099</td>\n",
       "      <td>0.007928</td>\n",
       "      <td>0.000700</td>\n",
       "      <td>0.6</td>\n",
       "      <td>0.25</td>\n",
       "      <td>0.25</td>\n",
       "      <td>200</td>\n",
       "      <td>3</td>\n",
       "      <td>7</td>\n",
       "      <td>...</td>\n",
       "      <td>5.911159</td>\n",
       "      <td>4.901937</td>\n",
       "      <td>4.901937</td>\n",
       "      <td>0.824027</td>\n",
       "      <td>15</td>\n",
       "      <td>3.748540</td>\n",
       "      <td>2.739318</td>\n",
       "      <td>3.027667</td>\n",
       "      <td>3.171841</td>\n",
       "      <td>0.424439</td>\n",
       "    </tr>\n",
       "    <tr>\n",
       "      <th>8</th>\n",
       "      <td>0.091230</td>\n",
       "      <td>0.000629</td>\n",
       "      <td>0.007350</td>\n",
       "      <td>0.000522</td>\n",
       "      <td>0.6</td>\n",
       "      <td>0.25</td>\n",
       "      <td>0.1</td>\n",
       "      <td>100</td>\n",
       "      <td>3</td>\n",
       "      <td>7</td>\n",
       "      <td>...</td>\n",
       "      <td>5.911159</td>\n",
       "      <td>5.190286</td>\n",
       "      <td>5.382519</td>\n",
       "      <td>0.378411</td>\n",
       "      <td>4</td>\n",
       "      <td>3.676453</td>\n",
       "      <td>2.883492</td>\n",
       "      <td>3.460191</td>\n",
       "      <td>3.340045</td>\n",
       "      <td>0.334687</td>\n",
       "    </tr>\n",
       "    <tr>\n",
       "      <th>9</th>\n",
       "      <td>0.093807</td>\n",
       "      <td>0.052046</td>\n",
       "      <td>0.007951</td>\n",
       "      <td>0.000303</td>\n",
       "      <td>0.8</td>\n",
       "      <td>0.75</td>\n",
       "      <td>0.25</td>\n",
       "      <td>200</td>\n",
       "      <td>5</td>\n",
       "      <td>7</td>\n",
       "      <td>...</td>\n",
       "      <td>6.055334</td>\n",
       "      <td>5.190286</td>\n",
       "      <td>5.190286</td>\n",
       "      <td>0.706308</td>\n",
       "      <td>11</td>\n",
       "      <td>3.676453</td>\n",
       "      <td>2.883492</td>\n",
       "      <td>3.316016</td>\n",
       "      <td>3.291987</td>\n",
       "      <td>0.324170</td>\n",
       "    </tr>\n",
       "    <tr>\n",
       "      <th>10</th>\n",
       "      <td>0.028505</td>\n",
       "      <td>0.002599</td>\n",
       "      <td>0.008759</td>\n",
       "      <td>0.002386</td>\n",
       "      <td>1.0</td>\n",
       "      <td>0.25</td>\n",
       "      <td>0.75</td>\n",
       "      <td>100</td>\n",
       "      <td>5</td>\n",
       "      <td>5</td>\n",
       "      <td>...</td>\n",
       "      <td>6.487858</td>\n",
       "      <td>4.901937</td>\n",
       "      <td>5.238344</td>\n",
       "      <td>0.914370</td>\n",
       "      <td>8</td>\n",
       "      <td>1.802183</td>\n",
       "      <td>1.009222</td>\n",
       "      <td>1.297572</td>\n",
       "      <td>1.369659</td>\n",
       "      <td>0.327713</td>\n",
       "    </tr>\n",
       "    <tr>\n",
       "      <th>11</th>\n",
       "      <td>0.046015</td>\n",
       "      <td>0.005337</td>\n",
       "      <td>0.007261</td>\n",
       "      <td>0.000019</td>\n",
       "      <td>1.0</td>\n",
       "      <td>0.25</td>\n",
       "      <td>0.75</td>\n",
       "      <td>150</td>\n",
       "      <td>5</td>\n",
       "      <td>5</td>\n",
       "      <td>...</td>\n",
       "      <td>5.766985</td>\n",
       "      <td>5.334461</td>\n",
       "      <td>5.046111</td>\n",
       "      <td>0.735149</td>\n",
       "      <td>14</td>\n",
       "      <td>3.460191</td>\n",
       "      <td>2.739318</td>\n",
       "      <td>3.460191</td>\n",
       "      <td>3.219900</td>\n",
       "      <td>0.339823</td>\n",
       "    </tr>\n",
       "    <tr>\n",
       "      <th>12</th>\n",
       "      <td>0.044730</td>\n",
       "      <td>0.001671</td>\n",
       "      <td>0.007183</td>\n",
       "      <td>0.000021</td>\n",
       "      <td>0.6</td>\n",
       "      <td>0.1</td>\n",
       "      <td>0.1</td>\n",
       "      <td>200</td>\n",
       "      <td>1</td>\n",
       "      <td>3</td>\n",
       "      <td>...</td>\n",
       "      <td>4.325238</td>\n",
       "      <td>4.901937</td>\n",
       "      <td>4.325238</td>\n",
       "      <td>0.470872</td>\n",
       "      <td>20</td>\n",
       "      <td>4.036889</td>\n",
       "      <td>3.243929</td>\n",
       "      <td>3.676453</td>\n",
       "      <td>3.652424</td>\n",
       "      <td>0.324170</td>\n",
       "    </tr>\n",
       "    <tr>\n",
       "      <th>13</th>\n",
       "      <td>0.048884</td>\n",
       "      <td>0.003873</td>\n",
       "      <td>0.007180</td>\n",
       "      <td>0.000070</td>\n",
       "      <td>0.6</td>\n",
       "      <td>0.75</td>\n",
       "      <td>0.1</td>\n",
       "      <td>200</td>\n",
       "      <td>3</td>\n",
       "      <td>3</td>\n",
       "      <td>...</td>\n",
       "      <td>4.613588</td>\n",
       "      <td>4.901937</td>\n",
       "      <td>4.517471</td>\n",
       "      <td>0.359635</td>\n",
       "      <td>18</td>\n",
       "      <td>4.108976</td>\n",
       "      <td>3.676453</td>\n",
       "      <td>3.892715</td>\n",
       "      <td>3.892715</td>\n",
       "      <td>0.176577</td>\n",
       "    </tr>\n",
       "    <tr>\n",
       "      <th>14</th>\n",
       "      <td>0.034852</td>\n",
       "      <td>0.000940</td>\n",
       "      <td>0.007182</td>\n",
       "      <td>0.000017</td>\n",
       "      <td>0.6</td>\n",
       "      <td>0.25</td>\n",
       "      <td>0.1</td>\n",
       "      <td>100</td>\n",
       "      <td>1</td>\n",
       "      <td>5</td>\n",
       "      <td>...</td>\n",
       "      <td>6.343683</td>\n",
       "      <td>4.901937</td>\n",
       "      <td>5.238344</td>\n",
       "      <td>0.801290</td>\n",
       "      <td>8</td>\n",
       "      <td>1.585921</td>\n",
       "      <td>0.576698</td>\n",
       "      <td>1.153397</td>\n",
       "      <td>1.105339</td>\n",
       "      <td>0.413412</td>\n",
       "    </tr>\n",
       "    <tr>\n",
       "      <th>15</th>\n",
       "      <td>0.051511</td>\n",
       "      <td>0.001818</td>\n",
       "      <td>0.007249</td>\n",
       "      <td>0.000017</td>\n",
       "      <td>0.8</td>\n",
       "      <td>0.1</td>\n",
       "      <td>0.75</td>\n",
       "      <td>150</td>\n",
       "      <td>1</td>\n",
       "      <td>5</td>\n",
       "      <td>...</td>\n",
       "      <td>6.632032</td>\n",
       "      <td>4.757762</td>\n",
       "      <td>5.094170</td>\n",
       "      <td>1.143341</td>\n",
       "      <td>12</td>\n",
       "      <td>1.730095</td>\n",
       "      <td>0.504611</td>\n",
       "      <td>1.009222</td>\n",
       "      <td>1.081310</td>\n",
       "      <td>0.502892</td>\n",
       "    </tr>\n",
       "    <tr>\n",
       "      <th>16</th>\n",
       "      <td>0.028449</td>\n",
       "      <td>0.000557</td>\n",
       "      <td>0.007010</td>\n",
       "      <td>0.000005</td>\n",
       "      <td>0.6</td>\n",
       "      <td>0.75</td>\n",
       "      <td>0.75</td>\n",
       "      <td>100</td>\n",
       "      <td>1</td>\n",
       "      <td>3</td>\n",
       "      <td>...</td>\n",
       "      <td>6.632032</td>\n",
       "      <td>5.190286</td>\n",
       "      <td>5.430577</td>\n",
       "      <td>0.899087</td>\n",
       "      <td>2</td>\n",
       "      <td>2.378881</td>\n",
       "      <td>1.513833</td>\n",
       "      <td>2.306794</td>\n",
       "      <td>2.066503</td>\n",
       "      <td>0.391903</td>\n",
       "    </tr>\n",
       "    <tr>\n",
       "      <th>17</th>\n",
       "      <td>0.091207</td>\n",
       "      <td>0.025184</td>\n",
       "      <td>0.009463</td>\n",
       "      <td>0.001825</td>\n",
       "      <td>1.0</td>\n",
       "      <td>0.75</td>\n",
       "      <td>0.1</td>\n",
       "      <td>200</td>\n",
       "      <td>3</td>\n",
       "      <td>7</td>\n",
       "      <td>...</td>\n",
       "      <td>6.487858</td>\n",
       "      <td>5.046111</td>\n",
       "      <td>5.286402</td>\n",
       "      <td>0.899087</td>\n",
       "      <td>6</td>\n",
       "      <td>2.739318</td>\n",
       "      <td>1.730095</td>\n",
       "      <td>2.883492</td>\n",
       "      <td>2.450968</td>\n",
       "      <td>0.513121</td>\n",
       "    </tr>\n",
       "    <tr>\n",
       "      <th>18</th>\n",
       "      <td>0.041382</td>\n",
       "      <td>0.001623</td>\n",
       "      <td>0.007158</td>\n",
       "      <td>0.000063</td>\n",
       "      <td>0.8</td>\n",
       "      <td>0.1</td>\n",
       "      <td>0.1</td>\n",
       "      <td>200</td>\n",
       "      <td>5</td>\n",
       "      <td>3</td>\n",
       "      <td>...</td>\n",
       "      <td>6.632032</td>\n",
       "      <td>5.190286</td>\n",
       "      <td>5.382519</td>\n",
       "      <td>0.951504</td>\n",
       "      <td>4</td>\n",
       "      <td>1.946357</td>\n",
       "      <td>1.009222</td>\n",
       "      <td>1.441746</td>\n",
       "      <td>1.465775</td>\n",
       "      <td>0.382961</td>\n",
       "    </tr>\n",
       "    <tr>\n",
       "      <th>19</th>\n",
       "      <td>0.035717</td>\n",
       "      <td>0.000521</td>\n",
       "      <td>0.008679</td>\n",
       "      <td>0.002138</td>\n",
       "      <td>0.6</td>\n",
       "      <td>0.25</td>\n",
       "      <td>0.75</td>\n",
       "      <td>150</td>\n",
       "      <td>1</td>\n",
       "      <td>5</td>\n",
       "      <td>...</td>\n",
       "      <td>6.343683</td>\n",
       "      <td>5.766985</td>\n",
       "      <td>5.526694</td>\n",
       "      <td>0.783806</td>\n",
       "      <td>1</td>\n",
       "      <td>1.730095</td>\n",
       "      <td>0.432524</td>\n",
       "      <td>1.153397</td>\n",
       "      <td>1.105339</td>\n",
       "      <td>0.530820</td>\n",
       "    </tr>\n",
       "  </tbody>\n",
       "</table>\n",
       "<p>20 rows × 113 columns</p>\n",
       "</div>"
      ],
      "text/plain": [
       "    mean_fit_time  std_fit_time  mean_score_time  std_score_time   \n",
       "0        0.056150      0.015834         0.007573        0.000429  \\\n",
       "1        0.056745      0.019069         0.007441        0.000195   \n",
       "2        0.036213      0.000681         0.007128        0.000029   \n",
       "3        0.050040      0.000787         0.008668        0.001942   \n",
       "4        0.049051      0.000739         0.007154        0.000088   \n",
       "5        0.049275      0.011508         0.007789        0.000189   \n",
       "6        0.061328      0.020852         0.007356        0.000072   \n",
       "7        0.098233      0.048099         0.007928        0.000700   \n",
       "8        0.091230      0.000629         0.007350        0.000522   \n",
       "9        0.093807      0.052046         0.007951        0.000303   \n",
       "10       0.028505      0.002599         0.008759        0.002386   \n",
       "11       0.046015      0.005337         0.007261        0.000019   \n",
       "12       0.044730      0.001671         0.007183        0.000021   \n",
       "13       0.048884      0.003873         0.007180        0.000070   \n",
       "14       0.034852      0.000940         0.007182        0.000017   \n",
       "15       0.051511      0.001818         0.007249        0.000017   \n",
       "16       0.028449      0.000557         0.007010        0.000005   \n",
       "17       0.091207      0.025184         0.009463        0.001825   \n",
       "18       0.041382      0.001623         0.007158        0.000063   \n",
       "19       0.035717      0.000521         0.008679        0.002138   \n",
       "\n",
       "   param_clf__subsample param_clf__reg_lambda param_clf__reg_alpha   \n",
       "0                   1.0                  0.75                  0.1  \\\n",
       "1                   0.6                   0.1                 0.25   \n",
       "2                   0.6                  0.25                  0.1   \n",
       "3                   0.8                  0.75                  0.1   \n",
       "4                   0.8                  0.25                 0.25   \n",
       "5                   0.8                   0.1                  0.1   \n",
       "6                   0.6                  0.25                  0.1   \n",
       "7                   0.6                  0.25                 0.25   \n",
       "8                   0.6                  0.25                  0.1   \n",
       "9                   0.8                  0.75                 0.25   \n",
       "10                  1.0                  0.25                 0.75   \n",
       "11                  1.0                  0.25                 0.75   \n",
       "12                  0.6                   0.1                  0.1   \n",
       "13                  0.6                  0.75                  0.1   \n",
       "14                  0.6                  0.25                  0.1   \n",
       "15                  0.8                   0.1                 0.75   \n",
       "16                  0.6                  0.75                 0.75   \n",
       "17                  1.0                  0.75                  0.1   \n",
       "18                  0.8                   0.1                  0.1   \n",
       "19                  0.6                  0.25                 0.75   \n",
       "\n",
       "   param_clf__n_estimators param_clf__min_child_weight param_clf__max_depth   \n",
       "0                      150                           3                    3  \\\n",
       "1                      100                           5                    5   \n",
       "2                      150                           1                    3   \n",
       "3                      150                           1                    5   \n",
       "4                      200                           1                    3   \n",
       "5                      100                           1                    3   \n",
       "6                      200                           3                    7   \n",
       "7                      200                           3                    7   \n",
       "8                      100                           3                    7   \n",
       "9                      200                           5                    7   \n",
       "10                     100                           5                    5   \n",
       "11                     150                           5                    5   \n",
       "12                     200                           1                    3   \n",
       "13                     200                           3                    3   \n",
       "14                     100                           1                    5   \n",
       "15                     150                           1                    5   \n",
       "16                     100                           1                    3   \n",
       "17                     200                           3                    7   \n",
       "18                     200                           5                    3   \n",
       "19                     150                           1                    5   \n",
       "\n",
       "    ... split1_test_log_loss split2_test_log_loss mean_test_log_loss   \n",
       "0   ...             4.325238             5.046111           4.613588  \\\n",
       "1   ...             6.343683             5.190286           5.286402   \n",
       "2   ...             6.343683             4.901937           5.238344   \n",
       "3   ...             6.343683             5.334461           5.094170   \n",
       "4   ...             4.469413             4.901937           4.421355   \n",
       "5   ...             4.469413             5.190286           4.565529   \n",
       "6   ...             6.920381             4.613588           5.430577   \n",
       "7   ...             5.911159             4.901937           4.901937   \n",
       "8   ...             5.911159             5.190286           5.382519   \n",
       "9   ...             6.055334             5.190286           5.190286   \n",
       "10  ...             6.487858             4.901937           5.238344   \n",
       "11  ...             5.766985             5.334461           5.046111   \n",
       "12  ...             4.325238             4.901937           4.325238   \n",
       "13  ...             4.613588             4.901937           4.517471   \n",
       "14  ...             6.343683             4.901937           5.238344   \n",
       "15  ...             6.632032             4.757762           5.094170   \n",
       "16  ...             6.632032             5.190286           5.430577   \n",
       "17  ...             6.487858             5.046111           5.286402   \n",
       "18  ...             6.632032             5.190286           5.382519   \n",
       "19  ...             6.343683             5.766985           5.526694   \n",
       "\n",
       "   std_test_log_loss  rank_test_log_loss  split0_train_log_loss   \n",
       "0           0.311453                  16               3.964802  \\\n",
       "1           0.826825                   6               4.036889   \n",
       "2           0.801290                   8               2.090532   \n",
       "3           1.131156                  13               1.802183   \n",
       "4           0.413412                  19               3.892715   \n",
       "5           0.475752                  17               4.253151   \n",
       "6           1.055094                   2               2.234707   \n",
       "7           0.824027                  15               3.748540   \n",
       "8           0.378411                   4               3.676453   \n",
       "9           0.706308                  11               3.676453   \n",
       "10          0.914370                   8               1.802183   \n",
       "11          0.735149                  14               3.460191   \n",
       "12          0.470872                  20               4.036889   \n",
       "13          0.359635                  18               4.108976   \n",
       "14          0.801290                   8               1.585921   \n",
       "15          1.143341                  12               1.730095   \n",
       "16          0.899087                   2               2.378881   \n",
       "17          0.899087                   6               2.739318   \n",
       "18          0.951504                   4               1.946357   \n",
       "19          0.783806                   1               1.730095   \n",
       "\n",
       "    split1_train_log_loss  split2_train_log_loss  mean_train_log_loss   \n",
       "0                3.388103               3.604365             3.652424  \\\n",
       "1                3.892715               3.964802             3.964802   \n",
       "2                0.720873               1.297572             1.369659   \n",
       "3                0.288349               0.865048             0.985193   \n",
       "4                3.460191               3.316016             3.556307   \n",
       "5                3.748540               3.532278             3.844656   \n",
       "6                1.369659               1.585921             1.730095   \n",
       "7                2.739318               3.027667             3.171841   \n",
       "8                2.883492               3.460191             3.340045   \n",
       "9                2.883492               3.316016             3.291987   \n",
       "10               1.009222               1.297572             1.369659   \n",
       "11               2.739318               3.460191             3.219900   \n",
       "12               3.243929               3.676453             3.652424   \n",
       "13               3.676453               3.892715             3.892715   \n",
       "14               0.576698               1.153397             1.105339   \n",
       "15               0.504611               1.009222             1.081310   \n",
       "16               1.513833               2.306794             2.066503   \n",
       "17               1.730095               2.883492             2.450968   \n",
       "18               1.009222               1.441746             1.465775   \n",
       "19               0.432524               1.153397             1.105339   \n",
       "\n",
       "    std_train_log_loss  \n",
       "0             0.237876  \n",
       "1             0.058859  \n",
       "2             0.561479  \n",
       "3             0.623832  \n",
       "4             0.245050  \n",
       "5             0.302041  \n",
       "6             0.367575  \n",
       "7             0.424439  \n",
       "8             0.334687  \n",
       "9             0.324170  \n",
       "10            0.327713  \n",
       "11            0.339823  \n",
       "12            0.324170  \n",
       "13            0.176577  \n",
       "14            0.413412  \n",
       "15            0.502892  \n",
       "16            0.391903  \n",
       "17            0.513121  \n",
       "18            0.382961  \n",
       "19            0.530820  \n",
       "\n",
       "[20 rows x 113 columns]"
      ]
     },
     "execution_count": 23,
     "metadata": {},
     "output_type": "execute_result"
    }
   ],
   "source": [
    "search1df = pd.DataFrame(search1.cv_results_)\n",
    "search1df"
   ]
  },
  {
   "cell_type": "code",
   "execution_count": 24,
   "id": "6a7652c8",
   "metadata": {},
   "outputs": [
    {
     "data": {
      "text/plain": [
       "(20, 113)"
      ]
     },
     "execution_count": 24,
     "metadata": {},
     "output_type": "execute_result"
    }
   ],
   "source": [
    "search1df.shape"
   ]
  },
  {
   "cell_type": "code",
   "execution_count": 25,
   "id": "e381d256",
   "metadata": {},
   "outputs": [
    {
     "data": {
      "text/plain": [
       "Index(['mean_fit_time', 'std_fit_time', 'mean_score_time', 'std_score_time',\n",
       "       'param_clf__subsample', 'param_clf__reg_lambda', 'param_clf__reg_alpha',\n",
       "       'param_clf__n_estimators', 'param_clf__min_child_weight',\n",
       "       'param_clf__max_depth',\n",
       "       ...\n",
       "       'split1_test_log_loss', 'split2_test_log_loss', 'mean_test_log_loss',\n",
       "       'std_test_log_loss', 'rank_test_log_loss', 'split0_train_log_loss',\n",
       "       'split1_train_log_loss', 'split2_train_log_loss', 'mean_train_log_loss',\n",
       "       'std_train_log_loss'],\n",
       "      dtype='object', length=113)"
      ]
     },
     "execution_count": 25,
     "metadata": {},
     "output_type": "execute_result"
    }
   ],
   "source": [
    "search1df.columns"
   ]
  },
  {
   "cell_type": "code",
   "execution_count": 26,
   "id": "68a737f7",
   "metadata": {},
   "outputs": [
    {
     "data": {
      "text/html": [
       "<div>\n",
       "<style scoped>\n",
       "    .dataframe tbody tr th:only-of-type {\n",
       "        vertical-align: middle;\n",
       "    }\n",
       "\n",
       "    .dataframe tbody tr th {\n",
       "        vertical-align: top;\n",
       "    }\n",
       "\n",
       "    .dataframe thead th {\n",
       "        text-align: right;\n",
       "    }\n",
       "</style>\n",
       "<table border=\"1\" class=\"dataframe\">\n",
       "  <thead>\n",
       "    <tr style=\"text-align: right;\">\n",
       "      <th></th>\n",
       "      <th>mean_fit_time</th>\n",
       "      <th>mean_score_time</th>\n",
       "      <th>mean_test_accuracy</th>\n",
       "      <th>mean_train_accuracy</th>\n",
       "      <th>mean_test_f1</th>\n",
       "      <th>mean_train_f1</th>\n",
       "      <th>mean_test_f2</th>\n",
       "      <th>mean_train_f2</th>\n",
       "      <th>mean_test_f0.5</th>\n",
       "      <th>mean_train_f0.5</th>\n",
       "      <th>mean_test_precision</th>\n",
       "      <th>mean_train_precision</th>\n",
       "      <th>mean_test_recall</th>\n",
       "      <th>mean_train_recall</th>\n",
       "      <th>mean_test_roc_auc</th>\n",
       "      <th>mean_train_roc_auc</th>\n",
       "      <th>mean_test_pr_auc</th>\n",
       "      <th>mean_train_pr_auc</th>\n",
       "      <th>mean_test_log_loss</th>\n",
       "      <th>mean_train_log_loss</th>\n",
       "    </tr>\n",
       "  </thead>\n",
       "  <tbody>\n",
       "    <tr>\n",
       "      <th>0</th>\n",
       "      <td>0.056150</td>\n",
       "      <td>0.007573</td>\n",
       "      <td>0.872000</td>\n",
       "      <td>0.898667</td>\n",
       "      <td>0.763029</td>\n",
       "      <td>0.816835</td>\n",
       "      <td>0.716586</td>\n",
       "      <td>0.777501</td>\n",
       "      <td>0.816633</td>\n",
       "      <td>0.860403</td>\n",
       "      <td>0.857277</td>\n",
       "      <td>0.892155</td>\n",
       "      <td>0.688889</td>\n",
       "      <td>0.753333</td>\n",
       "      <td>0.819683</td>\n",
       "      <td>0.857143</td>\n",
       "      <td>0.683585</td>\n",
       "      <td>0.746194</td>\n",
       "      <td>4.613588</td>\n",
       "      <td>3.652424</td>\n",
       "    </tr>\n",
       "    <tr>\n",
       "      <th>1</th>\n",
       "      <td>0.056745</td>\n",
       "      <td>0.007441</td>\n",
       "      <td>0.853333</td>\n",
       "      <td>0.890000</td>\n",
       "      <td>0.752687</td>\n",
       "      <td>0.811328</td>\n",
       "      <td>0.746183</td>\n",
       "      <td>0.797660</td>\n",
       "      <td>0.759911</td>\n",
       "      <td>0.825654</td>\n",
       "      <td>0.765155</td>\n",
       "      <td>0.835597</td>\n",
       "      <td>0.742222</td>\n",
       "      <td>0.788889</td>\n",
       "      <td>0.821587</td>\n",
       "      <td>0.861111</td>\n",
       "      <td>0.645784</td>\n",
       "      <td>0.722360</td>\n",
       "      <td>5.286402</td>\n",
       "      <td>3.964802</td>\n",
       "    </tr>\n",
       "    <tr>\n",
       "      <th>2</th>\n",
       "      <td>0.036213</td>\n",
       "      <td>0.007128</td>\n",
       "      <td>0.854667</td>\n",
       "      <td>0.962000</td>\n",
       "      <td>0.761513</td>\n",
       "      <td>0.935778</td>\n",
       "      <td>0.765617</td>\n",
       "      <td>0.932754</td>\n",
       "      <td>0.758315</td>\n",
       "      <td>0.939490</td>\n",
       "      <td>0.756657</td>\n",
       "      <td>0.942360</td>\n",
       "      <td>0.768889</td>\n",
       "      <td>0.931111</td>\n",
       "      <td>0.830159</td>\n",
       "      <td>0.953175</td>\n",
       "      <td>0.650863</td>\n",
       "      <td>0.898001</td>\n",
       "      <td>5.238344</td>\n",
       "      <td>1.369659</td>\n",
       "    </tr>\n",
       "    <tr>\n",
       "      <th>3</th>\n",
       "      <td>0.050040</td>\n",
       "      <td>0.008668</td>\n",
       "      <td>0.858667</td>\n",
       "      <td>0.972667</td>\n",
       "      <td>0.769966</td>\n",
       "      <td>0.954595</td>\n",
       "      <td>0.777039</td>\n",
       "      <td>0.955164</td>\n",
       "      <td>0.763665</td>\n",
       "      <td>0.954050</td>\n",
       "      <td>0.759858</td>\n",
       "      <td>0.953699</td>\n",
       "      <td>0.782222</td>\n",
       "      <td>0.955556</td>\n",
       "      <td>0.836825</td>\n",
       "      <td>0.967778</td>\n",
       "      <td>0.660920</td>\n",
       "      <td>0.925441</td>\n",
       "      <td>5.094170</td>\n",
       "      <td>0.985193</td>\n",
       "    </tr>\n",
       "    <tr>\n",
       "      <th>4</th>\n",
       "      <td>0.049051</td>\n",
       "      <td>0.007154</td>\n",
       "      <td>0.877333</td>\n",
       "      <td>0.901333</td>\n",
       "      <td>0.782638</td>\n",
       "      <td>0.824220</td>\n",
       "      <td>0.755028</td>\n",
       "      <td>0.791497</td>\n",
       "      <td>0.812580</td>\n",
       "      <td>0.859825</td>\n",
       "      <td>0.833997</td>\n",
       "      <td>0.885359</td>\n",
       "      <td>0.737778</td>\n",
       "      <td>0.771111</td>\n",
       "      <td>0.837460</td>\n",
       "      <td>0.864127</td>\n",
       "      <td>0.694251</td>\n",
       "      <td>0.751463</td>\n",
       "      <td>4.421355</td>\n",
       "      <td>3.556307</td>\n",
       "    </tr>\n",
       "    <tr>\n",
       "      <th>5</th>\n",
       "      <td>0.049275</td>\n",
       "      <td>0.007789</td>\n",
       "      <td>0.873333</td>\n",
       "      <td>0.893333</td>\n",
       "      <td>0.768435</td>\n",
       "      <td>0.805765</td>\n",
       "      <td>0.727098</td>\n",
       "      <td>0.763544</td>\n",
       "      <td>0.815614</td>\n",
       "      <td>0.852944</td>\n",
       "      <td>0.851042</td>\n",
       "      <td>0.887603</td>\n",
       "      <td>0.702222</td>\n",
       "      <td>0.737778</td>\n",
       "      <td>0.824444</td>\n",
       "      <td>0.848889</td>\n",
       "      <td>0.686760</td>\n",
       "      <td>0.733753</td>\n",
       "      <td>4.565529</td>\n",
       "      <td>3.844656</td>\n",
       "    </tr>\n",
       "    <tr>\n",
       "      <th>6</th>\n",
       "      <td>0.061328</td>\n",
       "      <td>0.007356</td>\n",
       "      <td>0.849333</td>\n",
       "      <td>0.952000</td>\n",
       "      <td>0.753345</td>\n",
       "      <td>0.919734</td>\n",
       "      <td>0.756919</td>\n",
       "      <td>0.919830</td>\n",
       "      <td>0.750918</td>\n",
       "      <td>0.919826</td>\n",
       "      <td>0.749885</td>\n",
       "      <td>0.919992</td>\n",
       "      <td>0.760000</td>\n",
       "      <td>0.920000</td>\n",
       "      <td>0.823810</td>\n",
       "      <td>0.942857</td>\n",
       "      <td>0.641913</td>\n",
       "      <td>0.870484</td>\n",
       "      <td>5.430577</td>\n",
       "      <td>1.730095</td>\n",
       "    </tr>\n",
       "    <tr>\n",
       "      <th>7</th>\n",
       "      <td>0.098233</td>\n",
       "      <td>0.007928</td>\n",
       "      <td>0.864000</td>\n",
       "      <td>0.912000</td>\n",
       "      <td>0.768807</td>\n",
       "      <td>0.846446</td>\n",
       "      <td>0.757775</td>\n",
       "      <td>0.824794</td>\n",
       "      <td>0.781183</td>\n",
       "      <td>0.869584</td>\n",
       "      <td>0.790247</td>\n",
       "      <td>0.885920</td>\n",
       "      <td>0.751111</td>\n",
       "      <td>0.811111</td>\n",
       "      <td>0.831746</td>\n",
       "      <td>0.883175</td>\n",
       "      <td>0.668251</td>\n",
       "      <td>0.775400</td>\n",
       "      <td>4.901937</td>\n",
       "      <td>3.171841</td>\n",
       "    </tr>\n",
       "    <tr>\n",
       "      <th>8</th>\n",
       "      <td>0.091230</td>\n",
       "      <td>0.007350</td>\n",
       "      <td>0.850667</td>\n",
       "      <td>0.907333</td>\n",
       "      <td>0.747869</td>\n",
       "      <td>0.839579</td>\n",
       "      <td>0.741615</td>\n",
       "      <td>0.820872</td>\n",
       "      <td>0.754768</td>\n",
       "      <td>0.859230</td>\n",
       "      <td>0.759755</td>\n",
       "      <td>0.872893</td>\n",
       "      <td>0.737778</td>\n",
       "      <td>0.808889</td>\n",
       "      <td>0.818413</td>\n",
       "      <td>0.879206</td>\n",
       "      <td>0.638826</td>\n",
       "      <td>0.763609</td>\n",
       "      <td>5.382519</td>\n",
       "      <td>3.340045</td>\n",
       "    </tr>\n",
       "    <tr>\n",
       "      <th>9</th>\n",
       "      <td>0.093807</td>\n",
       "      <td>0.007951</td>\n",
       "      <td>0.856000</td>\n",
       "      <td>0.908667</td>\n",
       "      <td>0.755139</td>\n",
       "      <td>0.840684</td>\n",
       "      <td>0.744405</td>\n",
       "      <td>0.819757</td>\n",
       "      <td>0.766891</td>\n",
       "      <td>0.863330</td>\n",
       "      <td>0.775331</td>\n",
       "      <td>0.879490</td>\n",
       "      <td>0.737778</td>\n",
       "      <td>0.806667</td>\n",
       "      <td>0.822222</td>\n",
       "      <td>0.879524</td>\n",
       "      <td>0.650705</td>\n",
       "      <td>0.767124</td>\n",
       "      <td>5.190286</td>\n",
       "      <td>3.291987</td>\n",
       "    </tr>\n",
       "    <tr>\n",
       "      <th>10</th>\n",
       "      <td>0.028505</td>\n",
       "      <td>0.008759</td>\n",
       "      <td>0.854667</td>\n",
       "      <td>0.962000</td>\n",
       "      <td>0.765042</td>\n",
       "      <td>0.937110</td>\n",
       "      <td>0.774745</td>\n",
       "      <td>0.942770</td>\n",
       "      <td>0.756929</td>\n",
       "      <td>0.931665</td>\n",
       "      <td>0.752300</td>\n",
       "      <td>0.928150</td>\n",
       "      <td>0.782222</td>\n",
       "      <td>0.946667</td>\n",
       "      <td>0.833968</td>\n",
       "      <td>0.957619</td>\n",
       "      <td>0.653038</td>\n",
       "      <td>0.894708</td>\n",
       "      <td>5.238344</td>\n",
       "      <td>1.369659</td>\n",
       "    </tr>\n",
       "    <tr>\n",
       "      <th>11</th>\n",
       "      <td>0.046015</td>\n",
       "      <td>0.007261</td>\n",
       "      <td>0.860000</td>\n",
       "      <td>0.910667</td>\n",
       "      <td>0.760222</td>\n",
       "      <td>0.842207</td>\n",
       "      <td>0.746309</td>\n",
       "      <td>0.814840</td>\n",
       "      <td>0.775589</td>\n",
       "      <td>0.871978</td>\n",
       "      <td>0.786715</td>\n",
       "      <td>0.893338</td>\n",
       "      <td>0.737778</td>\n",
       "      <td>0.797778</td>\n",
       "      <td>0.825079</td>\n",
       "      <td>0.878413</td>\n",
       "      <td>0.659061</td>\n",
       "      <td>0.773167</td>\n",
       "      <td>5.046111</td>\n",
       "      <td>3.219900</td>\n",
       "    </tr>\n",
       "    <tr>\n",
       "      <th>12</th>\n",
       "      <td>0.044730</td>\n",
       "      <td>0.007183</td>\n",
       "      <td>0.880000</td>\n",
       "      <td>0.898667</td>\n",
       "      <td>0.782952</td>\n",
       "      <td>0.819330</td>\n",
       "      <td>0.746634</td>\n",
       "      <td>0.786872</td>\n",
       "      <td>0.823517</td>\n",
       "      <td>0.854683</td>\n",
       "      <td>0.853330</td>\n",
       "      <td>0.880064</td>\n",
       "      <td>0.724444</td>\n",
       "      <td>0.766667</td>\n",
       "      <td>0.835556</td>\n",
       "      <td>0.860952</td>\n",
       "      <td>0.701057</td>\n",
       "      <td>0.744894</td>\n",
       "      <td>4.325238</td>\n",
       "      <td>3.652424</td>\n",
       "    </tr>\n",
       "    <tr>\n",
       "      <th>13</th>\n",
       "      <td>0.048884</td>\n",
       "      <td>0.007180</td>\n",
       "      <td>0.874667</td>\n",
       "      <td>0.892000</td>\n",
       "      <td>0.778042</td>\n",
       "      <td>0.807543</td>\n",
       "      <td>0.750554</td>\n",
       "      <td>0.775519</td>\n",
       "      <td>0.807742</td>\n",
       "      <td>0.842352</td>\n",
       "      <td>0.828911</td>\n",
       "      <td>0.867292</td>\n",
       "      <td>0.733333</td>\n",
       "      <td>0.755556</td>\n",
       "      <td>0.834286</td>\n",
       "      <td>0.853016</td>\n",
       "      <td>0.688136</td>\n",
       "      <td>0.728684</td>\n",
       "      <td>4.517471</td>\n",
       "      <td>3.892715</td>\n",
       "    </tr>\n",
       "    <tr>\n",
       "      <th>14</th>\n",
       "      <td>0.034852</td>\n",
       "      <td>0.007182</td>\n",
       "      <td>0.854667</td>\n",
       "      <td>0.969333</td>\n",
       "      <td>0.760575</td>\n",
       "      <td>0.948899</td>\n",
       "      <td>0.762420</td>\n",
       "      <td>0.948873</td>\n",
       "      <td>0.760054</td>\n",
       "      <td>0.948985</td>\n",
       "      <td>0.760393</td>\n",
       "      <td>0.949076</td>\n",
       "      <td>0.764444</td>\n",
       "      <td>0.948889</td>\n",
       "      <td>0.828889</td>\n",
       "      <td>0.963492</td>\n",
       "      <td>0.651088</td>\n",
       "      <td>0.916191</td>\n",
       "      <td>5.238344</td>\n",
       "      <td>1.105339</td>\n",
       "    </tr>\n",
       "    <tr>\n",
       "      <th>15</th>\n",
       "      <td>0.051511</td>\n",
       "      <td>0.007249</td>\n",
       "      <td>0.858667</td>\n",
       "      <td>0.970000</td>\n",
       "      <td>0.765628</td>\n",
       "      <td>0.950477</td>\n",
       "      <td>0.764620</td>\n",
       "      <td>0.953490</td>\n",
       "      <td>0.767523</td>\n",
       "      <td>0.947566</td>\n",
       "      <td>0.769282</td>\n",
       "      <td>0.945681</td>\n",
       "      <td>0.764444</td>\n",
       "      <td>0.955556</td>\n",
       "      <td>0.831746</td>\n",
       "      <td>0.965873</td>\n",
       "      <td>0.659788</td>\n",
       "      <td>0.917391</td>\n",
       "      <td>5.094170</td>\n",
       "      <td>1.081310</td>\n",
       "    </tr>\n",
       "    <tr>\n",
       "      <th>16</th>\n",
       "      <td>0.028449</td>\n",
       "      <td>0.007010</td>\n",
       "      <td>0.849333</td>\n",
       "      <td>0.942667</td>\n",
       "      <td>0.747359</td>\n",
       "      <td>0.901928</td>\n",
       "      <td>0.741216</td>\n",
       "      <td>0.888625</td>\n",
       "      <td>0.754703</td>\n",
       "      <td>0.915692</td>\n",
       "      <td>0.760279</td>\n",
       "      <td>0.925138</td>\n",
       "      <td>0.737778</td>\n",
       "      <td>0.880000</td>\n",
       "      <td>0.817460</td>\n",
       "      <td>0.924762</td>\n",
       "      <td>0.639385</td>\n",
       "      <td>0.850412</td>\n",
       "      <td>5.430577</td>\n",
       "      <td>2.066503</td>\n",
       "    </tr>\n",
       "    <tr>\n",
       "      <th>17</th>\n",
       "      <td>0.091207</td>\n",
       "      <td>0.009463</td>\n",
       "      <td>0.853333</td>\n",
       "      <td>0.932000</td>\n",
       "      <td>0.749575</td>\n",
       "      <td>0.882582</td>\n",
       "      <td>0.736592</td>\n",
       "      <td>0.863398</td>\n",
       "      <td>0.764492</td>\n",
       "      <td>0.902733</td>\n",
       "      <td>0.775661</td>\n",
       "      <td>0.916744</td>\n",
       "      <td>0.728889</td>\n",
       "      <td>0.851111</td>\n",
       "      <td>0.817778</td>\n",
       "      <td>0.908889</td>\n",
       "      <td>0.646420</td>\n",
       "      <td>0.825393</td>\n",
       "      <td>5.286402</td>\n",
       "      <td>2.450968</td>\n",
       "    </tr>\n",
       "    <tr>\n",
       "      <th>18</th>\n",
       "      <td>0.041382</td>\n",
       "      <td>0.007158</td>\n",
       "      <td>0.850667</td>\n",
       "      <td>0.959333</td>\n",
       "      <td>0.761163</td>\n",
       "      <td>0.932962</td>\n",
       "      <td>0.775655</td>\n",
       "      <td>0.941100</td>\n",
       "      <td>0.748714</td>\n",
       "      <td>0.925066</td>\n",
       "      <td>0.741378</td>\n",
       "      <td>0.919933</td>\n",
       "      <td>0.786667</td>\n",
       "      <td>0.946667</td>\n",
       "      <td>0.832381</td>\n",
       "      <td>0.955714</td>\n",
       "      <td>0.646292</td>\n",
       "      <td>0.887074</td>\n",
       "      <td>5.382519</td>\n",
       "      <td>1.465775</td>\n",
       "    </tr>\n",
       "    <tr>\n",
       "      <th>19</th>\n",
       "      <td>0.035717</td>\n",
       "      <td>0.008679</td>\n",
       "      <td>0.846667</td>\n",
       "      <td>0.969333</td>\n",
       "      <td>0.750319</td>\n",
       "      <td>0.949481</td>\n",
       "      <td>0.758507</td>\n",
       "      <td>0.958323</td>\n",
       "      <td>0.742921</td>\n",
       "      <td>0.941028</td>\n",
       "      <td>0.738394</td>\n",
       "      <td>0.935596</td>\n",
       "      <td>0.764444</td>\n",
       "      <td>0.964444</td>\n",
       "      <td>0.823175</td>\n",
       "      <td>0.967937</td>\n",
       "      <td>0.635227</td>\n",
       "      <td>0.913311</td>\n",
       "      <td>5.526694</td>\n",
       "      <td>1.105339</td>\n",
       "    </tr>\n",
       "  </tbody>\n",
       "</table>\n",
       "</div>"
      ],
      "text/plain": [
       "    mean_fit_time  mean_score_time  mean_test_accuracy  mean_train_accuracy   \n",
       "0        0.056150         0.007573            0.872000             0.898667  \\\n",
       "1        0.056745         0.007441            0.853333             0.890000   \n",
       "2        0.036213         0.007128            0.854667             0.962000   \n",
       "3        0.050040         0.008668            0.858667             0.972667   \n",
       "4        0.049051         0.007154            0.877333             0.901333   \n",
       "5        0.049275         0.007789            0.873333             0.893333   \n",
       "6        0.061328         0.007356            0.849333             0.952000   \n",
       "7        0.098233         0.007928            0.864000             0.912000   \n",
       "8        0.091230         0.007350            0.850667             0.907333   \n",
       "9        0.093807         0.007951            0.856000             0.908667   \n",
       "10       0.028505         0.008759            0.854667             0.962000   \n",
       "11       0.046015         0.007261            0.860000             0.910667   \n",
       "12       0.044730         0.007183            0.880000             0.898667   \n",
       "13       0.048884         0.007180            0.874667             0.892000   \n",
       "14       0.034852         0.007182            0.854667             0.969333   \n",
       "15       0.051511         0.007249            0.858667             0.970000   \n",
       "16       0.028449         0.007010            0.849333             0.942667   \n",
       "17       0.091207         0.009463            0.853333             0.932000   \n",
       "18       0.041382         0.007158            0.850667             0.959333   \n",
       "19       0.035717         0.008679            0.846667             0.969333   \n",
       "\n",
       "    mean_test_f1  mean_train_f1  mean_test_f2  mean_train_f2  mean_test_f0.5   \n",
       "0       0.763029       0.816835      0.716586       0.777501        0.816633  \\\n",
       "1       0.752687       0.811328      0.746183       0.797660        0.759911   \n",
       "2       0.761513       0.935778      0.765617       0.932754        0.758315   \n",
       "3       0.769966       0.954595      0.777039       0.955164        0.763665   \n",
       "4       0.782638       0.824220      0.755028       0.791497        0.812580   \n",
       "5       0.768435       0.805765      0.727098       0.763544        0.815614   \n",
       "6       0.753345       0.919734      0.756919       0.919830        0.750918   \n",
       "7       0.768807       0.846446      0.757775       0.824794        0.781183   \n",
       "8       0.747869       0.839579      0.741615       0.820872        0.754768   \n",
       "9       0.755139       0.840684      0.744405       0.819757        0.766891   \n",
       "10      0.765042       0.937110      0.774745       0.942770        0.756929   \n",
       "11      0.760222       0.842207      0.746309       0.814840        0.775589   \n",
       "12      0.782952       0.819330      0.746634       0.786872        0.823517   \n",
       "13      0.778042       0.807543      0.750554       0.775519        0.807742   \n",
       "14      0.760575       0.948899      0.762420       0.948873        0.760054   \n",
       "15      0.765628       0.950477      0.764620       0.953490        0.767523   \n",
       "16      0.747359       0.901928      0.741216       0.888625        0.754703   \n",
       "17      0.749575       0.882582      0.736592       0.863398        0.764492   \n",
       "18      0.761163       0.932962      0.775655       0.941100        0.748714   \n",
       "19      0.750319       0.949481      0.758507       0.958323        0.742921   \n",
       "\n",
       "    mean_train_f0.5  mean_test_precision  mean_train_precision   \n",
       "0          0.860403             0.857277              0.892155  \\\n",
       "1          0.825654             0.765155              0.835597   \n",
       "2          0.939490             0.756657              0.942360   \n",
       "3          0.954050             0.759858              0.953699   \n",
       "4          0.859825             0.833997              0.885359   \n",
       "5          0.852944             0.851042              0.887603   \n",
       "6          0.919826             0.749885              0.919992   \n",
       "7          0.869584             0.790247              0.885920   \n",
       "8          0.859230             0.759755              0.872893   \n",
       "9          0.863330             0.775331              0.879490   \n",
       "10         0.931665             0.752300              0.928150   \n",
       "11         0.871978             0.786715              0.893338   \n",
       "12         0.854683             0.853330              0.880064   \n",
       "13         0.842352             0.828911              0.867292   \n",
       "14         0.948985             0.760393              0.949076   \n",
       "15         0.947566             0.769282              0.945681   \n",
       "16         0.915692             0.760279              0.925138   \n",
       "17         0.902733             0.775661              0.916744   \n",
       "18         0.925066             0.741378              0.919933   \n",
       "19         0.941028             0.738394              0.935596   \n",
       "\n",
       "    mean_test_recall  mean_train_recall  mean_test_roc_auc   \n",
       "0           0.688889           0.753333           0.819683  \\\n",
       "1           0.742222           0.788889           0.821587   \n",
       "2           0.768889           0.931111           0.830159   \n",
       "3           0.782222           0.955556           0.836825   \n",
       "4           0.737778           0.771111           0.837460   \n",
       "5           0.702222           0.737778           0.824444   \n",
       "6           0.760000           0.920000           0.823810   \n",
       "7           0.751111           0.811111           0.831746   \n",
       "8           0.737778           0.808889           0.818413   \n",
       "9           0.737778           0.806667           0.822222   \n",
       "10          0.782222           0.946667           0.833968   \n",
       "11          0.737778           0.797778           0.825079   \n",
       "12          0.724444           0.766667           0.835556   \n",
       "13          0.733333           0.755556           0.834286   \n",
       "14          0.764444           0.948889           0.828889   \n",
       "15          0.764444           0.955556           0.831746   \n",
       "16          0.737778           0.880000           0.817460   \n",
       "17          0.728889           0.851111           0.817778   \n",
       "18          0.786667           0.946667           0.832381   \n",
       "19          0.764444           0.964444           0.823175   \n",
       "\n",
       "    mean_train_roc_auc  mean_test_pr_auc  mean_train_pr_auc   \n",
       "0             0.857143          0.683585           0.746194  \\\n",
       "1             0.861111          0.645784           0.722360   \n",
       "2             0.953175          0.650863           0.898001   \n",
       "3             0.967778          0.660920           0.925441   \n",
       "4             0.864127          0.694251           0.751463   \n",
       "5             0.848889          0.686760           0.733753   \n",
       "6             0.942857          0.641913           0.870484   \n",
       "7             0.883175          0.668251           0.775400   \n",
       "8             0.879206          0.638826           0.763609   \n",
       "9             0.879524          0.650705           0.767124   \n",
       "10            0.957619          0.653038           0.894708   \n",
       "11            0.878413          0.659061           0.773167   \n",
       "12            0.860952          0.701057           0.744894   \n",
       "13            0.853016          0.688136           0.728684   \n",
       "14            0.963492          0.651088           0.916191   \n",
       "15            0.965873          0.659788           0.917391   \n",
       "16            0.924762          0.639385           0.850412   \n",
       "17            0.908889          0.646420           0.825393   \n",
       "18            0.955714          0.646292           0.887074   \n",
       "19            0.967937          0.635227           0.913311   \n",
       "\n",
       "    mean_test_log_loss  mean_train_log_loss  \n",
       "0             4.613588             3.652424  \n",
       "1             5.286402             3.964802  \n",
       "2             5.238344             1.369659  \n",
       "3             5.094170             0.985193  \n",
       "4             4.421355             3.556307  \n",
       "5             4.565529             3.844656  \n",
       "6             5.430577             1.730095  \n",
       "7             4.901937             3.171841  \n",
       "8             5.382519             3.340045  \n",
       "9             5.190286             3.291987  \n",
       "10            5.238344             1.369659  \n",
       "11            5.046111             3.219900  \n",
       "12            4.325238             3.652424  \n",
       "13            4.517471             3.892715  \n",
       "14            5.238344             1.105339  \n",
       "15            5.094170             1.081310  \n",
       "16            5.430577             2.066503  \n",
       "17            5.286402             2.450968  \n",
       "18            5.382519             1.465775  \n",
       "19            5.526694             1.105339  "
      ]
     },
     "execution_count": 26,
     "metadata": {},
     "output_type": "execute_result"
    }
   ],
   "source": [
    "search1df.filter(like='mean_',axis=1)"
   ]
  },
  {
   "cell_type": "code",
   "execution_count": 27,
   "id": "09757b22",
   "metadata": {},
   "outputs": [
    {
     "data": {
      "text/plain": [
       "mean_fit_time             0.04473\n",
       "std_fit_time             0.001671\n",
       "mean_score_time          0.007183\n",
       "std_score_time           0.000021\n",
       "param_clf__subsample          0.6\n",
       "                           ...   \n",
       "split0_train_log_loss    4.036889\n",
       "split1_train_log_loss    3.243929\n",
       "split2_train_log_loss    3.676453\n",
       "mean_train_log_loss      3.652424\n",
       "std_train_log_loss        0.32417\n",
       "Name: 12, Length: 113, dtype: object"
      ]
     },
     "execution_count": 27,
     "metadata": {},
     "output_type": "execute_result"
    }
   ],
   "source": [
    "search1df.loc[search1.best_index_]"
   ]
  },
  {
   "cell_type": "code",
   "execution_count": 28,
   "id": "3c692612",
   "metadata": {},
   "outputs": [],
   "source": [
    "search1est = search1.best_estimator_"
   ]
  },
  {
   "cell_type": "code",
   "execution_count": 29,
   "id": "1dd2c0d2",
   "metadata": {},
   "outputs": [],
   "source": [
    "y_pred_train = search1est.predict(X_train)\n",
    "y_pred_test = search1est.predict(X_test)"
   ]
  },
  {
   "cell_type": "code",
   "execution_count": 30,
   "id": "0dd6165c",
   "metadata": {},
   "outputs": [
    {
     "name": "stdout",
     "output_type": "stream",
     "text": [
      "              precision    recall  f1-score   support\n",
      "\n",
      "           0       0.90      0.96      0.93       525\n",
      "           1       0.90      0.76      0.82       225\n",
      "\n",
      "    accuracy                           0.90       750\n",
      "   macro avg       0.90      0.86      0.88       750\n",
      "weighted avg       0.90      0.90      0.90       750\n",
      "\n"
     ]
    }
   ],
   "source": [
    "print(classification_report(y_train,y_pred_train))"
   ]
  },
  {
   "cell_type": "code",
   "execution_count": 31,
   "id": "f6a7bb20",
   "metadata": {},
   "outputs": [
    {
     "name": "stdout",
     "output_type": "stream",
     "text": [
      "              precision    recall  f1-score   support\n",
      "\n",
      "           0       0.90      0.93      0.91       175\n",
      "           1       0.81      0.76      0.79        75\n",
      "\n",
      "    accuracy                           0.88       250\n",
      "   macro avg       0.86      0.84      0.85       250\n",
      "weighted avg       0.87      0.88      0.87       250\n",
      "\n"
     ]
    }
   ],
   "source": [
    "print(classification_report(y_test,y_pred_test))"
   ]
  },
  {
   "cell_type": "markdown",
   "id": "3ee4dbd3",
   "metadata": {},
   "source": [
    "### HalvingRandomSearchCV"
   ]
  },
  {
   "cell_type": "markdown",
   "id": "3c8a8da8",
   "metadata": {},
   "source": [
    "* HalvingRandomSearchCV [documentation](https://scikit-learn.org/stable/modules/generated/sklearn.model_selection.HalvingRandomSearchCV.html#sklearn.model_selection.HalvingRandomSearchCV)\n",
    "* The search strategy starts evaluating all the candidates with a small amount of resources and iteratively selects the best candidates, using more and more resources."
   ]
  },
  {
   "cell_type": "code",
   "execution_count": 32,
   "id": "dc37c402",
   "metadata": {},
   "outputs": [],
   "source": [
    "search2 = HalvingRandomSearchCV(\n",
    "    estimator=model,\n",
    "    n_candidates=200,\n",
    "    param_distributions=params_grid,\n",
    "    scoring=\"accuracy\",\n",
    "    refit=True,\n",
    "    cv=3,\n",
    "    verbose=1,\n",
    "    return_train_score=True,\n",
    "    random_state=SEED,\n",
    ")"
   ]
  },
  {
   "cell_type": "code",
   "execution_count": 33,
   "id": "0c4375fb",
   "metadata": {},
   "outputs": [
    {
     "name": "stdout",
     "output_type": "stream",
     "text": [
      "n_iterations: 4\n",
      "n_required_iterations: 5\n",
      "n_possible_iterations: 4\n",
      "min_resources_: 12\n",
      "max_resources_: 750\n",
      "aggressive_elimination: False\n",
      "factor: 3\n",
      "----------\n",
      "iter: 0\n",
      "n_candidates: 200\n",
      "n_resources: 12\n",
      "Fitting 3 folds for each of 200 candidates, totalling 600 fits\n",
      "----------\n",
      "iter: 1\n",
      "n_candidates: 67\n",
      "n_resources: 36\n",
      "Fitting 3 folds for each of 67 candidates, totalling 201 fits\n",
      "----------\n",
      "iter: 2\n",
      "n_candidates: 23\n",
      "n_resources: 108\n",
      "Fitting 3 folds for each of 23 candidates, totalling 69 fits\n",
      "----------\n",
      "iter: 3\n",
      "n_candidates: 8\n",
      "n_resources: 324\n",
      "Fitting 3 folds for each of 8 candidates, totalling 24 fits\n"
     ]
    },
    {
     "data": {
      "text/html": [
       "<style>#sk-container-id-3 {color: black;background-color: white;}#sk-container-id-3 pre{padding: 0;}#sk-container-id-3 div.sk-toggleable {background-color: white;}#sk-container-id-3 label.sk-toggleable__label {cursor: pointer;display: block;width: 100%;margin-bottom: 0;padding: 0.3em;box-sizing: border-box;text-align: center;}#sk-container-id-3 label.sk-toggleable__label-arrow:before {content: \"▸\";float: left;margin-right: 0.25em;color: #696969;}#sk-container-id-3 label.sk-toggleable__label-arrow:hover:before {color: black;}#sk-container-id-3 div.sk-estimator:hover label.sk-toggleable__label-arrow:before {color: black;}#sk-container-id-3 div.sk-toggleable__content {max-height: 0;max-width: 0;overflow: hidden;text-align: left;background-color: #f0f8ff;}#sk-container-id-3 div.sk-toggleable__content pre {margin: 0.2em;color: black;border-radius: 0.25em;background-color: #f0f8ff;}#sk-container-id-3 input.sk-toggleable__control:checked~div.sk-toggleable__content {max-height: 200px;max-width: 100%;overflow: auto;}#sk-container-id-3 input.sk-toggleable__control:checked~label.sk-toggleable__label-arrow:before {content: \"▾\";}#sk-container-id-3 div.sk-estimator input.sk-toggleable__control:checked~label.sk-toggleable__label {background-color: #d4ebff;}#sk-container-id-3 div.sk-label input.sk-toggleable__control:checked~label.sk-toggleable__label {background-color: #d4ebff;}#sk-container-id-3 input.sk-hidden--visually {border: 0;clip: rect(1px 1px 1px 1px);clip: rect(1px, 1px, 1px, 1px);height: 1px;margin: -1px;overflow: hidden;padding: 0;position: absolute;width: 1px;}#sk-container-id-3 div.sk-estimator {font-family: monospace;background-color: #f0f8ff;border: 1px dotted black;border-radius: 0.25em;box-sizing: border-box;margin-bottom: 0.5em;}#sk-container-id-3 div.sk-estimator:hover {background-color: #d4ebff;}#sk-container-id-3 div.sk-parallel-item::after {content: \"\";width: 100%;border-bottom: 1px solid gray;flex-grow: 1;}#sk-container-id-3 div.sk-label:hover label.sk-toggleable__label {background-color: #d4ebff;}#sk-container-id-3 div.sk-serial::before {content: \"\";position: absolute;border-left: 1px solid gray;box-sizing: border-box;top: 0;bottom: 0;left: 50%;z-index: 0;}#sk-container-id-3 div.sk-serial {display: flex;flex-direction: column;align-items: center;background-color: white;padding-right: 0.2em;padding-left: 0.2em;position: relative;}#sk-container-id-3 div.sk-item {position: relative;z-index: 1;}#sk-container-id-3 div.sk-parallel {display: flex;align-items: stretch;justify-content: center;background-color: white;position: relative;}#sk-container-id-3 div.sk-item::before, #sk-container-id-3 div.sk-parallel-item::before {content: \"\";position: absolute;border-left: 1px solid gray;box-sizing: border-box;top: 0;bottom: 0;left: 50%;z-index: -1;}#sk-container-id-3 div.sk-parallel-item {display: flex;flex-direction: column;z-index: 1;position: relative;background-color: white;}#sk-container-id-3 div.sk-parallel-item:first-child::after {align-self: flex-end;width: 50%;}#sk-container-id-3 div.sk-parallel-item:last-child::after {align-self: flex-start;width: 50%;}#sk-container-id-3 div.sk-parallel-item:only-child::after {width: 0;}#sk-container-id-3 div.sk-dashed-wrapped {border: 1px dashed gray;margin: 0 0.4em 0.5em 0.4em;box-sizing: border-box;padding-bottom: 0.4em;background-color: white;}#sk-container-id-3 div.sk-label label {font-family: monospace;font-weight: bold;display: inline-block;line-height: 1.2em;}#sk-container-id-3 div.sk-label-container {text-align: center;}#sk-container-id-3 div.sk-container {/* jupyter's `normalize.less` sets `[hidden] { display: none; }` but bootstrap.min.css set `[hidden] { display: none !important; }` so we also need the `!important` here to be able to override the default hidden behavior on the sphinx rendered scikit-learn.org. See: https://github.com/scikit-learn/scikit-learn/issues/21755 */display: inline-block !important;position: relative;}#sk-container-id-3 div.sk-text-repr-fallback {display: none;}</style><div id=\"sk-container-id-3\" class=\"sk-top-container\"><div class=\"sk-text-repr-fallback\"><pre>HalvingRandomSearchCV(cv=3,\n",
       "                      estimator=Pipeline(steps=[(&#x27;prp&#x27;,\n",
       "                                                 ColumnTransformer(transformers=[(&#x27;num&#x27;,\n",
       "                                                                                  Pipeline(steps=[(&#x27;numeric&#x27;,\n",
       "                                                                                                   StandardScaler())]),\n",
       "                                                                                  &lt;sklearn.compose._column_transformer.make_column_selector object at 0x15a907bb0&gt;),\n",
       "                                                                                 (&#x27;cat&#x27;,\n",
       "                                                                                  Pipeline(steps=[(&#x27;categorical&#x27;,\n",
       "                                                                                                   CatBoostEncoder())]),\n",
       "                                                                                  &lt;sklearn.compose._column_transformer.make_column_selector object at 0...\n",
       "                      param_distributions={&#x27;clf__colsample_bytree&#x27;: [0.6, 0.8,\n",
       "                                                                     1.0],\n",
       "                                           &#x27;clf__gamma&#x27;: [0, 0.3, 0.5],\n",
       "                                           &#x27;clf__learning_rate&#x27;: [0.01, 0.1,\n",
       "                                                                  0.5],\n",
       "                                           &#x27;clf__max_depth&#x27;: [3, 5, 7],\n",
       "                                           &#x27;clf__min_child_weight&#x27;: [1, 3, 5],\n",
       "                                           &#x27;clf__n_estimators&#x27;: [100, 150, 200],\n",
       "                                           &#x27;clf__reg_alpha&#x27;: [0.1, 0.25, 0.75],\n",
       "                                           &#x27;clf__reg_lambda&#x27;: [0.1, 0.25, 0.75],\n",
       "                                           &#x27;clf__subsample&#x27;: [0.6, 0.8, 1.0]},\n",
       "                      random_state=1990, scoring=&#x27;accuracy&#x27;, verbose=1)</pre><b>In a Jupyter environment, please rerun this cell to show the HTML representation or trust the notebook. <br />On GitHub, the HTML representation is unable to render, please try loading this page with nbviewer.org.</b></div><div class=\"sk-container\" hidden><div class=\"sk-item sk-dashed-wrapped\"><div class=\"sk-label-container\"><div class=\"sk-label sk-toggleable\"><input class=\"sk-toggleable__control sk-hidden--visually\" id=\"sk-estimator-id-16\" type=\"checkbox\" ><label for=\"sk-estimator-id-16\" class=\"sk-toggleable__label sk-toggleable__label-arrow\">HalvingRandomSearchCV</label><div class=\"sk-toggleable__content\"><pre>HalvingRandomSearchCV(cv=3,\n",
       "                      estimator=Pipeline(steps=[(&#x27;prp&#x27;,\n",
       "                                                 ColumnTransformer(transformers=[(&#x27;num&#x27;,\n",
       "                                                                                  Pipeline(steps=[(&#x27;numeric&#x27;,\n",
       "                                                                                                   StandardScaler())]),\n",
       "                                                                                  &lt;sklearn.compose._column_transformer.make_column_selector object at 0x15a907bb0&gt;),\n",
       "                                                                                 (&#x27;cat&#x27;,\n",
       "                                                                                  Pipeline(steps=[(&#x27;categorical&#x27;,\n",
       "                                                                                                   CatBoostEncoder())]),\n",
       "                                                                                  &lt;sklearn.compose._column_transformer.make_column_selector object at 0...\n",
       "                      param_distributions={&#x27;clf__colsample_bytree&#x27;: [0.6, 0.8,\n",
       "                                                                     1.0],\n",
       "                                           &#x27;clf__gamma&#x27;: [0, 0.3, 0.5],\n",
       "                                           &#x27;clf__learning_rate&#x27;: [0.01, 0.1,\n",
       "                                                                  0.5],\n",
       "                                           &#x27;clf__max_depth&#x27;: [3, 5, 7],\n",
       "                                           &#x27;clf__min_child_weight&#x27;: [1, 3, 5],\n",
       "                                           &#x27;clf__n_estimators&#x27;: [100, 150, 200],\n",
       "                                           &#x27;clf__reg_alpha&#x27;: [0.1, 0.25, 0.75],\n",
       "                                           &#x27;clf__reg_lambda&#x27;: [0.1, 0.25, 0.75],\n",
       "                                           &#x27;clf__subsample&#x27;: [0.6, 0.8, 1.0]},\n",
       "                      random_state=1990, scoring=&#x27;accuracy&#x27;, verbose=1)</pre></div></div></div><div class=\"sk-parallel\"><div class=\"sk-parallel-item\"><div class=\"sk-item\"><div class=\"sk-label-container\"><div class=\"sk-label sk-toggleable\"><input class=\"sk-toggleable__control sk-hidden--visually\" id=\"sk-estimator-id-17\" type=\"checkbox\" ><label for=\"sk-estimator-id-17\" class=\"sk-toggleable__label sk-toggleable__label-arrow\">estimator: Pipeline</label><div class=\"sk-toggleable__content\"><pre>Pipeline(steps=[(&#x27;prp&#x27;,\n",
       "                 ColumnTransformer(transformers=[(&#x27;num&#x27;,\n",
       "                                                  Pipeline(steps=[(&#x27;numeric&#x27;,\n",
       "                                                                   StandardScaler())]),\n",
       "                                                  &lt;sklearn.compose._column_transformer.make_column_selector object at 0x15a907bb0&gt;),\n",
       "                                                 (&#x27;cat&#x27;,\n",
       "                                                  Pipeline(steps=[(&#x27;categorical&#x27;,\n",
       "                                                                   CatBoostEncoder())]),\n",
       "                                                  &lt;sklearn.compose._column_transformer.make_column_selector object at 0x15a907c10&gt;)])),\n",
       "                (&#x27;clf&#x27;,\n",
       "                 XGBClassifier(...\n",
       "                               feature_types=None, gamma=None, gpu_id=None,\n",
       "                               grow_policy=None, importance_type=None,\n",
       "                               interaction_constraints=None, learning_rate=None,\n",
       "                               max_bin=None, max_cat_threshold=None,\n",
       "                               max_cat_to_onehot=None, max_delta_step=None,\n",
       "                               max_depth=None, max_leaves=None,\n",
       "                               min_child_weight=None, missing=nan,\n",
       "                               monotone_constraints=None, n_estimators=100,\n",
       "                               n_jobs=None, num_parallel_tree=None,\n",
       "                               predictor=None, random_state=None, ...))])</pre></div></div></div><div class=\"sk-serial\"><div class=\"sk-item\"><div class=\"sk-serial\"><div class=\"sk-item sk-dashed-wrapped\"><div class=\"sk-label-container\"><div class=\"sk-label sk-toggleable\"><input class=\"sk-toggleable__control sk-hidden--visually\" id=\"sk-estimator-id-18\" type=\"checkbox\" ><label for=\"sk-estimator-id-18\" class=\"sk-toggleable__label sk-toggleable__label-arrow\">prp: ColumnTransformer</label><div class=\"sk-toggleable__content\"><pre>ColumnTransformer(transformers=[(&#x27;num&#x27;,\n",
       "                                 Pipeline(steps=[(&#x27;numeric&#x27;,\n",
       "                                                  StandardScaler())]),\n",
       "                                 &lt;sklearn.compose._column_transformer.make_column_selector object at 0x15a907bb0&gt;),\n",
       "                                (&#x27;cat&#x27;,\n",
       "                                 Pipeline(steps=[(&#x27;categorical&#x27;,\n",
       "                                                  CatBoostEncoder())]),\n",
       "                                 &lt;sklearn.compose._column_transformer.make_column_selector object at 0x15a907c10&gt;)])</pre></div></div></div><div class=\"sk-parallel\"><div class=\"sk-parallel-item\"><div class=\"sk-item\"><div class=\"sk-label-container\"><div class=\"sk-label sk-toggleable\"><input class=\"sk-toggleable__control sk-hidden--visually\" id=\"sk-estimator-id-19\" type=\"checkbox\" ><label for=\"sk-estimator-id-19\" class=\"sk-toggleable__label sk-toggleable__label-arrow\">num</label><div class=\"sk-toggleable__content\"><pre>&lt;sklearn.compose._column_transformer.make_column_selector object at 0x15a907bb0&gt;</pre></div></div></div><div class=\"sk-serial\"><div class=\"sk-item\"><div class=\"sk-serial\"><div class=\"sk-item\"><div class=\"sk-estimator sk-toggleable\"><input class=\"sk-toggleable__control sk-hidden--visually\" id=\"sk-estimator-id-20\" type=\"checkbox\" ><label for=\"sk-estimator-id-20\" class=\"sk-toggleable__label sk-toggleable__label-arrow\">StandardScaler</label><div class=\"sk-toggleable__content\"><pre>StandardScaler()</pre></div></div></div></div></div></div></div></div><div class=\"sk-parallel-item\"><div class=\"sk-item\"><div class=\"sk-label-container\"><div class=\"sk-label sk-toggleable\"><input class=\"sk-toggleable__control sk-hidden--visually\" id=\"sk-estimator-id-21\" type=\"checkbox\" ><label for=\"sk-estimator-id-21\" class=\"sk-toggleable__label sk-toggleable__label-arrow\">cat</label><div class=\"sk-toggleable__content\"><pre>&lt;sklearn.compose._column_transformer.make_column_selector object at 0x15a907c10&gt;</pre></div></div></div><div class=\"sk-serial\"><div class=\"sk-item\"><div class=\"sk-serial\"><div class=\"sk-item\"><div class=\"sk-estimator sk-toggleable\"><input class=\"sk-toggleable__control sk-hidden--visually\" id=\"sk-estimator-id-22\" type=\"checkbox\" ><label for=\"sk-estimator-id-22\" class=\"sk-toggleable__label sk-toggleable__label-arrow\">CatBoostEncoder</label><div class=\"sk-toggleable__content\"><pre>CatBoostEncoder()</pre></div></div></div></div></div></div></div></div></div></div><div class=\"sk-item\"><div class=\"sk-estimator sk-toggleable\"><input class=\"sk-toggleable__control sk-hidden--visually\" id=\"sk-estimator-id-23\" type=\"checkbox\" ><label for=\"sk-estimator-id-23\" class=\"sk-toggleable__label sk-toggleable__label-arrow\">XGBClassifier</label><div class=\"sk-toggleable__content\"><pre>XGBClassifier(base_score=None, booster=None, callbacks=None,\n",
       "              colsample_bylevel=None, colsample_bynode=None,\n",
       "              colsample_bytree=None, early_stopping_rounds=None,\n",
       "              enable_categorical=False, eval_metric=None, feature_types=None,\n",
       "              gamma=None, gpu_id=None, grow_policy=None, importance_type=None,\n",
       "              interaction_constraints=None, learning_rate=None, max_bin=None,\n",
       "              max_cat_threshold=None, max_cat_to_onehot=None,\n",
       "              max_delta_step=None, max_depth=None, max_leaves=None,\n",
       "              min_child_weight=None, missing=nan, monotone_constraints=None,\n",
       "              n_estimators=100, n_jobs=None, num_parallel_tree=None,\n",
       "              predictor=None, random_state=None, ...)</pre></div></div></div></div></div></div></div></div></div></div></div></div>"
      ],
      "text/plain": [
       "HalvingRandomSearchCV(cv=3,\n",
       "                      estimator=Pipeline(steps=[('prp',\n",
       "                                                 ColumnTransformer(transformers=[('num',\n",
       "                                                                                  Pipeline(steps=[('numeric',\n",
       "                                                                                                   StandardScaler())]),\n",
       "                                                                                  <sklearn.compose._column_transformer.make_column_selector object at 0x15a907bb0>),\n",
       "                                                                                 ('cat',\n",
       "                                                                                  Pipeline(steps=[('categorical',\n",
       "                                                                                                   CatBoostEncoder())]),\n",
       "                                                                                  <sklearn.compose._column_transformer.make_column_selector object at 0...\n",
       "                      param_distributions={'clf__colsample_bytree': [0.6, 0.8,\n",
       "                                                                     1.0],\n",
       "                                           'clf__gamma': [0, 0.3, 0.5],\n",
       "                                           'clf__learning_rate': [0.01, 0.1,\n",
       "                                                                  0.5],\n",
       "                                           'clf__max_depth': [3, 5, 7],\n",
       "                                           'clf__min_child_weight': [1, 3, 5],\n",
       "                                           'clf__n_estimators': [100, 150, 200],\n",
       "                                           'clf__reg_alpha': [0.1, 0.25, 0.75],\n",
       "                                           'clf__reg_lambda': [0.1, 0.25, 0.75],\n",
       "                                           'clf__subsample': [0.6, 0.8, 1.0]},\n",
       "                      random_state=1990, scoring='accuracy', verbose=1)"
      ]
     },
     "execution_count": 33,
     "metadata": {},
     "output_type": "execute_result"
    }
   ],
   "source": [
    "search2.fit(X_train,y_train)"
   ]
  },
  {
   "cell_type": "code",
   "execution_count": 34,
   "id": "00b87405",
   "metadata": {},
   "outputs": [
    {
     "data": {
      "text/plain": [
       "['aggressive_elimination',\n",
       " 'best_estimator_',\n",
       " 'best_index_',\n",
       " 'best_params_',\n",
       " 'best_score_',\n",
       " 'classes_',\n",
       " 'cv',\n",
       " 'cv_results_',\n",
       " 'decision_function',\n",
       " 'error_score',\n",
       " 'estimator',\n",
       " 'factor',\n",
       " 'feature_names_in_',\n",
       " 'fit',\n",
       " 'get_params',\n",
       " 'inverse_transform',\n",
       " 'max_resources',\n",
       " 'max_resources_',\n",
       " 'min_resources',\n",
       " 'min_resources_',\n",
       " 'multimetric_',\n",
       " 'n_candidates',\n",
       " 'n_candidates_',\n",
       " 'n_features_in_',\n",
       " 'n_iterations_',\n",
       " 'n_jobs',\n",
       " 'n_possible_iterations_',\n",
       " 'n_remaining_candidates_',\n",
       " 'n_required_iterations_',\n",
       " 'n_resources_',\n",
       " 'n_splits_',\n",
       " 'param_distributions',\n",
       " 'pre_dispatch',\n",
       " 'predict',\n",
       " 'predict_log_proba',\n",
       " 'predict_proba',\n",
       " 'random_state',\n",
       " 'refit',\n",
       " 'refit_time_',\n",
       " 'resource',\n",
       " 'return_train_score',\n",
       " 'score',\n",
       " 'score_samples',\n",
       " 'scorer_',\n",
       " 'scoring',\n",
       " 'set_params',\n",
       " 'transform',\n",
       " 'verbose']"
      ]
     },
     "execution_count": 34,
     "metadata": {},
     "output_type": "execute_result"
    }
   ],
   "source": [
    "[x for x in dir(search2) if not x.startswith('_')]"
   ]
  },
  {
   "cell_type": "code",
   "execution_count": 35,
   "id": "82903edb",
   "metadata": {},
   "outputs": [
    {
     "data": {
      "text/plain": [
       "0.8672839506172839"
      ]
     },
     "execution_count": 35,
     "metadata": {},
     "output_type": "execute_result"
    }
   ],
   "source": [
    "search2.best_score_"
   ]
  },
  {
   "cell_type": "code",
   "execution_count": 36,
   "id": "49e26005",
   "metadata": {},
   "outputs": [
    {
     "data": {
      "text/plain": [
       "{'clf__subsample': 1.0,\n",
       " 'clf__reg_lambda': 0.25,\n",
       " 'clf__reg_alpha': 0.75,\n",
       " 'clf__n_estimators': 200,\n",
       " 'clf__min_child_weight': 1,\n",
       " 'clf__max_depth': 3,\n",
       " 'clf__learning_rate': 0.1,\n",
       " 'clf__gamma': 0,\n",
       " 'clf__colsample_bytree': 0.8}"
      ]
     },
     "execution_count": 36,
     "metadata": {},
     "output_type": "execute_result"
    }
   ],
   "source": [
    "search2.best_params_"
   ]
  },
  {
   "cell_type": "code",
   "execution_count": 52,
   "id": "b834d889",
   "metadata": {},
   "outputs": [
    {
     "data": {
      "text/html": [
       "<div>\n",
       "<style scoped>\n",
       "    .dataframe tbody tr th:only-of-type {\n",
       "        vertical-align: middle;\n",
       "    }\n",
       "\n",
       "    .dataframe tbody tr th {\n",
       "        vertical-align: top;\n",
       "    }\n",
       "\n",
       "    .dataframe thead th {\n",
       "        text-align: right;\n",
       "    }\n",
       "</style>\n",
       "<table border=\"1\" class=\"dataframe\">\n",
       "  <thead>\n",
       "    <tr style=\"text-align: right;\">\n",
       "      <th></th>\n",
       "      <th>iter</th>\n",
       "      <th>n_resources</th>\n",
       "      <th>mean_fit_time</th>\n",
       "      <th>std_fit_time</th>\n",
       "      <th>mean_score_time</th>\n",
       "      <th>std_score_time</th>\n",
       "      <th>param_clf__subsample</th>\n",
       "      <th>param_clf__reg_lambda</th>\n",
       "      <th>param_clf__reg_alpha</th>\n",
       "      <th>param_clf__n_estimators</th>\n",
       "      <th>...</th>\n",
       "      <th>split1_test_score</th>\n",
       "      <th>split2_test_score</th>\n",
       "      <th>mean_test_score</th>\n",
       "      <th>std_test_score</th>\n",
       "      <th>rank_test_score</th>\n",
       "      <th>split0_train_score</th>\n",
       "      <th>split1_train_score</th>\n",
       "      <th>split2_train_score</th>\n",
       "      <th>mean_train_score</th>\n",
       "      <th>std_train_score</th>\n",
       "    </tr>\n",
       "  </thead>\n",
       "  <tbody>\n",
       "    <tr>\n",
       "      <th>0</th>\n",
       "      <td>0</td>\n",
       "      <td>12</td>\n",
       "      <td>0.022312</td>\n",
       "      <td>0.008552</td>\n",
       "      <td>0.004097</td>\n",
       "      <td>0.001353</td>\n",
       "      <td>0.6</td>\n",
       "      <td>0.75</td>\n",
       "      <td>0.75</td>\n",
       "      <td>100</td>\n",
       "      <td>...</td>\n",
       "      <td>0.750000</td>\n",
       "      <td>0.250000</td>\n",
       "      <td>0.583333</td>\n",
       "      <td>0.235702</td>\n",
       "      <td>99</td>\n",
       "      <td>0.750000</td>\n",
       "      <td>0.750000</td>\n",
       "      <td>0.750000</td>\n",
       "      <td>0.750000</td>\n",
       "      <td>0.000000</td>\n",
       "    </tr>\n",
       "    <tr>\n",
       "      <th>1</th>\n",
       "      <td>0</td>\n",
       "      <td>12</td>\n",
       "      <td>0.015013</td>\n",
       "      <td>0.001349</td>\n",
       "      <td>0.003004</td>\n",
       "      <td>0.000062</td>\n",
       "      <td>1.0</td>\n",
       "      <td>0.75</td>\n",
       "      <td>0.1</td>\n",
       "      <td>150</td>\n",
       "      <td>...</td>\n",
       "      <td>0.750000</td>\n",
       "      <td>0.250000</td>\n",
       "      <td>0.583333</td>\n",
       "      <td>0.235702</td>\n",
       "      <td>99</td>\n",
       "      <td>0.750000</td>\n",
       "      <td>0.750000</td>\n",
       "      <td>0.750000</td>\n",
       "      <td>0.750000</td>\n",
       "      <td>0.000000</td>\n",
       "    </tr>\n",
       "    <tr>\n",
       "      <th>2</th>\n",
       "      <td>0</td>\n",
       "      <td>12</td>\n",
       "      <td>0.020123</td>\n",
       "      <td>0.007958</td>\n",
       "      <td>0.003083</td>\n",
       "      <td>0.000192</td>\n",
       "      <td>1.0</td>\n",
       "      <td>0.1</td>\n",
       "      <td>0.1</td>\n",
       "      <td>150</td>\n",
       "      <td>...</td>\n",
       "      <td>0.750000</td>\n",
       "      <td>0.250000</td>\n",
       "      <td>0.583333</td>\n",
       "      <td>0.235702</td>\n",
       "      <td>99</td>\n",
       "      <td>0.750000</td>\n",
       "      <td>0.750000</td>\n",
       "      <td>0.750000</td>\n",
       "      <td>0.750000</td>\n",
       "      <td>0.000000</td>\n",
       "    </tr>\n",
       "    <tr>\n",
       "      <th>3</th>\n",
       "      <td>0</td>\n",
       "      <td>12</td>\n",
       "      <td>0.012448</td>\n",
       "      <td>0.000723</td>\n",
       "      <td>0.002981</td>\n",
       "      <td>0.000018</td>\n",
       "      <td>0.8</td>\n",
       "      <td>0.1</td>\n",
       "      <td>0.75</td>\n",
       "      <td>100</td>\n",
       "      <td>...</td>\n",
       "      <td>0.750000</td>\n",
       "      <td>0.250000</td>\n",
       "      <td>0.583333</td>\n",
       "      <td>0.235702</td>\n",
       "      <td>99</td>\n",
       "      <td>0.750000</td>\n",
       "      <td>0.750000</td>\n",
       "      <td>0.750000</td>\n",
       "      <td>0.750000</td>\n",
       "      <td>0.000000</td>\n",
       "    </tr>\n",
       "    <tr>\n",
       "      <th>4</th>\n",
       "      <td>0</td>\n",
       "      <td>12</td>\n",
       "      <td>0.018500</td>\n",
       "      <td>0.000980</td>\n",
       "      <td>0.002979</td>\n",
       "      <td>0.000018</td>\n",
       "      <td>1.0</td>\n",
       "      <td>0.75</td>\n",
       "      <td>0.75</td>\n",
       "      <td>200</td>\n",
       "      <td>...</td>\n",
       "      <td>0.750000</td>\n",
       "      <td>0.250000</td>\n",
       "      <td>0.583333</td>\n",
       "      <td>0.235702</td>\n",
       "      <td>99</td>\n",
       "      <td>0.750000</td>\n",
       "      <td>0.750000</td>\n",
       "      <td>0.750000</td>\n",
       "      <td>0.750000</td>\n",
       "      <td>0.000000</td>\n",
       "    </tr>\n",
       "    <tr>\n",
       "      <th>...</th>\n",
       "      <td>...</td>\n",
       "      <td>...</td>\n",
       "      <td>...</td>\n",
       "      <td>...</td>\n",
       "      <td>...</td>\n",
       "      <td>...</td>\n",
       "      <td>...</td>\n",
       "      <td>...</td>\n",
       "      <td>...</td>\n",
       "      <td>...</td>\n",
       "      <td>...</td>\n",
       "      <td>...</td>\n",
       "      <td>...</td>\n",
       "      <td>...</td>\n",
       "      <td>...</td>\n",
       "      <td>...</td>\n",
       "      <td>...</td>\n",
       "      <td>...</td>\n",
       "      <td>...</td>\n",
       "      <td>...</td>\n",
       "      <td>...</td>\n",
       "    </tr>\n",
       "    <tr>\n",
       "      <th>293</th>\n",
       "      <td>3</td>\n",
       "      <td>324</td>\n",
       "      <td>0.036423</td>\n",
       "      <td>0.003530</td>\n",
       "      <td>0.003159</td>\n",
       "      <td>0.000026</td>\n",
       "      <td>1.0</td>\n",
       "      <td>0.25</td>\n",
       "      <td>0.75</td>\n",
       "      <td>200</td>\n",
       "      <td>...</td>\n",
       "      <td>0.805556</td>\n",
       "      <td>0.870370</td>\n",
       "      <td>0.867284</td>\n",
       "      <td>0.049189</td>\n",
       "      <td>1</td>\n",
       "      <td>0.953704</td>\n",
       "      <td>0.981481</td>\n",
       "      <td>0.972222</td>\n",
       "      <td>0.969136</td>\n",
       "      <td>0.011548</td>\n",
       "    </tr>\n",
       "    <tr>\n",
       "      <th>294</th>\n",
       "      <td>3</td>\n",
       "      <td>324</td>\n",
       "      <td>0.034153</td>\n",
       "      <td>0.002307</td>\n",
       "      <td>0.003136</td>\n",
       "      <td>0.000060</td>\n",
       "      <td>0.6</td>\n",
       "      <td>0.1</td>\n",
       "      <td>0.1</td>\n",
       "      <td>200</td>\n",
       "      <td>...</td>\n",
       "      <td>0.768519</td>\n",
       "      <td>0.805556</td>\n",
       "      <td>0.817901</td>\n",
       "      <td>0.046193</td>\n",
       "      <td>8</td>\n",
       "      <td>0.907407</td>\n",
       "      <td>0.898148</td>\n",
       "      <td>0.875000</td>\n",
       "      <td>0.893519</td>\n",
       "      <td>0.013629</td>\n",
       "    </tr>\n",
       "    <tr>\n",
       "      <th>295</th>\n",
       "      <td>3</td>\n",
       "      <td>324</td>\n",
       "      <td>0.030263</td>\n",
       "      <td>0.000187</td>\n",
       "      <td>0.003340</td>\n",
       "      <td>0.000388</td>\n",
       "      <td>0.6</td>\n",
       "      <td>0.25</td>\n",
       "      <td>0.1</td>\n",
       "      <td>200</td>\n",
       "      <td>...</td>\n",
       "      <td>0.787037</td>\n",
       "      <td>0.824074</td>\n",
       "      <td>0.833333</td>\n",
       "      <td>0.042093</td>\n",
       "      <td>7</td>\n",
       "      <td>0.944444</td>\n",
       "      <td>0.930556</td>\n",
       "      <td>0.953704</td>\n",
       "      <td>0.942901</td>\n",
       "      <td>0.009513</td>\n",
       "    </tr>\n",
       "    <tr>\n",
       "      <th>296</th>\n",
       "      <td>3</td>\n",
       "      <td>324</td>\n",
       "      <td>0.049691</td>\n",
       "      <td>0.002705</td>\n",
       "      <td>0.003306</td>\n",
       "      <td>0.000038</td>\n",
       "      <td>0.8</td>\n",
       "      <td>0.75</td>\n",
       "      <td>0.1</td>\n",
       "      <td>200</td>\n",
       "      <td>...</td>\n",
       "      <td>0.824074</td>\n",
       "      <td>0.833333</td>\n",
       "      <td>0.854938</td>\n",
       "      <td>0.037293</td>\n",
       "      <td>4</td>\n",
       "      <td>0.935185</td>\n",
       "      <td>0.953704</td>\n",
       "      <td>0.935185</td>\n",
       "      <td>0.941358</td>\n",
       "      <td>0.008730</td>\n",
       "    </tr>\n",
       "    <tr>\n",
       "      <th>297</th>\n",
       "      <td>3</td>\n",
       "      <td>324</td>\n",
       "      <td>0.031096</td>\n",
       "      <td>0.000984</td>\n",
       "      <td>0.003177</td>\n",
       "      <td>0.000064</td>\n",
       "      <td>0.8</td>\n",
       "      <td>0.75</td>\n",
       "      <td>0.1</td>\n",
       "      <td>100</td>\n",
       "      <td>...</td>\n",
       "      <td>0.805556</td>\n",
       "      <td>0.861111</td>\n",
       "      <td>0.864198</td>\n",
       "      <td>0.049189</td>\n",
       "      <td>2</td>\n",
       "      <td>0.958333</td>\n",
       "      <td>0.981481</td>\n",
       "      <td>0.972222</td>\n",
       "      <td>0.970679</td>\n",
       "      <td>0.009513</td>\n",
       "    </tr>\n",
       "  </tbody>\n",
       "</table>\n",
       "<p>298 rows × 27 columns</p>\n",
       "</div>"
      ],
      "text/plain": [
       "     iter  n_resources  mean_fit_time  std_fit_time  mean_score_time   \n",
       "0       0           12       0.022312      0.008552         0.004097  \\\n",
       "1       0           12       0.015013      0.001349         0.003004   \n",
       "2       0           12       0.020123      0.007958         0.003083   \n",
       "3       0           12       0.012448      0.000723         0.002981   \n",
       "4       0           12       0.018500      0.000980         0.002979   \n",
       "..    ...          ...            ...           ...              ...   \n",
       "293     3          324       0.036423      0.003530         0.003159   \n",
       "294     3          324       0.034153      0.002307         0.003136   \n",
       "295     3          324       0.030263      0.000187         0.003340   \n",
       "296     3          324       0.049691      0.002705         0.003306   \n",
       "297     3          324       0.031096      0.000984         0.003177   \n",
       "\n",
       "     std_score_time param_clf__subsample param_clf__reg_lambda   \n",
       "0          0.001353                  0.6                  0.75  \\\n",
       "1          0.000062                  1.0                  0.75   \n",
       "2          0.000192                  1.0                   0.1   \n",
       "3          0.000018                  0.8                   0.1   \n",
       "4          0.000018                  1.0                  0.75   \n",
       "..              ...                  ...                   ...   \n",
       "293        0.000026                  1.0                  0.25   \n",
       "294        0.000060                  0.6                   0.1   \n",
       "295        0.000388                  0.6                  0.25   \n",
       "296        0.000038                  0.8                  0.75   \n",
       "297        0.000064                  0.8                  0.75   \n",
       "\n",
       "    param_clf__reg_alpha param_clf__n_estimators  ... split1_test_score   \n",
       "0                   0.75                     100  ...          0.750000  \\\n",
       "1                    0.1                     150  ...          0.750000   \n",
       "2                    0.1                     150  ...          0.750000   \n",
       "3                   0.75                     100  ...          0.750000   \n",
       "4                   0.75                     200  ...          0.750000   \n",
       "..                   ...                     ...  ...               ...   \n",
       "293                 0.75                     200  ...          0.805556   \n",
       "294                  0.1                     200  ...          0.768519   \n",
       "295                  0.1                     200  ...          0.787037   \n",
       "296                  0.1                     200  ...          0.824074   \n",
       "297                  0.1                     100  ...          0.805556   \n",
       "\n",
       "    split2_test_score mean_test_score std_test_score rank_test_score   \n",
       "0            0.250000        0.583333       0.235702              99  \\\n",
       "1            0.250000        0.583333       0.235702              99   \n",
       "2            0.250000        0.583333       0.235702              99   \n",
       "3            0.250000        0.583333       0.235702              99   \n",
       "4            0.250000        0.583333       0.235702              99   \n",
       "..                ...             ...            ...             ...   \n",
       "293          0.870370        0.867284       0.049189               1   \n",
       "294          0.805556        0.817901       0.046193               8   \n",
       "295          0.824074        0.833333       0.042093               7   \n",
       "296          0.833333        0.854938       0.037293               4   \n",
       "297          0.861111        0.864198       0.049189               2   \n",
       "\n",
       "    split0_train_score  split1_train_score  split2_train_score   \n",
       "0             0.750000            0.750000            0.750000  \\\n",
       "1             0.750000            0.750000            0.750000   \n",
       "2             0.750000            0.750000            0.750000   \n",
       "3             0.750000            0.750000            0.750000   \n",
       "4             0.750000            0.750000            0.750000   \n",
       "..                 ...                 ...                 ...   \n",
       "293           0.953704            0.981481            0.972222   \n",
       "294           0.907407            0.898148            0.875000   \n",
       "295           0.944444            0.930556            0.953704   \n",
       "296           0.935185            0.953704            0.935185   \n",
       "297           0.958333            0.981481            0.972222   \n",
       "\n",
       "     mean_train_score  std_train_score  \n",
       "0            0.750000         0.000000  \n",
       "1            0.750000         0.000000  \n",
       "2            0.750000         0.000000  \n",
       "3            0.750000         0.000000  \n",
       "4            0.750000         0.000000  \n",
       "..                ...              ...  \n",
       "293          0.969136         0.011548  \n",
       "294          0.893519         0.013629  \n",
       "295          0.942901         0.009513  \n",
       "296          0.941358         0.008730  \n",
       "297          0.970679         0.009513  \n",
       "\n",
       "[298 rows x 27 columns]"
      ]
     },
     "execution_count": 52,
     "metadata": {},
     "output_type": "execute_result"
    }
   ],
   "source": [
    "pd.DataFrame(search2.cv_results_)"
   ]
  },
  {
   "cell_type": "markdown",
   "id": "d52e790b",
   "metadata": {},
   "source": [
    "### Inject Hyperparams to model"
   ]
  },
  {
   "cell_type": "code",
   "execution_count": 46,
   "id": "71930351",
   "metadata": {},
   "outputs": [],
   "source": [
    "cpmodel = clone(model)"
   ]
  },
  {
   "cell_type": "code",
   "execution_count": 47,
   "id": "ab2d0fcd",
   "metadata": {},
   "outputs": [
    {
     "data": {
      "text/html": [
       "<style>#sk-container-id-7 {color: black;background-color: white;}#sk-container-id-7 pre{padding: 0;}#sk-container-id-7 div.sk-toggleable {background-color: white;}#sk-container-id-7 label.sk-toggleable__label {cursor: pointer;display: block;width: 100%;margin-bottom: 0;padding: 0.3em;box-sizing: border-box;text-align: center;}#sk-container-id-7 label.sk-toggleable__label-arrow:before {content: \"▸\";float: left;margin-right: 0.25em;color: #696969;}#sk-container-id-7 label.sk-toggleable__label-arrow:hover:before {color: black;}#sk-container-id-7 div.sk-estimator:hover label.sk-toggleable__label-arrow:before {color: black;}#sk-container-id-7 div.sk-toggleable__content {max-height: 0;max-width: 0;overflow: hidden;text-align: left;background-color: #f0f8ff;}#sk-container-id-7 div.sk-toggleable__content pre {margin: 0.2em;color: black;border-radius: 0.25em;background-color: #f0f8ff;}#sk-container-id-7 input.sk-toggleable__control:checked~div.sk-toggleable__content {max-height: 200px;max-width: 100%;overflow: auto;}#sk-container-id-7 input.sk-toggleable__control:checked~label.sk-toggleable__label-arrow:before {content: \"▾\";}#sk-container-id-7 div.sk-estimator input.sk-toggleable__control:checked~label.sk-toggleable__label {background-color: #d4ebff;}#sk-container-id-7 div.sk-label input.sk-toggleable__control:checked~label.sk-toggleable__label {background-color: #d4ebff;}#sk-container-id-7 input.sk-hidden--visually {border: 0;clip: rect(1px 1px 1px 1px);clip: rect(1px, 1px, 1px, 1px);height: 1px;margin: -1px;overflow: hidden;padding: 0;position: absolute;width: 1px;}#sk-container-id-7 div.sk-estimator {font-family: monospace;background-color: #f0f8ff;border: 1px dotted black;border-radius: 0.25em;box-sizing: border-box;margin-bottom: 0.5em;}#sk-container-id-7 div.sk-estimator:hover {background-color: #d4ebff;}#sk-container-id-7 div.sk-parallel-item::after {content: \"\";width: 100%;border-bottom: 1px solid gray;flex-grow: 1;}#sk-container-id-7 div.sk-label:hover label.sk-toggleable__label {background-color: #d4ebff;}#sk-container-id-7 div.sk-serial::before {content: \"\";position: absolute;border-left: 1px solid gray;box-sizing: border-box;top: 0;bottom: 0;left: 50%;z-index: 0;}#sk-container-id-7 div.sk-serial {display: flex;flex-direction: column;align-items: center;background-color: white;padding-right: 0.2em;padding-left: 0.2em;position: relative;}#sk-container-id-7 div.sk-item {position: relative;z-index: 1;}#sk-container-id-7 div.sk-parallel {display: flex;align-items: stretch;justify-content: center;background-color: white;position: relative;}#sk-container-id-7 div.sk-item::before, #sk-container-id-7 div.sk-parallel-item::before {content: \"\";position: absolute;border-left: 1px solid gray;box-sizing: border-box;top: 0;bottom: 0;left: 50%;z-index: -1;}#sk-container-id-7 div.sk-parallel-item {display: flex;flex-direction: column;z-index: 1;position: relative;background-color: white;}#sk-container-id-7 div.sk-parallel-item:first-child::after {align-self: flex-end;width: 50%;}#sk-container-id-7 div.sk-parallel-item:last-child::after {align-self: flex-start;width: 50%;}#sk-container-id-7 div.sk-parallel-item:only-child::after {width: 0;}#sk-container-id-7 div.sk-dashed-wrapped {border: 1px dashed gray;margin: 0 0.4em 0.5em 0.4em;box-sizing: border-box;padding-bottom: 0.4em;background-color: white;}#sk-container-id-7 div.sk-label label {font-family: monospace;font-weight: bold;display: inline-block;line-height: 1.2em;}#sk-container-id-7 div.sk-label-container {text-align: center;}#sk-container-id-7 div.sk-container {/* jupyter's `normalize.less` sets `[hidden] { display: none; }` but bootstrap.min.css set `[hidden] { display: none !important; }` so we also need the `!important` here to be able to override the default hidden behavior on the sphinx rendered scikit-learn.org. See: https://github.com/scikit-learn/scikit-learn/issues/21755 */display: inline-block !important;position: relative;}#sk-container-id-7 div.sk-text-repr-fallback {display: none;}</style><div id=\"sk-container-id-7\" class=\"sk-top-container\"><div class=\"sk-text-repr-fallback\"><pre>XGBClassifier(base_score=None, booster=None, callbacks=None,\n",
       "              colsample_bylevel=None, colsample_bynode=None,\n",
       "              colsample_bytree=None, early_stopping_rounds=None,\n",
       "              enable_categorical=False, eval_metric=None, feature_types=None,\n",
       "              gamma=None, gpu_id=None, grow_policy=None, importance_type=None,\n",
       "              interaction_constraints=None, learning_rate=None, max_bin=None,\n",
       "              max_cat_threshold=None, max_cat_to_onehot=None,\n",
       "              max_delta_step=None, max_depth=None, max_leaves=None,\n",
       "              min_child_weight=None, missing=nan, monotone_constraints=None,\n",
       "              n_estimators=100, n_jobs=None, num_parallel_tree=None,\n",
       "              predictor=None, random_state=None, ...)</pre><b>In a Jupyter environment, please rerun this cell to show the HTML representation or trust the notebook. <br />On GitHub, the HTML representation is unable to render, please try loading this page with nbviewer.org.</b></div><div class=\"sk-container\" hidden><div class=\"sk-item\"><div class=\"sk-estimator sk-toggleable\"><input class=\"sk-toggleable__control sk-hidden--visually\" id=\"sk-estimator-id-33\" type=\"checkbox\" checked><label for=\"sk-estimator-id-33\" class=\"sk-toggleable__label sk-toggleable__label-arrow\">XGBClassifier</label><div class=\"sk-toggleable__content\"><pre>XGBClassifier(base_score=None, booster=None, callbacks=None,\n",
       "              colsample_bylevel=None, colsample_bynode=None,\n",
       "              colsample_bytree=None, early_stopping_rounds=None,\n",
       "              enable_categorical=False, eval_metric=None, feature_types=None,\n",
       "              gamma=None, gpu_id=None, grow_policy=None, importance_type=None,\n",
       "              interaction_constraints=None, learning_rate=None, max_bin=None,\n",
       "              max_cat_threshold=None, max_cat_to_onehot=None,\n",
       "              max_delta_step=None, max_depth=None, max_leaves=None,\n",
       "              min_child_weight=None, missing=nan, monotone_constraints=None,\n",
       "              n_estimators=100, n_jobs=None, num_parallel_tree=None,\n",
       "              predictor=None, random_state=None, ...)</pre></div></div></div></div></div>"
      ],
      "text/plain": [
       "XGBClassifier(base_score=None, booster=None, callbacks=None,\n",
       "              colsample_bylevel=None, colsample_bynode=None,\n",
       "              colsample_bytree=None, early_stopping_rounds=None,\n",
       "              enable_categorical=False, eval_metric=None, feature_types=None,\n",
       "              gamma=None, gpu_id=None, grow_policy=None, importance_type=None,\n",
       "              interaction_constraints=None, learning_rate=None, max_bin=None,\n",
       "              max_cat_threshold=None, max_cat_to_onehot=None,\n",
       "              max_delta_step=None, max_depth=None, max_leaves=None,\n",
       "              min_child_weight=None, missing=nan, monotone_constraints=None,\n",
       "              n_estimators=100, n_jobs=None, num_parallel_tree=None,\n",
       "              predictor=None, random_state=None, ...)"
      ]
     },
     "execution_count": 47,
     "metadata": {},
     "output_type": "execute_result"
    }
   ],
   "source": [
    "cpmodel.named_steps['clf']"
   ]
  },
  {
   "cell_type": "code",
   "execution_count": 48,
   "id": "8ce5d63d",
   "metadata": {},
   "outputs": [
    {
     "data": {
      "text/html": [
       "<style>#sk-container-id-8 {color: black;background-color: white;}#sk-container-id-8 pre{padding: 0;}#sk-container-id-8 div.sk-toggleable {background-color: white;}#sk-container-id-8 label.sk-toggleable__label {cursor: pointer;display: block;width: 100%;margin-bottom: 0;padding: 0.3em;box-sizing: border-box;text-align: center;}#sk-container-id-8 label.sk-toggleable__label-arrow:before {content: \"▸\";float: left;margin-right: 0.25em;color: #696969;}#sk-container-id-8 label.sk-toggleable__label-arrow:hover:before {color: black;}#sk-container-id-8 div.sk-estimator:hover label.sk-toggleable__label-arrow:before {color: black;}#sk-container-id-8 div.sk-toggleable__content {max-height: 0;max-width: 0;overflow: hidden;text-align: left;background-color: #f0f8ff;}#sk-container-id-8 div.sk-toggleable__content pre {margin: 0.2em;color: black;border-radius: 0.25em;background-color: #f0f8ff;}#sk-container-id-8 input.sk-toggleable__control:checked~div.sk-toggleable__content {max-height: 200px;max-width: 100%;overflow: auto;}#sk-container-id-8 input.sk-toggleable__control:checked~label.sk-toggleable__label-arrow:before {content: \"▾\";}#sk-container-id-8 div.sk-estimator input.sk-toggleable__control:checked~label.sk-toggleable__label {background-color: #d4ebff;}#sk-container-id-8 div.sk-label input.sk-toggleable__control:checked~label.sk-toggleable__label {background-color: #d4ebff;}#sk-container-id-8 input.sk-hidden--visually {border: 0;clip: rect(1px 1px 1px 1px);clip: rect(1px, 1px, 1px, 1px);height: 1px;margin: -1px;overflow: hidden;padding: 0;position: absolute;width: 1px;}#sk-container-id-8 div.sk-estimator {font-family: monospace;background-color: #f0f8ff;border: 1px dotted black;border-radius: 0.25em;box-sizing: border-box;margin-bottom: 0.5em;}#sk-container-id-8 div.sk-estimator:hover {background-color: #d4ebff;}#sk-container-id-8 div.sk-parallel-item::after {content: \"\";width: 100%;border-bottom: 1px solid gray;flex-grow: 1;}#sk-container-id-8 div.sk-label:hover label.sk-toggleable__label {background-color: #d4ebff;}#sk-container-id-8 div.sk-serial::before {content: \"\";position: absolute;border-left: 1px solid gray;box-sizing: border-box;top: 0;bottom: 0;left: 50%;z-index: 0;}#sk-container-id-8 div.sk-serial {display: flex;flex-direction: column;align-items: center;background-color: white;padding-right: 0.2em;padding-left: 0.2em;position: relative;}#sk-container-id-8 div.sk-item {position: relative;z-index: 1;}#sk-container-id-8 div.sk-parallel {display: flex;align-items: stretch;justify-content: center;background-color: white;position: relative;}#sk-container-id-8 div.sk-item::before, #sk-container-id-8 div.sk-parallel-item::before {content: \"\";position: absolute;border-left: 1px solid gray;box-sizing: border-box;top: 0;bottom: 0;left: 50%;z-index: -1;}#sk-container-id-8 div.sk-parallel-item {display: flex;flex-direction: column;z-index: 1;position: relative;background-color: white;}#sk-container-id-8 div.sk-parallel-item:first-child::after {align-self: flex-end;width: 50%;}#sk-container-id-8 div.sk-parallel-item:last-child::after {align-self: flex-start;width: 50%;}#sk-container-id-8 div.sk-parallel-item:only-child::after {width: 0;}#sk-container-id-8 div.sk-dashed-wrapped {border: 1px dashed gray;margin: 0 0.4em 0.5em 0.4em;box-sizing: border-box;padding-bottom: 0.4em;background-color: white;}#sk-container-id-8 div.sk-label label {font-family: monospace;font-weight: bold;display: inline-block;line-height: 1.2em;}#sk-container-id-8 div.sk-label-container {text-align: center;}#sk-container-id-8 div.sk-container {/* jupyter's `normalize.less` sets `[hidden] { display: none; }` but bootstrap.min.css set `[hidden] { display: none !important; }` so we also need the `!important` here to be able to override the default hidden behavior on the sphinx rendered scikit-learn.org. See: https://github.com/scikit-learn/scikit-learn/issues/21755 */display: inline-block !important;position: relative;}#sk-container-id-8 div.sk-text-repr-fallback {display: none;}</style><div id=\"sk-container-id-8\" class=\"sk-top-container\"><div class=\"sk-text-repr-fallback\"><pre>Pipeline(steps=[(&#x27;prp&#x27;,\n",
       "                 ColumnTransformer(transformers=[(&#x27;num&#x27;,\n",
       "                                                  Pipeline(steps=[(&#x27;numeric&#x27;,\n",
       "                                                                   StandardScaler())]),\n",
       "                                                  &lt;sklearn.compose._column_transformer.make_column_selector object at 0x15a9d5730&gt;),\n",
       "                                                 (&#x27;cat&#x27;,\n",
       "                                                  Pipeline(steps=[(&#x27;categorical&#x27;,\n",
       "                                                                   CatBoostEncoder())]),\n",
       "                                                  &lt;sklearn.compose._column_transformer.make_column_selector object at 0x15aa56d30&gt;)])),\n",
       "                (&#x27;clf&#x27;,\n",
       "                 XGBClassifier(...\n",
       "                               feature_types=None, gamma=0, gpu_id=None,\n",
       "                               grow_policy=None, importance_type=None,\n",
       "                               interaction_constraints=None, learning_rate=0.01,\n",
       "                               max_bin=None, max_cat_threshold=None,\n",
       "                               max_cat_to_onehot=None, max_delta_step=None,\n",
       "                               max_depth=3, max_leaves=None, min_child_weight=1,\n",
       "                               missing=nan, monotone_constraints=None,\n",
       "                               n_estimators=200, n_jobs=None,\n",
       "                               num_parallel_tree=None, predictor=None,\n",
       "                               random_state=None, ...))])</pre><b>In a Jupyter environment, please rerun this cell to show the HTML representation or trust the notebook. <br />On GitHub, the HTML representation is unable to render, please try loading this page with nbviewer.org.</b></div><div class=\"sk-container\" hidden><div class=\"sk-item sk-dashed-wrapped\"><div class=\"sk-label-container\"><div class=\"sk-label sk-toggleable\"><input class=\"sk-toggleable__control sk-hidden--visually\" id=\"sk-estimator-id-34\" type=\"checkbox\" ><label for=\"sk-estimator-id-34\" class=\"sk-toggleable__label sk-toggleable__label-arrow\">Pipeline</label><div class=\"sk-toggleable__content\"><pre>Pipeline(steps=[(&#x27;prp&#x27;,\n",
       "                 ColumnTransformer(transformers=[(&#x27;num&#x27;,\n",
       "                                                  Pipeline(steps=[(&#x27;numeric&#x27;,\n",
       "                                                                   StandardScaler())]),\n",
       "                                                  &lt;sklearn.compose._column_transformer.make_column_selector object at 0x15a9d5730&gt;),\n",
       "                                                 (&#x27;cat&#x27;,\n",
       "                                                  Pipeline(steps=[(&#x27;categorical&#x27;,\n",
       "                                                                   CatBoostEncoder())]),\n",
       "                                                  &lt;sklearn.compose._column_transformer.make_column_selector object at 0x15aa56d30&gt;)])),\n",
       "                (&#x27;clf&#x27;,\n",
       "                 XGBClassifier(...\n",
       "                               feature_types=None, gamma=0, gpu_id=None,\n",
       "                               grow_policy=None, importance_type=None,\n",
       "                               interaction_constraints=None, learning_rate=0.01,\n",
       "                               max_bin=None, max_cat_threshold=None,\n",
       "                               max_cat_to_onehot=None, max_delta_step=None,\n",
       "                               max_depth=3, max_leaves=None, min_child_weight=1,\n",
       "                               missing=nan, monotone_constraints=None,\n",
       "                               n_estimators=200, n_jobs=None,\n",
       "                               num_parallel_tree=None, predictor=None,\n",
       "                               random_state=None, ...))])</pre></div></div></div><div class=\"sk-serial\"><div class=\"sk-item sk-dashed-wrapped\"><div class=\"sk-label-container\"><div class=\"sk-label sk-toggleable\"><input class=\"sk-toggleable__control sk-hidden--visually\" id=\"sk-estimator-id-35\" type=\"checkbox\" ><label for=\"sk-estimator-id-35\" class=\"sk-toggleable__label sk-toggleable__label-arrow\">prp: ColumnTransformer</label><div class=\"sk-toggleable__content\"><pre>ColumnTransformer(transformers=[(&#x27;num&#x27;,\n",
       "                                 Pipeline(steps=[(&#x27;numeric&#x27;,\n",
       "                                                  StandardScaler())]),\n",
       "                                 &lt;sklearn.compose._column_transformer.make_column_selector object at 0x15a9d5730&gt;),\n",
       "                                (&#x27;cat&#x27;,\n",
       "                                 Pipeline(steps=[(&#x27;categorical&#x27;,\n",
       "                                                  CatBoostEncoder())]),\n",
       "                                 &lt;sklearn.compose._column_transformer.make_column_selector object at 0x15aa56d30&gt;)])</pre></div></div></div><div class=\"sk-parallel\"><div class=\"sk-parallel-item\"><div class=\"sk-item\"><div class=\"sk-label-container\"><div class=\"sk-label sk-toggleable\"><input class=\"sk-toggleable__control sk-hidden--visually\" id=\"sk-estimator-id-36\" type=\"checkbox\" ><label for=\"sk-estimator-id-36\" class=\"sk-toggleable__label sk-toggleable__label-arrow\">num</label><div class=\"sk-toggleable__content\"><pre>&lt;sklearn.compose._column_transformer.make_column_selector object at 0x15a9d5730&gt;</pre></div></div></div><div class=\"sk-serial\"><div class=\"sk-item\"><div class=\"sk-serial\"><div class=\"sk-item\"><div class=\"sk-estimator sk-toggleable\"><input class=\"sk-toggleable__control sk-hidden--visually\" id=\"sk-estimator-id-37\" type=\"checkbox\" ><label for=\"sk-estimator-id-37\" class=\"sk-toggleable__label sk-toggleable__label-arrow\">StandardScaler</label><div class=\"sk-toggleable__content\"><pre>StandardScaler()</pre></div></div></div></div></div></div></div></div><div class=\"sk-parallel-item\"><div class=\"sk-item\"><div class=\"sk-label-container\"><div class=\"sk-label sk-toggleable\"><input class=\"sk-toggleable__control sk-hidden--visually\" id=\"sk-estimator-id-38\" type=\"checkbox\" ><label for=\"sk-estimator-id-38\" class=\"sk-toggleable__label sk-toggleable__label-arrow\">cat</label><div class=\"sk-toggleable__content\"><pre>&lt;sklearn.compose._column_transformer.make_column_selector object at 0x15aa56d30&gt;</pre></div></div></div><div class=\"sk-serial\"><div class=\"sk-item\"><div class=\"sk-serial\"><div class=\"sk-item\"><div class=\"sk-estimator sk-toggleable\"><input class=\"sk-toggleable__control sk-hidden--visually\" id=\"sk-estimator-id-39\" type=\"checkbox\" ><label for=\"sk-estimator-id-39\" class=\"sk-toggleable__label sk-toggleable__label-arrow\">CatBoostEncoder</label><div class=\"sk-toggleable__content\"><pre>CatBoostEncoder()</pre></div></div></div></div></div></div></div></div></div></div><div class=\"sk-item\"><div class=\"sk-estimator sk-toggleable\"><input class=\"sk-toggleable__control sk-hidden--visually\" id=\"sk-estimator-id-40\" type=\"checkbox\" ><label for=\"sk-estimator-id-40\" class=\"sk-toggleable__label sk-toggleable__label-arrow\">XGBClassifier</label><div class=\"sk-toggleable__content\"><pre>XGBClassifier(base_score=None, booster=None, callbacks=None,\n",
       "              colsample_bylevel=None, colsample_bynode=None,\n",
       "              colsample_bytree=0.6, early_stopping_rounds=None,\n",
       "              enable_categorical=False, eval_metric=None, feature_types=None,\n",
       "              gamma=0, gpu_id=None, grow_policy=None, importance_type=None,\n",
       "              interaction_constraints=None, learning_rate=0.01, max_bin=None,\n",
       "              max_cat_threshold=None, max_cat_to_onehot=None,\n",
       "              max_delta_step=None, max_depth=3, max_leaves=None,\n",
       "              min_child_weight=1, missing=nan, monotone_constraints=None,\n",
       "              n_estimators=200, n_jobs=None, num_parallel_tree=None,\n",
       "              predictor=None, random_state=None, ...)</pre></div></div></div></div></div></div></div>"
      ],
      "text/plain": [
       "Pipeline(steps=[('prp',\n",
       "                 ColumnTransformer(transformers=[('num',\n",
       "                                                  Pipeline(steps=[('numeric',\n",
       "                                                                   StandardScaler())]),\n",
       "                                                  <sklearn.compose._column_transformer.make_column_selector object at 0x15a9d5730>),\n",
       "                                                 ('cat',\n",
       "                                                  Pipeline(steps=[('categorical',\n",
       "                                                                   CatBoostEncoder())]),\n",
       "                                                  <sklearn.compose._column_transformer.make_column_selector object at 0x15aa56d30>)])),\n",
       "                ('clf',\n",
       "                 XGBClassifier(...\n",
       "                               feature_types=None, gamma=0, gpu_id=None,\n",
       "                               grow_policy=None, importance_type=None,\n",
       "                               interaction_constraints=None, learning_rate=0.01,\n",
       "                               max_bin=None, max_cat_threshold=None,\n",
       "                               max_cat_to_onehot=None, max_delta_step=None,\n",
       "                               max_depth=3, max_leaves=None, min_child_weight=1,\n",
       "                               missing=nan, monotone_constraints=None,\n",
       "                               n_estimators=200, n_jobs=None,\n",
       "                               num_parallel_tree=None, predictor=None,\n",
       "                               random_state=None, ...))])"
      ]
     },
     "execution_count": 48,
     "metadata": {},
     "output_type": "execute_result"
    }
   ],
   "source": [
    "cpmodel.set_params(**search1.best_params_)"
   ]
  },
  {
   "cell_type": "code",
   "execution_count": 50,
   "id": "993f7086",
   "metadata": {},
   "outputs": [
    {
     "data": {
      "text/plain": [
       "{'clf__subsample': 0.6,\n",
       " 'clf__reg_lambda': 0.1,\n",
       " 'clf__reg_alpha': 0.1,\n",
       " 'clf__n_estimators': 200,\n",
       " 'clf__min_child_weight': 1,\n",
       " 'clf__max_depth': 3,\n",
       " 'clf__learning_rate': 0.01,\n",
       " 'clf__gamma': 0,\n",
       " 'clf__colsample_bytree': 0.6}"
      ]
     },
     "execution_count": 50,
     "metadata": {},
     "output_type": "execute_result"
    }
   ],
   "source": [
    "search1.best_params_"
   ]
  },
  {
   "cell_type": "code",
   "execution_count": 49,
   "id": "f650b594",
   "metadata": {},
   "outputs": [
    {
     "data": {
      "text/html": [
       "<style>#sk-container-id-9 {color: black;background-color: white;}#sk-container-id-9 pre{padding: 0;}#sk-container-id-9 div.sk-toggleable {background-color: white;}#sk-container-id-9 label.sk-toggleable__label {cursor: pointer;display: block;width: 100%;margin-bottom: 0;padding: 0.3em;box-sizing: border-box;text-align: center;}#sk-container-id-9 label.sk-toggleable__label-arrow:before {content: \"▸\";float: left;margin-right: 0.25em;color: #696969;}#sk-container-id-9 label.sk-toggleable__label-arrow:hover:before {color: black;}#sk-container-id-9 div.sk-estimator:hover label.sk-toggleable__label-arrow:before {color: black;}#sk-container-id-9 div.sk-toggleable__content {max-height: 0;max-width: 0;overflow: hidden;text-align: left;background-color: #f0f8ff;}#sk-container-id-9 div.sk-toggleable__content pre {margin: 0.2em;color: black;border-radius: 0.25em;background-color: #f0f8ff;}#sk-container-id-9 input.sk-toggleable__control:checked~div.sk-toggleable__content {max-height: 200px;max-width: 100%;overflow: auto;}#sk-container-id-9 input.sk-toggleable__control:checked~label.sk-toggleable__label-arrow:before {content: \"▾\";}#sk-container-id-9 div.sk-estimator input.sk-toggleable__control:checked~label.sk-toggleable__label {background-color: #d4ebff;}#sk-container-id-9 div.sk-label input.sk-toggleable__control:checked~label.sk-toggleable__label {background-color: #d4ebff;}#sk-container-id-9 input.sk-hidden--visually {border: 0;clip: rect(1px 1px 1px 1px);clip: rect(1px, 1px, 1px, 1px);height: 1px;margin: -1px;overflow: hidden;padding: 0;position: absolute;width: 1px;}#sk-container-id-9 div.sk-estimator {font-family: monospace;background-color: #f0f8ff;border: 1px dotted black;border-radius: 0.25em;box-sizing: border-box;margin-bottom: 0.5em;}#sk-container-id-9 div.sk-estimator:hover {background-color: #d4ebff;}#sk-container-id-9 div.sk-parallel-item::after {content: \"\";width: 100%;border-bottom: 1px solid gray;flex-grow: 1;}#sk-container-id-9 div.sk-label:hover label.sk-toggleable__label {background-color: #d4ebff;}#sk-container-id-9 div.sk-serial::before {content: \"\";position: absolute;border-left: 1px solid gray;box-sizing: border-box;top: 0;bottom: 0;left: 50%;z-index: 0;}#sk-container-id-9 div.sk-serial {display: flex;flex-direction: column;align-items: center;background-color: white;padding-right: 0.2em;padding-left: 0.2em;position: relative;}#sk-container-id-9 div.sk-item {position: relative;z-index: 1;}#sk-container-id-9 div.sk-parallel {display: flex;align-items: stretch;justify-content: center;background-color: white;position: relative;}#sk-container-id-9 div.sk-item::before, #sk-container-id-9 div.sk-parallel-item::before {content: \"\";position: absolute;border-left: 1px solid gray;box-sizing: border-box;top: 0;bottom: 0;left: 50%;z-index: -1;}#sk-container-id-9 div.sk-parallel-item {display: flex;flex-direction: column;z-index: 1;position: relative;background-color: white;}#sk-container-id-9 div.sk-parallel-item:first-child::after {align-self: flex-end;width: 50%;}#sk-container-id-9 div.sk-parallel-item:last-child::after {align-self: flex-start;width: 50%;}#sk-container-id-9 div.sk-parallel-item:only-child::after {width: 0;}#sk-container-id-9 div.sk-dashed-wrapped {border: 1px dashed gray;margin: 0 0.4em 0.5em 0.4em;box-sizing: border-box;padding-bottom: 0.4em;background-color: white;}#sk-container-id-9 div.sk-label label {font-family: monospace;font-weight: bold;display: inline-block;line-height: 1.2em;}#sk-container-id-9 div.sk-label-container {text-align: center;}#sk-container-id-9 div.sk-container {/* jupyter's `normalize.less` sets `[hidden] { display: none; }` but bootstrap.min.css set `[hidden] { display: none !important; }` so we also need the `!important` here to be able to override the default hidden behavior on the sphinx rendered scikit-learn.org. See: https://github.com/scikit-learn/scikit-learn/issues/21755 */display: inline-block !important;position: relative;}#sk-container-id-9 div.sk-text-repr-fallback {display: none;}</style><div id=\"sk-container-id-9\" class=\"sk-top-container\"><div class=\"sk-text-repr-fallback\"><pre>XGBClassifier(base_score=None, booster=None, callbacks=None,\n",
       "              colsample_bylevel=None, colsample_bynode=None,\n",
       "              colsample_bytree=0.6, early_stopping_rounds=None,\n",
       "              enable_categorical=False, eval_metric=None, feature_types=None,\n",
       "              gamma=0, gpu_id=None, grow_policy=None, importance_type=None,\n",
       "              interaction_constraints=None, learning_rate=0.01, max_bin=None,\n",
       "              max_cat_threshold=None, max_cat_to_onehot=None,\n",
       "              max_delta_step=None, max_depth=3, max_leaves=None,\n",
       "              min_child_weight=1, missing=nan, monotone_constraints=None,\n",
       "              n_estimators=200, n_jobs=None, num_parallel_tree=None,\n",
       "              predictor=None, random_state=None, ...)</pre><b>In a Jupyter environment, please rerun this cell to show the HTML representation or trust the notebook. <br />On GitHub, the HTML representation is unable to render, please try loading this page with nbviewer.org.</b></div><div class=\"sk-container\" hidden><div class=\"sk-item\"><div class=\"sk-estimator sk-toggleable\"><input class=\"sk-toggleable__control sk-hidden--visually\" id=\"sk-estimator-id-41\" type=\"checkbox\" checked><label for=\"sk-estimator-id-41\" class=\"sk-toggleable__label sk-toggleable__label-arrow\">XGBClassifier</label><div class=\"sk-toggleable__content\"><pre>XGBClassifier(base_score=None, booster=None, callbacks=None,\n",
       "              colsample_bylevel=None, colsample_bynode=None,\n",
       "              colsample_bytree=0.6, early_stopping_rounds=None,\n",
       "              enable_categorical=False, eval_metric=None, feature_types=None,\n",
       "              gamma=0, gpu_id=None, grow_policy=None, importance_type=None,\n",
       "              interaction_constraints=None, learning_rate=0.01, max_bin=None,\n",
       "              max_cat_threshold=None, max_cat_to_onehot=None,\n",
       "              max_delta_step=None, max_depth=3, max_leaves=None,\n",
       "              min_child_weight=1, missing=nan, monotone_constraints=None,\n",
       "              n_estimators=200, n_jobs=None, num_parallel_tree=None,\n",
       "              predictor=None, random_state=None, ...)</pre></div></div></div></div></div>"
      ],
      "text/plain": [
       "XGBClassifier(base_score=None, booster=None, callbacks=None,\n",
       "              colsample_bylevel=None, colsample_bynode=None,\n",
       "              colsample_bytree=0.6, early_stopping_rounds=None,\n",
       "              enable_categorical=False, eval_metric=None, feature_types=None,\n",
       "              gamma=0, gpu_id=None, grow_policy=None, importance_type=None,\n",
       "              interaction_constraints=None, learning_rate=0.01, max_bin=None,\n",
       "              max_cat_threshold=None, max_cat_to_onehot=None,\n",
       "              max_delta_step=None, max_depth=3, max_leaves=None,\n",
       "              min_child_weight=1, missing=nan, monotone_constraints=None,\n",
       "              n_estimators=200, n_jobs=None, num_parallel_tree=None,\n",
       "              predictor=None, random_state=None, ...)"
      ]
     },
     "execution_count": 49,
     "metadata": {},
     "output_type": "execute_result"
    }
   ],
   "source": [
    "cpmodel.named_steps['clf']"
   ]
  },
  {
   "cell_type": "markdown",
   "id": "0c087db8",
   "metadata": {},
   "source": [
    "### Evaluation"
   ]
  },
  {
   "cell_type": "code",
   "execution_count": 152,
   "id": "a86a073c",
   "metadata": {},
   "outputs": [
    {
     "data": {
      "text/html": [
       "        <script type=\"text/javascript\">\n",
       "        window.PlotlyConfig = {MathJaxConfig: 'local'};\n",
       "        if (window.MathJax && window.MathJax.Hub && window.MathJax.Hub.Config) {window.MathJax.Hub.Config({SVG: {font: \"STIX-Web\"}});}\n",
       "        if (typeof require !== 'undefined') {\n",
       "        require.undef(\"plotly\");\n",
       "        requirejs.config({\n",
       "            paths: {\n",
       "                'plotly': ['https://cdn.plot.ly/plotly-2.20.0.min']\n",
       "            }\n",
       "        });\n",
       "        require(['plotly'], function(Plotly) {\n",
       "            window._Plotly = Plotly;\n",
       "        });\n",
       "        }\n",
       "        </script>\n",
       "        "
      ]
     },
     "metadata": {},
     "output_type": "display_data"
    }
   ],
   "source": [
    "import plotly.graph_objects as go\n",
    "import plotly\n",
    "plotly.offline.init_notebook_mode(connected=True)"
   ]
  },
  {
   "cell_type": "code",
   "execution_count": 101,
   "id": "695d5bb4",
   "metadata": {},
   "outputs": [],
   "source": [
    "from mlutils.classification import (\n",
    "    confmat,\n",
    "    classifier_metrics,\n",
    "    classifier_report,\n",
    "    classifier_plots,\n",
    "    classifier_plots_int,\n",
    "    classifier_lift_df,\n",
    "    classifier_lift_plot\n",
    ")"
   ]
  },
  {
   "cell_type": "code",
   "execution_count": 102,
   "id": "1eeea61a",
   "metadata": {},
   "outputs": [],
   "source": [
    "clf1 = search1.best_estimator_\n",
    "clf2 = search1.best_estimator_"
   ]
  },
  {
   "cell_type": "code",
   "execution_count": 110,
   "id": "80fce5ed",
   "metadata": {},
   "outputs": [],
   "source": [
    "y_pred_train1 = clf1.predict(X_train)"
   ]
  },
  {
   "cell_type": "code",
   "execution_count": 108,
   "id": "ffc99427",
   "metadata": {},
   "outputs": [
    {
     "data": {
      "text/plain": [
       "dict"
      ]
     },
     "execution_count": 108,
     "metadata": {},
     "output_type": "execute_result"
    }
   ],
   "source": [
    "confusion_matrices = confmat(y_train,y_pred_train1)\n",
    "type(confusion_matrices)"
   ]
  },
  {
   "cell_type": "code",
   "execution_count": 109,
   "id": "4aa5947d",
   "metadata": {},
   "outputs": [
    {
     "data": {
      "text/html": [
       "<div>\n",
       "<style scoped>\n",
       "    .dataframe tbody tr th:only-of-type {\n",
       "        vertical-align: middle;\n",
       "    }\n",
       "\n",
       "    .dataframe tbody tr th {\n",
       "        vertical-align: top;\n",
       "    }\n",
       "\n",
       "    .dataframe thead th {\n",
       "        text-align: right;\n",
       "    }\n",
       "</style>\n",
       "<table border=\"1\" class=\"dataframe\">\n",
       "  <thead>\n",
       "    <tr style=\"text-align: right;\">\n",
       "      <th>y_pred</th>\n",
       "      <th>0</th>\n",
       "      <th>1</th>\n",
       "      <th>All</th>\n",
       "    </tr>\n",
       "    <tr>\n",
       "      <th>y_true</th>\n",
       "      <th></th>\n",
       "      <th></th>\n",
       "      <th></th>\n",
       "    </tr>\n",
       "  </thead>\n",
       "  <tbody>\n",
       "    <tr>\n",
       "      <th>0</th>\n",
       "      <td>0.673</td>\n",
       "      <td>0.027</td>\n",
       "      <td>0.7</td>\n",
       "    </tr>\n",
       "    <tr>\n",
       "      <th>1</th>\n",
       "      <td>0.072</td>\n",
       "      <td>0.228</td>\n",
       "      <td>0.3</td>\n",
       "    </tr>\n",
       "    <tr>\n",
       "      <th>All</th>\n",
       "      <td>0.745</td>\n",
       "      <td>0.255</td>\n",
       "      <td>1.0</td>\n",
       "    </tr>\n",
       "  </tbody>\n",
       "</table>\n",
       "</div>"
      ],
      "text/plain": [
       "y_pred      0      1  All\n",
       "y_true                   \n",
       "0       0.673  0.027  0.7\n",
       "1       0.072  0.228  0.3\n",
       "All     0.745  0.255  1.0"
      ]
     },
     "metadata": {},
     "output_type": "display_data"
    },
    {
     "data": {
      "text/html": [
       "<div>\n",
       "<style scoped>\n",
       "    .dataframe tbody tr th:only-of-type {\n",
       "        vertical-align: middle;\n",
       "    }\n",
       "\n",
       "    .dataframe tbody tr th {\n",
       "        vertical-align: top;\n",
       "    }\n",
       "\n",
       "    .dataframe thead th {\n",
       "        text-align: right;\n",
       "    }\n",
       "</style>\n",
       "<table border=\"1\" class=\"dataframe\">\n",
       "  <thead>\n",
       "    <tr style=\"text-align: right;\">\n",
       "      <th>y_pred</th>\n",
       "      <th>0</th>\n",
       "      <th>1</th>\n",
       "    </tr>\n",
       "    <tr>\n",
       "      <th>y_true</th>\n",
       "      <th></th>\n",
       "      <th></th>\n",
       "    </tr>\n",
       "  </thead>\n",
       "  <tbody>\n",
       "    <tr>\n",
       "      <th>0</th>\n",
       "      <td>0.962</td>\n",
       "      <td>0.038</td>\n",
       "    </tr>\n",
       "    <tr>\n",
       "      <th>1</th>\n",
       "      <td>0.240</td>\n",
       "      <td>0.760</td>\n",
       "    </tr>\n",
       "    <tr>\n",
       "      <th>All</th>\n",
       "      <td>0.745</td>\n",
       "      <td>0.255</td>\n",
       "    </tr>\n",
       "  </tbody>\n",
       "</table>\n",
       "</div>"
      ],
      "text/plain": [
       "y_pred      0      1\n",
       "y_true              \n",
       "0       0.962  0.038\n",
       "1       0.240  0.760\n",
       "All     0.745  0.255"
      ]
     },
     "metadata": {},
     "output_type": "display_data"
    },
    {
     "data": {
      "text/html": [
       "<div>\n",
       "<style scoped>\n",
       "    .dataframe tbody tr th:only-of-type {\n",
       "        vertical-align: middle;\n",
       "    }\n",
       "\n",
       "    .dataframe tbody tr th {\n",
       "        vertical-align: top;\n",
       "    }\n",
       "\n",
       "    .dataframe thead th {\n",
       "        text-align: right;\n",
       "    }\n",
       "</style>\n",
       "<table border=\"1\" class=\"dataframe\">\n",
       "  <thead>\n",
       "    <tr style=\"text-align: right;\">\n",
       "      <th>y_pred</th>\n",
       "      <th>0</th>\n",
       "      <th>1</th>\n",
       "      <th>All</th>\n",
       "    </tr>\n",
       "    <tr>\n",
       "      <th>y_true</th>\n",
       "      <th></th>\n",
       "      <th></th>\n",
       "      <th></th>\n",
       "    </tr>\n",
       "  </thead>\n",
       "  <tbody>\n",
       "    <tr>\n",
       "      <th>0</th>\n",
       "      <td>0.903</td>\n",
       "      <td>0.105</td>\n",
       "      <td>0.7</td>\n",
       "    </tr>\n",
       "    <tr>\n",
       "      <th>1</th>\n",
       "      <td>0.097</td>\n",
       "      <td>0.895</td>\n",
       "      <td>0.3</td>\n",
       "    </tr>\n",
       "  </tbody>\n",
       "</table>\n",
       "</div>"
      ],
      "text/plain": [
       "y_pred      0      1  All\n",
       "y_true                   \n",
       "0       0.903  0.105  0.7\n",
       "1       0.097  0.895  0.3"
      ]
     },
     "metadata": {},
     "output_type": "display_data"
    },
    {
     "data": {
      "text/html": [
       "<div>\n",
       "<style scoped>\n",
       "    .dataframe tbody tr th:only-of-type {\n",
       "        vertical-align: middle;\n",
       "    }\n",
       "\n",
       "    .dataframe tbody tr th {\n",
       "        vertical-align: top;\n",
       "    }\n",
       "\n",
       "    .dataframe thead th {\n",
       "        text-align: right;\n",
       "    }\n",
       "</style>\n",
       "<table border=\"1\" class=\"dataframe\">\n",
       "  <thead>\n",
       "    <tr style=\"text-align: right;\">\n",
       "      <th>y_pred</th>\n",
       "      <th>0</th>\n",
       "      <th>1</th>\n",
       "      <th>All</th>\n",
       "    </tr>\n",
       "    <tr>\n",
       "      <th>y_true</th>\n",
       "      <th></th>\n",
       "      <th></th>\n",
       "      <th></th>\n",
       "    </tr>\n",
       "  </thead>\n",
       "  <tbody>\n",
       "    <tr>\n",
       "      <th>0</th>\n",
       "      <td>505</td>\n",
       "      <td>20</td>\n",
       "      <td>525</td>\n",
       "    </tr>\n",
       "    <tr>\n",
       "      <th>1</th>\n",
       "      <td>54</td>\n",
       "      <td>171</td>\n",
       "      <td>225</td>\n",
       "    </tr>\n",
       "    <tr>\n",
       "      <th>All</th>\n",
       "      <td>559</td>\n",
       "      <td>191</td>\n",
       "      <td>750</td>\n",
       "    </tr>\n",
       "  </tbody>\n",
       "</table>\n",
       "</div>"
      ],
      "text/plain": [
       "y_pred    0    1  All\n",
       "y_true               \n",
       "0       505   20  525\n",
       "1        54  171  225\n",
       "All     559  191  750"
      ]
     },
     "metadata": {},
     "output_type": "display_data"
    }
   ],
   "source": [
    "for cf in confusion_matrices.values():\n",
    "    display(cf)"
   ]
  },
  {
   "cell_type": "code",
   "execution_count": 111,
   "id": "cf2144dc",
   "metadata": {},
   "outputs": [],
   "source": [
    "y_prob_train1 = clf1.predict_proba(X_train)[:,1]"
   ]
  },
  {
   "cell_type": "code",
   "execution_count": 113,
   "id": "2952d32d",
   "metadata": {},
   "outputs": [
    {
     "data": {
      "text/plain": [
       "{'logloss': 0.3018751288190114,\n",
       " 'f0.5': 0.864509605662285,\n",
       " 'f1': 0.8221153846153847,\n",
       " 'f2': 0.7836846929422547,\n",
       " 'prauc': 0.9254661133521065,\n",
       " 'roc': 0.9618708994708994,\n",
       " 'precision': 0.8952879581151832,\n",
       " 'recall': 0.76,\n",
       " 'accuracy': 0.9013333333333333}"
      ]
     },
     "execution_count": 113,
     "metadata": {},
     "output_type": "execute_result"
    }
   ],
   "source": [
    "classifier_metrics(y_train,y_prob_train1,tables=False)"
   ]
  },
  {
   "cell_type": "code",
   "execution_count": 114,
   "id": "eade7f72",
   "metadata": {},
   "outputs": [
    {
     "data": {
      "text/plain": [
       "{'logloss': 0.3018751288190114,\n",
       " 'f0.5': 0.8555133079847909,\n",
       " 'f1': 0.7377049180327869,\n",
       " 'f2': 0.648414985590778,\n",
       " 'prauc': 0.9254661133521065,\n",
       " 'roc': 0.9618708994708994,\n",
       " 'precision': 0.9574468085106383,\n",
       " 'recall': 0.6,\n",
       " 'accuracy': 0.872}"
      ]
     },
     "execution_count": 114,
     "metadata": {},
     "output_type": "execute_result"
    }
   ],
   "source": [
    "classifier_metrics(y_train,y_prob_train1,tables=False,threshold=0.65)"
   ]
  },
  {
   "cell_type": "code",
   "execution_count": 115,
   "id": "e4496bd0",
   "metadata": {},
   "outputs": [
    {
     "data": {
      "text/html": [
       "<div>\n",
       "<style scoped>\n",
       "    .dataframe tbody tr th:only-of-type {\n",
       "        vertical-align: middle;\n",
       "    }\n",
       "\n",
       "    .dataframe tbody tr th {\n",
       "        vertical-align: top;\n",
       "    }\n",
       "\n",
       "    .dataframe thead th {\n",
       "        text-align: right;\n",
       "    }\n",
       "</style>\n",
       "<table border=\"1\" class=\"dataframe\">\n",
       "  <thead>\n",
       "    <tr style=\"text-align: right;\">\n",
       "      <th></th>\n",
       "      <th>train</th>\n",
       "      <th>test</th>\n",
       "      <th>diff</th>\n",
       "      <th>pct_diff</th>\n",
       "    </tr>\n",
       "  </thead>\n",
       "  <tbody>\n",
       "    <tr>\n",
       "      <th>logloss</th>\n",
       "      <td>0.301875</td>\n",
       "      <td>0.316204</td>\n",
       "      <td>0.014329</td>\n",
       "      <td>0.047466</td>\n",
       "    </tr>\n",
       "    <tr>\n",
       "      <th>f0.5</th>\n",
       "      <td>0.864510</td>\n",
       "      <td>0.802817</td>\n",
       "      <td>-0.061693</td>\n",
       "      <td>-0.071362</td>\n",
       "    </tr>\n",
       "    <tr>\n",
       "      <th>f1</th>\n",
       "      <td>0.822115</td>\n",
       "      <td>0.786207</td>\n",
       "      <td>-0.035908</td>\n",
       "      <td>-0.043678</td>\n",
       "    </tr>\n",
       "    <tr>\n",
       "      <th>f2</th>\n",
       "      <td>0.783685</td>\n",
       "      <td>0.770270</td>\n",
       "      <td>-0.013414</td>\n",
       "      <td>-0.017117</td>\n",
       "    </tr>\n",
       "    <tr>\n",
       "      <th>prauc</th>\n",
       "      <td>0.925466</td>\n",
       "      <td>0.905557</td>\n",
       "      <td>-0.019909</td>\n",
       "      <td>-0.021513</td>\n",
       "    </tr>\n",
       "    <tr>\n",
       "      <th>roc</th>\n",
       "      <td>0.961871</td>\n",
       "      <td>0.953219</td>\n",
       "      <td>-0.008652</td>\n",
       "      <td>-0.008995</td>\n",
       "    </tr>\n",
       "    <tr>\n",
       "      <th>precision</th>\n",
       "      <td>0.895288</td>\n",
       "      <td>0.814286</td>\n",
       "      <td>-0.081002</td>\n",
       "      <td>-0.090476</td>\n",
       "    </tr>\n",
       "    <tr>\n",
       "      <th>recall</th>\n",
       "      <td>0.760000</td>\n",
       "      <td>0.760000</td>\n",
       "      <td>0.000000</td>\n",
       "      <td>0.000000</td>\n",
       "    </tr>\n",
       "    <tr>\n",
       "      <th>accuracy</th>\n",
       "      <td>0.901333</td>\n",
       "      <td>0.876000</td>\n",
       "      <td>-0.025333</td>\n",
       "      <td>-0.028107</td>\n",
       "    </tr>\n",
       "  </tbody>\n",
       "</table>\n",
       "</div>"
      ],
      "text/plain": [
       "              train      test      diff  pct_diff\n",
       "logloss    0.301875  0.316204  0.014329  0.047466\n",
       "f0.5       0.864510  0.802817 -0.061693 -0.071362\n",
       "f1         0.822115  0.786207 -0.035908 -0.043678\n",
       "f2         0.783685  0.770270 -0.013414 -0.017117\n",
       "prauc      0.925466  0.905557 -0.019909 -0.021513\n",
       "roc        0.961871  0.953219 -0.008652 -0.008995\n",
       "precision  0.895288  0.814286 -0.081002 -0.090476\n",
       "recall     0.760000  0.760000  0.000000  0.000000\n",
       "accuracy   0.901333  0.876000 -0.025333 -0.028107"
      ]
     },
     "execution_count": 115,
     "metadata": {},
     "output_type": "execute_result"
    }
   ],
   "source": [
    "classifier_report(clf1,X_train, X_test, y_train, y_test)"
   ]
  },
  {
   "cell_type": "code",
   "execution_count": 116,
   "id": "2eb6c1d7",
   "metadata": {},
   "outputs": [
    {
     "data": {
      "text/html": [
       "<div>\n",
       "<style scoped>\n",
       "    .dataframe tbody tr th:only-of-type {\n",
       "        vertical-align: middle;\n",
       "    }\n",
       "\n",
       "    .dataframe tbody tr th {\n",
       "        vertical-align: top;\n",
       "    }\n",
       "\n",
       "    .dataframe thead th {\n",
       "        text-align: right;\n",
       "    }\n",
       "</style>\n",
       "<table border=\"1\" class=\"dataframe\">\n",
       "  <thead>\n",
       "    <tr style=\"text-align: right;\">\n",
       "      <th></th>\n",
       "      <th>train</th>\n",
       "      <th>test</th>\n",
       "      <th>diff</th>\n",
       "      <th>pct_diff</th>\n",
       "    </tr>\n",
       "  </thead>\n",
       "  <tbody>\n",
       "    <tr>\n",
       "      <th>logloss</th>\n",
       "      <td>0.301875</td>\n",
       "      <td>0.316204</td>\n",
       "      <td>0.014329</td>\n",
       "      <td>0.047466</td>\n",
       "    </tr>\n",
       "    <tr>\n",
       "      <th>f0.5</th>\n",
       "      <td>0.855513</td>\n",
       "      <td>0.859107</td>\n",
       "      <td>0.003593</td>\n",
       "      <td>0.004200</td>\n",
       "    </tr>\n",
       "    <tr>\n",
       "      <th>f1</th>\n",
       "      <td>0.737705</td>\n",
       "      <td>0.775194</td>\n",
       "      <td>0.037489</td>\n",
       "      <td>0.050818</td>\n",
       "    </tr>\n",
       "    <tr>\n",
       "      <th>f2</th>\n",
       "      <td>0.648415</td>\n",
       "      <td>0.706215</td>\n",
       "      <td>0.057800</td>\n",
       "      <td>0.089140</td>\n",
       "    </tr>\n",
       "    <tr>\n",
       "      <th>prauc</th>\n",
       "      <td>0.925466</td>\n",
       "      <td>0.905557</td>\n",
       "      <td>-0.019909</td>\n",
       "      <td>-0.021513</td>\n",
       "    </tr>\n",
       "    <tr>\n",
       "      <th>roc</th>\n",
       "      <td>0.961871</td>\n",
       "      <td>0.953219</td>\n",
       "      <td>-0.008652</td>\n",
       "      <td>-0.008995</td>\n",
       "    </tr>\n",
       "    <tr>\n",
       "      <th>precision</th>\n",
       "      <td>0.957447</td>\n",
       "      <td>0.925926</td>\n",
       "      <td>-0.031521</td>\n",
       "      <td>-0.032922</td>\n",
       "    </tr>\n",
       "    <tr>\n",
       "      <th>recall</th>\n",
       "      <td>0.600000</td>\n",
       "      <td>0.666667</td>\n",
       "      <td>0.066667</td>\n",
       "      <td>0.111111</td>\n",
       "    </tr>\n",
       "    <tr>\n",
       "      <th>accuracy</th>\n",
       "      <td>0.872000</td>\n",
       "      <td>0.884000</td>\n",
       "      <td>0.012000</td>\n",
       "      <td>0.013761</td>\n",
       "    </tr>\n",
       "  </tbody>\n",
       "</table>\n",
       "</div>"
      ],
      "text/plain": [
       "              train      test      diff  pct_diff\n",
       "logloss    0.301875  0.316204  0.014329  0.047466\n",
       "f0.5       0.855513  0.859107  0.003593  0.004200\n",
       "f1         0.737705  0.775194  0.037489  0.050818\n",
       "f2         0.648415  0.706215  0.057800  0.089140\n",
       "prauc      0.925466  0.905557 -0.019909 -0.021513\n",
       "roc        0.961871  0.953219 -0.008652 -0.008995\n",
       "precision  0.957447  0.925926 -0.031521 -0.032922\n",
       "recall     0.600000  0.666667  0.066667  0.111111\n",
       "accuracy   0.872000  0.884000  0.012000  0.013761"
      ]
     },
     "execution_count": 116,
     "metadata": {},
     "output_type": "execute_result"
    }
   ],
   "source": [
    "classifier_report(clf1,X_train, X_test, y_train, y_test, threshold=0.65)"
   ]
  },
  {
   "cell_type": "code",
   "execution_count": 117,
   "id": "b8226648",
   "metadata": {},
   "outputs": [],
   "source": [
    "y_probas_train1 = clf1.predict_proba(X_train)"
   ]
  },
  {
   "cell_type": "code",
   "execution_count": 118,
   "id": "0dba53fa",
   "metadata": {},
   "outputs": [
    {
     "data": {
      "text/plain": [
       "{'confmat': <Axes: title={'center': 'Normalized Confusion Matrix'}, xlabel='Predicted label', ylabel='True label'>,\n",
       " 'roc': <Axes: title={'center': 'ROC Curves'}, xlabel='False Positive Rate', ylabel='True Positive Rate'>,\n",
       " 'pr': <Axes: title={'center': 'Precision-Recall Curve'}, xlabel='Recall', ylabel='Precision'>,\n",
       " 'cal': <Axes: title={'center': 'Calibration plots (Reliability Curves)'}, xlabel='Mean predicted value', ylabel='Fraction of positives'>,\n",
       " 'ks': <Axes: title={'center': 'KS Statistic Plot'}, xlabel='Threshold', ylabel='Percentage below threshold'>,\n",
       " 'lift': <Axes: title={'center': 'Lift Curve'}, xlabel='Percentage of sample', ylabel='Lift'>,\n",
       " 'gains': <Axes: title={'center': 'Cumulative Gains Curve'}, xlabel='Percentage of sample', ylabel='Gain'>}"
      ]
     },
     "execution_count": 118,
     "metadata": {},
     "output_type": "execute_result"
    },
    {
     "data": {
      "image/png": "[encoded data removed]",
      "text/plain": [
       "<Figure size 640x480 with 2 Axes>"
      ]
     },
     "metadata": {},
     "output_type": "display_data"
    },
    {
     "data": {
      "image/png": "[encoded data removed]",
      "text/plain": [
       "<Figure size 640x480 with 1 Axes>"
      ]
     },
     "metadata": {},
     "output_type": "display_data"
    },
    {
     "data": {
      "image/png": "[encoded data removed]",
      "text/plain": [
       "<Figure size 640x480 with 1 Axes>"
      ]
     },
     "metadata": {},
     "output_type": "display_data"
    },
    {
     "data": {
      "image/png": "[encoded data removed]",
      "text/plain": [
       "<Figure size 640x480 with 1 Axes>"
      ]
     },
     "metadata": {},
     "output_type": "display_data"
    },
    {
     "data": {
      "image/png": "[encoded data removed]",
      "text/plain": [
       "<Figure size 640x480 with 1 Axes>"
      ]
     },
     "metadata": {},
     "output_type": "display_data"
    },
    {
     "data": {
      "image/png": "[encoded data removed]",
      "text/plain": [
       "<Figure size 640x480 with 1 Axes>"
      ]
     },
     "metadata": {},
     "output_type": "display_data"
    },
    {
     "data": {
      "image/png": "[encoded data removed]",
      "text/plain": [
       "<Figure size 640x480 with 1 Axes>"
      ]
     },
     "metadata": {},
     "output_type": "display_data"
    }
   ],
   "source": [
    "classifier_plots(y_train,y_probas_train1)"
   ]
  },
  {
   "cell_type": "code",
   "execution_count": 129,
   "id": "d93177d3",
   "metadata": {},
   "outputs": [],
   "source": [
    "y_probas_train2 = clf2.predict_proba(X_train)"
   ]
  },
  {
   "cell_type": "code",
   "execution_count": 130,
   "id": "95170eb0",
   "metadata": {},
   "outputs": [],
   "source": [
    "probas_list = [y_probas_train1[:,1],y_probas_train2[:,1]]\n",
    "model_names = ['search1','search2']"
   ]
  },
  {
   "cell_type": "code",
   "execution_count": 140,
   "id": "bfc6530e",
   "metadata": {},
   "outputs": [],
   "source": [
    "plt1 = classifier_plots_int(y_train, probas_list, model_names)"
   ]
  },
  {
   "cell_type": "code",
   "execution_count": 144,
   "id": "40e81605",
   "metadata": {},
   "outputs": [
    {
     "data": {
      "text/plain": [
       "dict_keys(['roc', 'pr', 'cal'])"
      ]
     },
     "execution_count": 144,
     "metadata": {},
     "output_type": "execute_result"
    }
   ],
   "source": [
    "plt1.keys()"
   ]
  },
  {
   "cell_type": "code",
   "execution_count": 145,
   "id": "253c850e",
   "metadata": {},
   "outputs": [
    {
     "data": {
      "application/vnd.plotly.v1+json": {
       "config": {
        "plotlyServerURL": "https://plot.ly"
       },
       "data": [
        {
         "mode": "lines",
         "name": "search1",
         "type": "scatter",
         "x": [
          0,
          0,
          0,
          0.0019047619047619048,
          0.0019047619047619048,
          0.005714285714285714,
          0.005714285714285714,
          0.007619047619047619,
          0.007619047619047619,
          0.009523809523809525,
          0.009523809523809525,
          0.011428571428571429,
          0.011428571428571429,
          0.013333333333333334,
          0.013333333333333334,
          0.015238095238095238,
          0.015238095238095238,
          0.01904761904761905,
          0.01904761904761905,
          0.02095238095238095,
          0.02095238095238095,
          0.022857142857142857,
          0.022857142857142857,
          0.024761904761904763,
          0.024761904761904763,
          0.02857142857142857,
          0.02857142857142857,
          0.030476190476190476,
          0.030476190476190476,
          0.03238095238095238,
          0.03238095238095238,
          0.03619047619047619,
          0.03619047619047619,
          0.0380952380952381,
          0.0380952380952381,
          0.047619047619047616,
          0.047619047619047616,
          0.049523809523809526,
          0.049523809523809526,
          0.05904761904761905,
          0.05904761904761905,
          0.06476190476190476,
          0.06476190476190476,
          0.07428571428571429,
          0.07428571428571429,
          0.07809523809523809,
          0.07809523809523809,
          0.08,
          0.08,
          0.0838095238095238,
          0.0838095238095238,
          0.09904761904761905,
          0.09904761904761905,
          0.10285714285714286,
          0.10285714285714286,
          0.10476190476190476,
          0.10476190476190476,
          0.10666666666666667,
          0.10666666666666667,
          0.11428571428571428,
          0.11428571428571428,
          0.11619047619047619,
          0.11619047619047619,
          0.1219047619047619,
          0.1219047619047619,
          0.13142857142857142,
          0.13142857142857142,
          0.13333333333333333,
          0.13333333333333333,
          0.14285714285714285,
          0.14285714285714285,
          0.14476190476190476,
          0.14476190476190476,
          0.15619047619047619,
          0.15619047619047619,
          0.1580952380952381,
          0.1580952380952381,
          0.1657142857142857,
          0.1657142857142857,
          0.1676190476190476,
          0.1676190476190476,
          0.16952380952380952,
          0.16952380952380952,
          0.18476190476190477,
          0.18476190476190477,
          0.18857142857142858,
          0.19238095238095237,
          0.2,
          0.2,
          0.21714285714285714,
          0.21714285714285714,
          0.22095238095238096,
          0.22095238095238096,
          0.22666666666666666,
          0.22666666666666666,
          0.24571428571428572,
          0.24571428571428572,
          0.25333333333333335,
          0.25333333333333335,
          0.30857142857142855,
          0.30857142857142855,
          0.4514285714285714,
          0.4514285714285714,
          0.4552380952380952,
          0.46285714285714286,
          0.4685714285714286,
          0.4723809523809524,
          0.48,
          0.4838095238095238,
          0.49142857142857144,
          0.49523809523809526,
          0.5009523809523809,
          0.5047619047619047,
          0.5161904761904762,
          0.5352380952380953,
          0.5447619047619048,
          0.5485714285714286,
          0.5561904761904762,
          0.56,
          0.5676190476190476,
          0.5733333333333334,
          0.5752380952380952,
          0.5885714285714285,
          0.5923809523809523,
          0.5942857142857143,
          0.5980952380952381,
          0.6,
          0.6076190476190476,
          0.6095238095238096,
          0.638095238095238,
          0.6457142857142857,
          0.6495238095238095,
          0.6514285714285715,
          0.6552380952380953,
          0.659047619047619,
          0.6628571428571428,
          0.6685714285714286,
          0.6838095238095238,
          0.6876190476190476,
          0.6914285714285714,
          0.700952380952381,
          0.7066666666666667,
          0.7123809523809523,
          0.7161904761904762,
          0.7180952380952381,
          0.7219047619047619,
          0.7542857142857143,
          0.758095238095238,
          0.8038095238095239,
          0.8076190476190476,
          0.8228571428571428,
          0.8266666666666667,
          0.8685714285714285,
          0.8723809523809524,
          0.900952380952381,
          0.9047619047619048,
          0.9161904761904762,
          0.92,
          0.940952380952381,
          0.9485714285714286,
          0.9542857142857143,
          0.9619047619047619,
          0.9657142857142857,
          0.9695238095238096,
          0.9714285714285714,
          0.9752380952380952,
          0.9847619047619047,
          0.9923809523809524,
          0.9980952380952381,
          1
         ],
         "y": [
          0,
          0.0044444444444444444,
          0.49333333333333335,
          0.49333333333333335,
          0.56,
          0.56,
          0.5644444444444444,
          0.5644444444444444,
          0.5866666666666667,
          0.5866666666666667,
          0.5911111111111111,
          0.5911111111111111,
          0.6088888888888889,
          0.6088888888888889,
          0.6355555555555555,
          0.6355555555555555,
          0.6488888888888888,
          0.6488888888888888,
          0.6666666666666666,
          0.6666666666666666,
          0.6755555555555556,
          0.6755555555555556,
          0.6844444444444444,
          0.6844444444444444,
          0.6977777777777778,
          0.6977777777777778,
          0.7066666666666667,
          0.7066666666666667,
          0.7244444444444444,
          0.7244444444444444,
          0.7333333333333333,
          0.7333333333333333,
          0.7377777777777778,
          0.7377777777777778,
          0.7688888888888888,
          0.7688888888888888,
          0.7822222222222223,
          0.7822222222222223,
          0.7911111111111111,
          0.7911111111111111,
          0.8044444444444444,
          0.8044444444444444,
          0.8088888888888889,
          0.8088888888888889,
          0.8133333333333334,
          0.8133333333333334,
          0.8177777777777778,
          0.8177777777777778,
          0.8266666666666667,
          0.8266666666666667,
          0.8311111111111111,
          0.8311111111111111,
          0.8355555555555556,
          0.8355555555555556,
          0.84,
          0.84,
          0.8444444444444444,
          0.8444444444444444,
          0.8488888888888889,
          0.8488888888888889,
          0.8577777777777778,
          0.8577777777777778,
          0.8622222222222222,
          0.8622222222222222,
          0.8666666666666667,
          0.8666666666666667,
          0.8755555555555555,
          0.8755555555555555,
          0.88,
          0.88,
          0.8888888888888888,
          0.8888888888888888,
          0.9066666666666666,
          0.9066666666666666,
          0.9155555555555556,
          0.9155555555555556,
          0.92,
          0.92,
          0.9244444444444444,
          0.9244444444444444,
          0.9422222222222222,
          0.9422222222222222,
          0.9466666666666667,
          0.9466666666666667,
          0.9511111111111111,
          0.9511111111111111,
          0.9511111111111111,
          0.9511111111111111,
          0.96,
          0.96,
          0.9644444444444444,
          0.9644444444444444,
          0.9688888888888889,
          0.9688888888888889,
          0.9777777777777777,
          0.9777777777777777,
          0.9822222222222222,
          0.9822222222222222,
          0.9866666666666667,
          0.9866666666666667,
          0.9955555555555555,
          0.9955555555555555,
          1,
          1,
          1,
          1,
          1,
          1,
          1,
          1,
          1,
          1,
          1,
          1,
          1,
          1,
          1,
          1,
          1,
          1,
          1,
          1,
          1,
          1,
          1,
          1,
          1,
          1,
          1,
          1,
          1,
          1,
          1,
          1,
          1,
          1,
          1,
          1,
          1,
          1,
          1,
          1,
          1,
          1,
          1,
          1,
          1,
          1,
          1,
          1,
          1,
          1,
          1,
          1,
          1,
          1,
          1,
          1,
          1,
          1,
          1,
          1,
          1,
          1,
          1,
          1,
          1,
          1,
          1,
          1
         ]
        },
        {
         "mode": "lines",
         "name": "search2",
         "type": "scatter",
         "x": [
          0,
          0,
          0,
          0.0019047619047619048,
          0.0019047619047619048,
          0.005714285714285714,
          0.005714285714285714,
          0.007619047619047619,
          0.007619047619047619,
          0.009523809523809525,
          0.009523809523809525,
          0.011428571428571429,
          0.011428571428571429,
          0.013333333333333334,
          0.013333333333333334,
          0.015238095238095238,
          0.015238095238095238,
          0.01904761904761905,
          0.01904761904761905,
          0.02095238095238095,
          0.02095238095238095,
          0.022857142857142857,
          0.022857142857142857,
          0.024761904761904763,
          0.024761904761904763,
          0.02857142857142857,
          0.02857142857142857,
          0.030476190476190476,
          0.030476190476190476,
          0.03238095238095238,
          0.03238095238095238,
          0.03619047619047619,
          0.03619047619047619,
          0.0380952380952381,
          0.0380952380952381,
          0.047619047619047616,
          0.047619047619047616,
          0.049523809523809526,
          0.049523809523809526,
          0.05904761904761905,
          0.05904761904761905,
          0.06476190476190476,
          0.06476190476190476,
          0.07428571428571429,
          0.07428571428571429,
          0.07809523809523809,
          0.07809523809523809,
          0.08,
          0.08,
          0.0838095238095238,
          0.0838095238095238,
          0.09904761904761905,
          0.09904761904761905,
          0.10285714285714286,
          0.10285714285714286,
          0.10476190476190476,
          0.10476190476190476,
          0.10666666666666667,
          0.10666666666666667,
          0.11428571428571428,
          0.11428571428571428,
          0.11619047619047619,
          0.11619047619047619,
          0.1219047619047619,
          0.1219047619047619,
          0.13142857142857142,
          0.13142857142857142,
          0.13333333333333333,
          0.13333333333333333,
          0.14285714285714285,
          0.14285714285714285,
          0.14476190476190476,
          0.14476190476190476,
          0.15619047619047619,
          0.15619047619047619,
          0.1580952380952381,
          0.1580952380952381,
          0.1657142857142857,
          0.1657142857142857,
          0.1676190476190476,
          0.1676190476190476,
          0.16952380952380952,
          0.16952380952380952,
          0.18476190476190477,
          0.18476190476190477,
          0.18857142857142858,
          0.19238095238095237,
          0.2,
          0.2,
          0.21714285714285714,
          0.21714285714285714,
          0.22095238095238096,
          0.22095238095238096,
          0.22666666666666666,
          0.22666666666666666,
          0.24571428571428572,
          0.24571428571428572,
          0.25333333333333335,
          0.25333333333333335,
          0.30857142857142855,
          0.30857142857142855,
          0.4514285714285714,
          0.4514285714285714,
          0.4552380952380952,
          0.46285714285714286,
          0.4685714285714286,
          0.4723809523809524,
          0.48,
          0.4838095238095238,
          0.49142857142857144,
          0.49523809523809526,
          0.5009523809523809,
          0.5047619047619047,
          0.5161904761904762,
          0.5352380952380953,
          0.5447619047619048,
          0.5485714285714286,
          0.5561904761904762,
          0.56,
          0.5676190476190476,
          0.5733333333333334,
          0.5752380952380952,
          0.5885714285714285,
          0.5923809523809523,
          0.5942857142857143,
          0.5980952380952381,
          0.6,
          0.6076190476190476,
          0.6095238095238096,
          0.638095238095238,
          0.6457142857142857,
          0.6495238095238095,
          0.6514285714285715,
          0.6552380952380953,
          0.659047619047619,
          0.6628571428571428,
          0.6685714285714286,
          0.6838095238095238,
          0.6876190476190476,
          0.6914285714285714,
          0.700952380952381,
          0.7066666666666667,
          0.7123809523809523,
          0.7161904761904762,
          0.7180952380952381,
          0.7219047619047619,
          0.7542857142857143,
          0.758095238095238,
          0.8038095238095239,
          0.8076190476190476,
          0.8228571428571428,
          0.8266666666666667,
          0.8685714285714285,
          0.8723809523809524,
          0.900952380952381,
          0.9047619047619048,
          0.9161904761904762,
          0.92,
          0.940952380952381,
          0.9485714285714286,
          0.9542857142857143,
          0.9619047619047619,
          0.9657142857142857,
          0.9695238095238096,
          0.9714285714285714,
          0.9752380952380952,
          0.9847619047619047,
          0.9923809523809524,
          0.9980952380952381,
          1
         ],
         "y": [
          0,
          0.0044444444444444444,
          0.49333333333333335,
          0.49333333333333335,
          0.56,
          0.56,
          0.5644444444444444,
          0.5644444444444444,
          0.5866666666666667,
          0.5866666666666667,
          0.5911111111111111,
          0.5911111111111111,
          0.6088888888888889,
          0.6088888888888889,
          0.6355555555555555,
          0.6355555555555555,
          0.6488888888888888,
          0.6488888888888888,
          0.6666666666666666,
          0.6666666666666666,
          0.6755555555555556,
          0.6755555555555556,
          0.6844444444444444,
          0.6844444444444444,
          0.6977777777777778,
          0.6977777777777778,
          0.7066666666666667,
          0.7066666666666667,
          0.7244444444444444,
          0.7244444444444444,
          0.7333333333333333,
          0.7333333333333333,
          0.7377777777777778,
          0.7377777777777778,
          0.7688888888888888,
          0.7688888888888888,
          0.7822222222222223,
          0.7822222222222223,
          0.7911111111111111,
          0.7911111111111111,
          0.8044444444444444,
          0.8044444444444444,
          0.8088888888888889,
          0.8088888888888889,
          0.8133333333333334,
          0.8133333333333334,
          0.8177777777777778,
          0.8177777777777778,
          0.8266666666666667,
          0.8266666666666667,
          0.8311111111111111,
          0.8311111111111111,
          0.8355555555555556,
          0.8355555555555556,
          0.84,
          0.84,
          0.8444444444444444,
          0.8444444444444444,
          0.8488888888888889,
          0.8488888888888889,
          0.8577777777777778,
          0.8577777777777778,
          0.8622222222222222,
          0.8622222222222222,
          0.8666666666666667,
          0.8666666666666667,
          0.8755555555555555,
          0.8755555555555555,
          0.88,
          0.88,
          0.8888888888888888,
          0.8888888888888888,
          0.9066666666666666,
          0.9066666666666666,
          0.9155555555555556,
          0.9155555555555556,
          0.92,
          0.92,
          0.9244444444444444,
          0.9244444444444444,
          0.9422222222222222,
          0.9422222222222222,
          0.9466666666666667,
          0.9466666666666667,
          0.9511111111111111,
          0.9511111111111111,
          0.9511111111111111,
          0.9511111111111111,
          0.96,
          0.96,
          0.9644444444444444,
          0.9644444444444444,
          0.9688888888888889,
          0.9688888888888889,
          0.9777777777777777,
          0.9777777777777777,
          0.9822222222222222,
          0.9822222222222222,
          0.9866666666666667,
          0.9866666666666667,
          0.9955555555555555,
          0.9955555555555555,
          1,
          1,
          1,
          1,
          1,
          1,
          1,
          1,
          1,
          1,
          1,
          1,
          1,
          1,
          1,
          1,
          1,
          1,
          1,
          1,
          1,
          1,
          1,
          1,
          1,
          1,
          1,
          1,
          1,
          1,
          1,
          1,
          1,
          1,
          1,
          1,
          1,
          1,
          1,
          1,
          1,
          1,
          1,
          1,
          1,
          1,
          1,
          1,
          1,
          1,
          1,
          1,
          1,
          1,
          1,
          1,
          1,
          1,
          1,
          1,
          1,
          1,
          1,
          1,
          1,
          1,
          1,
          1
         ]
        }
       ],
       "layout": {
        "shapes": [
         {
          "line": {
           "color": "gray",
           "dash": "dash"
          },
          "type": "line",
          "x0": 0,
          "x1": 1,
          "xref": "x",
          "y0": 0,
          "y1": 1,
          "yref": "y"
         }
        ],
        "template": {
         "data": {
          "bar": [
           {
            "error_x": {
             "color": "#2a3f5f"
            },
            "error_y": {
             "color": "#2a3f5f"
            },
            "marker": {
             "line": {
              "color": "#E5ECF6",
              "width": 0.5
             },
             "pattern": {
              "fillmode": "overlay",
              "size": 10,
              "solidity": 0.2
             }
            },
            "type": "bar"
           }
          ],
          "barpolar": [
           {
            "marker": {
             "line": {
              "color": "#E5ECF6",
              "width": 0.5
             },
             "pattern": {
              "fillmode": "overlay",
              "size": 10,
              "solidity": 0.2
             }
            },
            "type": "barpolar"
           }
          ],
          "carpet": [
           {
            "aaxis": {
             "endlinecolor": "#2a3f5f",
             "gridcolor": "white",
             "linecolor": "white",
             "minorgridcolor": "white",
             "startlinecolor": "#2a3f5f"
            },
            "baxis": {
             "endlinecolor": "#2a3f5f",
             "gridcolor": "white",
             "linecolor": "white",
             "minorgridcolor": "white",
             "startlinecolor": "#2a3f5f"
            },
            "type": "carpet"
           }
          ],
          "choropleth": [
           {
            "colorbar": {
             "outlinewidth": 0,
             "ticks": ""
            },
            "type": "choropleth"
           }
          ],
          "contour": [
           {
            "colorbar": {
             "outlinewidth": 0,
             "ticks": ""
            },
            "colorscale": [
             [
              0,
              "#0d0887"
             ],
             [
              0.1111111111111111,
              "#46039f"
             ],
             [
              0.2222222222222222,
              "#7201a8"
             ],
             [
              0.3333333333333333,
              "#9c179e"
             ],
             [
              0.4444444444444444,
              "#bd3786"
             ],
             [
              0.5555555555555556,
              "#d8576b"
             ],
             [
              0.6666666666666666,
              "#ed7953"
             ],
             [
              0.7777777777777778,
              "#fb9f3a"
             ],
             [
              0.8888888888888888,
              "#fdca26"
             ],
             [
              1,
              "#f0f921"
             ]
            ],
            "type": "contour"
           }
          ],
          "contourcarpet": [
           {
            "colorbar": {
             "outlinewidth": 0,
             "ticks": ""
            },
            "type": "contourcarpet"
           }
          ],
          "heatmap": [
           {
            "colorbar": {
             "outlinewidth": 0,
             "ticks": ""
            },
            "colorscale": [
             [
              0,
              "#0d0887"
             ],
             [
              0.1111111111111111,
              "#46039f"
             ],
             [
              0.2222222222222222,
              "#7201a8"
             ],
             [
              0.3333333333333333,
              "#9c179e"
             ],
             [
              0.4444444444444444,
              "#bd3786"
             ],
             [
              0.5555555555555556,
              "#d8576b"
             ],
             [
              0.6666666666666666,
              "#ed7953"
             ],
             [
              0.7777777777777778,
              "#fb9f3a"
             ],
             [
              0.8888888888888888,
              "#fdca26"
             ],
             [
              1,
              "#f0f921"
             ]
            ],
            "type": "heatmap"
           }
          ],
          "heatmapgl": [
           {
            "colorbar": {
             "outlinewidth": 0,
             "ticks": ""
            },
            "colorscale": [
             [
              0,
              "#0d0887"
             ],
             [
              0.1111111111111111,
              "#46039f"
             ],
             [
              0.2222222222222222,
              "#7201a8"
             ],
             [
              0.3333333333333333,
              "#9c179e"
             ],
             [
              0.4444444444444444,
              "#bd3786"
             ],
             [
              0.5555555555555556,
              "#d8576b"
             ],
             [
              0.6666666666666666,
              "#ed7953"
             ],
             [
              0.7777777777777778,
              "#fb9f3a"
             ],
             [
              0.8888888888888888,
              "#fdca26"
             ],
             [
              1,
              "#f0f921"
             ]
            ],
            "type": "heatmapgl"
           }
          ],
          "histogram": [
           {
            "marker": {
             "pattern": {
              "fillmode": "overlay",
              "size": 10,
              "solidity": 0.2
             }
            },
            "type": "histogram"
           }
          ],
          "histogram2d": [
           {
            "colorbar": {
             "outlinewidth": 0,
             "ticks": ""
            },
            "colorscale": [
             [
              0,
              "#0d0887"
             ],
             [
              0.1111111111111111,
              "#46039f"
             ],
             [
              0.2222222222222222,
              "#7201a8"
             ],
             [
              0.3333333333333333,
              "#9c179e"
             ],
             [
              0.4444444444444444,
              "#bd3786"
             ],
             [
              0.5555555555555556,
              "#d8576b"
             ],
             [
              0.6666666666666666,
              "#ed7953"
             ],
             [
              0.7777777777777778,
              "#fb9f3a"
             ],
             [
              0.8888888888888888,
              "#fdca26"
             ],
             [
              1,
              "#f0f921"
             ]
            ],
            "type": "histogram2d"
           }
          ],
          "histogram2dcontour": [
           {
            "colorbar": {
             "outlinewidth": 0,
             "ticks": ""
            },
            "colorscale": [
             [
              0,
              "#0d0887"
             ],
             [
              0.1111111111111111,
              "#46039f"
             ],
             [
              0.2222222222222222,
              "#7201a8"
             ],
             [
              0.3333333333333333,
              "#9c179e"
             ],
             [
              0.4444444444444444,
              "#bd3786"
             ],
             [
              0.5555555555555556,
              "#d8576b"
             ],
             [
              0.6666666666666666,
              "#ed7953"
             ],
             [
              0.7777777777777778,
              "#fb9f3a"
             ],
             [
              0.8888888888888888,
              "#fdca26"
             ],
             [
              1,
              "#f0f921"
             ]
            ],
            "type": "histogram2dcontour"
           }
          ],
          "mesh3d": [
           {
            "colorbar": {
             "outlinewidth": 0,
             "ticks": ""
            },
            "type": "mesh3d"
           }
          ],
          "parcoords": [
           {
            "line": {
             "colorbar": {
              "outlinewidth": 0,
              "ticks": ""
             }
            },
            "type": "parcoords"
           }
          ],
          "pie": [
           {
            "automargin": true,
            "type": "pie"
           }
          ],
          "scatter": [
           {
            "fillpattern": {
             "fillmode": "overlay",
             "size": 10,
             "solidity": 0.2
            },
            "type": "scatter"
           }
          ],
          "scatter3d": [
           {
            "line": {
             "colorbar": {
              "outlinewidth": 0,
              "ticks": ""
             }
            },
            "marker": {
             "colorbar": {
              "outlinewidth": 0,
              "ticks": ""
             }
            },
            "type": "scatter3d"
           }
          ],
          "scattercarpet": [
           {
            "marker": {
             "colorbar": {
              "outlinewidth": 0,
              "ticks": ""
             }
            },
            "type": "scattercarpet"
           }
          ],
          "scattergeo": [
           {
            "marker": {
             "colorbar": {
              "outlinewidth": 0,
              "ticks": ""
             }
            },
            "type": "scattergeo"
           }
          ],
          "scattergl": [
           {
            "marker": {
             "colorbar": {
              "outlinewidth": 0,
              "ticks": ""
             }
            },
            "type": "scattergl"
           }
          ],
          "scattermapbox": [
           {
            "marker": {
             "colorbar": {
              "outlinewidth": 0,
              "ticks": ""
             }
            },
            "type": "scattermapbox"
           }
          ],
          "scatterpolar": [
           {
            "marker": {
             "colorbar": {
              "outlinewidth": 0,
              "ticks": ""
             }
            },
            "type": "scatterpolar"
           }
          ],
          "scatterpolargl": [
           {
            "marker": {
             "colorbar": {
              "outlinewidth": 0,
              "ticks": ""
             }
            },
            "type": "scatterpolargl"
           }
          ],
          "scatterternary": [
           {
            "marker": {
             "colorbar": {
              "outlinewidth": 0,
              "ticks": ""
             }
            },
            "type": "scatterternary"
           }
          ],
          "surface": [
           {
            "colorbar": {
             "outlinewidth": 0,
             "ticks": ""
            },
            "colorscale": [
             [
              0,
              "#0d0887"
             ],
             [
              0.1111111111111111,
              "#46039f"
             ],
             [
              0.2222222222222222,
              "#7201a8"
             ],
             [
              0.3333333333333333,
              "#9c179e"
             ],
             [
              0.4444444444444444,
              "#bd3786"
             ],
             [
              0.5555555555555556,
              "#d8576b"
             ],
             [
              0.6666666666666666,
              "#ed7953"
             ],
             [
              0.7777777777777778,
              "#fb9f3a"
             ],
             [
              0.8888888888888888,
              "#fdca26"
             ],
             [
              1,
              "#f0f921"
             ]
            ],
            "type": "surface"
           }
          ],
          "table": [
           {
            "cells": {
             "fill": {
              "color": "#EBF0F8"
             },
             "line": {
              "color": "white"
             }
            },
            "header": {
             "fill": {
              "color": "#C8D4E3"
             },
             "line": {
              "color": "white"
             }
            },
            "type": "table"
           }
          ]
         },
         "layout": {
          "annotationdefaults": {
           "arrowcolor": "#2a3f5f",
           "arrowhead": 0,
           "arrowwidth": 1
          },
          "autotypenumbers": "strict",
          "coloraxis": {
           "colorbar": {
            "outlinewidth": 0,
            "ticks": ""
           }
          },
          "colorscale": {
           "diverging": [
            [
             0,
             "#8e0152"
            ],
            [
             0.1,
             "#c51b7d"
            ],
            [
             0.2,
             "#de77ae"
            ],
            [
             0.3,
             "#f1b6da"
            ],
            [
             0.4,
             "#fde0ef"
            ],
            [
             0.5,
             "#f7f7f7"
            ],
            [
             0.6,
             "#e6f5d0"
            ],
            [
             0.7,
             "#b8e186"
            ],
            [
             0.8,
             "#7fbc41"
            ],
            [
             0.9,
             "#4d9221"
            ],
            [
             1,
             "#276419"
            ]
           ],
           "sequential": [
            [
             0,
             "#0d0887"
            ],
            [
             0.1111111111111111,
             "#46039f"
            ],
            [
             0.2222222222222222,
             "#7201a8"
            ],
            [
             0.3333333333333333,
             "#9c179e"
            ],
            [
             0.4444444444444444,
             "#bd3786"
            ],
            [
             0.5555555555555556,
             "#d8576b"
            ],
            [
             0.6666666666666666,
             "#ed7953"
            ],
            [
             0.7777777777777778,
             "#fb9f3a"
            ],
            [
             0.8888888888888888,
             "#fdca26"
            ],
            [
             1,
             "#f0f921"
            ]
           ],
           "sequentialminus": [
            [
             0,
             "#0d0887"
            ],
            [
             0.1111111111111111,
             "#46039f"
            ],
            [
             0.2222222222222222,
             "#7201a8"
            ],
            [
             0.3333333333333333,
             "#9c179e"
            ],
            [
             0.4444444444444444,
             "#bd3786"
            ],
            [
             0.5555555555555556,
             "#d8576b"
            ],
            [
             0.6666666666666666,
             "#ed7953"
            ],
            [
             0.7777777777777778,
             "#fb9f3a"
            ],
            [
             0.8888888888888888,
             "#fdca26"
            ],
            [
             1,
             "#f0f921"
            ]
           ]
          },
          "colorway": [
           "#636efa",
           "#EF553B",
           "#00cc96",
           "#ab63fa",
           "#FFA15A",
           "#19d3f3",
           "#FF6692",
           "#B6E880",
           "#FF97FF",
           "#FECB52"
          ],
          "font": {
           "color": "#2a3f5f"
          },
          "geo": {
           "bgcolor": "white",
           "lakecolor": "white",
           "landcolor": "#E5ECF6",
           "showlakes": true,
           "showland": true,
           "subunitcolor": "white"
          },
          "hoverlabel": {
           "align": "left"
          },
          "hovermode": "closest",
          "mapbox": {
           "style": "light"
          },
          "paper_bgcolor": "white",
          "plot_bgcolor": "#E5ECF6",
          "polar": {
           "angularaxis": {
            "gridcolor": "white",
            "linecolor": "white",
            "ticks": ""
           },
           "bgcolor": "#E5ECF6",
           "radialaxis": {
            "gridcolor": "white",
            "linecolor": "white",
            "ticks": ""
           }
          },
          "scene": {
           "xaxis": {
            "backgroundcolor": "#E5ECF6",
            "gridcolor": "white",
            "gridwidth": 2,
            "linecolor": "white",
            "showbackground": true,
            "ticks": "",
            "zerolinecolor": "white"
           },
           "yaxis": {
            "backgroundcolor": "#E5ECF6",
            "gridcolor": "white",
            "gridwidth": 2,
            "linecolor": "white",
            "showbackground": true,
            "ticks": "",
            "zerolinecolor": "white"
           },
           "zaxis": {
            "backgroundcolor": "#E5ECF6",
            "gridcolor": "white",
            "gridwidth": 2,
            "linecolor": "white",
            "showbackground": true,
            "ticks": "",
            "zerolinecolor": "white"
           }
          },
          "shapedefaults": {
           "line": {
            "color": "#2a3f5f"
           }
          },
          "ternary": {
           "aaxis": {
            "gridcolor": "white",
            "linecolor": "white",
            "ticks": ""
           },
           "baxis": {
            "gridcolor": "white",
            "linecolor": "white",
            "ticks": ""
           },
           "bgcolor": "#E5ECF6",
           "caxis": {
            "gridcolor": "white",
            "linecolor": "white",
            "ticks": ""
           }
          },
          "title": {
           "x": 0.05
          },
          "xaxis": {
           "automargin": true,
           "gridcolor": "white",
           "linecolor": "white",
           "ticks": "",
           "title": {
            "standoff": 15
           },
           "zerolinecolor": "white",
           "zerolinewidth": 2
          },
          "yaxis": {
           "automargin": true,
           "gridcolor": "white",
           "linecolor": "white",
           "ticks": "",
           "title": {
            "standoff": 15
           },
           "zerolinecolor": "white",
           "zerolinewidth": 2
          }
         }
        },
        "title": {
         "text": "ROC Curve"
        }
       }
      },
      "text/html": [
       "<div>                            <div id=\"8cb065e2-8540-49cb-b525-a23fec781949\" class=\"plotly-graph-div\" style=\"height:525px; width:100%;\"></div>            <script type=\"text/javascript\">                require([\"plotly\"], function(Plotly) {                    window.PLOTLYENV=window.PLOTLYENV || {};                                    if (document.getElementById(\"8cb065e2-8540-49cb-b525-a23fec781949\")) {                    Plotly.newPlot(                        \"8cb065e2-8540-49cb-b525-a23fec781949\",                        [{\"mode\":\"lines\",\"name\":\"search1\",\"x\":[0.0,0.0,0.0,0.0019047619047619048,0.0019047619047619048,0.005714285714285714,0.005714285714285714,0.007619047619047619,0.007619047619047619,0.009523809523809525,0.009523809523809525,0.011428571428571429,0.011428571428571429,0.013333333333333334,0.013333333333333334,0.015238095238095238,0.015238095238095238,0.01904761904761905,0.01904761904761905,0.02095238095238095,0.02095238095238095,0.022857142857142857,0.022857142857142857,0.024761904761904763,0.024761904761904763,0.02857142857142857,0.02857142857142857,0.030476190476190476,0.030476190476190476,0.03238095238095238,0.03238095238095238,0.03619047619047619,0.03619047619047619,0.0380952380952381,0.0380952380952381,0.047619047619047616,0.047619047619047616,0.049523809523809526,0.049523809523809526,0.05904761904761905,0.05904761904761905,0.06476190476190476,0.06476190476190476,0.07428571428571429,0.07428571428571429,0.07809523809523809,0.07809523809523809,0.08,0.08,0.0838095238095238,0.0838095238095238,0.09904761904761905,0.09904761904761905,0.10285714285714286,0.10285714285714286,0.10476190476190476,0.10476190476190476,0.10666666666666667,0.10666666666666667,0.11428571428571428,0.11428571428571428,0.11619047619047619,0.11619047619047619,0.1219047619047619,0.1219047619047619,0.13142857142857142,0.13142857142857142,0.13333333333333333,0.13333333333333333,0.14285714285714285,0.14285714285714285,0.14476190476190476,0.14476190476190476,0.15619047619047619,0.15619047619047619,0.1580952380952381,0.1580952380952381,0.1657142857142857,0.1657142857142857,0.1676190476190476,0.1676190476190476,0.16952380952380952,0.16952380952380952,0.18476190476190477,0.18476190476190477,0.18857142857142858,0.19238095238095237,0.2,0.2,0.21714285714285714,0.21714285714285714,0.22095238095238096,0.22095238095238096,0.22666666666666666,0.22666666666666666,0.24571428571428572,0.24571428571428572,0.25333333333333335,0.25333333333333335,0.30857142857142855,0.30857142857142855,0.4514285714285714,0.4514285714285714,0.4552380952380952,0.46285714285714286,0.4685714285714286,0.4723809523809524,0.48,0.4838095238095238,0.49142857142857144,0.49523809523809526,0.5009523809523809,0.5047619047619047,0.5161904761904762,0.5352380952380953,0.5447619047619048,0.5485714285714286,0.5561904761904762,0.56,0.5676190476190476,0.5733333333333334,0.5752380952380952,0.5885714285714285,0.5923809523809523,0.5942857142857143,0.5980952380952381,0.6,0.6076190476190476,0.6095238095238096,0.638095238095238,0.6457142857142857,0.6495238095238095,0.6514285714285715,0.6552380952380953,0.659047619047619,0.6628571428571428,0.6685714285714286,0.6838095238095238,0.6876190476190476,0.6914285714285714,0.700952380952381,0.7066666666666667,0.7123809523809523,0.7161904761904762,0.7180952380952381,0.7219047619047619,0.7542857142857143,0.758095238095238,0.8038095238095239,0.8076190476190476,0.8228571428571428,0.8266666666666667,0.8685714285714285,0.8723809523809524,0.900952380952381,0.9047619047619048,0.9161904761904762,0.92,0.940952380952381,0.9485714285714286,0.9542857142857143,0.9619047619047619,0.9657142857142857,0.9695238095238096,0.9714285714285714,0.9752380952380952,0.9847619047619047,0.9923809523809524,0.9980952380952381,1.0],\"y\":[0.0,0.0044444444444444444,0.49333333333333335,0.49333333333333335,0.56,0.56,0.5644444444444444,0.5644444444444444,0.5866666666666667,0.5866666666666667,0.5911111111111111,0.5911111111111111,0.6088888888888889,0.6088888888888889,0.6355555555555555,0.6355555555555555,0.6488888888888888,0.6488888888888888,0.6666666666666666,0.6666666666666666,0.6755555555555556,0.6755555555555556,0.6844444444444444,0.6844444444444444,0.6977777777777778,0.6977777777777778,0.7066666666666667,0.7066666666666667,0.7244444444444444,0.7244444444444444,0.7333333333333333,0.7333333333333333,0.7377777777777778,0.7377777777777778,0.7688888888888888,0.7688888888888888,0.7822222222222223,0.7822222222222223,0.7911111111111111,0.7911111111111111,0.8044444444444444,0.8044444444444444,0.8088888888888889,0.8088888888888889,0.8133333333333334,0.8133333333333334,0.8177777777777778,0.8177777777777778,0.8266666666666667,0.8266666666666667,0.8311111111111111,0.8311111111111111,0.8355555555555556,0.8355555555555556,0.84,0.84,0.8444444444444444,0.8444444444444444,0.8488888888888889,0.8488888888888889,0.8577777777777778,0.8577777777777778,0.8622222222222222,0.8622222222222222,0.8666666666666667,0.8666666666666667,0.8755555555555555,0.8755555555555555,0.88,0.88,0.8888888888888888,0.8888888888888888,0.9066666666666666,0.9066666666666666,0.9155555555555556,0.9155555555555556,0.92,0.92,0.9244444444444444,0.9244444444444444,0.9422222222222222,0.9422222222222222,0.9466666666666667,0.9466666666666667,0.9511111111111111,0.9511111111111111,0.9511111111111111,0.9511111111111111,0.96,0.96,0.9644444444444444,0.9644444444444444,0.9688888888888889,0.9688888888888889,0.9777777777777777,0.9777777777777777,0.9822222222222222,0.9822222222222222,0.9866666666666667,0.9866666666666667,0.9955555555555555,0.9955555555555555,1.0,1.0,1.0,1.0,1.0,1.0,1.0,1.0,1.0,1.0,1.0,1.0,1.0,1.0,1.0,1.0,1.0,1.0,1.0,1.0,1.0,1.0,1.0,1.0,1.0,1.0,1.0,1.0,1.0,1.0,1.0,1.0,1.0,1.0,1.0,1.0,1.0,1.0,1.0,1.0,1.0,1.0,1.0,1.0,1.0,1.0,1.0,1.0,1.0,1.0,1.0,1.0,1.0,1.0,1.0,1.0,1.0,1.0,1.0,1.0,1.0,1.0,1.0,1.0,1.0,1.0,1.0,1.0],\"type\":\"scatter\"},{\"mode\":\"lines\",\"name\":\"search2\",\"x\":[0.0,0.0,0.0,0.0019047619047619048,0.0019047619047619048,0.005714285714285714,0.005714285714285714,0.007619047619047619,0.007619047619047619,0.009523809523809525,0.009523809523809525,0.011428571428571429,0.011428571428571429,0.013333333333333334,0.013333333333333334,0.015238095238095238,0.015238095238095238,0.01904761904761905,0.01904761904761905,0.02095238095238095,0.02095238095238095,0.022857142857142857,0.022857142857142857,0.024761904761904763,0.024761904761904763,0.02857142857142857,0.02857142857142857,0.030476190476190476,0.030476190476190476,0.03238095238095238,0.03238095238095238,0.03619047619047619,0.03619047619047619,0.0380952380952381,0.0380952380952381,0.047619047619047616,0.047619047619047616,0.049523809523809526,0.049523809523809526,0.05904761904761905,0.05904761904761905,0.06476190476190476,0.06476190476190476,0.07428571428571429,0.07428571428571429,0.07809523809523809,0.07809523809523809,0.08,0.08,0.0838095238095238,0.0838095238095238,0.09904761904761905,0.09904761904761905,0.10285714285714286,0.10285714285714286,0.10476190476190476,0.10476190476190476,0.10666666666666667,0.10666666666666667,0.11428571428571428,0.11428571428571428,0.11619047619047619,0.11619047619047619,0.1219047619047619,0.1219047619047619,0.13142857142857142,0.13142857142857142,0.13333333333333333,0.13333333333333333,0.14285714285714285,0.14285714285714285,0.14476190476190476,0.14476190476190476,0.15619047619047619,0.15619047619047619,0.1580952380952381,0.1580952380952381,0.1657142857142857,0.1657142857142857,0.1676190476190476,0.1676190476190476,0.16952380952380952,0.16952380952380952,0.18476190476190477,0.18476190476190477,0.18857142857142858,0.19238095238095237,0.2,0.2,0.21714285714285714,0.21714285714285714,0.22095238095238096,0.22095238095238096,0.22666666666666666,0.22666666666666666,0.24571428571428572,0.24571428571428572,0.25333333333333335,0.25333333333333335,0.30857142857142855,0.30857142857142855,0.4514285714285714,0.4514285714285714,0.4552380952380952,0.46285714285714286,0.4685714285714286,0.4723809523809524,0.48,0.4838095238095238,0.49142857142857144,0.49523809523809526,0.5009523809523809,0.5047619047619047,0.5161904761904762,0.5352380952380953,0.5447619047619048,0.5485714285714286,0.5561904761904762,0.56,0.5676190476190476,0.5733333333333334,0.5752380952380952,0.5885714285714285,0.5923809523809523,0.5942857142857143,0.5980952380952381,0.6,0.6076190476190476,0.6095238095238096,0.638095238095238,0.6457142857142857,0.6495238095238095,0.6514285714285715,0.6552380952380953,0.659047619047619,0.6628571428571428,0.6685714285714286,0.6838095238095238,0.6876190476190476,0.6914285714285714,0.700952380952381,0.7066666666666667,0.7123809523809523,0.7161904761904762,0.7180952380952381,0.7219047619047619,0.7542857142857143,0.758095238095238,0.8038095238095239,0.8076190476190476,0.8228571428571428,0.8266666666666667,0.8685714285714285,0.8723809523809524,0.900952380952381,0.9047619047619048,0.9161904761904762,0.92,0.940952380952381,0.9485714285714286,0.9542857142857143,0.9619047619047619,0.9657142857142857,0.9695238095238096,0.9714285714285714,0.9752380952380952,0.9847619047619047,0.9923809523809524,0.9980952380952381,1.0],\"y\":[0.0,0.0044444444444444444,0.49333333333333335,0.49333333333333335,0.56,0.56,0.5644444444444444,0.5644444444444444,0.5866666666666667,0.5866666666666667,0.5911111111111111,0.5911111111111111,0.6088888888888889,0.6088888888888889,0.6355555555555555,0.6355555555555555,0.6488888888888888,0.6488888888888888,0.6666666666666666,0.6666666666666666,0.6755555555555556,0.6755555555555556,0.6844444444444444,0.6844444444444444,0.6977777777777778,0.6977777777777778,0.7066666666666667,0.7066666666666667,0.7244444444444444,0.7244444444444444,0.7333333333333333,0.7333333333333333,0.7377777777777778,0.7377777777777778,0.7688888888888888,0.7688888888888888,0.7822222222222223,0.7822222222222223,0.7911111111111111,0.7911111111111111,0.8044444444444444,0.8044444444444444,0.8088888888888889,0.8088888888888889,0.8133333333333334,0.8133333333333334,0.8177777777777778,0.8177777777777778,0.8266666666666667,0.8266666666666667,0.8311111111111111,0.8311111111111111,0.8355555555555556,0.8355555555555556,0.84,0.84,0.8444444444444444,0.8444444444444444,0.8488888888888889,0.8488888888888889,0.8577777777777778,0.8577777777777778,0.8622222222222222,0.8622222222222222,0.8666666666666667,0.8666666666666667,0.8755555555555555,0.8755555555555555,0.88,0.88,0.8888888888888888,0.8888888888888888,0.9066666666666666,0.9066666666666666,0.9155555555555556,0.9155555555555556,0.92,0.92,0.9244444444444444,0.9244444444444444,0.9422222222222222,0.9422222222222222,0.9466666666666667,0.9466666666666667,0.9511111111111111,0.9511111111111111,0.9511111111111111,0.9511111111111111,0.96,0.96,0.9644444444444444,0.9644444444444444,0.9688888888888889,0.9688888888888889,0.9777777777777777,0.9777777777777777,0.9822222222222222,0.9822222222222222,0.9866666666666667,0.9866666666666667,0.9955555555555555,0.9955555555555555,1.0,1.0,1.0,1.0,1.0,1.0,1.0,1.0,1.0,1.0,1.0,1.0,1.0,1.0,1.0,1.0,1.0,1.0,1.0,1.0,1.0,1.0,1.0,1.0,1.0,1.0,1.0,1.0,1.0,1.0,1.0,1.0,1.0,1.0,1.0,1.0,1.0,1.0,1.0,1.0,1.0,1.0,1.0,1.0,1.0,1.0,1.0,1.0,1.0,1.0,1.0,1.0,1.0,1.0,1.0,1.0,1.0,1.0,1.0,1.0,1.0,1.0,1.0,1.0,1.0,1.0,1.0,1.0],\"type\":\"scatter\"}],                        {\"template\":{\"data\":{\"histogram2dcontour\":[{\"type\":\"histogram2dcontour\",\"colorbar\":{\"outlinewidth\":0,\"ticks\":\"\"},\"colorscale\":[[0.0,\"#0d0887\"],[0.1111111111111111,\"#46039f\"],[0.2222222222222222,\"#7201a8\"],[0.3333333333333333,\"#9c179e\"],[0.4444444444444444,\"#bd3786\"],[0.5555555555555556,\"#d8576b\"],[0.6666666666666666,\"#ed7953\"],[0.7777777777777778,\"#fb9f3a\"],[0.8888888888888888,\"#fdca26\"],[1.0,\"#f0f921\"]]}],\"choropleth\":[{\"type\":\"choropleth\",\"colorbar\":{\"outlinewidth\":0,\"ticks\":\"\"}}],\"histogram2d\":[{\"type\":\"histogram2d\",\"colorbar\":{\"outlinewidth\":0,\"ticks\":\"\"},\"colorscale\":[[0.0,\"#0d0887\"],[0.1111111111111111,\"#46039f\"],[0.2222222222222222,\"#7201a8\"],[0.3333333333333333,\"#9c179e\"],[0.4444444444444444,\"#bd3786\"],[0.5555555555555556,\"#d8576b\"],[0.6666666666666666,\"#ed7953\"],[0.7777777777777778,\"#fb9f3a\"],[0.8888888888888888,\"#fdca26\"],[1.0,\"#f0f921\"]]}],\"heatmap\":[{\"type\":\"heatmap\",\"colorbar\":{\"outlinewidth\":0,\"ticks\":\"\"},\"colorscale\":[[0.0,\"#0d0887\"],[0.1111111111111111,\"#46039f\"],[0.2222222222222222,\"#7201a8\"],[0.3333333333333333,\"#9c179e\"],[0.4444444444444444,\"#bd3786\"],[0.5555555555555556,\"#d8576b\"],[0.6666666666666666,\"#ed7953\"],[0.7777777777777778,\"#fb9f3a\"],[0.8888888888888888,\"#fdca26\"],[1.0,\"#f0f921\"]]}],\"heatmapgl\":[{\"type\":\"heatmapgl\",\"colorbar\":{\"outlinewidth\":0,\"ticks\":\"\"},\"colorscale\":[[0.0,\"#0d0887\"],[0.1111111111111111,\"#46039f\"],[0.2222222222222222,\"#7201a8\"],[0.3333333333333333,\"#9c179e\"],[0.4444444444444444,\"#bd3786\"],[0.5555555555555556,\"#d8576b\"],[0.6666666666666666,\"#ed7953\"],[0.7777777777777778,\"#fb9f3a\"],[0.8888888888888888,\"#fdca26\"],[1.0,\"#f0f921\"]]}],\"contourcarpet\":[{\"type\":\"contourcarpet\",\"colorbar\":{\"outlinewidth\":0,\"ticks\":\"\"}}],\"contour\":[{\"type\":\"contour\",\"colorbar\":{\"outlinewidth\":0,\"ticks\":\"\"},\"colorscale\":[[0.0,\"#0d0887\"],[0.1111111111111111,\"#46039f\"],[0.2222222222222222,\"#7201a8\"],[0.3333333333333333,\"#9c179e\"],[0.4444444444444444,\"#bd3786\"],[0.5555555555555556,\"#d8576b\"],[0.6666666666666666,\"#ed7953\"],[0.7777777777777778,\"#fb9f3a\"],[0.8888888888888888,\"#fdca26\"],[1.0,\"#f0f921\"]]}],\"surface\":[{\"type\":\"surface\",\"colorbar\":{\"outlinewidth\":0,\"ticks\":\"\"},\"colorscale\":[[0.0,\"#0d0887\"],[0.1111111111111111,\"#46039f\"],[0.2222222222222222,\"#7201a8\"],[0.3333333333333333,\"#9c179e\"],[0.4444444444444444,\"#bd3786\"],[0.5555555555555556,\"#d8576b\"],[0.6666666666666666,\"#ed7953\"],[0.7777777777777778,\"#fb9f3a\"],[0.8888888888888888,\"#fdca26\"],[1.0,\"#f0f921\"]]}],\"mesh3d\":[{\"type\":\"mesh3d\",\"colorbar\":{\"outlinewidth\":0,\"ticks\":\"\"}}],\"scatter\":[{\"fillpattern\":{\"fillmode\":\"overlay\",\"size\":10,\"solidity\":0.2},\"type\":\"scatter\"}],\"parcoords\":[{\"type\":\"parcoords\",\"line\":{\"colorbar\":{\"outlinewidth\":0,\"ticks\":\"\"}}}],\"scatterpolargl\":[{\"type\":\"scatterpolargl\",\"marker\":{\"colorbar\":{\"outlinewidth\":0,\"ticks\":\"\"}}}],\"bar\":[{\"error_x\":{\"color\":\"#2a3f5f\"},\"error_y\":{\"color\":\"#2a3f5f\"},\"marker\":{\"line\":{\"color\":\"#E5ECF6\",\"width\":0.5},\"pattern\":{\"fillmode\":\"overlay\",\"size\":10,\"solidity\":0.2}},\"type\":\"bar\"}],\"scattergeo\":[{\"type\":\"scattergeo\",\"marker\":{\"colorbar\":{\"outlinewidth\":0,\"ticks\":\"\"}}}],\"scatterpolar\":[{\"type\":\"scatterpolar\",\"marker\":{\"colorbar\":{\"outlinewidth\":0,\"ticks\":\"\"}}}],\"histogram\":[{\"marker\":{\"pattern\":{\"fillmode\":\"overlay\",\"size\":10,\"solidity\":0.2}},\"type\":\"histogram\"}],\"scattergl\":[{\"type\":\"scattergl\",\"marker\":{\"colorbar\":{\"outlinewidth\":0,\"ticks\":\"\"}}}],\"scatter3d\":[{\"type\":\"scatter3d\",\"line\":{\"colorbar\":{\"outlinewidth\":0,\"ticks\":\"\"}},\"marker\":{\"colorbar\":{\"outlinewidth\":0,\"ticks\":\"\"}}}],\"scattermapbox\":[{\"type\":\"scattermapbox\",\"marker\":{\"colorbar\":{\"outlinewidth\":0,\"ticks\":\"\"}}}],\"scatterternary\":[{\"type\":\"scatterternary\",\"marker\":{\"colorbar\":{\"outlinewidth\":0,\"ticks\":\"\"}}}],\"scattercarpet\":[{\"type\":\"scattercarpet\",\"marker\":{\"colorbar\":{\"outlinewidth\":0,\"ticks\":\"\"}}}],\"carpet\":[{\"aaxis\":{\"endlinecolor\":\"#2a3f5f\",\"gridcolor\":\"white\",\"linecolor\":\"white\",\"minorgridcolor\":\"white\",\"startlinecolor\":\"#2a3f5f\"},\"baxis\":{\"endlinecolor\":\"#2a3f5f\",\"gridcolor\":\"white\",\"linecolor\":\"white\",\"minorgridcolor\":\"white\",\"startlinecolor\":\"#2a3f5f\"},\"type\":\"carpet\"}],\"table\":[{\"cells\":{\"fill\":{\"color\":\"#EBF0F8\"},\"line\":{\"color\":\"white\"}},\"header\":{\"fill\":{\"color\":\"#C8D4E3\"},\"line\":{\"color\":\"white\"}},\"type\":\"table\"}],\"barpolar\":[{\"marker\":{\"line\":{\"color\":\"#E5ECF6\",\"width\":0.5},\"pattern\":{\"fillmode\":\"overlay\",\"size\":10,\"solidity\":0.2}},\"type\":\"barpolar\"}],\"pie\":[{\"automargin\":true,\"type\":\"pie\"}]},\"layout\":{\"autotypenumbers\":\"strict\",\"colorway\":[\"#636efa\",\"#EF553B\",\"#00cc96\",\"#ab63fa\",\"#FFA15A\",\"#19d3f3\",\"#FF6692\",\"#B6E880\",\"#FF97FF\",\"#FECB52\"],\"font\":{\"color\":\"#2a3f5f\"},\"hovermode\":\"closest\",\"hoverlabel\":{\"align\":\"left\"},\"paper_bgcolor\":\"white\",\"plot_bgcolor\":\"#E5ECF6\",\"polar\":{\"bgcolor\":\"#E5ECF6\",\"angularaxis\":{\"gridcolor\":\"white\",\"linecolor\":\"white\",\"ticks\":\"\"},\"radialaxis\":{\"gridcolor\":\"white\",\"linecolor\":\"white\",\"ticks\":\"\"}},\"ternary\":{\"bgcolor\":\"#E5ECF6\",\"aaxis\":{\"gridcolor\":\"white\",\"linecolor\":\"white\",\"ticks\":\"\"},\"baxis\":{\"gridcolor\":\"white\",\"linecolor\":\"white\",\"ticks\":\"\"},\"caxis\":{\"gridcolor\":\"white\",\"linecolor\":\"white\",\"ticks\":\"\"}},\"coloraxis\":{\"colorbar\":{\"outlinewidth\":0,\"ticks\":\"\"}},\"colorscale\":{\"sequential\":[[0.0,\"#0d0887\"],[0.1111111111111111,\"#46039f\"],[0.2222222222222222,\"#7201a8\"],[0.3333333333333333,\"#9c179e\"],[0.4444444444444444,\"#bd3786\"],[0.5555555555555556,\"#d8576b\"],[0.6666666666666666,\"#ed7953\"],[0.7777777777777778,\"#fb9f3a\"],[0.8888888888888888,\"#fdca26\"],[1.0,\"#f0f921\"]],\"sequentialminus\":[[0.0,\"#0d0887\"],[0.1111111111111111,\"#46039f\"],[0.2222222222222222,\"#7201a8\"],[0.3333333333333333,\"#9c179e\"],[0.4444444444444444,\"#bd3786\"],[0.5555555555555556,\"#d8576b\"],[0.6666666666666666,\"#ed7953\"],[0.7777777777777778,\"#fb9f3a\"],[0.8888888888888888,\"#fdca26\"],[1.0,\"#f0f921\"]],\"diverging\":[[0,\"#8e0152\"],[0.1,\"#c51b7d\"],[0.2,\"#de77ae\"],[0.3,\"#f1b6da\"],[0.4,\"#fde0ef\"],[0.5,\"#f7f7f7\"],[0.6,\"#e6f5d0\"],[0.7,\"#b8e186\"],[0.8,\"#7fbc41\"],[0.9,\"#4d9221\"],[1,\"#276419\"]]},\"xaxis\":{\"gridcolor\":\"white\",\"linecolor\":\"white\",\"ticks\":\"\",\"title\":{\"standoff\":15},\"zerolinecolor\":\"white\",\"automargin\":true,\"zerolinewidth\":2},\"yaxis\":{\"gridcolor\":\"white\",\"linecolor\":\"white\",\"ticks\":\"\",\"title\":{\"standoff\":15},\"zerolinecolor\":\"white\",\"automargin\":true,\"zerolinewidth\":2},\"scene\":{\"xaxis\":{\"backgroundcolor\":\"#E5ECF6\",\"gridcolor\":\"white\",\"linecolor\":\"white\",\"showbackground\":true,\"ticks\":\"\",\"zerolinecolor\":\"white\",\"gridwidth\":2},\"yaxis\":{\"backgroundcolor\":\"#E5ECF6\",\"gridcolor\":\"white\",\"linecolor\":\"white\",\"showbackground\":true,\"ticks\":\"\",\"zerolinecolor\":\"white\",\"gridwidth\":2},\"zaxis\":{\"backgroundcolor\":\"#E5ECF6\",\"gridcolor\":\"white\",\"linecolor\":\"white\",\"showbackground\":true,\"ticks\":\"\",\"zerolinecolor\":\"white\",\"gridwidth\":2}},\"shapedefaults\":{\"line\":{\"color\":\"#2a3f5f\"}},\"annotationdefaults\":{\"arrowcolor\":\"#2a3f5f\",\"arrowhead\":0,\"arrowwidth\":1},\"geo\":{\"bgcolor\":\"white\",\"landcolor\":\"#E5ECF6\",\"subunitcolor\":\"white\",\"showland\":true,\"showlakes\":true,\"lakecolor\":\"white\"},\"title\":{\"x\":0.05},\"mapbox\":{\"style\":\"light\"}}},\"shapes\":[{\"line\":{\"color\":\"gray\",\"dash\":\"dash\"},\"type\":\"line\",\"x0\":0,\"x1\":1,\"xref\":\"x\",\"y0\":0,\"y1\":1,\"yref\":\"y\"}],\"title\":{\"text\":\"ROC Curve\"}},                        {\"responsive\": true}                    ).then(function(){\n",
       "                            \n",
       "var gd = document.getElementById('8cb065e2-8540-49cb-b525-a23fec781949');\n",
       "var x = new MutationObserver(function (mutations, observer) {{\n",
       "        var display = window.getComputedStyle(gd).display;\n",
       "        if (!display || display === 'none') {{\n",
       "            console.log([gd, 'removed!']);\n",
       "            Plotly.purge(gd);\n",
       "            observer.disconnect();\n",
       "        }}\n",
       "}});\n",
       "\n",
       "// Listen for the removal of the full notebook cells\n",
       "var notebookContainer = gd.closest('#notebook-container');\n",
       "if (notebookContainer) {{\n",
       "    x.observe(notebookContainer, {childList: true});\n",
       "}}\n",
       "\n",
       "// Listen for the clearing of the current output cell\n",
       "var outputEl = gd.closest('.output');\n",
       "if (outputEl) {{\n",
       "    x.observe(outputEl, {childList: true});\n",
       "}}\n",
       "\n",
       "                        })                };                });            </script>        </div>"
      ]
     },
     "metadata": {},
     "output_type": "display_data"
    }
   ],
   "source": [
    "plt1['roc'].show()"
   ]
  },
  {
   "cell_type": "code",
   "execution_count": 147,
   "id": "8a0226c5",
   "metadata": {},
   "outputs": [
    {
     "data": {
      "application/vnd.plotly.v1+json": {
       "config": {
        "plotlyServerURL": "https://plot.ly"
       },
       "data": [
        {
         "mode": "lines",
         "name": "search1",
         "type": "scatter",
         "x": [
          1,
          1,
          1,
          1,
          1,
          1,
          1,
          1,
          1,
          1,
          1,
          1,
          1,
          1,
          1,
          1,
          1,
          1,
          1,
          1,
          1,
          1,
          1,
          1,
          1,
          1,
          1,
          1,
          1,
          1,
          1,
          1,
          1,
          1,
          1,
          1,
          1,
          1,
          1,
          1,
          1,
          1,
          1,
          1,
          1,
          1,
          1,
          1,
          1,
          1,
          1,
          1,
          1,
          1,
          1,
          1,
          1,
          1,
          1,
          1,
          1,
          1,
          1,
          1,
          1,
          1,
          1,
          1,
          1,
          1,
          1,
          1,
          1,
          1,
          1,
          1,
          1,
          1,
          1,
          1,
          1,
          1,
          1,
          1,
          1,
          1,
          1,
          1,
          1,
          1,
          1,
          1,
          1,
          1,
          1,
          1,
          1,
          1,
          1,
          1,
          1,
          1,
          1,
          1,
          1,
          1,
          1,
          1,
          1,
          1,
          1,
          1,
          1,
          1,
          1,
          1,
          1,
          1,
          1,
          1,
          1,
          1,
          1,
          1,
          1,
          1,
          1,
          1,
          1,
          1,
          1,
          1,
          1,
          1,
          1,
          1,
          1,
          1,
          1,
          1,
          1,
          1,
          1,
          1,
          1,
          1,
          1,
          1,
          1,
          1,
          1,
          1,
          1,
          1,
          1,
          1,
          1,
          1,
          1,
          1,
          1,
          1,
          1,
          1,
          1,
          1,
          1,
          1,
          1,
          1,
          1,
          1,
          1,
          1,
          1,
          1,
          1,
          1,
          1,
          1,
          1,
          1,
          1,
          1,
          1,
          1,
          1,
          1,
          1,
          1,
          1,
          1,
          1,
          1,
          1,
          1,
          1,
          1,
          1,
          1,
          1,
          1,
          1,
          1,
          1,
          1,
          1,
          1,
          1,
          1,
          1,
          1,
          1,
          1,
          1,
          0.9955555555555555,
          0.9955555555555555,
          0.9955555555555555,
          0.9955555555555555,
          0.9955555555555555,
          0.9955555555555555,
          0.9955555555555555,
          0.9955555555555555,
          0.9955555555555555,
          0.9955555555555555,
          0.9955555555555555,
          0.9955555555555555,
          0.9955555555555555,
          0.9955555555555555,
          0.9955555555555555,
          0.9955555555555555,
          0.9955555555555555,
          0.9955555555555555,
          0.9955555555555555,
          0.9955555555555555,
          0.9955555555555555,
          0.9955555555555555,
          0.9955555555555555,
          0.9955555555555555,
          0.9955555555555555,
          0.9955555555555555,
          0.9955555555555555,
          0.9955555555555555,
          0.9955555555555555,
          0.9955555555555555,
          0.9955555555555555,
          0.9955555555555555,
          0.9955555555555555,
          0.9955555555555555,
          0.9955555555555555,
          0.9955555555555555,
          0.9955555555555555,
          0.9955555555555555,
          0.9955555555555555,
          0.9955555555555555,
          0.9955555555555555,
          0.9955555555555555,
          0.9955555555555555,
          0.9955555555555555,
          0.9955555555555555,
          0.9955555555555555,
          0.9955555555555555,
          0.9955555555555555,
          0.9955555555555555,
          0.9955555555555555,
          0.9955555555555555,
          0.9955555555555555,
          0.9955555555555555,
          0.9955555555555555,
          0.9955555555555555,
          0.9955555555555555,
          0.9955555555555555,
          0.9955555555555555,
          0.9955555555555555,
          0.9955555555555555,
          0.9955555555555555,
          0.9955555555555555,
          0.9955555555555555,
          0.9955555555555555,
          0.9955555555555555,
          0.9955555555555555,
          0.9955555555555555,
          0.9955555555555555,
          0.9955555555555555,
          0.9955555555555555,
          0.9955555555555555,
          0.9955555555555555,
          0.9955555555555555,
          0.9955555555555555,
          0.9955555555555555,
          0.9955555555555555,
          0.9911111111111112,
          0.9866666666666667,
          0.9866666666666667,
          0.9866666666666667,
          0.9866666666666667,
          0.9866666666666667,
          0.9866666666666667,
          0.9866666666666667,
          0.9866666666666667,
          0.9866666666666667,
          0.9866666666666667,
          0.9866666666666667,
          0.9866666666666667,
          0.9866666666666667,
          0.9866666666666667,
          0.9866666666666667,
          0.9866666666666667,
          0.9866666666666667,
          0.9866666666666667,
          0.9866666666666667,
          0.9866666666666667,
          0.9866666666666667,
          0.9866666666666667,
          0.9866666666666667,
          0.9866666666666667,
          0.9866666666666667,
          0.9866666666666667,
          0.9866666666666667,
          0.9866666666666667,
          0.9866666666666667,
          0.9866666666666667,
          0.9822222222222222,
          0.9822222222222222,
          0.9822222222222222,
          0.9822222222222222,
          0.9822222222222222,
          0.9777777777777777,
          0.9777777777777777,
          0.9777777777777777,
          0.9777777777777777,
          0.9777777777777777,
          0.9777777777777777,
          0.9777777777777777,
          0.9777777777777777,
          0.9777777777777777,
          0.9777777777777777,
          0.9777777777777777,
          0.9733333333333334,
          0.9688888888888889,
          0.9688888888888889,
          0.9688888888888889,
          0.9688888888888889,
          0.9644444444444444,
          0.9644444444444444,
          0.9644444444444444,
          0.96,
          0.96,
          0.96,
          0.96,
          0.96,
          0.96,
          0.96,
          0.96,
          0.96,
          0.96,
          0.9555555555555556,
          0.9511111111111111,
          0.9511111111111111,
          0.9511111111111111,
          0.9511111111111111,
          0.9511111111111111,
          0.9511111111111111,
          0.9511111111111111,
          0.9511111111111111,
          0.9466666666666667,
          0.9466666666666667,
          0.9466666666666667,
          0.9466666666666667,
          0.9466666666666667,
          0.9466666666666667,
          0.9466666666666667,
          0.9466666666666667,
          0.9466666666666667,
          0.9422222222222222,
          0.9422222222222222,
          0.9377777777777778,
          0.9333333333333333,
          0.9288888888888889,
          0.9244444444444444,
          0.9244444444444444,
          0.92,
          0.92,
          0.92,
          0.92,
          0.92,
          0.9155555555555556,
          0.9155555555555556,
          0.9111111111111111,
          0.9066666666666666,
          0.9066666666666666,
          0.9066666666666666,
          0.9066666666666666,
          0.9066666666666666,
          0.9066666666666666,
          0.9066666666666666,
          0.9022222222222223,
          0.8977777777777778,
          0.8933333333333333,
          0.8888888888888888,
          0.8888888888888888,
          0.8844444444444445,
          0.88,
          0.88,
          0.88,
          0.88,
          0.88,
          0.88,
          0.8755555555555555,
          0.8755555555555555,
          0.8711111111111111,
          0.8666666666666667,
          0.8666666666666667,
          0.8666666666666667,
          0.8666666666666667,
          0.8666666666666667,
          0.8666666666666667,
          0.8622222222222222,
          0.8622222222222222,
          0.8622222222222222,
          0.8622222222222222,
          0.8577777777777778,
          0.8577777777777778,
          0.8533333333333334,
          0.8488888888888889,
          0.8488888888888889,
          0.8488888888888889,
          0.8488888888888889,
          0.8488888888888889,
          0.8444444444444444,
          0.8444444444444444,
          0.84,
          0.84,
          0.8355555555555556,
          0.8355555555555556,
          0.8355555555555556,
          0.8311111111111111,
          0.8311111111111111,
          0.8311111111111111,
          0.8311111111111111,
          0.8311111111111111,
          0.8311111111111111,
          0.8311111111111111,
          0.8311111111111111,
          0.8311111111111111,
          0.8266666666666667,
          0.8266666666666667,
          0.8266666666666667,
          0.8222222222222222,
          0.8177777777777778,
          0.8177777777777778,
          0.8133333333333334,
          0.8133333333333334,
          0.8133333333333334,
          0.8088888888888889,
          0.8088888888888889,
          0.8088888888888889,
          0.8088888888888889,
          0.8088888888888889,
          0.8088888888888889,
          0.8044444444444444,
          0.8044444444444444,
          0.8044444444444444,
          0.8044444444444444,
          0.8,
          0.7955555555555556,
          0.7911111111111111,
          0.7911111111111111,
          0.7911111111111111,
          0.7911111111111111,
          0.7911111111111111,
          0.7911111111111111,
          0.7866666666666666,
          0.7822222222222223,
          0.7822222222222223,
          0.7777777777777778,
          0.7733333333333333,
          0.7688888888888888,
          0.7688888888888888,
          0.7688888888888888,
          0.7688888888888888,
          0.7688888888888888,
          0.7688888888888888,
          0.7644444444444445,
          0.76,
          0.7555555555555555,
          0.7511111111111111,
          0.7466666666666667,
          0.7422222222222222,
          0.7377777777777778,
          0.7377777777777778,
          0.7333333333333333,
          0.7333333333333333,
          0.7333333333333333,
          0.7288888888888889,
          0.7244444444444444,
          0.7244444444444444,
          0.72,
          0.7155555555555555,
          0.7111111111111111,
          0.7066666666666667,
          0.7066666666666667,
          0.7022222222222222,
          0.6977777777777778,
          0.6977777777777778,
          0.6977777777777778,
          0.6933333333333334,
          0.6888888888888889,
          0.6844444444444444,
          0.6844444444444444,
          0.68,
          0.6755555555555556,
          0.6755555555555556,
          0.6711111111111111,
          0.6666666666666666,
          0.6666666666666666,
          0.6622222222222223,
          0.6577777777777778,
          0.6533333333333333,
          0.6488888888888888,
          0.6488888888888888,
          0.6488888888888888,
          0.6444444444444445,
          0.64,
          0.6355555555555555,
          0.6355555555555555,
          0.6311111111111111,
          0.6266666666666667,
          0.6222222222222222,
          0.6177777777777778,
          0.6133333333333333,
          0.6088888888888889,
          0.6088888888888889,
          0.6044444444444445,
          0.6,
          0.5955555555555555,
          0.5911111111111111,
          0.5911111111111111,
          0.5866666666666667,
          0.5866666666666667,
          0.5822222222222222,
          0.5777777777777777,
          0.5733333333333334,
          0.5688888888888889,
          0.5644444444444444,
          0.5644444444444444,
          0.56,
          0.56,
          0.56,
          0.5555555555555556,
          0.5511111111111111,
          0.5466666666666666,
          0.5422222222222223,
          0.5377777777777778,
          0.5333333333333333,
          0.5288888888888889,
          0.5244444444444445,
          0.52,
          0.5155555555555555,
          0.5111111111111111,
          0.5066666666666667,
          0.5022222222222222,
          0.49777777777777776,
          0.49333333333333335,
          0.49333333333333335,
          0.4888888888888889,
          0.48444444444444446,
          0.48,
          0.47555555555555556,
          0.4711111111111111,
          0.4666666666666667,
          0.4622222222222222,
          0.4577777777777778,
          0.4533333333333333,
          0.4488888888888889,
          0.4444444444444444,
          0.44,
          0.43555555555555553,
          0.4311111111111111,
          0.4266666666666667,
          0.4222222222222222,
          0.4177777777777778,
          0.41333333333333333,
          0.4088888888888889,
          0.40444444444444444,
          0.4,
          0.39555555555555555,
          0.39111111111111113,
          0.38666666666666666,
          0.38222222222222224,
          0.37777777777777777,
          0.37333333333333335,
          0.3688888888888889,
          0.36444444444444446,
          0.36,
          0.35555555555555557,
          0.3511111111111111,
          0.3466666666666667,
          0.3422222222222222,
          0.3377777777777778,
          0.3333333333333333,
          0.3288888888888889,
          0.3244444444444444,
          0.32,
          0.31555555555555553,
          0.3111111111111111,
          0.30666666666666664,
          0.3022222222222222,
          0.29777777777777775,
          0.29333333333333333,
          0.28888888888888886,
          0.28444444444444444,
          0.28,
          0.27555555555555555,
          0.27111111111111114,
          0.26666666666666666,
          0.26222222222222225,
          0.2577777777777778,
          0.25333333333333335,
          0.24888888888888888,
          0.24444444444444444,
          0.24,
          0.23555555555555555,
          0.2311111111111111,
          0.22666666666666666,
          0.2222222222222222,
          0.21777777777777776,
          0.21333333333333335,
          0.2088888888888889,
          0.20444444444444446,
          0.2,
          0.19555555555555557,
          0.19111111111111112,
          0.18666666666666668,
          0.18222222222222223,
          0.17777777777777778,
          0.17333333333333334,
          0.1688888888888889,
          0.16444444444444445,
          0.16,
          0.15555555555555556,
          0.1511111111111111,
          0.14666666666666667,
          0.14222222222222222,
          0.13777777777777778,
          0.13333333333333333,
          0.1288888888888889,
          0.12444444444444444,
          0.12,
          0.11555555555555555,
          0.1111111111111111,
          0.10666666666666667,
          0.10222222222222223,
          0.09777777777777778,
          0.09333333333333334,
          0.08888888888888889,
          0.08444444444444445,
          0.08,
          0.07555555555555556,
          0.07111111111111111,
          0.06666666666666667,
          0.06222222222222222,
          0.057777777777777775,
          0.05333333333333334,
          0.04888888888888889,
          0.044444444444444446,
          0.04,
          0.035555555555555556,
          0.03111111111111111,
          0.02666666666666667,
          0.022222222222222223,
          0.017777777777777778,
          0.013333333333333334,
          0.008888888888888889,
          0.0044444444444444444,
          0
         ],
         "y": [
          0.3,
          0.30040053404539385,
          0.30160857908847183,
          0.3024193548387097,
          0.3032345013477089,
          0.30364372469635625,
          0.30405405405405406,
          0.3044654939106901,
          0.3048780487804878,
          0.30529172320217096,
          0.30612244897959184,
          0.3065395095367847,
          0.3073770491803279,
          0.307797537619699,
          0.3082191780821918,
          0.3090659340659341,
          0.30991735537190085,
          0.3103448275862069,
          0.31077348066298344,
          0.3112033195020747,
          0.3129346314325452,
          0.31337047353760444,
          0.3138075313807531,
          0.31424581005586594,
          0.3146853146853147,
          0.31512605042016806,
          0.3155680224403927,
          0.3160112359550562,
          0.31645569620253167,
          0.31690140845070425,
          0.31734837799717913,
          0.3177966101694915,
          0.31869688385269124,
          0.3191489361702128,
          0.3196022727272727,
          0.3200568990042674,
          0.32051282051282054,
          0.3209700427960057,
          0.32142857142857145,
          0.3223495702005731,
          0.32281205164992827,
          0.3232758620689655,
          0.3237410071942446,
          0.3242074927953891,
          0.3246753246753247,
          0.32514450867052025,
          0.3256150506512301,
          0.32608695652173914,
          0.3265602322206096,
          0.32703488372093026,
          0.32751091703056767,
          0.32798833819241985,
          0.3284671532846715,
          0.32894736842105265,
          0.3294289897510981,
          0.3303964757709251,
          0.33088235294117646,
          0.33136966126656847,
          0.33185840707964603,
          0.33234859675036926,
          0.3328402366863905,
          0.3333333333333333,
          0.33382789317507416,
          0.3343239227340267,
          0.33482142857142855,
          0.3353204172876304,
          0.3358208955223881,
          0.336322869955157,
          0.33682634730538924,
          0.3373313343328336,
          0.33783783783783783,
          0.3383458646616541,
          0.338855421686747,
          0.3393665158371041,
          0.33987915407854985,
          0.340393343419062,
          0.3409090909090909,
          0.34142640364188165,
          0.3424657534246575,
          0.3429878048780488,
          0.3435114503816794,
          0.3440366972477064,
          0.3445635528330781,
          0.3450920245398773,
          0.3456221198156682,
          0.34615384615384615,
          0.34668721109399075,
          0.34775888717156106,
          0.34829721362229105,
          0.3488372093023256,
          0.34937888198757766,
          0.3499222395023328,
          0.35046728971962615,
          0.35101404056162244,
          0.3515625,
          0.352112676056338,
          0.35266457680250785,
          0.3532182103610675,
          0.35377358490566035,
          0.3543307086614173,
          0.3548895899053628,
          0.35545023696682465,
          0.3560126582278481,
          0.35657686212361334,
          0.35714285714285715,
          0.35771065182829886,
          0.35828025477707004,
          0.3588516746411483,
          0.35942492012779553,
          0.36,
          0.3605769230769231,
          0.3611556982343499,
          0.36231884057971014,
          0.3629032258064516,
          0.36348949919224555,
          0.3640776699029126,
          0.3646677471636953,
          0.3652597402597403,
          0.36585365853658536,
          0.36644951140065146,
          0.367047308319739,
          0.36764705882352944,
          0.36824877250409166,
          0.36885245901639346,
          0.3694581280788177,
          0.37006578947368424,
          0.37067545304777594,
          0.3712871287128713,
          0.371900826446281,
          0.37251655629139074,
          0.37375415282392027,
          0.37437603993344426,
          0.3756260434056761,
          0.3775167785234899,
          0.37815126050420167,
          0.3787878787878788,
          0.3794266441821248,
          0.3826530612244898,
          0.3833049403747871,
          0.3839590443686007,
          0.3852739726027397,
          0.38593481989708406,
          0.3865979381443299,
          0.387263339070568,
          0.3879310344827586,
          0.38860103626943004,
          0.3892733564013841,
          0.389948006932409,
          0.390625,
          0.39267015706806285,
          0.39404553415061294,
          0.39473684210526316,
          0.3954305799648506,
          0.3968253968253968,
          0.39752650176678445,
          0.39893617021276595,
          0.3996447602131439,
          0.400355871886121,
          0.40106951871657753,
          0.4017857142857143,
          0.41284403669724773,
          0.41360294117647056,
          0.4151291512915129,
          0.4166666666666667,
          0.4174397031539889,
          0.41899441340782123,
          0.4197761194029851,
          0.42134831460674155,
          0.4269449715370019,
          0.42775665399239543,
          0.43021032504780116,
          0.43103448275862066,
          0.43186180422264875,
          0.4326923076923077,
          0.43352601156069365,
          0.43520309477756286,
          0.436046511627907,
          0.4368932038834951,
          0.4377431906614786,
          0.43859649122807015,
          0.44031311154598823,
          0.4411764705882353,
          0.44204322200392926,
          0.44291338582677164,
          0.4437869822485207,
          0.44466403162055335,
          0.4536290322580645,
          0.45454545454545453,
          0.45546558704453444,
          0.4563894523326572,
          0.4573170731707317,
          0.45824847250509165,
          0.45918367346938777,
          0.4610655737704918,
          0.4620123203285421,
          0.46296296296296297,
          0.4639175257731959,
          0.4658385093167702,
          0.46680497925311204,
          0.4677754677754678,
          0.46875,
          0.4697286012526096,
          0.4716981132075472,
          0.4726890756302521,
          0.47368421052631576,
          0.47468354430379744,
          0.47568710359408034,
          0.47770700636942676,
          0.4787234042553192,
          0.47974413646055436,
          0.4807692307692308,
          0.48283261802575106,
          0.4849137931034483,
          0.48596112311015116,
          0.487012987012987,
          0.48590021691973967,
          0.48695652173913045,
          0.4880174291938998,
          0.4890829694323144,
          0.49015317286652077,
          0.49122807017543857,
          0.49230769230769234,
          0.4933920704845815,
          0.49448123620309054,
          0.49557522123893805,
          0.49667405764966743,
          0.49777777777777776,
          0.49888641425389757,
          0.5,
          0.5011185682326622,
          0.5022421524663677,
          0.503370786516854,
          0.5045045045045045,
          0.5056433408577878,
          0.5067873303167421,
          0.5079365079365079,
          0.509090909090909,
          0.510250569476082,
          0.5114155251141552,
          0.5125858123569794,
          0.5137614678899083,
          0.5149425287356322,
          0.5161290322580645,
          0.5173210161662818,
          0.5185185185185185,
          0.5197215777262181,
          0.5209302325581395,
          0.5221445221445221,
          0.5233644859813084,
          0.5245901639344263,
          0.5258215962441315,
          0.5270588235294118,
          0.5283018867924528,
          0.5295508274231678,
          0.5308056872037915,
          0.5320665083135392,
          0.5333333333333333,
          0.5346062052505967,
          0.5358851674641149,
          0.5371702637889688,
          0.5384615384615384,
          0.5397590361445783,
          0.5410628019323671,
          0.5423728813559322,
          0.5436893203883495,
          0.5450121654501217,
          0.5463414634146342,
          0.5476772616136919,
          0.5490196078431373,
          0.5503685503685504,
          0.5517241379310345,
          0.5530864197530864,
          0.5544554455445545,
          0.5558312655086849,
          0.5572139303482587,
          0.5586034912718204,
          0.56,
          0.5614035087719298,
          0.5628140703517588,
          0.5642317380352645,
          0.5656565656565656,
          0.5670886075949367,
          0.5685279187817259,
          0.5699745547073791,
          0.5714285714285714,
          0.5728900255754475,
          0.5743589743589743,
          0.5758354755784062,
          0.5773195876288659,
          0.5788113695090439,
          0.5803108808290155,
          0.5792207792207792,
          0.578125,
          0.5796344647519582,
          0.581151832460733,
          0.5826771653543307,
          0.5842105263157895,
          0.5857519788918206,
          0.5873015873015873,
          0.5888594164456233,
          0.5904255319148937,
          0.592,
          0.5935828877005348,
          0.5951742627345844,
          0.5967741935483871,
          0.5983827493261455,
          0.6,
          0.6016260162601627,
          0.6032608695652174,
          0.6049046321525886,
          0.6065573770491803,
          0.6082191780821918,
          0.6098901098901099,
          0.6115702479338843,
          0.6132596685082873,
          0.6149584487534626,
          0.6166666666666667,
          0.6183844011142061,
          0.6201117318435754,
          0.6218487394957983,
          0.6235955056179775,
          0.6253521126760564,
          0.6242937853107344,
          0.6260623229461756,
          0.6278409090909091,
          0.6296296296296297,
          0.6314285714285715,
          0.6303724928366762,
          0.632183908045977,
          0.6340057636887608,
          0.6358381502890174,
          0.6376811594202898,
          0.6395348837209303,
          0.641399416909621,
          0.6432748538011696,
          0.6451612903225806,
          0.6470588235294118,
          0.6489675516224189,
          0.6479289940828402,
          0.6468842729970327,
          0.6488095238095238,
          0.6507462686567164,
          0.6526946107784432,
          0.6516516516516516,
          0.6536144578313253,
          0.6555891238670695,
          0.6545454545454545,
          0.6565349544072948,
          0.6585365853658537,
          0.6605504587155964,
          0.6625766871165644,
          0.6646153846153846,
          0.6666666666666666,
          0.6687306501547987,
          0.6708074534161491,
          0.6728971962616822,
          0.671875,
          0.670846394984326,
          0.6729559748427673,
          0.6750788643533123,
          0.6772151898734177,
          0.6793650793650794,
          0.6837060702875399,
          0.6858974358974359,
          0.6881028938906752,
          0.6870967741935484,
          0.6893203883495146,
          0.6915584415584416,
          0.6938110749185668,
          0.696078431372549,
          0.6983606557377049,
          0.7006578947368421,
          0.7029702970297029,
          0.7052980132450332,
          0.7043189368770764,
          0.7066666666666667,
          0.705685618729097,
          0.7046979865771812,
          0.7037037037037037,
          0.7027027027027027,
          0.7050847457627119,
          0.7040816326530612,
          0.7064846416382252,
          0.708904109589041,
          0.711340206185567,
          0.7137931034482758,
          0.71280276816609,
          0.7152777777777778,
          0.7142857142857143,
          0.7132867132867133,
          0.7157894736842105,
          0.7183098591549296,
          0.7208480565371025,
          0.723404255319149,
          0.7259786476868327,
          0.7285714285714285,
          0.7275985663082437,
          0.7266187050359713,
          0.7256317689530686,
          0.7246376811594203,
          0.7272727272727273,
          0.7262773722627737,
          0.7252747252747253,
          0.7279411764705882,
          0.7306273062730627,
          0.7333333333333333,
          0.7360594795539034,
          0.7388059701492538,
          0.7378277153558053,
          0.7406015037593985,
          0.7396226415094339,
          0.7386363636363636,
          0.7414448669201521,
          0.7442748091603053,
          0.7471264367816092,
          0.75,
          0.752895752895753,
          0.751937984496124,
          0.754863813229572,
          0.7578125,
          0.7607843137254902,
          0.7598425196850394,
          0.7628458498023716,
          0.7619047619047619,
          0.7609561752988048,
          0.764,
          0.7670682730923695,
          0.7701612903225806,
          0.7732793522267206,
          0.7723577235772358,
          0.7755102040816326,
          0.7745901639344263,
          0.7777777777777778,
          0.7768595041322314,
          0.7800829875518672,
          0.7833333333333333,
          0.7824267782426778,
          0.7857142857142857,
          0.7890295358649789,
          0.7923728813559322,
          0.7957446808510639,
          0.7991452991452992,
          0.8025751072961373,
          0.8060344827586207,
          0.8095238095238095,
          0.808695652173913,
          0.8122270742358079,
          0.8157894736842105,
          0.8149779735682819,
          0.8141592920353983,
          0.8177777777777778,
          0.8169642857142857,
          0.820627802690583,
          0.8243243243243243,
          0.8235294117647058,
          0.8272727272727273,
          0.8310502283105022,
          0.8348623853211009,
          0.8387096774193549,
          0.8425925925925926,
          0.8418604651162791,
          0.8457943925233645,
          0.8497652582159625,
          0.8537735849056604,
          0.8530805687203792,
          0.8523809523809524,
          0.8516746411483254,
          0.8557692307692307,
          0.8599033816425121,
          0.8640776699029126,
          0.8682926829268293,
          0.8725490196078431,
          0.8719211822660099,
          0.8712871287128713,
          0.8756218905472637,
          0.875,
          0.8743718592964824,
          0.8737373737373737,
          0.8781725888324873,
          0.8826530612244898,
          0.8871794871794871,
          0.8917525773195877,
          0.8963730569948186,
          0.8958333333333334,
          0.8952879581151832,
          0.8947368421052632,
          0.8941798941798942,
          0.8936170212765957,
          0.893048128342246,
          0.8924731182795699,
          0.8972972972972973,
          0.8967391304347826,
          0.9016393442622951,
          0.9065934065934066,
          0.9060773480662984,
          0.9055555555555556,
          0.9106145251396648,
          0.9101123595505618,
          0.9096045197740112,
          0.9090909090909091,
          0.9085714285714286,
          0.9137931034482759,
          0.9132947976878613,
          0.9127906976744186,
          0.9181286549707602,
          0.9235294117647059,
          0.9230769230769231,
          0.9226190476190477,
          0.9221556886227545,
          0.927710843373494,
          0.9272727272727272,
          0.926829268292683,
          0.9325153374233128,
          0.9320987654320988,
          0.9316770186335404,
          0.9375,
          0.9371069182389937,
          0.9367088607594937,
          0.9363057324840764,
          0.9358974358974359,
          0.9419354838709677,
          0.948051948051948,
          0.9477124183006536,
          0.9473684210526315,
          0.9470198675496688,
          0.9533333333333334,
          0.9530201342281879,
          0.9527027027027027,
          0.9523809523809523,
          0.952054794520548,
          0.9517241379310345,
          0.9513888888888888,
          0.958041958041958,
          0.9577464788732394,
          0.9574468085106383,
          0.9571428571428572,
          0.9568345323741008,
          0.9637681159420289,
          0.9635036496350365,
          0.9705882352941176,
          0.9703703703703703,
          0.9701492537313433,
          0.9699248120300752,
          0.9696969696969697,
          0.9694656488549618,
          0.9769230769230769,
          0.9767441860465116,
          0.984375,
          0.9921259842519685,
          0.9920634920634921,
          0.992,
          0.9919354838709677,
          0.991869918699187,
          0.9918032786885246,
          0.9917355371900827,
          0.9916666666666667,
          0.9915966386554622,
          0.9915254237288136,
          0.9914529914529915,
          0.9913793103448276,
          0.991304347826087,
          0.9912280701754386,
          0.9911504424778761,
          0.9910714285714286,
          1,
          1,
          1,
          1,
          1,
          1,
          1,
          1,
          1,
          1,
          1,
          1,
          1,
          1,
          1,
          1,
          1,
          1,
          1,
          1,
          1,
          1,
          1,
          1,
          1,
          1,
          1,
          1,
          1,
          1,
          1,
          1,
          1,
          1,
          1,
          1,
          1,
          1,
          1,
          1,
          1,
          1,
          1,
          1,
          1,
          1,
          1,
          1,
          1,
          1,
          1,
          1,
          1,
          1,
          1,
          1,
          1,
          1,
          1,
          1,
          1,
          1,
          1,
          1,
          1,
          1,
          1,
          1,
          1,
          1,
          1,
          1,
          1,
          1,
          1,
          1,
          1,
          1,
          1,
          1,
          1,
          1,
          1,
          1,
          1,
          1,
          1,
          1,
          1,
          1,
          1,
          1,
          1,
          1,
          1,
          1,
          1,
          1,
          1,
          1,
          1,
          1,
          1,
          1,
          1,
          1,
          1,
          1,
          1,
          1,
          1,
          1
         ]
        },
        {
         "mode": "lines",
         "name": "search2",
         "type": "scatter",
         "x": [
          1,
          1,
          1,
          1,
          1,
          1,
          1,
          1,
          1,
          1,
          1,
          1,
          1,
          1,
          1,
          1,
          1,
          1,
          1,
          1,
          1,
          1,
          1,
          1,
          1,
          1,
          1,
          1,
          1,
          1,
          1,
          1,
          1,
          1,
          1,
          1,
          1,
          1,
          1,
          1,
          1,
          1,
          1,
          1,
          1,
          1,
          1,
          1,
          1,
          1,
          1,
          1,
          1,
          1,
          1,
          1,
          1,
          1,
          1,
          1,
          1,
          1,
          1,
          1,
          1,
          1,
          1,
          1,
          1,
          1,
          1,
          1,
          1,
          1,
          1,
          1,
          1,
          1,
          1,
          1,
          1,
          1,
          1,
          1,
          1,
          1,
          1,
          1,
          1,
          1,
          1,
          1,
          1,
          1,
          1,
          1,
          1,
          1,
          1,
          1,
          1,
          1,
          1,
          1,
          1,
          1,
          1,
          1,
          1,
          1,
          1,
          1,
          1,
          1,
          1,
          1,
          1,
          1,
          1,
          1,
          1,
          1,
          1,
          1,
          1,
          1,
          1,
          1,
          1,
          1,
          1,
          1,
          1,
          1,
          1,
          1,
          1,
          1,
          1,
          1,
          1,
          1,
          1,
          1,
          1,
          1,
          1,
          1,
          1,
          1,
          1,
          1,
          1,
          1,
          1,
          1,
          1,
          1,
          1,
          1,
          1,
          1,
          1,
          1,
          1,
          1,
          1,
          1,
          1,
          1,
          1,
          1,
          1,
          1,
          1,
          1,
          1,
          1,
          1,
          1,
          1,
          1,
          1,
          1,
          1,
          1,
          1,
          1,
          1,
          1,
          1,
          1,
          1,
          1,
          1,
          1,
          1,
          1,
          1,
          1,
          1,
          1,
          1,
          1,
          1,
          1,
          1,
          1,
          1,
          1,
          1,
          1,
          1,
          1,
          1,
          0.9955555555555555,
          0.9955555555555555,
          0.9955555555555555,
          0.9955555555555555,
          0.9955555555555555,
          0.9955555555555555,
          0.9955555555555555,
          0.9955555555555555,
          0.9955555555555555,
          0.9955555555555555,
          0.9955555555555555,
          0.9955555555555555,
          0.9955555555555555,
          0.9955555555555555,
          0.9955555555555555,
          0.9955555555555555,
          0.9955555555555555,
          0.9955555555555555,
          0.9955555555555555,
          0.9955555555555555,
          0.9955555555555555,
          0.9955555555555555,
          0.9955555555555555,
          0.9955555555555555,
          0.9955555555555555,
          0.9955555555555555,
          0.9955555555555555,
          0.9955555555555555,
          0.9955555555555555,
          0.9955555555555555,
          0.9955555555555555,
          0.9955555555555555,
          0.9955555555555555,
          0.9955555555555555,
          0.9955555555555555,
          0.9955555555555555,
          0.9955555555555555,
          0.9955555555555555,
          0.9955555555555555,
          0.9955555555555555,
          0.9955555555555555,
          0.9955555555555555,
          0.9955555555555555,
          0.9955555555555555,
          0.9955555555555555,
          0.9955555555555555,
          0.9955555555555555,
          0.9955555555555555,
          0.9955555555555555,
          0.9955555555555555,
          0.9955555555555555,
          0.9955555555555555,
          0.9955555555555555,
          0.9955555555555555,
          0.9955555555555555,
          0.9955555555555555,
          0.9955555555555555,
          0.9955555555555555,
          0.9955555555555555,
          0.9955555555555555,
          0.9955555555555555,
          0.9955555555555555,
          0.9955555555555555,
          0.9955555555555555,
          0.9955555555555555,
          0.9955555555555555,
          0.9955555555555555,
          0.9955555555555555,
          0.9955555555555555,
          0.9955555555555555,
          0.9955555555555555,
          0.9955555555555555,
          0.9955555555555555,
          0.9955555555555555,
          0.9955555555555555,
          0.9955555555555555,
          0.9911111111111112,
          0.9866666666666667,
          0.9866666666666667,
          0.9866666666666667,
          0.9866666666666667,
          0.9866666666666667,
          0.9866666666666667,
          0.9866666666666667,
          0.9866666666666667,
          0.9866666666666667,
          0.9866666666666667,
          0.9866666666666667,
          0.9866666666666667,
          0.9866666666666667,
          0.9866666666666667,
          0.9866666666666667,
          0.9866666666666667,
          0.9866666666666667,
          0.9866666666666667,
          0.9866666666666667,
          0.9866666666666667,
          0.9866666666666667,
          0.9866666666666667,
          0.9866666666666667,
          0.9866666666666667,
          0.9866666666666667,
          0.9866666666666667,
          0.9866666666666667,
          0.9866666666666667,
          0.9866666666666667,
          0.9866666666666667,
          0.9822222222222222,
          0.9822222222222222,
          0.9822222222222222,
          0.9822222222222222,
          0.9822222222222222,
          0.9777777777777777,
          0.9777777777777777,
          0.9777777777777777,
          0.9777777777777777,
          0.9777777777777777,
          0.9777777777777777,
          0.9777777777777777,
          0.9777777777777777,
          0.9777777777777777,
          0.9777777777777777,
          0.9777777777777777,
          0.9733333333333334,
          0.9688888888888889,
          0.9688888888888889,
          0.9688888888888889,
          0.9688888888888889,
          0.9644444444444444,
          0.9644444444444444,
          0.9644444444444444,
          0.96,
          0.96,
          0.96,
          0.96,
          0.96,
          0.96,
          0.96,
          0.96,
          0.96,
          0.96,
          0.9555555555555556,
          0.9511111111111111,
          0.9511111111111111,
          0.9511111111111111,
          0.9511111111111111,
          0.9511111111111111,
          0.9511111111111111,
          0.9511111111111111,
          0.9511111111111111,
          0.9466666666666667,
          0.9466666666666667,
          0.9466666666666667,
          0.9466666666666667,
          0.9466666666666667,
          0.9466666666666667,
          0.9466666666666667,
          0.9466666666666667,
          0.9466666666666667,
          0.9422222222222222,
          0.9422222222222222,
          0.9377777777777778,
          0.9333333333333333,
          0.9288888888888889,
          0.9244444444444444,
          0.9244444444444444,
          0.92,
          0.92,
          0.92,
          0.92,
          0.92,
          0.9155555555555556,
          0.9155555555555556,
          0.9111111111111111,
          0.9066666666666666,
          0.9066666666666666,
          0.9066666666666666,
          0.9066666666666666,
          0.9066666666666666,
          0.9066666666666666,
          0.9066666666666666,
          0.9022222222222223,
          0.8977777777777778,
          0.8933333333333333,
          0.8888888888888888,
          0.8888888888888888,
          0.8844444444444445,
          0.88,
          0.88,
          0.88,
          0.88,
          0.88,
          0.88,
          0.8755555555555555,
          0.8755555555555555,
          0.8711111111111111,
          0.8666666666666667,
          0.8666666666666667,
          0.8666666666666667,
          0.8666666666666667,
          0.8666666666666667,
          0.8666666666666667,
          0.8622222222222222,
          0.8622222222222222,
          0.8622222222222222,
          0.8622222222222222,
          0.8577777777777778,
          0.8577777777777778,
          0.8533333333333334,
          0.8488888888888889,
          0.8488888888888889,
          0.8488888888888889,
          0.8488888888888889,
          0.8488888888888889,
          0.8444444444444444,
          0.8444444444444444,
          0.84,
          0.84,
          0.8355555555555556,
          0.8355555555555556,
          0.8355555555555556,
          0.8311111111111111,
          0.8311111111111111,
          0.8311111111111111,
          0.8311111111111111,
          0.8311111111111111,
          0.8311111111111111,
          0.8311111111111111,
          0.8311111111111111,
          0.8311111111111111,
          0.8266666666666667,
          0.8266666666666667,
          0.8266666666666667,
          0.8222222222222222,
          0.8177777777777778,
          0.8177777777777778,
          0.8133333333333334,
          0.8133333333333334,
          0.8133333333333334,
          0.8088888888888889,
          0.8088888888888889,
          0.8088888888888889,
          0.8088888888888889,
          0.8088888888888889,
          0.8088888888888889,
          0.8044444444444444,
          0.8044444444444444,
          0.8044444444444444,
          0.8044444444444444,
          0.8,
          0.7955555555555556,
          0.7911111111111111,
          0.7911111111111111,
          0.7911111111111111,
          0.7911111111111111,
          0.7911111111111111,
          0.7911111111111111,
          0.7866666666666666,
          0.7822222222222223,
          0.7822222222222223,
          0.7777777777777778,
          0.7733333333333333,
          0.7688888888888888,
          0.7688888888888888,
          0.7688888888888888,
          0.7688888888888888,
          0.7688888888888888,
          0.7688888888888888,
          0.7644444444444445,
          0.76,
          0.7555555555555555,
          0.7511111111111111,
          0.7466666666666667,
          0.7422222222222222,
          0.7377777777777778,
          0.7377777777777778,
          0.7333333333333333,
          0.7333333333333333,
          0.7333333333333333,
          0.7288888888888889,
          0.7244444444444444,
          0.7244444444444444,
          0.72,
          0.7155555555555555,
          0.7111111111111111,
          0.7066666666666667,
          0.7066666666666667,
          0.7022222222222222,
          0.6977777777777778,
          0.6977777777777778,
          0.6977777777777778,
          0.6933333333333334,
          0.6888888888888889,
          0.6844444444444444,
          0.6844444444444444,
          0.68,
          0.6755555555555556,
          0.6755555555555556,
          0.6711111111111111,
          0.6666666666666666,
          0.6666666666666666,
          0.6622222222222223,
          0.6577777777777778,
          0.6533333333333333,
          0.6488888888888888,
          0.6488888888888888,
          0.6488888888888888,
          0.6444444444444445,
          0.64,
          0.6355555555555555,
          0.6355555555555555,
          0.6311111111111111,
          0.6266666666666667,
          0.6222222222222222,
          0.6177777777777778,
          0.6133333333333333,
          0.6088888888888889,
          0.6088888888888889,
          0.6044444444444445,
          0.6,
          0.5955555555555555,
          0.5911111111111111,
          0.5911111111111111,
          0.5866666666666667,
          0.5866666666666667,
          0.5822222222222222,
          0.5777777777777777,
          0.5733333333333334,
          0.5688888888888889,
          0.5644444444444444,
          0.5644444444444444,
          0.56,
          0.56,
          0.56,
          0.5555555555555556,
          0.5511111111111111,
          0.5466666666666666,
          0.5422222222222223,
          0.5377777777777778,
          0.5333333333333333,
          0.5288888888888889,
          0.5244444444444445,
          0.52,
          0.5155555555555555,
          0.5111111111111111,
          0.5066666666666667,
          0.5022222222222222,
          0.49777777777777776,
          0.49333333333333335,
          0.49333333333333335,
          0.4888888888888889,
          0.48444444444444446,
          0.48,
          0.47555555555555556,
          0.4711111111111111,
          0.4666666666666667,
          0.4622222222222222,
          0.4577777777777778,
          0.4533333333333333,
          0.4488888888888889,
          0.4444444444444444,
          0.44,
          0.43555555555555553,
          0.4311111111111111,
          0.4266666666666667,
          0.4222222222222222,
          0.4177777777777778,
          0.41333333333333333,
          0.4088888888888889,
          0.40444444444444444,
          0.4,
          0.39555555555555555,
          0.39111111111111113,
          0.38666666666666666,
          0.38222222222222224,
          0.37777777777777777,
          0.37333333333333335,
          0.3688888888888889,
          0.36444444444444446,
          0.36,
          0.35555555555555557,
          0.3511111111111111,
          0.3466666666666667,
          0.3422222222222222,
          0.3377777777777778,
          0.3333333333333333,
          0.3288888888888889,
          0.3244444444444444,
          0.32,
          0.31555555555555553,
          0.3111111111111111,
          0.30666666666666664,
          0.3022222222222222,
          0.29777777777777775,
          0.29333333333333333,
          0.28888888888888886,
          0.28444444444444444,
          0.28,
          0.27555555555555555,
          0.27111111111111114,
          0.26666666666666666,
          0.26222222222222225,
          0.2577777777777778,
          0.25333333333333335,
          0.24888888888888888,
          0.24444444444444444,
          0.24,
          0.23555555555555555,
          0.2311111111111111,
          0.22666666666666666,
          0.2222222222222222,
          0.21777777777777776,
          0.21333333333333335,
          0.2088888888888889,
          0.20444444444444446,
          0.2,
          0.19555555555555557,
          0.19111111111111112,
          0.18666666666666668,
          0.18222222222222223,
          0.17777777777777778,
          0.17333333333333334,
          0.1688888888888889,
          0.16444444444444445,
          0.16,
          0.15555555555555556,
          0.1511111111111111,
          0.14666666666666667,
          0.14222222222222222,
          0.13777777777777778,
          0.13333333333333333,
          0.1288888888888889,
          0.12444444444444444,
          0.12,
          0.11555555555555555,
          0.1111111111111111,
          0.10666666666666667,
          0.10222222222222223,
          0.09777777777777778,
          0.09333333333333334,
          0.08888888888888889,
          0.08444444444444445,
          0.08,
          0.07555555555555556,
          0.07111111111111111,
          0.06666666666666667,
          0.06222222222222222,
          0.057777777777777775,
          0.05333333333333334,
          0.04888888888888889,
          0.044444444444444446,
          0.04,
          0.035555555555555556,
          0.03111111111111111,
          0.02666666666666667,
          0.022222222222222223,
          0.017777777777777778,
          0.013333333333333334,
          0.008888888888888889,
          0.0044444444444444444,
          0
         ],
         "y": [
          0.3,
          0.30040053404539385,
          0.30160857908847183,
          0.3024193548387097,
          0.3032345013477089,
          0.30364372469635625,
          0.30405405405405406,
          0.3044654939106901,
          0.3048780487804878,
          0.30529172320217096,
          0.30612244897959184,
          0.3065395095367847,
          0.3073770491803279,
          0.307797537619699,
          0.3082191780821918,
          0.3090659340659341,
          0.30991735537190085,
          0.3103448275862069,
          0.31077348066298344,
          0.3112033195020747,
          0.3129346314325452,
          0.31337047353760444,
          0.3138075313807531,
          0.31424581005586594,
          0.3146853146853147,
          0.31512605042016806,
          0.3155680224403927,
          0.3160112359550562,
          0.31645569620253167,
          0.31690140845070425,
          0.31734837799717913,
          0.3177966101694915,
          0.31869688385269124,
          0.3191489361702128,
          0.3196022727272727,
          0.3200568990042674,
          0.32051282051282054,
          0.3209700427960057,
          0.32142857142857145,
          0.3223495702005731,
          0.32281205164992827,
          0.3232758620689655,
          0.3237410071942446,
          0.3242074927953891,
          0.3246753246753247,
          0.32514450867052025,
          0.3256150506512301,
          0.32608695652173914,
          0.3265602322206096,
          0.32703488372093026,
          0.32751091703056767,
          0.32798833819241985,
          0.3284671532846715,
          0.32894736842105265,
          0.3294289897510981,
          0.3303964757709251,
          0.33088235294117646,
          0.33136966126656847,
          0.33185840707964603,
          0.33234859675036926,
          0.3328402366863905,
          0.3333333333333333,
          0.33382789317507416,
          0.3343239227340267,
          0.33482142857142855,
          0.3353204172876304,
          0.3358208955223881,
          0.336322869955157,
          0.33682634730538924,
          0.3373313343328336,
          0.33783783783783783,
          0.3383458646616541,
          0.338855421686747,
          0.3393665158371041,
          0.33987915407854985,
          0.340393343419062,
          0.3409090909090909,
          0.34142640364188165,
          0.3424657534246575,
          0.3429878048780488,
          0.3435114503816794,
          0.3440366972477064,
          0.3445635528330781,
          0.3450920245398773,
          0.3456221198156682,
          0.34615384615384615,
          0.34668721109399075,
          0.34775888717156106,
          0.34829721362229105,
          0.3488372093023256,
          0.34937888198757766,
          0.3499222395023328,
          0.35046728971962615,
          0.35101404056162244,
          0.3515625,
          0.352112676056338,
          0.35266457680250785,
          0.3532182103610675,
          0.35377358490566035,
          0.3543307086614173,
          0.3548895899053628,
          0.35545023696682465,
          0.3560126582278481,
          0.35657686212361334,
          0.35714285714285715,
          0.35771065182829886,
          0.35828025477707004,
          0.3588516746411483,
          0.35942492012779553,
          0.36,
          0.3605769230769231,
          0.3611556982343499,
          0.36231884057971014,
          0.3629032258064516,
          0.36348949919224555,
          0.3640776699029126,
          0.3646677471636953,
          0.3652597402597403,
          0.36585365853658536,
          0.36644951140065146,
          0.367047308319739,
          0.36764705882352944,
          0.36824877250409166,
          0.36885245901639346,
          0.3694581280788177,
          0.37006578947368424,
          0.37067545304777594,
          0.3712871287128713,
          0.371900826446281,
          0.37251655629139074,
          0.37375415282392027,
          0.37437603993344426,
          0.3756260434056761,
          0.3775167785234899,
          0.37815126050420167,
          0.3787878787878788,
          0.3794266441821248,
          0.3826530612244898,
          0.3833049403747871,
          0.3839590443686007,
          0.3852739726027397,
          0.38593481989708406,
          0.3865979381443299,
          0.387263339070568,
          0.3879310344827586,
          0.38860103626943004,
          0.3892733564013841,
          0.389948006932409,
          0.390625,
          0.39267015706806285,
          0.39404553415061294,
          0.39473684210526316,
          0.3954305799648506,
          0.3968253968253968,
          0.39752650176678445,
          0.39893617021276595,
          0.3996447602131439,
          0.400355871886121,
          0.40106951871657753,
          0.4017857142857143,
          0.41284403669724773,
          0.41360294117647056,
          0.4151291512915129,
          0.4166666666666667,
          0.4174397031539889,
          0.41899441340782123,
          0.4197761194029851,
          0.42134831460674155,
          0.4269449715370019,
          0.42775665399239543,
          0.43021032504780116,
          0.43103448275862066,
          0.43186180422264875,
          0.4326923076923077,
          0.43352601156069365,
          0.43520309477756286,
          0.436046511627907,
          0.4368932038834951,
          0.4377431906614786,
          0.43859649122807015,
          0.44031311154598823,
          0.4411764705882353,
          0.44204322200392926,
          0.44291338582677164,
          0.4437869822485207,
          0.44466403162055335,
          0.4536290322580645,
          0.45454545454545453,
          0.45546558704453444,
          0.4563894523326572,
          0.4573170731707317,
          0.45824847250509165,
          0.45918367346938777,
          0.4610655737704918,
          0.4620123203285421,
          0.46296296296296297,
          0.4639175257731959,
          0.4658385093167702,
          0.46680497925311204,
          0.4677754677754678,
          0.46875,
          0.4697286012526096,
          0.4716981132075472,
          0.4726890756302521,
          0.47368421052631576,
          0.47468354430379744,
          0.47568710359408034,
          0.47770700636942676,
          0.4787234042553192,
          0.47974413646055436,
          0.4807692307692308,
          0.48283261802575106,
          0.4849137931034483,
          0.48596112311015116,
          0.487012987012987,
          0.48590021691973967,
          0.48695652173913045,
          0.4880174291938998,
          0.4890829694323144,
          0.49015317286652077,
          0.49122807017543857,
          0.49230769230769234,
          0.4933920704845815,
          0.49448123620309054,
          0.49557522123893805,
          0.49667405764966743,
          0.49777777777777776,
          0.49888641425389757,
          0.5,
          0.5011185682326622,
          0.5022421524663677,
          0.503370786516854,
          0.5045045045045045,
          0.5056433408577878,
          0.5067873303167421,
          0.5079365079365079,
          0.509090909090909,
          0.510250569476082,
          0.5114155251141552,
          0.5125858123569794,
          0.5137614678899083,
          0.5149425287356322,
          0.5161290322580645,
          0.5173210161662818,
          0.5185185185185185,
          0.5197215777262181,
          0.5209302325581395,
          0.5221445221445221,
          0.5233644859813084,
          0.5245901639344263,
          0.5258215962441315,
          0.5270588235294118,
          0.5283018867924528,
          0.5295508274231678,
          0.5308056872037915,
          0.5320665083135392,
          0.5333333333333333,
          0.5346062052505967,
          0.5358851674641149,
          0.5371702637889688,
          0.5384615384615384,
          0.5397590361445783,
          0.5410628019323671,
          0.5423728813559322,
          0.5436893203883495,
          0.5450121654501217,
          0.5463414634146342,
          0.5476772616136919,
          0.5490196078431373,
          0.5503685503685504,
          0.5517241379310345,
          0.5530864197530864,
          0.5544554455445545,
          0.5558312655086849,
          0.5572139303482587,
          0.5586034912718204,
          0.56,
          0.5614035087719298,
          0.5628140703517588,
          0.5642317380352645,
          0.5656565656565656,
          0.5670886075949367,
          0.5685279187817259,
          0.5699745547073791,
          0.5714285714285714,
          0.5728900255754475,
          0.5743589743589743,
          0.5758354755784062,
          0.5773195876288659,
          0.5788113695090439,
          0.5803108808290155,
          0.5792207792207792,
          0.578125,
          0.5796344647519582,
          0.581151832460733,
          0.5826771653543307,
          0.5842105263157895,
          0.5857519788918206,
          0.5873015873015873,
          0.5888594164456233,
          0.5904255319148937,
          0.592,
          0.5935828877005348,
          0.5951742627345844,
          0.5967741935483871,
          0.5983827493261455,
          0.6,
          0.6016260162601627,
          0.6032608695652174,
          0.6049046321525886,
          0.6065573770491803,
          0.6082191780821918,
          0.6098901098901099,
          0.6115702479338843,
          0.6132596685082873,
          0.6149584487534626,
          0.6166666666666667,
          0.6183844011142061,
          0.6201117318435754,
          0.6218487394957983,
          0.6235955056179775,
          0.6253521126760564,
          0.6242937853107344,
          0.6260623229461756,
          0.6278409090909091,
          0.6296296296296297,
          0.6314285714285715,
          0.6303724928366762,
          0.632183908045977,
          0.6340057636887608,
          0.6358381502890174,
          0.6376811594202898,
          0.6395348837209303,
          0.641399416909621,
          0.6432748538011696,
          0.6451612903225806,
          0.6470588235294118,
          0.6489675516224189,
          0.6479289940828402,
          0.6468842729970327,
          0.6488095238095238,
          0.6507462686567164,
          0.6526946107784432,
          0.6516516516516516,
          0.6536144578313253,
          0.6555891238670695,
          0.6545454545454545,
          0.6565349544072948,
          0.6585365853658537,
          0.6605504587155964,
          0.6625766871165644,
          0.6646153846153846,
          0.6666666666666666,
          0.6687306501547987,
          0.6708074534161491,
          0.6728971962616822,
          0.671875,
          0.670846394984326,
          0.6729559748427673,
          0.6750788643533123,
          0.6772151898734177,
          0.6793650793650794,
          0.6837060702875399,
          0.6858974358974359,
          0.6881028938906752,
          0.6870967741935484,
          0.6893203883495146,
          0.6915584415584416,
          0.6938110749185668,
          0.696078431372549,
          0.6983606557377049,
          0.7006578947368421,
          0.7029702970297029,
          0.7052980132450332,
          0.7043189368770764,
          0.7066666666666667,
          0.705685618729097,
          0.7046979865771812,
          0.7037037037037037,
          0.7027027027027027,
          0.7050847457627119,
          0.7040816326530612,
          0.7064846416382252,
          0.708904109589041,
          0.711340206185567,
          0.7137931034482758,
          0.71280276816609,
          0.7152777777777778,
          0.7142857142857143,
          0.7132867132867133,
          0.7157894736842105,
          0.7183098591549296,
          0.7208480565371025,
          0.723404255319149,
          0.7259786476868327,
          0.7285714285714285,
          0.7275985663082437,
          0.7266187050359713,
          0.7256317689530686,
          0.7246376811594203,
          0.7272727272727273,
          0.7262773722627737,
          0.7252747252747253,
          0.7279411764705882,
          0.7306273062730627,
          0.7333333333333333,
          0.7360594795539034,
          0.7388059701492538,
          0.7378277153558053,
          0.7406015037593985,
          0.7396226415094339,
          0.7386363636363636,
          0.7414448669201521,
          0.7442748091603053,
          0.7471264367816092,
          0.75,
          0.752895752895753,
          0.751937984496124,
          0.754863813229572,
          0.7578125,
          0.7607843137254902,
          0.7598425196850394,
          0.7628458498023716,
          0.7619047619047619,
          0.7609561752988048,
          0.764,
          0.7670682730923695,
          0.7701612903225806,
          0.7732793522267206,
          0.7723577235772358,
          0.7755102040816326,
          0.7745901639344263,
          0.7777777777777778,
          0.7768595041322314,
          0.7800829875518672,
          0.7833333333333333,
          0.7824267782426778,
          0.7857142857142857,
          0.7890295358649789,
          0.7923728813559322,
          0.7957446808510639,
          0.7991452991452992,
          0.8025751072961373,
          0.8060344827586207,
          0.8095238095238095,
          0.808695652173913,
          0.8122270742358079,
          0.8157894736842105,
          0.8149779735682819,
          0.8141592920353983,
          0.8177777777777778,
          0.8169642857142857,
          0.820627802690583,
          0.8243243243243243,
          0.8235294117647058,
          0.8272727272727273,
          0.8310502283105022,
          0.8348623853211009,
          0.8387096774193549,
          0.8425925925925926,
          0.8418604651162791,
          0.8457943925233645,
          0.8497652582159625,
          0.8537735849056604,
          0.8530805687203792,
          0.8523809523809524,
          0.8516746411483254,
          0.8557692307692307,
          0.8599033816425121,
          0.8640776699029126,
          0.8682926829268293,
          0.8725490196078431,
          0.8719211822660099,
          0.8712871287128713,
          0.8756218905472637,
          0.875,
          0.8743718592964824,
          0.8737373737373737,
          0.8781725888324873,
          0.8826530612244898,
          0.8871794871794871,
          0.8917525773195877,
          0.8963730569948186,
          0.8958333333333334,
          0.8952879581151832,
          0.8947368421052632,
          0.8941798941798942,
          0.8936170212765957,
          0.893048128342246,
          0.8924731182795699,
          0.8972972972972973,
          0.8967391304347826,
          0.9016393442622951,
          0.9065934065934066,
          0.9060773480662984,
          0.9055555555555556,
          0.9106145251396648,
          0.9101123595505618,
          0.9096045197740112,
          0.9090909090909091,
          0.9085714285714286,
          0.9137931034482759,
          0.9132947976878613,
          0.9127906976744186,
          0.9181286549707602,
          0.9235294117647059,
          0.9230769230769231,
          0.9226190476190477,
          0.9221556886227545,
          0.927710843373494,
          0.9272727272727272,
          0.926829268292683,
          0.9325153374233128,
          0.9320987654320988,
          0.9316770186335404,
          0.9375,
          0.9371069182389937,
          0.9367088607594937,
          0.9363057324840764,
          0.9358974358974359,
          0.9419354838709677,
          0.948051948051948,
          0.9477124183006536,
          0.9473684210526315,
          0.9470198675496688,
          0.9533333333333334,
          0.9530201342281879,
          0.9527027027027027,
          0.9523809523809523,
          0.952054794520548,
          0.9517241379310345,
          0.9513888888888888,
          0.958041958041958,
          0.9577464788732394,
          0.9574468085106383,
          0.9571428571428572,
          0.9568345323741008,
          0.9637681159420289,
          0.9635036496350365,
          0.9705882352941176,
          0.9703703703703703,
          0.9701492537313433,
          0.9699248120300752,
          0.9696969696969697,
          0.9694656488549618,
          0.9769230769230769,
          0.9767441860465116,
          0.984375,
          0.9921259842519685,
          0.9920634920634921,
          0.992,
          0.9919354838709677,
          0.991869918699187,
          0.9918032786885246,
          0.9917355371900827,
          0.9916666666666667,
          0.9915966386554622,
          0.9915254237288136,
          0.9914529914529915,
          0.9913793103448276,
          0.991304347826087,
          0.9912280701754386,
          0.9911504424778761,
          0.9910714285714286,
          1,
          1,
          1,
          1,
          1,
          1,
          1,
          1,
          1,
          1,
          1,
          1,
          1,
          1,
          1,
          1,
          1,
          1,
          1,
          1,
          1,
          1,
          1,
          1,
          1,
          1,
          1,
          1,
          1,
          1,
          1,
          1,
          1,
          1,
          1,
          1,
          1,
          1,
          1,
          1,
          1,
          1,
          1,
          1,
          1,
          1,
          1,
          1,
          1,
          1,
          1,
          1,
          1,
          1,
          1,
          1,
          1,
          1,
          1,
          1,
          1,
          1,
          1,
          1,
          1,
          1,
          1,
          1,
          1,
          1,
          1,
          1,
          1,
          1,
          1,
          1,
          1,
          1,
          1,
          1,
          1,
          1,
          1,
          1,
          1,
          1,
          1,
          1,
          1,
          1,
          1,
          1,
          1,
          1,
          1,
          1,
          1,
          1,
          1,
          1,
          1,
          1,
          1,
          1,
          1,
          1,
          1,
          1,
          1,
          1,
          1,
          1
         ]
        }
       ],
       "layout": {
        "template": {
         "data": {
          "bar": [
           {
            "error_x": {
             "color": "#2a3f5f"
            },
            "error_y": {
             "color": "#2a3f5f"
            },
            "marker": {
             "line": {
              "color": "#E5ECF6",
              "width": 0.5
             },
             "pattern": {
              "fillmode": "overlay",
              "size": 10,
              "solidity": 0.2
             }
            },
            "type": "bar"
           }
          ],
          "barpolar": [
           {
            "marker": {
             "line": {
              "color": "#E5ECF6",
              "width": 0.5
             },
             "pattern": {
              "fillmode": "overlay",
              "size": 10,
              "solidity": 0.2
             }
            },
            "type": "barpolar"
           }
          ],
          "carpet": [
           {
            "aaxis": {
             "endlinecolor": "#2a3f5f",
             "gridcolor": "white",
             "linecolor": "white",
             "minorgridcolor": "white",
             "startlinecolor": "#2a3f5f"
            },
            "baxis": {
             "endlinecolor": "#2a3f5f",
             "gridcolor": "white",
             "linecolor": "white",
             "minorgridcolor": "white",
             "startlinecolor": "#2a3f5f"
            },
            "type": "carpet"
           }
          ],
          "choropleth": [
           {
            "colorbar": {
             "outlinewidth": 0,
             "ticks": ""
            },
            "type": "choropleth"
           }
          ],
          "contour": [
           {
            "colorbar": {
             "outlinewidth": 0,
             "ticks": ""
            },
            "colorscale": [
             [
              0,
              "#0d0887"
             ],
             [
              0.1111111111111111,
              "#46039f"
             ],
             [
              0.2222222222222222,
              "#7201a8"
             ],
             [
              0.3333333333333333,
              "#9c179e"
             ],
             [
              0.4444444444444444,
              "#bd3786"
             ],
             [
              0.5555555555555556,
              "#d8576b"
             ],
             [
              0.6666666666666666,
              "#ed7953"
             ],
             [
              0.7777777777777778,
              "#fb9f3a"
             ],
             [
              0.8888888888888888,
              "#fdca26"
             ],
             [
              1,
              "#f0f921"
             ]
            ],
            "type": "contour"
           }
          ],
          "contourcarpet": [
           {
            "colorbar": {
             "outlinewidth": 0,
             "ticks": ""
            },
            "type": "contourcarpet"
           }
          ],
          "heatmap": [
           {
            "colorbar": {
             "outlinewidth": 0,
             "ticks": ""
            },
            "colorscale": [
             [
              0,
              "#0d0887"
             ],
             [
              0.1111111111111111,
              "#46039f"
             ],
             [
              0.2222222222222222,
              "#7201a8"
             ],
             [
              0.3333333333333333,
              "#9c179e"
             ],
             [
              0.4444444444444444,
              "#bd3786"
             ],
             [
              0.5555555555555556,
              "#d8576b"
             ],
             [
              0.6666666666666666,
              "#ed7953"
             ],
             [
              0.7777777777777778,
              "#fb9f3a"
             ],
             [
              0.8888888888888888,
              "#fdca26"
             ],
             [
              1,
              "#f0f921"
             ]
            ],
            "type": "heatmap"
           }
          ],
          "heatmapgl": [
           {
            "colorbar": {
             "outlinewidth": 0,
             "ticks": ""
            },
            "colorscale": [
             [
              0,
              "#0d0887"
             ],
             [
              0.1111111111111111,
              "#46039f"
             ],
             [
              0.2222222222222222,
              "#7201a8"
             ],
             [
              0.3333333333333333,
              "#9c179e"
             ],
             [
              0.4444444444444444,
              "#bd3786"
             ],
             [
              0.5555555555555556,
              "#d8576b"
             ],
             [
              0.6666666666666666,
              "#ed7953"
             ],
             [
              0.7777777777777778,
              "#fb9f3a"
             ],
             [
              0.8888888888888888,
              "#fdca26"
             ],
             [
              1,
              "#f0f921"
             ]
            ],
            "type": "heatmapgl"
           }
          ],
          "histogram": [
           {
            "marker": {
             "pattern": {
              "fillmode": "overlay",
              "size": 10,
              "solidity": 0.2
             }
            },
            "type": "histogram"
           }
          ],
          "histogram2d": [
           {
            "colorbar": {
             "outlinewidth": 0,
             "ticks": ""
            },
            "colorscale": [
             [
              0,
              "#0d0887"
             ],
             [
              0.1111111111111111,
              "#46039f"
             ],
             [
              0.2222222222222222,
              "#7201a8"
             ],
             [
              0.3333333333333333,
              "#9c179e"
             ],
             [
              0.4444444444444444,
              "#bd3786"
             ],
             [
              0.5555555555555556,
              "#d8576b"
             ],
             [
              0.6666666666666666,
              "#ed7953"
             ],
             [
              0.7777777777777778,
              "#fb9f3a"
             ],
             [
              0.8888888888888888,
              "#fdca26"
             ],
             [
              1,
              "#f0f921"
             ]
            ],
            "type": "histogram2d"
           }
          ],
          "histogram2dcontour": [
           {
            "colorbar": {
             "outlinewidth": 0,
             "ticks": ""
            },
            "colorscale": [
             [
              0,
              "#0d0887"
             ],
             [
              0.1111111111111111,
              "#46039f"
             ],
             [
              0.2222222222222222,
              "#7201a8"
             ],
             [
              0.3333333333333333,
              "#9c179e"
             ],
             [
              0.4444444444444444,
              "#bd3786"
             ],
             [
              0.5555555555555556,
              "#d8576b"
             ],
             [
              0.6666666666666666,
              "#ed7953"
             ],
             [
              0.7777777777777778,
              "#fb9f3a"
             ],
             [
              0.8888888888888888,
              "#fdca26"
             ],
             [
              1,
              "#f0f921"
             ]
            ],
            "type": "histogram2dcontour"
           }
          ],
          "mesh3d": [
           {
            "colorbar": {
             "outlinewidth": 0,
             "ticks": ""
            },
            "type": "mesh3d"
           }
          ],
          "parcoords": [
           {
            "line": {
             "colorbar": {
              "outlinewidth": 0,
              "ticks": ""
             }
            },
            "type": "parcoords"
           }
          ],
          "pie": [
           {
            "automargin": true,
            "type": "pie"
           }
          ],
          "scatter": [
           {
            "fillpattern": {
             "fillmode": "overlay",
             "size": 10,
             "solidity": 0.2
            },
            "type": "scatter"
           }
          ],
          "scatter3d": [
           {
            "line": {
             "colorbar": {
              "outlinewidth": 0,
              "ticks": ""
             }
            },
            "marker": {
             "colorbar": {
              "outlinewidth": 0,
              "ticks": ""
             }
            },
            "type": "scatter3d"
           }
          ],
          "scattercarpet": [
           {
            "marker": {
             "colorbar": {
              "outlinewidth": 0,
              "ticks": ""
             }
            },
            "type": "scattercarpet"
           }
          ],
          "scattergeo": [
           {
            "marker": {
             "colorbar": {
              "outlinewidth": 0,
              "ticks": ""
             }
            },
            "type": "scattergeo"
           }
          ],
          "scattergl": [
           {
            "marker": {
             "colorbar": {
              "outlinewidth": 0,
              "ticks": ""
             }
            },
            "type": "scattergl"
           }
          ],
          "scattermapbox": [
           {
            "marker": {
             "colorbar": {
              "outlinewidth": 0,
              "ticks": ""
             }
            },
            "type": "scattermapbox"
           }
          ],
          "scatterpolar": [
           {
            "marker": {
             "colorbar": {
              "outlinewidth": 0,
              "ticks": ""
             }
            },
            "type": "scatterpolar"
           }
          ],
          "scatterpolargl": [
           {
            "marker": {
             "colorbar": {
              "outlinewidth": 0,
              "ticks": ""
             }
            },
            "type": "scatterpolargl"
           }
          ],
          "scatterternary": [
           {
            "marker": {
             "colorbar": {
              "outlinewidth": 0,
              "ticks": ""
             }
            },
            "type": "scatterternary"
           }
          ],
          "surface": [
           {
            "colorbar": {
             "outlinewidth": 0,
             "ticks": ""
            },
            "colorscale": [
             [
              0,
              "#0d0887"
             ],
             [
              0.1111111111111111,
              "#46039f"
             ],
             [
              0.2222222222222222,
              "#7201a8"
             ],
             [
              0.3333333333333333,
              "#9c179e"
             ],
             [
              0.4444444444444444,
              "#bd3786"
             ],
             [
              0.5555555555555556,
              "#d8576b"
             ],
             [
              0.6666666666666666,
              "#ed7953"
             ],
             [
              0.7777777777777778,
              "#fb9f3a"
             ],
             [
              0.8888888888888888,
              "#fdca26"
             ],
             [
              1,
              "#f0f921"
             ]
            ],
            "type": "surface"
           }
          ],
          "table": [
           {
            "cells": {
             "fill": {
              "color": "#EBF0F8"
             },
             "line": {
              "color": "white"
             }
            },
            "header": {
             "fill": {
              "color": "#C8D4E3"
             },
             "line": {
              "color": "white"
             }
            },
            "type": "table"
           }
          ]
         },
         "layout": {
          "annotationdefaults": {
           "arrowcolor": "#2a3f5f",
           "arrowhead": 0,
           "arrowwidth": 1
          },
          "autotypenumbers": "strict",
          "coloraxis": {
           "colorbar": {
            "outlinewidth": 0,
            "ticks": ""
           }
          },
          "colorscale": {
           "diverging": [
            [
             0,
             "#8e0152"
            ],
            [
             0.1,
             "#c51b7d"
            ],
            [
             0.2,
             "#de77ae"
            ],
            [
             0.3,
             "#f1b6da"
            ],
            [
             0.4,
             "#fde0ef"
            ],
            [
             0.5,
             "#f7f7f7"
            ],
            [
             0.6,
             "#e6f5d0"
            ],
            [
             0.7,
             "#b8e186"
            ],
            [
             0.8,
             "#7fbc41"
            ],
            [
             0.9,
             "#4d9221"
            ],
            [
             1,
             "#276419"
            ]
           ],
           "sequential": [
            [
             0,
             "#0d0887"
            ],
            [
             0.1111111111111111,
             "#46039f"
            ],
            [
             0.2222222222222222,
             "#7201a8"
            ],
            [
             0.3333333333333333,
             "#9c179e"
            ],
            [
             0.4444444444444444,
             "#bd3786"
            ],
            [
             0.5555555555555556,
             "#d8576b"
            ],
            [
             0.6666666666666666,
             "#ed7953"
            ],
            [
             0.7777777777777778,
             "#fb9f3a"
            ],
            [
             0.8888888888888888,
             "#fdca26"
            ],
            [
             1,
             "#f0f921"
            ]
           ],
           "sequentialminus": [
            [
             0,
             "#0d0887"
            ],
            [
             0.1111111111111111,
             "#46039f"
            ],
            [
             0.2222222222222222,
             "#7201a8"
            ],
            [
             0.3333333333333333,
             "#9c179e"
            ],
            [
             0.4444444444444444,
             "#bd3786"
            ],
            [
             0.5555555555555556,
             "#d8576b"
            ],
            [
             0.6666666666666666,
             "#ed7953"
            ],
            [
             0.7777777777777778,
             "#fb9f3a"
            ],
            [
             0.8888888888888888,
             "#fdca26"
            ],
            [
             1,
             "#f0f921"
            ]
           ]
          },
          "colorway": [
           "#636efa",
           "#EF553B",
           "#00cc96",
           "#ab63fa",
           "#FFA15A",
           "#19d3f3",
           "#FF6692",
           "#B6E880",
           "#FF97FF",
           "#FECB52"
          ],
          "font": {
           "color": "#2a3f5f"
          },
          "geo": {
           "bgcolor": "white",
           "lakecolor": "white",
           "landcolor": "#E5ECF6",
           "showlakes": true,
           "showland": true,
           "subunitcolor": "white"
          },
          "hoverlabel": {
           "align": "left"
          },
          "hovermode": "closest",
          "mapbox": {
           "style": "light"
          },
          "paper_bgcolor": "white",
          "plot_bgcolor": "#E5ECF6",
          "polar": {
           "angularaxis": {
            "gridcolor": "white",
            "linecolor": "white",
            "ticks": ""
           },
           "bgcolor": "#E5ECF6",
           "radialaxis": {
            "gridcolor": "white",
            "linecolor": "white",
            "ticks": ""
           }
          },
          "scene": {
           "xaxis": {
            "backgroundcolor": "#E5ECF6",
            "gridcolor": "white",
            "gridwidth": 2,
            "linecolor": "white",
            "showbackground": true,
            "ticks": "",
            "zerolinecolor": "white"
           },
           "yaxis": {
            "backgroundcolor": "#E5ECF6",
            "gridcolor": "white",
            "gridwidth": 2,
            "linecolor": "white",
            "showbackground": true,
            "ticks": "",
            "zerolinecolor": "white"
           },
           "zaxis": {
            "backgroundcolor": "#E5ECF6",
            "gridcolor": "white",
            "gridwidth": 2,
            "linecolor": "white",
            "showbackground": true,
            "ticks": "",
            "zerolinecolor": "white"
           }
          },
          "shapedefaults": {
           "line": {
            "color": "#2a3f5f"
           }
          },
          "ternary": {
           "aaxis": {
            "gridcolor": "white",
            "linecolor": "white",
            "ticks": ""
           },
           "baxis": {
            "gridcolor": "white",
            "linecolor": "white",
            "ticks": ""
           },
           "bgcolor": "#E5ECF6",
           "caxis": {
            "gridcolor": "white",
            "linecolor": "white",
            "ticks": ""
           }
          },
          "title": {
           "x": 0.05
          },
          "xaxis": {
           "automargin": true,
           "gridcolor": "white",
           "linecolor": "white",
           "ticks": "",
           "title": {
            "standoff": 15
           },
           "zerolinecolor": "white",
           "zerolinewidth": 2
          },
          "yaxis": {
           "automargin": true,
           "gridcolor": "white",
           "linecolor": "white",
           "ticks": "",
           "title": {
            "standoff": 15
           },
           "zerolinecolor": "white",
           "zerolinewidth": 2
          }
         }
        },
        "title": {
         "text": "Precision-Recall Curve"
        }
       }
      },
      "text/html": [
       "<div>                            <div id=\"f31f259f-265f-4d63-ab30-78297a55ba9f\" class=\"plotly-graph-div\" style=\"height:525px; width:100%;\"></div>            <script type=\"text/javascript\">                require([\"plotly\"], function(Plotly) {                    window.PLOTLYENV=window.PLOTLYENV || {};                                    if (document.getElementById(\"f31f259f-265f-4d63-ab30-78297a55ba9f\")) {                    Plotly.newPlot(                        \"f31f259f-265f-4d63-ab30-78297a55ba9f\",                        [{\"mode\":\"lines\",\"name\":\"search1\",\"x\":[1.0,1.0,1.0,1.0,1.0,1.0,1.0,1.0,1.0,1.0,1.0,1.0,1.0,1.0,1.0,1.0,1.0,1.0,1.0,1.0,1.0,1.0,1.0,1.0,1.0,1.0,1.0,1.0,1.0,1.0,1.0,1.0,1.0,1.0,1.0,1.0,1.0,1.0,1.0,1.0,1.0,1.0,1.0,1.0,1.0,1.0,1.0,1.0,1.0,1.0,1.0,1.0,1.0,1.0,1.0,1.0,1.0,1.0,1.0,1.0,1.0,1.0,1.0,1.0,1.0,1.0,1.0,1.0,1.0,1.0,1.0,1.0,1.0,1.0,1.0,1.0,1.0,1.0,1.0,1.0,1.0,1.0,1.0,1.0,1.0,1.0,1.0,1.0,1.0,1.0,1.0,1.0,1.0,1.0,1.0,1.0,1.0,1.0,1.0,1.0,1.0,1.0,1.0,1.0,1.0,1.0,1.0,1.0,1.0,1.0,1.0,1.0,1.0,1.0,1.0,1.0,1.0,1.0,1.0,1.0,1.0,1.0,1.0,1.0,1.0,1.0,1.0,1.0,1.0,1.0,1.0,1.0,1.0,1.0,1.0,1.0,1.0,1.0,1.0,1.0,1.0,1.0,1.0,1.0,1.0,1.0,1.0,1.0,1.0,1.0,1.0,1.0,1.0,1.0,1.0,1.0,1.0,1.0,1.0,1.0,1.0,1.0,1.0,1.0,1.0,1.0,1.0,1.0,1.0,1.0,1.0,1.0,1.0,1.0,1.0,1.0,1.0,1.0,1.0,1.0,1.0,1.0,1.0,1.0,1.0,1.0,1.0,1.0,1.0,1.0,1.0,1.0,1.0,1.0,1.0,1.0,1.0,1.0,1.0,1.0,1.0,1.0,1.0,1.0,1.0,1.0,1.0,1.0,1.0,1.0,1.0,1.0,1.0,1.0,1.0,0.9955555555555555,0.9955555555555555,0.9955555555555555,0.9955555555555555,0.9955555555555555,0.9955555555555555,0.9955555555555555,0.9955555555555555,0.9955555555555555,0.9955555555555555,0.9955555555555555,0.9955555555555555,0.9955555555555555,0.9955555555555555,0.9955555555555555,0.9955555555555555,0.9955555555555555,0.9955555555555555,0.9955555555555555,0.9955555555555555,0.9955555555555555,0.9955555555555555,0.9955555555555555,0.9955555555555555,0.9955555555555555,0.9955555555555555,0.9955555555555555,0.9955555555555555,0.9955555555555555,0.9955555555555555,0.9955555555555555,0.9955555555555555,0.9955555555555555,0.9955555555555555,0.9955555555555555,0.9955555555555555,0.9955555555555555,0.9955555555555555,0.9955555555555555,0.9955555555555555,0.9955555555555555,0.9955555555555555,0.9955555555555555,0.9955555555555555,0.9955555555555555,0.9955555555555555,0.9955555555555555,0.9955555555555555,0.9955555555555555,0.9955555555555555,0.9955555555555555,0.9955555555555555,0.9955555555555555,0.9955555555555555,0.9955555555555555,0.9955555555555555,0.9955555555555555,0.9955555555555555,0.9955555555555555,0.9955555555555555,0.9955555555555555,0.9955555555555555,0.9955555555555555,0.9955555555555555,0.9955555555555555,0.9955555555555555,0.9955555555555555,0.9955555555555555,0.9955555555555555,0.9955555555555555,0.9955555555555555,0.9955555555555555,0.9955555555555555,0.9955555555555555,0.9955555555555555,0.9955555555555555,0.9911111111111112,0.9866666666666667,0.9866666666666667,0.9866666666666667,0.9866666666666667,0.9866666666666667,0.9866666666666667,0.9866666666666667,0.9866666666666667,0.9866666666666667,0.9866666666666667,0.9866666666666667,0.9866666666666667,0.9866666666666667,0.9866666666666667,0.9866666666666667,0.9866666666666667,0.9866666666666667,0.9866666666666667,0.9866666666666667,0.9866666666666667,0.9866666666666667,0.9866666666666667,0.9866666666666667,0.9866666666666667,0.9866666666666667,0.9866666666666667,0.9866666666666667,0.9866666666666667,0.9866666666666667,0.9866666666666667,0.9822222222222222,0.9822222222222222,0.9822222222222222,0.9822222222222222,0.9822222222222222,0.9777777777777777,0.9777777777777777,0.9777777777777777,0.9777777777777777,0.9777777777777777,0.9777777777777777,0.9777777777777777,0.9777777777777777,0.9777777777777777,0.9777777777777777,0.9777777777777777,0.9733333333333334,0.9688888888888889,0.9688888888888889,0.9688888888888889,0.9688888888888889,0.9644444444444444,0.9644444444444444,0.9644444444444444,0.96,0.96,0.96,0.96,0.96,0.96,0.96,0.96,0.96,0.96,0.9555555555555556,0.9511111111111111,0.9511111111111111,0.9511111111111111,0.9511111111111111,0.9511111111111111,0.9511111111111111,0.9511111111111111,0.9511111111111111,0.9466666666666667,0.9466666666666667,0.9466666666666667,0.9466666666666667,0.9466666666666667,0.9466666666666667,0.9466666666666667,0.9466666666666667,0.9466666666666667,0.9422222222222222,0.9422222222222222,0.9377777777777778,0.9333333333333333,0.9288888888888889,0.9244444444444444,0.9244444444444444,0.92,0.92,0.92,0.92,0.92,0.9155555555555556,0.9155555555555556,0.9111111111111111,0.9066666666666666,0.9066666666666666,0.9066666666666666,0.9066666666666666,0.9066666666666666,0.9066666666666666,0.9066666666666666,0.9022222222222223,0.8977777777777778,0.8933333333333333,0.8888888888888888,0.8888888888888888,0.8844444444444445,0.88,0.88,0.88,0.88,0.88,0.88,0.8755555555555555,0.8755555555555555,0.8711111111111111,0.8666666666666667,0.8666666666666667,0.8666666666666667,0.8666666666666667,0.8666666666666667,0.8666666666666667,0.8622222222222222,0.8622222222222222,0.8622222222222222,0.8622222222222222,0.8577777777777778,0.8577777777777778,0.8533333333333334,0.8488888888888889,0.8488888888888889,0.8488888888888889,0.8488888888888889,0.8488888888888889,0.8444444444444444,0.8444444444444444,0.84,0.84,0.8355555555555556,0.8355555555555556,0.8355555555555556,0.8311111111111111,0.8311111111111111,0.8311111111111111,0.8311111111111111,0.8311111111111111,0.8311111111111111,0.8311111111111111,0.8311111111111111,0.8311111111111111,0.8266666666666667,0.8266666666666667,0.8266666666666667,0.8222222222222222,0.8177777777777778,0.8177777777777778,0.8133333333333334,0.8133333333333334,0.8133333333333334,0.8088888888888889,0.8088888888888889,0.8088888888888889,0.8088888888888889,0.8088888888888889,0.8088888888888889,0.8044444444444444,0.8044444444444444,0.8044444444444444,0.8044444444444444,0.8,0.7955555555555556,0.7911111111111111,0.7911111111111111,0.7911111111111111,0.7911111111111111,0.7911111111111111,0.7911111111111111,0.7866666666666666,0.7822222222222223,0.7822222222222223,0.7777777777777778,0.7733333333333333,0.7688888888888888,0.7688888888888888,0.7688888888888888,0.7688888888888888,0.7688888888888888,0.7688888888888888,0.7644444444444445,0.76,0.7555555555555555,0.7511111111111111,0.7466666666666667,0.7422222222222222,0.7377777777777778,0.7377777777777778,0.7333333333333333,0.7333333333333333,0.7333333333333333,0.7288888888888889,0.7244444444444444,0.7244444444444444,0.72,0.7155555555555555,0.7111111111111111,0.7066666666666667,0.7066666666666667,0.7022222222222222,0.6977777777777778,0.6977777777777778,0.6977777777777778,0.6933333333333334,0.6888888888888889,0.6844444444444444,0.6844444444444444,0.68,0.6755555555555556,0.6755555555555556,0.6711111111111111,0.6666666666666666,0.6666666666666666,0.6622222222222223,0.6577777777777778,0.6533333333333333,0.6488888888888888,0.6488888888888888,0.6488888888888888,0.6444444444444445,0.64,0.6355555555555555,0.6355555555555555,0.6311111111111111,0.6266666666666667,0.6222222222222222,0.6177777777777778,0.6133333333333333,0.6088888888888889,0.6088888888888889,0.6044444444444445,0.6,0.5955555555555555,0.5911111111111111,0.5911111111111111,0.5866666666666667,0.5866666666666667,0.5822222222222222,0.5777777777777777,0.5733333333333334,0.5688888888888889,0.5644444444444444,0.5644444444444444,0.56,0.56,0.56,0.5555555555555556,0.5511111111111111,0.5466666666666666,0.5422222222222223,0.5377777777777778,0.5333333333333333,0.5288888888888889,0.5244444444444445,0.52,0.5155555555555555,0.5111111111111111,0.5066666666666667,0.5022222222222222,0.49777777777777776,0.49333333333333335,0.49333333333333335,0.4888888888888889,0.48444444444444446,0.48,0.47555555555555556,0.4711111111111111,0.4666666666666667,0.4622222222222222,0.4577777777777778,0.4533333333333333,0.4488888888888889,0.4444444444444444,0.44,0.43555555555555553,0.4311111111111111,0.4266666666666667,0.4222222222222222,0.4177777777777778,0.41333333333333333,0.4088888888888889,0.40444444444444444,0.4,0.39555555555555555,0.39111111111111113,0.38666666666666666,0.38222222222222224,0.37777777777777777,0.37333333333333335,0.3688888888888889,0.36444444444444446,0.36,0.35555555555555557,0.3511111111111111,0.3466666666666667,0.3422222222222222,0.3377777777777778,0.3333333333333333,0.3288888888888889,0.3244444444444444,0.32,0.31555555555555553,0.3111111111111111,0.30666666666666664,0.3022222222222222,0.29777777777777775,0.29333333333333333,0.28888888888888886,0.28444444444444444,0.28,0.27555555555555555,0.27111111111111114,0.26666666666666666,0.26222222222222225,0.2577777777777778,0.25333333333333335,0.24888888888888888,0.24444444444444444,0.24,0.23555555555555555,0.2311111111111111,0.22666666666666666,0.2222222222222222,0.21777777777777776,0.21333333333333335,0.2088888888888889,0.20444444444444446,0.2,0.19555555555555557,0.19111111111111112,0.18666666666666668,0.18222222222222223,0.17777777777777778,0.17333333333333334,0.1688888888888889,0.16444444444444445,0.16,0.15555555555555556,0.1511111111111111,0.14666666666666667,0.14222222222222222,0.13777777777777778,0.13333333333333333,0.1288888888888889,0.12444444444444444,0.12,0.11555555555555555,0.1111111111111111,0.10666666666666667,0.10222222222222223,0.09777777777777778,0.09333333333333334,0.08888888888888889,0.08444444444444445,0.08,0.07555555555555556,0.07111111111111111,0.06666666666666667,0.06222222222222222,0.057777777777777775,0.05333333333333334,0.04888888888888889,0.044444444444444446,0.04,0.035555555555555556,0.03111111111111111,0.02666666666666667,0.022222222222222223,0.017777777777777778,0.013333333333333334,0.008888888888888889,0.0044444444444444444,0.0],\"y\":[0.3,0.30040053404539385,0.30160857908847183,0.3024193548387097,0.3032345013477089,0.30364372469635625,0.30405405405405406,0.3044654939106901,0.3048780487804878,0.30529172320217096,0.30612244897959184,0.3065395095367847,0.3073770491803279,0.307797537619699,0.3082191780821918,0.3090659340659341,0.30991735537190085,0.3103448275862069,0.31077348066298344,0.3112033195020747,0.3129346314325452,0.31337047353760444,0.3138075313807531,0.31424581005586594,0.3146853146853147,0.31512605042016806,0.3155680224403927,0.3160112359550562,0.31645569620253167,0.31690140845070425,0.31734837799717913,0.3177966101694915,0.31869688385269124,0.3191489361702128,0.3196022727272727,0.3200568990042674,0.32051282051282054,0.3209700427960057,0.32142857142857145,0.3223495702005731,0.32281205164992827,0.3232758620689655,0.3237410071942446,0.3242074927953891,0.3246753246753247,0.32514450867052025,0.3256150506512301,0.32608695652173914,0.3265602322206096,0.32703488372093026,0.32751091703056767,0.32798833819241985,0.3284671532846715,0.32894736842105265,0.3294289897510981,0.3303964757709251,0.33088235294117646,0.33136966126656847,0.33185840707964603,0.33234859675036926,0.3328402366863905,0.3333333333333333,0.33382789317507416,0.3343239227340267,0.33482142857142855,0.3353204172876304,0.3358208955223881,0.336322869955157,0.33682634730538924,0.3373313343328336,0.33783783783783783,0.3383458646616541,0.338855421686747,0.3393665158371041,0.33987915407854985,0.340393343419062,0.3409090909090909,0.34142640364188165,0.3424657534246575,0.3429878048780488,0.3435114503816794,0.3440366972477064,0.3445635528330781,0.3450920245398773,0.3456221198156682,0.34615384615384615,0.34668721109399075,0.34775888717156106,0.34829721362229105,0.3488372093023256,0.34937888198757766,0.3499222395023328,0.35046728971962615,0.35101404056162244,0.3515625,0.352112676056338,0.35266457680250785,0.3532182103610675,0.35377358490566035,0.3543307086614173,0.3548895899053628,0.35545023696682465,0.3560126582278481,0.35657686212361334,0.35714285714285715,0.35771065182829886,0.35828025477707004,0.3588516746411483,0.35942492012779553,0.36,0.3605769230769231,0.3611556982343499,0.36231884057971014,0.3629032258064516,0.36348949919224555,0.3640776699029126,0.3646677471636953,0.3652597402597403,0.36585365853658536,0.36644951140065146,0.367047308319739,0.36764705882352944,0.36824877250409166,0.36885245901639346,0.3694581280788177,0.37006578947368424,0.37067545304777594,0.3712871287128713,0.371900826446281,0.37251655629139074,0.37375415282392027,0.37437603993344426,0.3756260434056761,0.3775167785234899,0.37815126050420167,0.3787878787878788,0.3794266441821248,0.3826530612244898,0.3833049403747871,0.3839590443686007,0.3852739726027397,0.38593481989708406,0.3865979381443299,0.387263339070568,0.3879310344827586,0.38860103626943004,0.3892733564013841,0.389948006932409,0.390625,0.39267015706806285,0.39404553415061294,0.39473684210526316,0.3954305799648506,0.3968253968253968,0.39752650176678445,0.39893617021276595,0.3996447602131439,0.400355871886121,0.40106951871657753,0.4017857142857143,0.41284403669724773,0.41360294117647056,0.4151291512915129,0.4166666666666667,0.4174397031539889,0.41899441340782123,0.4197761194029851,0.42134831460674155,0.4269449715370019,0.42775665399239543,0.43021032504780116,0.43103448275862066,0.43186180422264875,0.4326923076923077,0.43352601156069365,0.43520309477756286,0.436046511627907,0.4368932038834951,0.4377431906614786,0.43859649122807015,0.44031311154598823,0.4411764705882353,0.44204322200392926,0.44291338582677164,0.4437869822485207,0.44466403162055335,0.4536290322580645,0.45454545454545453,0.45546558704453444,0.4563894523326572,0.4573170731707317,0.45824847250509165,0.45918367346938777,0.4610655737704918,0.4620123203285421,0.46296296296296297,0.4639175257731959,0.4658385093167702,0.46680497925311204,0.4677754677754678,0.46875,0.4697286012526096,0.4716981132075472,0.4726890756302521,0.47368421052631576,0.47468354430379744,0.47568710359408034,0.47770700636942676,0.4787234042553192,0.47974413646055436,0.4807692307692308,0.48283261802575106,0.4849137931034483,0.48596112311015116,0.487012987012987,0.48590021691973967,0.48695652173913045,0.4880174291938998,0.4890829694323144,0.49015317286652077,0.49122807017543857,0.49230769230769234,0.4933920704845815,0.49448123620309054,0.49557522123893805,0.49667405764966743,0.49777777777777776,0.49888641425389757,0.5,0.5011185682326622,0.5022421524663677,0.503370786516854,0.5045045045045045,0.5056433408577878,0.5067873303167421,0.5079365079365079,0.509090909090909,0.510250569476082,0.5114155251141552,0.5125858123569794,0.5137614678899083,0.5149425287356322,0.5161290322580645,0.5173210161662818,0.5185185185185185,0.5197215777262181,0.5209302325581395,0.5221445221445221,0.5233644859813084,0.5245901639344263,0.5258215962441315,0.5270588235294118,0.5283018867924528,0.5295508274231678,0.5308056872037915,0.5320665083135392,0.5333333333333333,0.5346062052505967,0.5358851674641149,0.5371702637889688,0.5384615384615384,0.5397590361445783,0.5410628019323671,0.5423728813559322,0.5436893203883495,0.5450121654501217,0.5463414634146342,0.5476772616136919,0.5490196078431373,0.5503685503685504,0.5517241379310345,0.5530864197530864,0.5544554455445545,0.5558312655086849,0.5572139303482587,0.5586034912718204,0.56,0.5614035087719298,0.5628140703517588,0.5642317380352645,0.5656565656565656,0.5670886075949367,0.5685279187817259,0.5699745547073791,0.5714285714285714,0.5728900255754475,0.5743589743589743,0.5758354755784062,0.5773195876288659,0.5788113695090439,0.5803108808290155,0.5792207792207792,0.578125,0.5796344647519582,0.581151832460733,0.5826771653543307,0.5842105263157895,0.5857519788918206,0.5873015873015873,0.5888594164456233,0.5904255319148937,0.592,0.5935828877005348,0.5951742627345844,0.5967741935483871,0.5983827493261455,0.6,0.6016260162601627,0.6032608695652174,0.6049046321525886,0.6065573770491803,0.6082191780821918,0.6098901098901099,0.6115702479338843,0.6132596685082873,0.6149584487534626,0.6166666666666667,0.6183844011142061,0.6201117318435754,0.6218487394957983,0.6235955056179775,0.6253521126760564,0.6242937853107344,0.6260623229461756,0.6278409090909091,0.6296296296296297,0.6314285714285715,0.6303724928366762,0.632183908045977,0.6340057636887608,0.6358381502890174,0.6376811594202898,0.6395348837209303,0.641399416909621,0.6432748538011696,0.6451612903225806,0.6470588235294118,0.6489675516224189,0.6479289940828402,0.6468842729970327,0.6488095238095238,0.6507462686567164,0.6526946107784432,0.6516516516516516,0.6536144578313253,0.6555891238670695,0.6545454545454545,0.6565349544072948,0.6585365853658537,0.6605504587155964,0.6625766871165644,0.6646153846153846,0.6666666666666666,0.6687306501547987,0.6708074534161491,0.6728971962616822,0.671875,0.670846394984326,0.6729559748427673,0.6750788643533123,0.6772151898734177,0.6793650793650794,0.6837060702875399,0.6858974358974359,0.6881028938906752,0.6870967741935484,0.6893203883495146,0.6915584415584416,0.6938110749185668,0.696078431372549,0.6983606557377049,0.7006578947368421,0.7029702970297029,0.7052980132450332,0.7043189368770764,0.7066666666666667,0.705685618729097,0.7046979865771812,0.7037037037037037,0.7027027027027027,0.7050847457627119,0.7040816326530612,0.7064846416382252,0.708904109589041,0.711340206185567,0.7137931034482758,0.71280276816609,0.7152777777777778,0.7142857142857143,0.7132867132867133,0.7157894736842105,0.7183098591549296,0.7208480565371025,0.723404255319149,0.7259786476868327,0.7285714285714285,0.7275985663082437,0.7266187050359713,0.7256317689530686,0.7246376811594203,0.7272727272727273,0.7262773722627737,0.7252747252747253,0.7279411764705882,0.7306273062730627,0.7333333333333333,0.7360594795539034,0.7388059701492538,0.7378277153558053,0.7406015037593985,0.7396226415094339,0.7386363636363636,0.7414448669201521,0.7442748091603053,0.7471264367816092,0.75,0.752895752895753,0.751937984496124,0.754863813229572,0.7578125,0.7607843137254902,0.7598425196850394,0.7628458498023716,0.7619047619047619,0.7609561752988048,0.764,0.7670682730923695,0.7701612903225806,0.7732793522267206,0.7723577235772358,0.7755102040816326,0.7745901639344263,0.7777777777777778,0.7768595041322314,0.7800829875518672,0.7833333333333333,0.7824267782426778,0.7857142857142857,0.7890295358649789,0.7923728813559322,0.7957446808510639,0.7991452991452992,0.8025751072961373,0.8060344827586207,0.8095238095238095,0.808695652173913,0.8122270742358079,0.8157894736842105,0.8149779735682819,0.8141592920353983,0.8177777777777778,0.8169642857142857,0.820627802690583,0.8243243243243243,0.8235294117647058,0.8272727272727273,0.8310502283105022,0.8348623853211009,0.8387096774193549,0.8425925925925926,0.8418604651162791,0.8457943925233645,0.8497652582159625,0.8537735849056604,0.8530805687203792,0.8523809523809524,0.8516746411483254,0.8557692307692307,0.8599033816425121,0.8640776699029126,0.8682926829268293,0.8725490196078431,0.8719211822660099,0.8712871287128713,0.8756218905472637,0.875,0.8743718592964824,0.8737373737373737,0.8781725888324873,0.8826530612244898,0.8871794871794871,0.8917525773195877,0.8963730569948186,0.8958333333333334,0.8952879581151832,0.8947368421052632,0.8941798941798942,0.8936170212765957,0.893048128342246,0.8924731182795699,0.8972972972972973,0.8967391304347826,0.9016393442622951,0.9065934065934066,0.9060773480662984,0.9055555555555556,0.9106145251396648,0.9101123595505618,0.9096045197740112,0.9090909090909091,0.9085714285714286,0.9137931034482759,0.9132947976878613,0.9127906976744186,0.9181286549707602,0.9235294117647059,0.9230769230769231,0.9226190476190477,0.9221556886227545,0.927710843373494,0.9272727272727272,0.926829268292683,0.9325153374233128,0.9320987654320988,0.9316770186335404,0.9375,0.9371069182389937,0.9367088607594937,0.9363057324840764,0.9358974358974359,0.9419354838709677,0.948051948051948,0.9477124183006536,0.9473684210526315,0.9470198675496688,0.9533333333333334,0.9530201342281879,0.9527027027027027,0.9523809523809523,0.952054794520548,0.9517241379310345,0.9513888888888888,0.958041958041958,0.9577464788732394,0.9574468085106383,0.9571428571428572,0.9568345323741008,0.9637681159420289,0.9635036496350365,0.9705882352941176,0.9703703703703703,0.9701492537313433,0.9699248120300752,0.9696969696969697,0.9694656488549618,0.9769230769230769,0.9767441860465116,0.984375,0.9921259842519685,0.9920634920634921,0.992,0.9919354838709677,0.991869918699187,0.9918032786885246,0.9917355371900827,0.9916666666666667,0.9915966386554622,0.9915254237288136,0.9914529914529915,0.9913793103448276,0.991304347826087,0.9912280701754386,0.9911504424778761,0.9910714285714286,1.0,1.0,1.0,1.0,1.0,1.0,1.0,1.0,1.0,1.0,1.0,1.0,1.0,1.0,1.0,1.0,1.0,1.0,1.0,1.0,1.0,1.0,1.0,1.0,1.0,1.0,1.0,1.0,1.0,1.0,1.0,1.0,1.0,1.0,1.0,1.0,1.0,1.0,1.0,1.0,1.0,1.0,1.0,1.0,1.0,1.0,1.0,1.0,1.0,1.0,1.0,1.0,1.0,1.0,1.0,1.0,1.0,1.0,1.0,1.0,1.0,1.0,1.0,1.0,1.0,1.0,1.0,1.0,1.0,1.0,1.0,1.0,1.0,1.0,1.0,1.0,1.0,1.0,1.0,1.0,1.0,1.0,1.0,1.0,1.0,1.0,1.0,1.0,1.0,1.0,1.0,1.0,1.0,1.0,1.0,1.0,1.0,1.0,1.0,1.0,1.0,1.0,1.0,1.0,1.0,1.0,1.0,1.0,1.0,1.0,1.0,1.0],\"type\":\"scatter\"},{\"mode\":\"lines\",\"name\":\"search2\",\"x\":[1.0,1.0,1.0,1.0,1.0,1.0,1.0,1.0,1.0,1.0,1.0,1.0,1.0,1.0,1.0,1.0,1.0,1.0,1.0,1.0,1.0,1.0,1.0,1.0,1.0,1.0,1.0,1.0,1.0,1.0,1.0,1.0,1.0,1.0,1.0,1.0,1.0,1.0,1.0,1.0,1.0,1.0,1.0,1.0,1.0,1.0,1.0,1.0,1.0,1.0,1.0,1.0,1.0,1.0,1.0,1.0,1.0,1.0,1.0,1.0,1.0,1.0,1.0,1.0,1.0,1.0,1.0,1.0,1.0,1.0,1.0,1.0,1.0,1.0,1.0,1.0,1.0,1.0,1.0,1.0,1.0,1.0,1.0,1.0,1.0,1.0,1.0,1.0,1.0,1.0,1.0,1.0,1.0,1.0,1.0,1.0,1.0,1.0,1.0,1.0,1.0,1.0,1.0,1.0,1.0,1.0,1.0,1.0,1.0,1.0,1.0,1.0,1.0,1.0,1.0,1.0,1.0,1.0,1.0,1.0,1.0,1.0,1.0,1.0,1.0,1.0,1.0,1.0,1.0,1.0,1.0,1.0,1.0,1.0,1.0,1.0,1.0,1.0,1.0,1.0,1.0,1.0,1.0,1.0,1.0,1.0,1.0,1.0,1.0,1.0,1.0,1.0,1.0,1.0,1.0,1.0,1.0,1.0,1.0,1.0,1.0,1.0,1.0,1.0,1.0,1.0,1.0,1.0,1.0,1.0,1.0,1.0,1.0,1.0,1.0,1.0,1.0,1.0,1.0,1.0,1.0,1.0,1.0,1.0,1.0,1.0,1.0,1.0,1.0,1.0,1.0,1.0,1.0,1.0,1.0,1.0,1.0,1.0,1.0,1.0,1.0,1.0,1.0,1.0,1.0,1.0,1.0,1.0,1.0,1.0,1.0,1.0,1.0,1.0,1.0,0.9955555555555555,0.9955555555555555,0.9955555555555555,0.9955555555555555,0.9955555555555555,0.9955555555555555,0.9955555555555555,0.9955555555555555,0.9955555555555555,0.9955555555555555,0.9955555555555555,0.9955555555555555,0.9955555555555555,0.9955555555555555,0.9955555555555555,0.9955555555555555,0.9955555555555555,0.9955555555555555,0.9955555555555555,0.9955555555555555,0.9955555555555555,0.9955555555555555,0.9955555555555555,0.9955555555555555,0.9955555555555555,0.9955555555555555,0.9955555555555555,0.9955555555555555,0.9955555555555555,0.9955555555555555,0.9955555555555555,0.9955555555555555,0.9955555555555555,0.9955555555555555,0.9955555555555555,0.9955555555555555,0.9955555555555555,0.9955555555555555,0.9955555555555555,0.9955555555555555,0.9955555555555555,0.9955555555555555,0.9955555555555555,0.9955555555555555,0.9955555555555555,0.9955555555555555,0.9955555555555555,0.9955555555555555,0.9955555555555555,0.9955555555555555,0.9955555555555555,0.9955555555555555,0.9955555555555555,0.9955555555555555,0.9955555555555555,0.9955555555555555,0.9955555555555555,0.9955555555555555,0.9955555555555555,0.9955555555555555,0.9955555555555555,0.9955555555555555,0.9955555555555555,0.9955555555555555,0.9955555555555555,0.9955555555555555,0.9955555555555555,0.9955555555555555,0.9955555555555555,0.9955555555555555,0.9955555555555555,0.9955555555555555,0.9955555555555555,0.9955555555555555,0.9955555555555555,0.9955555555555555,0.9911111111111112,0.9866666666666667,0.9866666666666667,0.9866666666666667,0.9866666666666667,0.9866666666666667,0.9866666666666667,0.9866666666666667,0.9866666666666667,0.9866666666666667,0.9866666666666667,0.9866666666666667,0.9866666666666667,0.9866666666666667,0.9866666666666667,0.9866666666666667,0.9866666666666667,0.9866666666666667,0.9866666666666667,0.9866666666666667,0.9866666666666667,0.9866666666666667,0.9866666666666667,0.9866666666666667,0.9866666666666667,0.9866666666666667,0.9866666666666667,0.9866666666666667,0.9866666666666667,0.9866666666666667,0.9866666666666667,0.9822222222222222,0.9822222222222222,0.9822222222222222,0.9822222222222222,0.9822222222222222,0.9777777777777777,0.9777777777777777,0.9777777777777777,0.9777777777777777,0.9777777777777777,0.9777777777777777,0.9777777777777777,0.9777777777777777,0.9777777777777777,0.9777777777777777,0.9777777777777777,0.9733333333333334,0.9688888888888889,0.9688888888888889,0.9688888888888889,0.9688888888888889,0.9644444444444444,0.9644444444444444,0.9644444444444444,0.96,0.96,0.96,0.96,0.96,0.96,0.96,0.96,0.96,0.96,0.9555555555555556,0.9511111111111111,0.9511111111111111,0.9511111111111111,0.9511111111111111,0.9511111111111111,0.9511111111111111,0.9511111111111111,0.9511111111111111,0.9466666666666667,0.9466666666666667,0.9466666666666667,0.9466666666666667,0.9466666666666667,0.9466666666666667,0.9466666666666667,0.9466666666666667,0.9466666666666667,0.9422222222222222,0.9422222222222222,0.9377777777777778,0.9333333333333333,0.9288888888888889,0.9244444444444444,0.9244444444444444,0.92,0.92,0.92,0.92,0.92,0.9155555555555556,0.9155555555555556,0.9111111111111111,0.9066666666666666,0.9066666666666666,0.9066666666666666,0.9066666666666666,0.9066666666666666,0.9066666666666666,0.9066666666666666,0.9022222222222223,0.8977777777777778,0.8933333333333333,0.8888888888888888,0.8888888888888888,0.8844444444444445,0.88,0.88,0.88,0.88,0.88,0.88,0.8755555555555555,0.8755555555555555,0.8711111111111111,0.8666666666666667,0.8666666666666667,0.8666666666666667,0.8666666666666667,0.8666666666666667,0.8666666666666667,0.8622222222222222,0.8622222222222222,0.8622222222222222,0.8622222222222222,0.8577777777777778,0.8577777777777778,0.8533333333333334,0.8488888888888889,0.8488888888888889,0.8488888888888889,0.8488888888888889,0.8488888888888889,0.8444444444444444,0.8444444444444444,0.84,0.84,0.8355555555555556,0.8355555555555556,0.8355555555555556,0.8311111111111111,0.8311111111111111,0.8311111111111111,0.8311111111111111,0.8311111111111111,0.8311111111111111,0.8311111111111111,0.8311111111111111,0.8311111111111111,0.8266666666666667,0.8266666666666667,0.8266666666666667,0.8222222222222222,0.8177777777777778,0.8177777777777778,0.8133333333333334,0.8133333333333334,0.8133333333333334,0.8088888888888889,0.8088888888888889,0.8088888888888889,0.8088888888888889,0.8088888888888889,0.8088888888888889,0.8044444444444444,0.8044444444444444,0.8044444444444444,0.8044444444444444,0.8,0.7955555555555556,0.7911111111111111,0.7911111111111111,0.7911111111111111,0.7911111111111111,0.7911111111111111,0.7911111111111111,0.7866666666666666,0.7822222222222223,0.7822222222222223,0.7777777777777778,0.7733333333333333,0.7688888888888888,0.7688888888888888,0.7688888888888888,0.7688888888888888,0.7688888888888888,0.7688888888888888,0.7644444444444445,0.76,0.7555555555555555,0.7511111111111111,0.7466666666666667,0.7422222222222222,0.7377777777777778,0.7377777777777778,0.7333333333333333,0.7333333333333333,0.7333333333333333,0.7288888888888889,0.7244444444444444,0.7244444444444444,0.72,0.7155555555555555,0.7111111111111111,0.7066666666666667,0.7066666666666667,0.7022222222222222,0.6977777777777778,0.6977777777777778,0.6977777777777778,0.6933333333333334,0.6888888888888889,0.6844444444444444,0.6844444444444444,0.68,0.6755555555555556,0.6755555555555556,0.6711111111111111,0.6666666666666666,0.6666666666666666,0.6622222222222223,0.6577777777777778,0.6533333333333333,0.6488888888888888,0.6488888888888888,0.6488888888888888,0.6444444444444445,0.64,0.6355555555555555,0.6355555555555555,0.6311111111111111,0.6266666666666667,0.6222222222222222,0.6177777777777778,0.6133333333333333,0.6088888888888889,0.6088888888888889,0.6044444444444445,0.6,0.5955555555555555,0.5911111111111111,0.5911111111111111,0.5866666666666667,0.5866666666666667,0.5822222222222222,0.5777777777777777,0.5733333333333334,0.5688888888888889,0.5644444444444444,0.5644444444444444,0.56,0.56,0.56,0.5555555555555556,0.5511111111111111,0.5466666666666666,0.5422222222222223,0.5377777777777778,0.5333333333333333,0.5288888888888889,0.5244444444444445,0.52,0.5155555555555555,0.5111111111111111,0.5066666666666667,0.5022222222222222,0.49777777777777776,0.49333333333333335,0.49333333333333335,0.4888888888888889,0.48444444444444446,0.48,0.47555555555555556,0.4711111111111111,0.4666666666666667,0.4622222222222222,0.4577777777777778,0.4533333333333333,0.4488888888888889,0.4444444444444444,0.44,0.43555555555555553,0.4311111111111111,0.4266666666666667,0.4222222222222222,0.4177777777777778,0.41333333333333333,0.4088888888888889,0.40444444444444444,0.4,0.39555555555555555,0.39111111111111113,0.38666666666666666,0.38222222222222224,0.37777777777777777,0.37333333333333335,0.3688888888888889,0.36444444444444446,0.36,0.35555555555555557,0.3511111111111111,0.3466666666666667,0.3422222222222222,0.3377777777777778,0.3333333333333333,0.3288888888888889,0.3244444444444444,0.32,0.31555555555555553,0.3111111111111111,0.30666666666666664,0.3022222222222222,0.29777777777777775,0.29333333333333333,0.28888888888888886,0.28444444444444444,0.28,0.27555555555555555,0.27111111111111114,0.26666666666666666,0.26222222222222225,0.2577777777777778,0.25333333333333335,0.24888888888888888,0.24444444444444444,0.24,0.23555555555555555,0.2311111111111111,0.22666666666666666,0.2222222222222222,0.21777777777777776,0.21333333333333335,0.2088888888888889,0.20444444444444446,0.2,0.19555555555555557,0.19111111111111112,0.18666666666666668,0.18222222222222223,0.17777777777777778,0.17333333333333334,0.1688888888888889,0.16444444444444445,0.16,0.15555555555555556,0.1511111111111111,0.14666666666666667,0.14222222222222222,0.13777777777777778,0.13333333333333333,0.1288888888888889,0.12444444444444444,0.12,0.11555555555555555,0.1111111111111111,0.10666666666666667,0.10222222222222223,0.09777777777777778,0.09333333333333334,0.08888888888888889,0.08444444444444445,0.08,0.07555555555555556,0.07111111111111111,0.06666666666666667,0.06222222222222222,0.057777777777777775,0.05333333333333334,0.04888888888888889,0.044444444444444446,0.04,0.035555555555555556,0.03111111111111111,0.02666666666666667,0.022222222222222223,0.017777777777777778,0.013333333333333334,0.008888888888888889,0.0044444444444444444,0.0],\"y\":[0.3,0.30040053404539385,0.30160857908847183,0.3024193548387097,0.3032345013477089,0.30364372469635625,0.30405405405405406,0.3044654939106901,0.3048780487804878,0.30529172320217096,0.30612244897959184,0.3065395095367847,0.3073770491803279,0.307797537619699,0.3082191780821918,0.3090659340659341,0.30991735537190085,0.3103448275862069,0.31077348066298344,0.3112033195020747,0.3129346314325452,0.31337047353760444,0.3138075313807531,0.31424581005586594,0.3146853146853147,0.31512605042016806,0.3155680224403927,0.3160112359550562,0.31645569620253167,0.31690140845070425,0.31734837799717913,0.3177966101694915,0.31869688385269124,0.3191489361702128,0.3196022727272727,0.3200568990042674,0.32051282051282054,0.3209700427960057,0.32142857142857145,0.3223495702005731,0.32281205164992827,0.3232758620689655,0.3237410071942446,0.3242074927953891,0.3246753246753247,0.32514450867052025,0.3256150506512301,0.32608695652173914,0.3265602322206096,0.32703488372093026,0.32751091703056767,0.32798833819241985,0.3284671532846715,0.32894736842105265,0.3294289897510981,0.3303964757709251,0.33088235294117646,0.33136966126656847,0.33185840707964603,0.33234859675036926,0.3328402366863905,0.3333333333333333,0.33382789317507416,0.3343239227340267,0.33482142857142855,0.3353204172876304,0.3358208955223881,0.336322869955157,0.33682634730538924,0.3373313343328336,0.33783783783783783,0.3383458646616541,0.338855421686747,0.3393665158371041,0.33987915407854985,0.340393343419062,0.3409090909090909,0.34142640364188165,0.3424657534246575,0.3429878048780488,0.3435114503816794,0.3440366972477064,0.3445635528330781,0.3450920245398773,0.3456221198156682,0.34615384615384615,0.34668721109399075,0.34775888717156106,0.34829721362229105,0.3488372093023256,0.34937888198757766,0.3499222395023328,0.35046728971962615,0.35101404056162244,0.3515625,0.352112676056338,0.35266457680250785,0.3532182103610675,0.35377358490566035,0.3543307086614173,0.3548895899053628,0.35545023696682465,0.3560126582278481,0.35657686212361334,0.35714285714285715,0.35771065182829886,0.35828025477707004,0.3588516746411483,0.35942492012779553,0.36,0.3605769230769231,0.3611556982343499,0.36231884057971014,0.3629032258064516,0.36348949919224555,0.3640776699029126,0.3646677471636953,0.3652597402597403,0.36585365853658536,0.36644951140065146,0.367047308319739,0.36764705882352944,0.36824877250409166,0.36885245901639346,0.3694581280788177,0.37006578947368424,0.37067545304777594,0.3712871287128713,0.371900826446281,0.37251655629139074,0.37375415282392027,0.37437603993344426,0.3756260434056761,0.3775167785234899,0.37815126050420167,0.3787878787878788,0.3794266441821248,0.3826530612244898,0.3833049403747871,0.3839590443686007,0.3852739726027397,0.38593481989708406,0.3865979381443299,0.387263339070568,0.3879310344827586,0.38860103626943004,0.3892733564013841,0.389948006932409,0.390625,0.39267015706806285,0.39404553415061294,0.39473684210526316,0.3954305799648506,0.3968253968253968,0.39752650176678445,0.39893617021276595,0.3996447602131439,0.400355871886121,0.40106951871657753,0.4017857142857143,0.41284403669724773,0.41360294117647056,0.4151291512915129,0.4166666666666667,0.4174397031539889,0.41899441340782123,0.4197761194029851,0.42134831460674155,0.4269449715370019,0.42775665399239543,0.43021032504780116,0.43103448275862066,0.43186180422264875,0.4326923076923077,0.43352601156069365,0.43520309477756286,0.436046511627907,0.4368932038834951,0.4377431906614786,0.43859649122807015,0.44031311154598823,0.4411764705882353,0.44204322200392926,0.44291338582677164,0.4437869822485207,0.44466403162055335,0.4536290322580645,0.45454545454545453,0.45546558704453444,0.4563894523326572,0.4573170731707317,0.45824847250509165,0.45918367346938777,0.4610655737704918,0.4620123203285421,0.46296296296296297,0.4639175257731959,0.4658385093167702,0.46680497925311204,0.4677754677754678,0.46875,0.4697286012526096,0.4716981132075472,0.4726890756302521,0.47368421052631576,0.47468354430379744,0.47568710359408034,0.47770700636942676,0.4787234042553192,0.47974413646055436,0.4807692307692308,0.48283261802575106,0.4849137931034483,0.48596112311015116,0.487012987012987,0.48590021691973967,0.48695652173913045,0.4880174291938998,0.4890829694323144,0.49015317286652077,0.49122807017543857,0.49230769230769234,0.4933920704845815,0.49448123620309054,0.49557522123893805,0.49667405764966743,0.49777777777777776,0.49888641425389757,0.5,0.5011185682326622,0.5022421524663677,0.503370786516854,0.5045045045045045,0.5056433408577878,0.5067873303167421,0.5079365079365079,0.509090909090909,0.510250569476082,0.5114155251141552,0.5125858123569794,0.5137614678899083,0.5149425287356322,0.5161290322580645,0.5173210161662818,0.5185185185185185,0.5197215777262181,0.5209302325581395,0.5221445221445221,0.5233644859813084,0.5245901639344263,0.5258215962441315,0.5270588235294118,0.5283018867924528,0.5295508274231678,0.5308056872037915,0.5320665083135392,0.5333333333333333,0.5346062052505967,0.5358851674641149,0.5371702637889688,0.5384615384615384,0.5397590361445783,0.5410628019323671,0.5423728813559322,0.5436893203883495,0.5450121654501217,0.5463414634146342,0.5476772616136919,0.5490196078431373,0.5503685503685504,0.5517241379310345,0.5530864197530864,0.5544554455445545,0.5558312655086849,0.5572139303482587,0.5586034912718204,0.56,0.5614035087719298,0.5628140703517588,0.5642317380352645,0.5656565656565656,0.5670886075949367,0.5685279187817259,0.5699745547073791,0.5714285714285714,0.5728900255754475,0.5743589743589743,0.5758354755784062,0.5773195876288659,0.5788113695090439,0.5803108808290155,0.5792207792207792,0.578125,0.5796344647519582,0.581151832460733,0.5826771653543307,0.5842105263157895,0.5857519788918206,0.5873015873015873,0.5888594164456233,0.5904255319148937,0.592,0.5935828877005348,0.5951742627345844,0.5967741935483871,0.5983827493261455,0.6,0.6016260162601627,0.6032608695652174,0.6049046321525886,0.6065573770491803,0.6082191780821918,0.6098901098901099,0.6115702479338843,0.6132596685082873,0.6149584487534626,0.6166666666666667,0.6183844011142061,0.6201117318435754,0.6218487394957983,0.6235955056179775,0.6253521126760564,0.6242937853107344,0.6260623229461756,0.6278409090909091,0.6296296296296297,0.6314285714285715,0.6303724928366762,0.632183908045977,0.6340057636887608,0.6358381502890174,0.6376811594202898,0.6395348837209303,0.641399416909621,0.6432748538011696,0.6451612903225806,0.6470588235294118,0.6489675516224189,0.6479289940828402,0.6468842729970327,0.6488095238095238,0.6507462686567164,0.6526946107784432,0.6516516516516516,0.6536144578313253,0.6555891238670695,0.6545454545454545,0.6565349544072948,0.6585365853658537,0.6605504587155964,0.6625766871165644,0.6646153846153846,0.6666666666666666,0.6687306501547987,0.6708074534161491,0.6728971962616822,0.671875,0.670846394984326,0.6729559748427673,0.6750788643533123,0.6772151898734177,0.6793650793650794,0.6837060702875399,0.6858974358974359,0.6881028938906752,0.6870967741935484,0.6893203883495146,0.6915584415584416,0.6938110749185668,0.696078431372549,0.6983606557377049,0.7006578947368421,0.7029702970297029,0.7052980132450332,0.7043189368770764,0.7066666666666667,0.705685618729097,0.7046979865771812,0.7037037037037037,0.7027027027027027,0.7050847457627119,0.7040816326530612,0.7064846416382252,0.708904109589041,0.711340206185567,0.7137931034482758,0.71280276816609,0.7152777777777778,0.7142857142857143,0.7132867132867133,0.7157894736842105,0.7183098591549296,0.7208480565371025,0.723404255319149,0.7259786476868327,0.7285714285714285,0.7275985663082437,0.7266187050359713,0.7256317689530686,0.7246376811594203,0.7272727272727273,0.7262773722627737,0.7252747252747253,0.7279411764705882,0.7306273062730627,0.7333333333333333,0.7360594795539034,0.7388059701492538,0.7378277153558053,0.7406015037593985,0.7396226415094339,0.7386363636363636,0.7414448669201521,0.7442748091603053,0.7471264367816092,0.75,0.752895752895753,0.751937984496124,0.754863813229572,0.7578125,0.7607843137254902,0.7598425196850394,0.7628458498023716,0.7619047619047619,0.7609561752988048,0.764,0.7670682730923695,0.7701612903225806,0.7732793522267206,0.7723577235772358,0.7755102040816326,0.7745901639344263,0.7777777777777778,0.7768595041322314,0.7800829875518672,0.7833333333333333,0.7824267782426778,0.7857142857142857,0.7890295358649789,0.7923728813559322,0.7957446808510639,0.7991452991452992,0.8025751072961373,0.8060344827586207,0.8095238095238095,0.808695652173913,0.8122270742358079,0.8157894736842105,0.8149779735682819,0.8141592920353983,0.8177777777777778,0.8169642857142857,0.820627802690583,0.8243243243243243,0.8235294117647058,0.8272727272727273,0.8310502283105022,0.8348623853211009,0.8387096774193549,0.8425925925925926,0.8418604651162791,0.8457943925233645,0.8497652582159625,0.8537735849056604,0.8530805687203792,0.8523809523809524,0.8516746411483254,0.8557692307692307,0.8599033816425121,0.8640776699029126,0.8682926829268293,0.8725490196078431,0.8719211822660099,0.8712871287128713,0.8756218905472637,0.875,0.8743718592964824,0.8737373737373737,0.8781725888324873,0.8826530612244898,0.8871794871794871,0.8917525773195877,0.8963730569948186,0.8958333333333334,0.8952879581151832,0.8947368421052632,0.8941798941798942,0.8936170212765957,0.893048128342246,0.8924731182795699,0.8972972972972973,0.8967391304347826,0.9016393442622951,0.9065934065934066,0.9060773480662984,0.9055555555555556,0.9106145251396648,0.9101123595505618,0.9096045197740112,0.9090909090909091,0.9085714285714286,0.9137931034482759,0.9132947976878613,0.9127906976744186,0.9181286549707602,0.9235294117647059,0.9230769230769231,0.9226190476190477,0.9221556886227545,0.927710843373494,0.9272727272727272,0.926829268292683,0.9325153374233128,0.9320987654320988,0.9316770186335404,0.9375,0.9371069182389937,0.9367088607594937,0.9363057324840764,0.9358974358974359,0.9419354838709677,0.948051948051948,0.9477124183006536,0.9473684210526315,0.9470198675496688,0.9533333333333334,0.9530201342281879,0.9527027027027027,0.9523809523809523,0.952054794520548,0.9517241379310345,0.9513888888888888,0.958041958041958,0.9577464788732394,0.9574468085106383,0.9571428571428572,0.9568345323741008,0.9637681159420289,0.9635036496350365,0.9705882352941176,0.9703703703703703,0.9701492537313433,0.9699248120300752,0.9696969696969697,0.9694656488549618,0.9769230769230769,0.9767441860465116,0.984375,0.9921259842519685,0.9920634920634921,0.992,0.9919354838709677,0.991869918699187,0.9918032786885246,0.9917355371900827,0.9916666666666667,0.9915966386554622,0.9915254237288136,0.9914529914529915,0.9913793103448276,0.991304347826087,0.9912280701754386,0.9911504424778761,0.9910714285714286,1.0,1.0,1.0,1.0,1.0,1.0,1.0,1.0,1.0,1.0,1.0,1.0,1.0,1.0,1.0,1.0,1.0,1.0,1.0,1.0,1.0,1.0,1.0,1.0,1.0,1.0,1.0,1.0,1.0,1.0,1.0,1.0,1.0,1.0,1.0,1.0,1.0,1.0,1.0,1.0,1.0,1.0,1.0,1.0,1.0,1.0,1.0,1.0,1.0,1.0,1.0,1.0,1.0,1.0,1.0,1.0,1.0,1.0,1.0,1.0,1.0,1.0,1.0,1.0,1.0,1.0,1.0,1.0,1.0,1.0,1.0,1.0,1.0,1.0,1.0,1.0,1.0,1.0,1.0,1.0,1.0,1.0,1.0,1.0,1.0,1.0,1.0,1.0,1.0,1.0,1.0,1.0,1.0,1.0,1.0,1.0,1.0,1.0,1.0,1.0,1.0,1.0,1.0,1.0,1.0,1.0,1.0,1.0,1.0,1.0,1.0,1.0],\"type\":\"scatter\"}],                        {\"template\":{\"data\":{\"histogram2dcontour\":[{\"type\":\"histogram2dcontour\",\"colorbar\":{\"outlinewidth\":0,\"ticks\":\"\"},\"colorscale\":[[0.0,\"#0d0887\"],[0.1111111111111111,\"#46039f\"],[0.2222222222222222,\"#7201a8\"],[0.3333333333333333,\"#9c179e\"],[0.4444444444444444,\"#bd3786\"],[0.5555555555555556,\"#d8576b\"],[0.6666666666666666,\"#ed7953\"],[0.7777777777777778,\"#fb9f3a\"],[0.8888888888888888,\"#fdca26\"],[1.0,\"#f0f921\"]]}],\"choropleth\":[{\"type\":\"choropleth\",\"colorbar\":{\"outlinewidth\":0,\"ticks\":\"\"}}],\"histogram2d\":[{\"type\":\"histogram2d\",\"colorbar\":{\"outlinewidth\":0,\"ticks\":\"\"},\"colorscale\":[[0.0,\"#0d0887\"],[0.1111111111111111,\"#46039f\"],[0.2222222222222222,\"#7201a8\"],[0.3333333333333333,\"#9c179e\"],[0.4444444444444444,\"#bd3786\"],[0.5555555555555556,\"#d8576b\"],[0.6666666666666666,\"#ed7953\"],[0.7777777777777778,\"#fb9f3a\"],[0.8888888888888888,\"#fdca26\"],[1.0,\"#f0f921\"]]}],\"heatmap\":[{\"type\":\"heatmap\",\"colorbar\":{\"outlinewidth\":0,\"ticks\":\"\"},\"colorscale\":[[0.0,\"#0d0887\"],[0.1111111111111111,\"#46039f\"],[0.2222222222222222,\"#7201a8\"],[0.3333333333333333,\"#9c179e\"],[0.4444444444444444,\"#bd3786\"],[0.5555555555555556,\"#d8576b\"],[0.6666666666666666,\"#ed7953\"],[0.7777777777777778,\"#fb9f3a\"],[0.8888888888888888,\"#fdca26\"],[1.0,\"#f0f921\"]]}],\"heatmapgl\":[{\"type\":\"heatmapgl\",\"colorbar\":{\"outlinewidth\":0,\"ticks\":\"\"},\"colorscale\":[[0.0,\"#0d0887\"],[0.1111111111111111,\"#46039f\"],[0.2222222222222222,\"#7201a8\"],[0.3333333333333333,\"#9c179e\"],[0.4444444444444444,\"#bd3786\"],[0.5555555555555556,\"#d8576b\"],[0.6666666666666666,\"#ed7953\"],[0.7777777777777778,\"#fb9f3a\"],[0.8888888888888888,\"#fdca26\"],[1.0,\"#f0f921\"]]}],\"contourcarpet\":[{\"type\":\"contourcarpet\",\"colorbar\":{\"outlinewidth\":0,\"ticks\":\"\"}}],\"contour\":[{\"type\":\"contour\",\"colorbar\":{\"outlinewidth\":0,\"ticks\":\"\"},\"colorscale\":[[0.0,\"#0d0887\"],[0.1111111111111111,\"#46039f\"],[0.2222222222222222,\"#7201a8\"],[0.3333333333333333,\"#9c179e\"],[0.4444444444444444,\"#bd3786\"],[0.5555555555555556,\"#d8576b\"],[0.6666666666666666,\"#ed7953\"],[0.7777777777777778,\"#fb9f3a\"],[0.8888888888888888,\"#fdca26\"],[1.0,\"#f0f921\"]]}],\"surface\":[{\"type\":\"surface\",\"colorbar\":{\"outlinewidth\":0,\"ticks\":\"\"},\"colorscale\":[[0.0,\"#0d0887\"],[0.1111111111111111,\"#46039f\"],[0.2222222222222222,\"#7201a8\"],[0.3333333333333333,\"#9c179e\"],[0.4444444444444444,\"#bd3786\"],[0.5555555555555556,\"#d8576b\"],[0.6666666666666666,\"#ed7953\"],[0.7777777777777778,\"#fb9f3a\"],[0.8888888888888888,\"#fdca26\"],[1.0,\"#f0f921\"]]}],\"mesh3d\":[{\"type\":\"mesh3d\",\"colorbar\":{\"outlinewidth\":0,\"ticks\":\"\"}}],\"scatter\":[{\"fillpattern\":{\"fillmode\":\"overlay\",\"size\":10,\"solidity\":0.2},\"type\":\"scatter\"}],\"parcoords\":[{\"type\":\"parcoords\",\"line\":{\"colorbar\":{\"outlinewidth\":0,\"ticks\":\"\"}}}],\"scatterpolargl\":[{\"type\":\"scatterpolargl\",\"marker\":{\"colorbar\":{\"outlinewidth\":0,\"ticks\":\"\"}}}],\"bar\":[{\"error_x\":{\"color\":\"#2a3f5f\"},\"error_y\":{\"color\":\"#2a3f5f\"},\"marker\":{\"line\":{\"color\":\"#E5ECF6\",\"width\":0.5},\"pattern\":{\"fillmode\":\"overlay\",\"size\":10,\"solidity\":0.2}},\"type\":\"bar\"}],\"scattergeo\":[{\"type\":\"scattergeo\",\"marker\":{\"colorbar\":{\"outlinewidth\":0,\"ticks\":\"\"}}}],\"scatterpolar\":[{\"type\":\"scatterpolar\",\"marker\":{\"colorbar\":{\"outlinewidth\":0,\"ticks\":\"\"}}}],\"histogram\":[{\"marker\":{\"pattern\":{\"fillmode\":\"overlay\",\"size\":10,\"solidity\":0.2}},\"type\":\"histogram\"}],\"scattergl\":[{\"type\":\"scattergl\",\"marker\":{\"colorbar\":{\"outlinewidth\":0,\"ticks\":\"\"}}}],\"scatter3d\":[{\"type\":\"scatter3d\",\"line\":{\"colorbar\":{\"outlinewidth\":0,\"ticks\":\"\"}},\"marker\":{\"colorbar\":{\"outlinewidth\":0,\"ticks\":\"\"}}}],\"scattermapbox\":[{\"type\":\"scattermapbox\",\"marker\":{\"colorbar\":{\"outlinewidth\":0,\"ticks\":\"\"}}}],\"scatterternary\":[{\"type\":\"scatterternary\",\"marker\":{\"colorbar\":{\"outlinewidth\":0,\"ticks\":\"\"}}}],\"scattercarpet\":[{\"type\":\"scattercarpet\",\"marker\":{\"colorbar\":{\"outlinewidth\":0,\"ticks\":\"\"}}}],\"carpet\":[{\"aaxis\":{\"endlinecolor\":\"#2a3f5f\",\"gridcolor\":\"white\",\"linecolor\":\"white\",\"minorgridcolor\":\"white\",\"startlinecolor\":\"#2a3f5f\"},\"baxis\":{\"endlinecolor\":\"#2a3f5f\",\"gridcolor\":\"white\",\"linecolor\":\"white\",\"minorgridcolor\":\"white\",\"startlinecolor\":\"#2a3f5f\"},\"type\":\"carpet\"}],\"table\":[{\"cells\":{\"fill\":{\"color\":\"#EBF0F8\"},\"line\":{\"color\":\"white\"}},\"header\":{\"fill\":{\"color\":\"#C8D4E3\"},\"line\":{\"color\":\"white\"}},\"type\":\"table\"}],\"barpolar\":[{\"marker\":{\"line\":{\"color\":\"#E5ECF6\",\"width\":0.5},\"pattern\":{\"fillmode\":\"overlay\",\"size\":10,\"solidity\":0.2}},\"type\":\"barpolar\"}],\"pie\":[{\"automargin\":true,\"type\":\"pie\"}]},\"layout\":{\"autotypenumbers\":\"strict\",\"colorway\":[\"#636efa\",\"#EF553B\",\"#00cc96\",\"#ab63fa\",\"#FFA15A\",\"#19d3f3\",\"#FF6692\",\"#B6E880\",\"#FF97FF\",\"#FECB52\"],\"font\":{\"color\":\"#2a3f5f\"},\"hovermode\":\"closest\",\"hoverlabel\":{\"align\":\"left\"},\"paper_bgcolor\":\"white\",\"plot_bgcolor\":\"#E5ECF6\",\"polar\":{\"bgcolor\":\"#E5ECF6\",\"angularaxis\":{\"gridcolor\":\"white\",\"linecolor\":\"white\",\"ticks\":\"\"},\"radialaxis\":{\"gridcolor\":\"white\",\"linecolor\":\"white\",\"ticks\":\"\"}},\"ternary\":{\"bgcolor\":\"#E5ECF6\",\"aaxis\":{\"gridcolor\":\"white\",\"linecolor\":\"white\",\"ticks\":\"\"},\"baxis\":{\"gridcolor\":\"white\",\"linecolor\":\"white\",\"ticks\":\"\"},\"caxis\":{\"gridcolor\":\"white\",\"linecolor\":\"white\",\"ticks\":\"\"}},\"coloraxis\":{\"colorbar\":{\"outlinewidth\":0,\"ticks\":\"\"}},\"colorscale\":{\"sequential\":[[0.0,\"#0d0887\"],[0.1111111111111111,\"#46039f\"],[0.2222222222222222,\"#7201a8\"],[0.3333333333333333,\"#9c179e\"],[0.4444444444444444,\"#bd3786\"],[0.5555555555555556,\"#d8576b\"],[0.6666666666666666,\"#ed7953\"],[0.7777777777777778,\"#fb9f3a\"],[0.8888888888888888,\"#fdca26\"],[1.0,\"#f0f921\"]],\"sequentialminus\":[[0.0,\"#0d0887\"],[0.1111111111111111,\"#46039f\"],[0.2222222222222222,\"#7201a8\"],[0.3333333333333333,\"#9c179e\"],[0.4444444444444444,\"#bd3786\"],[0.5555555555555556,\"#d8576b\"],[0.6666666666666666,\"#ed7953\"],[0.7777777777777778,\"#fb9f3a\"],[0.8888888888888888,\"#fdca26\"],[1.0,\"#f0f921\"]],\"diverging\":[[0,\"#8e0152\"],[0.1,\"#c51b7d\"],[0.2,\"#de77ae\"],[0.3,\"#f1b6da\"],[0.4,\"#fde0ef\"],[0.5,\"#f7f7f7\"],[0.6,\"#e6f5d0\"],[0.7,\"#b8e186\"],[0.8,\"#7fbc41\"],[0.9,\"#4d9221\"],[1,\"#276419\"]]},\"xaxis\":{\"gridcolor\":\"white\",\"linecolor\":\"white\",\"ticks\":\"\",\"title\":{\"standoff\":15},\"zerolinecolor\":\"white\",\"automargin\":true,\"zerolinewidth\":2},\"yaxis\":{\"gridcolor\":\"white\",\"linecolor\":\"white\",\"ticks\":\"\",\"title\":{\"standoff\":15},\"zerolinecolor\":\"white\",\"automargin\":true,\"zerolinewidth\":2},\"scene\":{\"xaxis\":{\"backgroundcolor\":\"#E5ECF6\",\"gridcolor\":\"white\",\"linecolor\":\"white\",\"showbackground\":true,\"ticks\":\"\",\"zerolinecolor\":\"white\",\"gridwidth\":2},\"yaxis\":{\"backgroundcolor\":\"#E5ECF6\",\"gridcolor\":\"white\",\"linecolor\":\"white\",\"showbackground\":true,\"ticks\":\"\",\"zerolinecolor\":\"white\",\"gridwidth\":2},\"zaxis\":{\"backgroundcolor\":\"#E5ECF6\",\"gridcolor\":\"white\",\"linecolor\":\"white\",\"showbackground\":true,\"ticks\":\"\",\"zerolinecolor\":\"white\",\"gridwidth\":2}},\"shapedefaults\":{\"line\":{\"color\":\"#2a3f5f\"}},\"annotationdefaults\":{\"arrowcolor\":\"#2a3f5f\",\"arrowhead\":0,\"arrowwidth\":1},\"geo\":{\"bgcolor\":\"white\",\"landcolor\":\"#E5ECF6\",\"subunitcolor\":\"white\",\"showland\":true,\"showlakes\":true,\"lakecolor\":\"white\"},\"title\":{\"x\":0.05},\"mapbox\":{\"style\":\"light\"}}},\"title\":{\"text\":\"Precision-Recall Curve\"}},                        {\"responsive\": true}                    ).then(function(){\n",
       "                            \n",
       "var gd = document.getElementById('f31f259f-265f-4d63-ab30-78297a55ba9f');\n",
       "var x = new MutationObserver(function (mutations, observer) {{\n",
       "        var display = window.getComputedStyle(gd).display;\n",
       "        if (!display || display === 'none') {{\n",
       "            console.log([gd, 'removed!']);\n",
       "            Plotly.purge(gd);\n",
       "            observer.disconnect();\n",
       "        }}\n",
       "}});\n",
       "\n",
       "// Listen for the removal of the full notebook cells\n",
       "var notebookContainer = gd.closest('#notebook-container');\n",
       "if (notebookContainer) {{\n",
       "    x.observe(notebookContainer, {childList: true});\n",
       "}}\n",
       "\n",
       "// Listen for the clearing of the current output cell\n",
       "var outputEl = gd.closest('.output');\n",
       "if (outputEl) {{\n",
       "    x.observe(outputEl, {childList: true});\n",
       "}}\n",
       "\n",
       "                        })                };                });            </script>        </div>"
      ]
     },
     "metadata": {},
     "output_type": "display_data"
    }
   ],
   "source": [
    "plt1['pr'].show()"
   ]
  },
  {
   "cell_type": "code",
   "execution_count": 146,
   "id": "25c454e3",
   "metadata": {},
   "outputs": [
    {
     "data": {
      "application/vnd.plotly.v1+json": {
       "config": {
        "plotlyServerURL": "https://plot.ly"
       },
       "data": [
        {
         "mode": "lines",
         "name": "search1",
         "type": "scatter",
         "x": [
          0.08671493395850376,
          0.11805049704257832,
          0.2584133111594016,
          0.3378239517309228,
          0.44421468934287195,
          0.5627507855815272,
          0.6489607949514646,
          0.7635825007569557,
          0.8356930306979589,
          0.9051397740840912
         ],
         "y": [
          0,
          0.004651162790697674,
          0.10526315789473684,
          0.3163265306122449,
          0.34782608695652173,
          0.6774193548387096,
          0.7567567567567568,
          0.9803921568627451,
          1,
          1
         ]
        },
        {
         "mode": "lines",
         "name": "search2",
         "type": "scatter",
         "x": [
          0.08671493395850376,
          0.11805049704257832,
          0.2584133111594016,
          0.3378239517309228,
          0.44421468934287195,
          0.5627507855815272,
          0.6489607949514646,
          0.7635825007569557,
          0.8356930306979589,
          0.9051397740840912
         ],
         "y": [
          0,
          0.004651162790697674,
          0.10526315789473684,
          0.3163265306122449,
          0.34782608695652173,
          0.6774193548387096,
          0.7567567567567568,
          0.9803921568627451,
          1,
          1
         ]
        }
       ],
       "layout": {
        "shapes": [
         {
          "line": {
           "color": "gray",
           "dash": "dash"
          },
          "type": "line",
          "x0": 0,
          "x1": 1,
          "xref": "x",
          "y0": 0,
          "y1": 1,
          "yref": "y"
         }
        ],
        "template": {
         "data": {
          "bar": [
           {
            "error_x": {
             "color": "#2a3f5f"
            },
            "error_y": {
             "color": "#2a3f5f"
            },
            "marker": {
             "line": {
              "color": "#E5ECF6",
              "width": 0.5
             },
             "pattern": {
              "fillmode": "overlay",
              "size": 10,
              "solidity": 0.2
             }
            },
            "type": "bar"
           }
          ],
          "barpolar": [
           {
            "marker": {
             "line": {
              "color": "#E5ECF6",
              "width": 0.5
             },
             "pattern": {
              "fillmode": "overlay",
              "size": 10,
              "solidity": 0.2
             }
            },
            "type": "barpolar"
           }
          ],
          "carpet": [
           {
            "aaxis": {
             "endlinecolor": "#2a3f5f",
             "gridcolor": "white",
             "linecolor": "white",
             "minorgridcolor": "white",
             "startlinecolor": "#2a3f5f"
            },
            "baxis": {
             "endlinecolor": "#2a3f5f",
             "gridcolor": "white",
             "linecolor": "white",
             "minorgridcolor": "white",
             "startlinecolor": "#2a3f5f"
            },
            "type": "carpet"
           }
          ],
          "choropleth": [
           {
            "colorbar": {
             "outlinewidth": 0,
             "ticks": ""
            },
            "type": "choropleth"
           }
          ],
          "contour": [
           {
            "colorbar": {
             "outlinewidth": 0,
             "ticks": ""
            },
            "colorscale": [
             [
              0,
              "#0d0887"
             ],
             [
              0.1111111111111111,
              "#46039f"
             ],
             [
              0.2222222222222222,
              "#7201a8"
             ],
             [
              0.3333333333333333,
              "#9c179e"
             ],
             [
              0.4444444444444444,
              "#bd3786"
             ],
             [
              0.5555555555555556,
              "#d8576b"
             ],
             [
              0.6666666666666666,
              "#ed7953"
             ],
             [
              0.7777777777777778,
              "#fb9f3a"
             ],
             [
              0.8888888888888888,
              "#fdca26"
             ],
             [
              1,
              "#f0f921"
             ]
            ],
            "type": "contour"
           }
          ],
          "contourcarpet": [
           {
            "colorbar": {
             "outlinewidth": 0,
             "ticks": ""
            },
            "type": "contourcarpet"
           }
          ],
          "heatmap": [
           {
            "colorbar": {
             "outlinewidth": 0,
             "ticks": ""
            },
            "colorscale": [
             [
              0,
              "#0d0887"
             ],
             [
              0.1111111111111111,
              "#46039f"
             ],
             [
              0.2222222222222222,
              "#7201a8"
             ],
             [
              0.3333333333333333,
              "#9c179e"
             ],
             [
              0.4444444444444444,
              "#bd3786"
             ],
             [
              0.5555555555555556,
              "#d8576b"
             ],
             [
              0.6666666666666666,
              "#ed7953"
             ],
             [
              0.7777777777777778,
              "#fb9f3a"
             ],
             [
              0.8888888888888888,
              "#fdca26"
             ],
             [
              1,
              "#f0f921"
             ]
            ],
            "type": "heatmap"
           }
          ],
          "heatmapgl": [
           {
            "colorbar": {
             "outlinewidth": 0,
             "ticks": ""
            },
            "colorscale": [
             [
              0,
              "#0d0887"
             ],
             [
              0.1111111111111111,
              "#46039f"
             ],
             [
              0.2222222222222222,
              "#7201a8"
             ],
             [
              0.3333333333333333,
              "#9c179e"
             ],
             [
              0.4444444444444444,
              "#bd3786"
             ],
             [
              0.5555555555555556,
              "#d8576b"
             ],
             [
              0.6666666666666666,
              "#ed7953"
             ],
             [
              0.7777777777777778,
              "#fb9f3a"
             ],
             [
              0.8888888888888888,
              "#fdca26"
             ],
             [
              1,
              "#f0f921"
             ]
            ],
            "type": "heatmapgl"
           }
          ],
          "histogram": [
           {
            "marker": {
             "pattern": {
              "fillmode": "overlay",
              "size": 10,
              "solidity": 0.2
             }
            },
            "type": "histogram"
           }
          ],
          "histogram2d": [
           {
            "colorbar": {
             "outlinewidth": 0,
             "ticks": ""
            },
            "colorscale": [
             [
              0,
              "#0d0887"
             ],
             [
              0.1111111111111111,
              "#46039f"
             ],
             [
              0.2222222222222222,
              "#7201a8"
             ],
             [
              0.3333333333333333,
              "#9c179e"
             ],
             [
              0.4444444444444444,
              "#bd3786"
             ],
             [
              0.5555555555555556,
              "#d8576b"
             ],
             [
              0.6666666666666666,
              "#ed7953"
             ],
             [
              0.7777777777777778,
              "#fb9f3a"
             ],
             [
              0.8888888888888888,
              "#fdca26"
             ],
             [
              1,
              "#f0f921"
             ]
            ],
            "type": "histogram2d"
           }
          ],
          "histogram2dcontour": [
           {
            "colorbar": {
             "outlinewidth": 0,
             "ticks": ""
            },
            "colorscale": [
             [
              0,
              "#0d0887"
             ],
             [
              0.1111111111111111,
              "#46039f"
             ],
             [
              0.2222222222222222,
              "#7201a8"
             ],
             [
              0.3333333333333333,
              "#9c179e"
             ],
             [
              0.4444444444444444,
              "#bd3786"
             ],
             [
              0.5555555555555556,
              "#d8576b"
             ],
             [
              0.6666666666666666,
              "#ed7953"
             ],
             [
              0.7777777777777778,
              "#fb9f3a"
             ],
             [
              0.8888888888888888,
              "#fdca26"
             ],
             [
              1,
              "#f0f921"
             ]
            ],
            "type": "histogram2dcontour"
           }
          ],
          "mesh3d": [
           {
            "colorbar": {
             "outlinewidth": 0,
             "ticks": ""
            },
            "type": "mesh3d"
           }
          ],
          "parcoords": [
           {
            "line": {
             "colorbar": {
              "outlinewidth": 0,
              "ticks": ""
             }
            },
            "type": "parcoords"
           }
          ],
          "pie": [
           {
            "automargin": true,
            "type": "pie"
           }
          ],
          "scatter": [
           {
            "fillpattern": {
             "fillmode": "overlay",
             "size": 10,
             "solidity": 0.2
            },
            "type": "scatter"
           }
          ],
          "scatter3d": [
           {
            "line": {
             "colorbar": {
              "outlinewidth": 0,
              "ticks": ""
             }
            },
            "marker": {
             "colorbar": {
              "outlinewidth": 0,
              "ticks": ""
             }
            },
            "type": "scatter3d"
           }
          ],
          "scattercarpet": [
           {
            "marker": {
             "colorbar": {
              "outlinewidth": 0,
              "ticks": ""
             }
            },
            "type": "scattercarpet"
           }
          ],
          "scattergeo": [
           {
            "marker": {
             "colorbar": {
              "outlinewidth": 0,
              "ticks": ""
             }
            },
            "type": "scattergeo"
           }
          ],
          "scattergl": [
           {
            "marker": {
             "colorbar": {
              "outlinewidth": 0,
              "ticks": ""
             }
            },
            "type": "scattergl"
           }
          ],
          "scattermapbox": [
           {
            "marker": {
             "colorbar": {
              "outlinewidth": 0,
              "ticks": ""
             }
            },
            "type": "scattermapbox"
           }
          ],
          "scatterpolar": [
           {
            "marker": {
             "colorbar": {
              "outlinewidth": 0,
              "ticks": ""
             }
            },
            "type": "scatterpolar"
           }
          ],
          "scatterpolargl": [
           {
            "marker": {
             "colorbar": {
              "outlinewidth": 0,
              "ticks": ""
             }
            },
            "type": "scatterpolargl"
           }
          ],
          "scatterternary": [
           {
            "marker": {
             "colorbar": {
              "outlinewidth": 0,
              "ticks": ""
             }
            },
            "type": "scatterternary"
           }
          ],
          "surface": [
           {
            "colorbar": {
             "outlinewidth": 0,
             "ticks": ""
            },
            "colorscale": [
             [
              0,
              "#0d0887"
             ],
             [
              0.1111111111111111,
              "#46039f"
             ],
             [
              0.2222222222222222,
              "#7201a8"
             ],
             [
              0.3333333333333333,
              "#9c179e"
             ],
             [
              0.4444444444444444,
              "#bd3786"
             ],
             [
              0.5555555555555556,
              "#d8576b"
             ],
             [
              0.6666666666666666,
              "#ed7953"
             ],
             [
              0.7777777777777778,
              "#fb9f3a"
             ],
             [
              0.8888888888888888,
              "#fdca26"
             ],
             [
              1,
              "#f0f921"
             ]
            ],
            "type": "surface"
           }
          ],
          "table": [
           {
            "cells": {
             "fill": {
              "color": "#EBF0F8"
             },
             "line": {
              "color": "white"
             }
            },
            "header": {
             "fill": {
              "color": "#C8D4E3"
             },
             "line": {
              "color": "white"
             }
            },
            "type": "table"
           }
          ]
         },
         "layout": {
          "annotationdefaults": {
           "arrowcolor": "#2a3f5f",
           "arrowhead": 0,
           "arrowwidth": 1
          },
          "autotypenumbers": "strict",
          "coloraxis": {
           "colorbar": {
            "outlinewidth": 0,
            "ticks": ""
           }
          },
          "colorscale": {
           "diverging": [
            [
             0,
             "#8e0152"
            ],
            [
             0.1,
             "#c51b7d"
            ],
            [
             0.2,
             "#de77ae"
            ],
            [
             0.3,
             "#f1b6da"
            ],
            [
             0.4,
             "#fde0ef"
            ],
            [
             0.5,
             "#f7f7f7"
            ],
            [
             0.6,
             "#e6f5d0"
            ],
            [
             0.7,
             "#b8e186"
            ],
            [
             0.8,
             "#7fbc41"
            ],
            [
             0.9,
             "#4d9221"
            ],
            [
             1,
             "#276419"
            ]
           ],
           "sequential": [
            [
             0,
             "#0d0887"
            ],
            [
             0.1111111111111111,
             "#46039f"
            ],
            [
             0.2222222222222222,
             "#7201a8"
            ],
            [
             0.3333333333333333,
             "#9c179e"
            ],
            [
             0.4444444444444444,
             "#bd3786"
            ],
            [
             0.5555555555555556,
             "#d8576b"
            ],
            [
             0.6666666666666666,
             "#ed7953"
            ],
            [
             0.7777777777777778,
             "#fb9f3a"
            ],
            [
             0.8888888888888888,
             "#fdca26"
            ],
            [
             1,
             "#f0f921"
            ]
           ],
           "sequentialminus": [
            [
             0,
             "#0d0887"
            ],
            [
             0.1111111111111111,
             "#46039f"
            ],
            [
             0.2222222222222222,
             "#7201a8"
            ],
            [
             0.3333333333333333,
             "#9c179e"
            ],
            [
             0.4444444444444444,
             "#bd3786"
            ],
            [
             0.5555555555555556,
             "#d8576b"
            ],
            [
             0.6666666666666666,
             "#ed7953"
            ],
            [
             0.7777777777777778,
             "#fb9f3a"
            ],
            [
             0.8888888888888888,
             "#fdca26"
            ],
            [
             1,
             "#f0f921"
            ]
           ]
          },
          "colorway": [
           "#636efa",
           "#EF553B",
           "#00cc96",
           "#ab63fa",
           "#FFA15A",
           "#19d3f3",
           "#FF6692",
           "#B6E880",
           "#FF97FF",
           "#FECB52"
          ],
          "font": {
           "color": "#2a3f5f"
          },
          "geo": {
           "bgcolor": "white",
           "lakecolor": "white",
           "landcolor": "#E5ECF6",
           "showlakes": true,
           "showland": true,
           "subunitcolor": "white"
          },
          "hoverlabel": {
           "align": "left"
          },
          "hovermode": "closest",
          "mapbox": {
           "style": "light"
          },
          "paper_bgcolor": "white",
          "plot_bgcolor": "#E5ECF6",
          "polar": {
           "angularaxis": {
            "gridcolor": "white",
            "linecolor": "white",
            "ticks": ""
           },
           "bgcolor": "#E5ECF6",
           "radialaxis": {
            "gridcolor": "white",
            "linecolor": "white",
            "ticks": ""
           }
          },
          "scene": {
           "xaxis": {
            "backgroundcolor": "#E5ECF6",
            "gridcolor": "white",
            "gridwidth": 2,
            "linecolor": "white",
            "showbackground": true,
            "ticks": "",
            "zerolinecolor": "white"
           },
           "yaxis": {
            "backgroundcolor": "#E5ECF6",
            "gridcolor": "white",
            "gridwidth": 2,
            "linecolor": "white",
            "showbackground": true,
            "ticks": "",
            "zerolinecolor": "white"
           },
           "zaxis": {
            "backgroundcolor": "#E5ECF6",
            "gridcolor": "white",
            "gridwidth": 2,
            "linecolor": "white",
            "showbackground": true,
            "ticks": "",
            "zerolinecolor": "white"
           }
          },
          "shapedefaults": {
           "line": {
            "color": "#2a3f5f"
           }
          },
          "ternary": {
           "aaxis": {
            "gridcolor": "white",
            "linecolor": "white",
            "ticks": ""
           },
           "baxis": {
            "gridcolor": "white",
            "linecolor": "white",
            "ticks": ""
           },
           "bgcolor": "#E5ECF6",
           "caxis": {
            "gridcolor": "white",
            "linecolor": "white",
            "ticks": ""
           }
          },
          "title": {
           "x": 0.05
          },
          "xaxis": {
           "automargin": true,
           "gridcolor": "white",
           "linecolor": "white",
           "ticks": "",
           "title": {
            "standoff": 15
           },
           "zerolinecolor": "white",
           "zerolinewidth": 2
          },
          "yaxis": {
           "automargin": true,
           "gridcolor": "white",
           "linecolor": "white",
           "ticks": "",
           "title": {
            "standoff": 15
           },
           "zerolinecolor": "white",
           "zerolinewidth": 2
          }
         }
        },
        "title": {
         "text": "Calibration Curve"
        }
       }
      },
      "text/html": [
       "<div>                            <div id=\"90d0b17d-63d7-4863-becb-f30b97f313c4\" class=\"plotly-graph-div\" style=\"height:525px; width:100%;\"></div>            <script type=\"text/javascript\">                require([\"plotly\"], function(Plotly) {                    window.PLOTLYENV=window.PLOTLYENV || {};                                    if (document.getElementById(\"90d0b17d-63d7-4863-becb-f30b97f313c4\")) {                    Plotly.newPlot(                        \"90d0b17d-63d7-4863-becb-f30b97f313c4\",                        [{\"mode\":\"lines\",\"name\":\"search1\",\"x\":[0.08671493395850376,0.11805049704257832,0.2584133111594016,0.3378239517309228,0.44421468934287195,0.5627507855815272,0.6489607949514646,0.7635825007569557,0.8356930306979589,0.9051397740840912],\"y\":[0.0,0.004651162790697674,0.10526315789473684,0.3163265306122449,0.34782608695652173,0.6774193548387096,0.7567567567567568,0.9803921568627451,1.0,1.0],\"type\":\"scatter\"},{\"mode\":\"lines\",\"name\":\"search2\",\"x\":[0.08671493395850376,0.11805049704257832,0.2584133111594016,0.3378239517309228,0.44421468934287195,0.5627507855815272,0.6489607949514646,0.7635825007569557,0.8356930306979589,0.9051397740840912],\"y\":[0.0,0.004651162790697674,0.10526315789473684,0.3163265306122449,0.34782608695652173,0.6774193548387096,0.7567567567567568,0.9803921568627451,1.0,1.0],\"type\":\"scatter\"}],                        {\"template\":{\"data\":{\"histogram2dcontour\":[{\"type\":\"histogram2dcontour\",\"colorbar\":{\"outlinewidth\":0,\"ticks\":\"\"},\"colorscale\":[[0.0,\"#0d0887\"],[0.1111111111111111,\"#46039f\"],[0.2222222222222222,\"#7201a8\"],[0.3333333333333333,\"#9c179e\"],[0.4444444444444444,\"#bd3786\"],[0.5555555555555556,\"#d8576b\"],[0.6666666666666666,\"#ed7953\"],[0.7777777777777778,\"#fb9f3a\"],[0.8888888888888888,\"#fdca26\"],[1.0,\"#f0f921\"]]}],\"choropleth\":[{\"type\":\"choropleth\",\"colorbar\":{\"outlinewidth\":0,\"ticks\":\"\"}}],\"histogram2d\":[{\"type\":\"histogram2d\",\"colorbar\":{\"outlinewidth\":0,\"ticks\":\"\"},\"colorscale\":[[0.0,\"#0d0887\"],[0.1111111111111111,\"#46039f\"],[0.2222222222222222,\"#7201a8\"],[0.3333333333333333,\"#9c179e\"],[0.4444444444444444,\"#bd3786\"],[0.5555555555555556,\"#d8576b\"],[0.6666666666666666,\"#ed7953\"],[0.7777777777777778,\"#fb9f3a\"],[0.8888888888888888,\"#fdca26\"],[1.0,\"#f0f921\"]]}],\"heatmap\":[{\"type\":\"heatmap\",\"colorbar\":{\"outlinewidth\":0,\"ticks\":\"\"},\"colorscale\":[[0.0,\"#0d0887\"],[0.1111111111111111,\"#46039f\"],[0.2222222222222222,\"#7201a8\"],[0.3333333333333333,\"#9c179e\"],[0.4444444444444444,\"#bd3786\"],[0.5555555555555556,\"#d8576b\"],[0.6666666666666666,\"#ed7953\"],[0.7777777777777778,\"#fb9f3a\"],[0.8888888888888888,\"#fdca26\"],[1.0,\"#f0f921\"]]}],\"heatmapgl\":[{\"type\":\"heatmapgl\",\"colorbar\":{\"outlinewidth\":0,\"ticks\":\"\"},\"colorscale\":[[0.0,\"#0d0887\"],[0.1111111111111111,\"#46039f\"],[0.2222222222222222,\"#7201a8\"],[0.3333333333333333,\"#9c179e\"],[0.4444444444444444,\"#bd3786\"],[0.5555555555555556,\"#d8576b\"],[0.6666666666666666,\"#ed7953\"],[0.7777777777777778,\"#fb9f3a\"],[0.8888888888888888,\"#fdca26\"],[1.0,\"#f0f921\"]]}],\"contourcarpet\":[{\"type\":\"contourcarpet\",\"colorbar\":{\"outlinewidth\":0,\"ticks\":\"\"}}],\"contour\":[{\"type\":\"contour\",\"colorbar\":{\"outlinewidth\":0,\"ticks\":\"\"},\"colorscale\":[[0.0,\"#0d0887\"],[0.1111111111111111,\"#46039f\"],[0.2222222222222222,\"#7201a8\"],[0.3333333333333333,\"#9c179e\"],[0.4444444444444444,\"#bd3786\"],[0.5555555555555556,\"#d8576b\"],[0.6666666666666666,\"#ed7953\"],[0.7777777777777778,\"#fb9f3a\"],[0.8888888888888888,\"#fdca26\"],[1.0,\"#f0f921\"]]}],\"surface\":[{\"type\":\"surface\",\"colorbar\":{\"outlinewidth\":0,\"ticks\":\"\"},\"colorscale\":[[0.0,\"#0d0887\"],[0.1111111111111111,\"#46039f\"],[0.2222222222222222,\"#7201a8\"],[0.3333333333333333,\"#9c179e\"],[0.4444444444444444,\"#bd3786\"],[0.5555555555555556,\"#d8576b\"],[0.6666666666666666,\"#ed7953\"],[0.7777777777777778,\"#fb9f3a\"],[0.8888888888888888,\"#fdca26\"],[1.0,\"#f0f921\"]]}],\"mesh3d\":[{\"type\":\"mesh3d\",\"colorbar\":{\"outlinewidth\":0,\"ticks\":\"\"}}],\"scatter\":[{\"fillpattern\":{\"fillmode\":\"overlay\",\"size\":10,\"solidity\":0.2},\"type\":\"scatter\"}],\"parcoords\":[{\"type\":\"parcoords\",\"line\":{\"colorbar\":{\"outlinewidth\":0,\"ticks\":\"\"}}}],\"scatterpolargl\":[{\"type\":\"scatterpolargl\",\"marker\":{\"colorbar\":{\"outlinewidth\":0,\"ticks\":\"\"}}}],\"bar\":[{\"error_x\":{\"color\":\"#2a3f5f\"},\"error_y\":{\"color\":\"#2a3f5f\"},\"marker\":{\"line\":{\"color\":\"#E5ECF6\",\"width\":0.5},\"pattern\":{\"fillmode\":\"overlay\",\"size\":10,\"solidity\":0.2}},\"type\":\"bar\"}],\"scattergeo\":[{\"type\":\"scattergeo\",\"marker\":{\"colorbar\":{\"outlinewidth\":0,\"ticks\":\"\"}}}],\"scatterpolar\":[{\"type\":\"scatterpolar\",\"marker\":{\"colorbar\":{\"outlinewidth\":0,\"ticks\":\"\"}}}],\"histogram\":[{\"marker\":{\"pattern\":{\"fillmode\":\"overlay\",\"size\":10,\"solidity\":0.2}},\"type\":\"histogram\"}],\"scattergl\":[{\"type\":\"scattergl\",\"marker\":{\"colorbar\":{\"outlinewidth\":0,\"ticks\":\"\"}}}],\"scatter3d\":[{\"type\":\"scatter3d\",\"line\":{\"colorbar\":{\"outlinewidth\":0,\"ticks\":\"\"}},\"marker\":{\"colorbar\":{\"outlinewidth\":0,\"ticks\":\"\"}}}],\"scattermapbox\":[{\"type\":\"scattermapbox\",\"marker\":{\"colorbar\":{\"outlinewidth\":0,\"ticks\":\"\"}}}],\"scatterternary\":[{\"type\":\"scatterternary\",\"marker\":{\"colorbar\":{\"outlinewidth\":0,\"ticks\":\"\"}}}],\"scattercarpet\":[{\"type\":\"scattercarpet\",\"marker\":{\"colorbar\":{\"outlinewidth\":0,\"ticks\":\"\"}}}],\"carpet\":[{\"aaxis\":{\"endlinecolor\":\"#2a3f5f\",\"gridcolor\":\"white\",\"linecolor\":\"white\",\"minorgridcolor\":\"white\",\"startlinecolor\":\"#2a3f5f\"},\"baxis\":{\"endlinecolor\":\"#2a3f5f\",\"gridcolor\":\"white\",\"linecolor\":\"white\",\"minorgridcolor\":\"white\",\"startlinecolor\":\"#2a3f5f\"},\"type\":\"carpet\"}],\"table\":[{\"cells\":{\"fill\":{\"color\":\"#EBF0F8\"},\"line\":{\"color\":\"white\"}},\"header\":{\"fill\":{\"color\":\"#C8D4E3\"},\"line\":{\"color\":\"white\"}},\"type\":\"table\"}],\"barpolar\":[{\"marker\":{\"line\":{\"color\":\"#E5ECF6\",\"width\":0.5},\"pattern\":{\"fillmode\":\"overlay\",\"size\":10,\"solidity\":0.2}},\"type\":\"barpolar\"}],\"pie\":[{\"automargin\":true,\"type\":\"pie\"}]},\"layout\":{\"autotypenumbers\":\"strict\",\"colorway\":[\"#636efa\",\"#EF553B\",\"#00cc96\",\"#ab63fa\",\"#FFA15A\",\"#19d3f3\",\"#FF6692\",\"#B6E880\",\"#FF97FF\",\"#FECB52\"],\"font\":{\"color\":\"#2a3f5f\"},\"hovermode\":\"closest\",\"hoverlabel\":{\"align\":\"left\"},\"paper_bgcolor\":\"white\",\"plot_bgcolor\":\"#E5ECF6\",\"polar\":{\"bgcolor\":\"#E5ECF6\",\"angularaxis\":{\"gridcolor\":\"white\",\"linecolor\":\"white\",\"ticks\":\"\"},\"radialaxis\":{\"gridcolor\":\"white\",\"linecolor\":\"white\",\"ticks\":\"\"}},\"ternary\":{\"bgcolor\":\"#E5ECF6\",\"aaxis\":{\"gridcolor\":\"white\",\"linecolor\":\"white\",\"ticks\":\"\"},\"baxis\":{\"gridcolor\":\"white\",\"linecolor\":\"white\",\"ticks\":\"\"},\"caxis\":{\"gridcolor\":\"white\",\"linecolor\":\"white\",\"ticks\":\"\"}},\"coloraxis\":{\"colorbar\":{\"outlinewidth\":0,\"ticks\":\"\"}},\"colorscale\":{\"sequential\":[[0.0,\"#0d0887\"],[0.1111111111111111,\"#46039f\"],[0.2222222222222222,\"#7201a8\"],[0.3333333333333333,\"#9c179e\"],[0.4444444444444444,\"#bd3786\"],[0.5555555555555556,\"#d8576b\"],[0.6666666666666666,\"#ed7953\"],[0.7777777777777778,\"#fb9f3a\"],[0.8888888888888888,\"#fdca26\"],[1.0,\"#f0f921\"]],\"sequentialminus\":[[0.0,\"#0d0887\"],[0.1111111111111111,\"#46039f\"],[0.2222222222222222,\"#7201a8\"],[0.3333333333333333,\"#9c179e\"],[0.4444444444444444,\"#bd3786\"],[0.5555555555555556,\"#d8576b\"],[0.6666666666666666,\"#ed7953\"],[0.7777777777777778,\"#fb9f3a\"],[0.8888888888888888,\"#fdca26\"],[1.0,\"#f0f921\"]],\"diverging\":[[0,\"#8e0152\"],[0.1,\"#c51b7d\"],[0.2,\"#de77ae\"],[0.3,\"#f1b6da\"],[0.4,\"#fde0ef\"],[0.5,\"#f7f7f7\"],[0.6,\"#e6f5d0\"],[0.7,\"#b8e186\"],[0.8,\"#7fbc41\"],[0.9,\"#4d9221\"],[1,\"#276419\"]]},\"xaxis\":{\"gridcolor\":\"white\",\"linecolor\":\"white\",\"ticks\":\"\",\"title\":{\"standoff\":15},\"zerolinecolor\":\"white\",\"automargin\":true,\"zerolinewidth\":2},\"yaxis\":{\"gridcolor\":\"white\",\"linecolor\":\"white\",\"ticks\":\"\",\"title\":{\"standoff\":15},\"zerolinecolor\":\"white\",\"automargin\":true,\"zerolinewidth\":2},\"scene\":{\"xaxis\":{\"backgroundcolor\":\"#E5ECF6\",\"gridcolor\":\"white\",\"linecolor\":\"white\",\"showbackground\":true,\"ticks\":\"\",\"zerolinecolor\":\"white\",\"gridwidth\":2},\"yaxis\":{\"backgroundcolor\":\"#E5ECF6\",\"gridcolor\":\"white\",\"linecolor\":\"white\",\"showbackground\":true,\"ticks\":\"\",\"zerolinecolor\":\"white\",\"gridwidth\":2},\"zaxis\":{\"backgroundcolor\":\"#E5ECF6\",\"gridcolor\":\"white\",\"linecolor\":\"white\",\"showbackground\":true,\"ticks\":\"\",\"zerolinecolor\":\"white\",\"gridwidth\":2}},\"shapedefaults\":{\"line\":{\"color\":\"#2a3f5f\"}},\"annotationdefaults\":{\"arrowcolor\":\"#2a3f5f\",\"arrowhead\":0,\"arrowwidth\":1},\"geo\":{\"bgcolor\":\"white\",\"landcolor\":\"#E5ECF6\",\"subunitcolor\":\"white\",\"showland\":true,\"showlakes\":true,\"lakecolor\":\"white\"},\"title\":{\"x\":0.05},\"mapbox\":{\"style\":\"light\"}}},\"shapes\":[{\"line\":{\"color\":\"gray\",\"dash\":\"dash\"},\"type\":\"line\",\"x0\":0,\"x1\":1,\"xref\":\"x\",\"y0\":0,\"y1\":1,\"yref\":\"y\"}],\"title\":{\"text\":\"Calibration Curve\"}},                        {\"responsive\": true}                    ).then(function(){\n",
       "                            \n",
       "var gd = document.getElementById('90d0b17d-63d7-4863-becb-f30b97f313c4');\n",
       "var x = new MutationObserver(function (mutations, observer) {{\n",
       "        var display = window.getComputedStyle(gd).display;\n",
       "        if (!display || display === 'none') {{\n",
       "            console.log([gd, 'removed!']);\n",
       "            Plotly.purge(gd);\n",
       "            observer.disconnect();\n",
       "        }}\n",
       "}});\n",
       "\n",
       "// Listen for the removal of the full notebook cells\n",
       "var notebookContainer = gd.closest('#notebook-container');\n",
       "if (notebookContainer) {{\n",
       "    x.observe(notebookContainer, {childList: true});\n",
       "}}\n",
       "\n",
       "// Listen for the clearing of the current output cell\n",
       "var outputEl = gd.closest('.output');\n",
       "if (outputEl) {{\n",
       "    x.observe(outputEl, {childList: true});\n",
       "}}\n",
       "\n",
       "                        })                };                });            </script>        </div>"
      ]
     },
     "metadata": {},
     "output_type": "display_data"
    }
   ],
   "source": [
    "plt1['cal'].show()"
   ]
  },
  {
   "cell_type": "code",
   "execution_count": 148,
   "id": "87fd7b14",
   "metadata": {},
   "outputs": [
    {
     "data": {
      "text/html": [
       "<div>\n",
       "<style scoped>\n",
       "    .dataframe tbody tr th:only-of-type {\n",
       "        vertical-align: middle;\n",
       "    }\n",
       "\n",
       "    .dataframe tbody tr th {\n",
       "        vertical-align: top;\n",
       "    }\n",
       "\n",
       "    .dataframe thead th {\n",
       "        text-align: right;\n",
       "    }\n",
       "</style>\n",
       "<table border=\"1\" class=\"dataframe\">\n",
       "  <thead>\n",
       "    <tr style=\"text-align: right;\">\n",
       "      <th></th>\n",
       "      <th>bin</th>\n",
       "      <th>positive_count</th>\n",
       "      <th>total_count</th>\n",
       "      <th>fraction_of_positives</th>\n",
       "      <th>lift</th>\n",
       "    </tr>\n",
       "  </thead>\n",
       "  <tbody>\n",
       "    <tr>\n",
       "      <th>0</th>\n",
       "      <td>0</td>\n",
       "      <td>75</td>\n",
       "      <td>75</td>\n",
       "      <td>1.000000</td>\n",
       "      <td>3.333333</td>\n",
       "    </tr>\n",
       "    <tr>\n",
       "      <th>1</th>\n",
       "      <td>1</td>\n",
       "      <td>68</td>\n",
       "      <td>75</td>\n",
       "      <td>0.906667</td>\n",
       "      <td>3.022222</td>\n",
       "    </tr>\n",
       "    <tr>\n",
       "      <th>2</th>\n",
       "      <td>2</td>\n",
       "      <td>41</td>\n",
       "      <td>75</td>\n",
       "      <td>0.546667</td>\n",
       "      <td>1.822222</td>\n",
       "    </tr>\n",
       "    <tr>\n",
       "      <th>3</th>\n",
       "      <td>3</td>\n",
       "      <td>28</td>\n",
       "      <td>75</td>\n",
       "      <td>0.373333</td>\n",
       "      <td>1.244444</td>\n",
       "    </tr>\n",
       "    <tr>\n",
       "      <th>4</th>\n",
       "      <td>4</td>\n",
       "      <td>10</td>\n",
       "      <td>75</td>\n",
       "      <td>0.133333</td>\n",
       "      <td>0.444444</td>\n",
       "    </tr>\n",
       "    <tr>\n",
       "      <th>5</th>\n",
       "      <td>5</td>\n",
       "      <td>2</td>\n",
       "      <td>75</td>\n",
       "      <td>0.026667</td>\n",
       "      <td>0.088889</td>\n",
       "    </tr>\n",
       "    <tr>\n",
       "      <th>6</th>\n",
       "      <td>6</td>\n",
       "      <td>1</td>\n",
       "      <td>75</td>\n",
       "      <td>0.013333</td>\n",
       "      <td>0.044444</td>\n",
       "    </tr>\n",
       "    <tr>\n",
       "      <th>7</th>\n",
       "      <td>7</td>\n",
       "      <td>0</td>\n",
       "      <td>75</td>\n",
       "      <td>0.000000</td>\n",
       "      <td>0.000000</td>\n",
       "    </tr>\n",
       "    <tr>\n",
       "      <th>8</th>\n",
       "      <td>8</td>\n",
       "      <td>0</td>\n",
       "      <td>75</td>\n",
       "      <td>0.000000</td>\n",
       "      <td>0.000000</td>\n",
       "    </tr>\n",
       "    <tr>\n",
       "      <th>9</th>\n",
       "      <td>9</td>\n",
       "      <td>0</td>\n",
       "      <td>75</td>\n",
       "      <td>0.000000</td>\n",
       "      <td>0.000000</td>\n",
       "    </tr>\n",
       "  </tbody>\n",
       "</table>\n",
       "</div>"
      ],
      "text/plain": [
       "   bin  positive_count  total_count  fraction_of_positives      lift\n",
       "0    0              75           75               1.000000  3.333333\n",
       "1    1              68           75               0.906667  3.022222\n",
       "2    2              41           75               0.546667  1.822222\n",
       "3    3              28           75               0.373333  1.244444\n",
       "4    4              10           75               0.133333  0.444444\n",
       "5    5               2           75               0.026667  0.088889\n",
       "6    6               1           75               0.013333  0.044444\n",
       "7    7               0           75               0.000000  0.000000\n",
       "8    8               0           75               0.000000  0.000000\n",
       "9    9               0           75               0.000000  0.000000"
      ]
     },
     "execution_count": 148,
     "metadata": {},
     "output_type": "execute_result"
    }
   ],
   "source": [
    "classifier_lift_df(y_train,y_probas_train1[:,1])"
   ]
  },
  {
   "cell_type": "code",
   "execution_count": 151,
   "id": "3dea0c7c",
   "metadata": {},
   "outputs": [
    {
     "data": {
      "application/vnd.plotly.v1+json": {
       "config": {
        "plotlyServerURL": "https://plot.ly"
       },
       "data": [
        {
         "mode": "lines",
         "name": "search1",
         "type": "scatter",
         "x": [
          0,
          1,
          2,
          3,
          4,
          5,
          6,
          7,
          8,
          9
         ],
         "y": [
          3.3333333333333335,
          3.022222222222222,
          1.8222222222222222,
          1.2444444444444445,
          0.4444444444444445,
          0.08888888888888889,
          0.044444444444444446,
          0,
          0,
          0
         ]
        },
        {
         "mode": "lines",
         "name": "search2",
         "type": "scatter",
         "x": [
          0,
          1,
          2,
          3,
          4,
          5,
          6,
          7,
          8,
          9
         ],
         "y": [
          3.3333333333333335,
          3.022222222222222,
          1.8222222222222222,
          1.2444444444444445,
          0.4444444444444445,
          0.08888888888888889,
          0.044444444444444446,
          0,
          0,
          0
         ]
        }
       ],
       "layout": {
        "shapes": [
         {
          "line": {
           "color": "gray",
           "dash": "dash"
          },
          "type": "line",
          "x0": 0,
          "x1": 9,
          "xref": "x",
          "y0": 1,
          "y1": 1,
          "yref": "y"
         }
        ],
        "template": {
         "data": {
          "bar": [
           {
            "error_x": {
             "color": "#2a3f5f"
            },
            "error_y": {
             "color": "#2a3f5f"
            },
            "marker": {
             "line": {
              "color": "#E5ECF6",
              "width": 0.5
             },
             "pattern": {
              "fillmode": "overlay",
              "size": 10,
              "solidity": 0.2
             }
            },
            "type": "bar"
           }
          ],
          "barpolar": [
           {
            "marker": {
             "line": {
              "color": "#E5ECF6",
              "width": 0.5
             },
             "pattern": {
              "fillmode": "overlay",
              "size": 10,
              "solidity": 0.2
             }
            },
            "type": "barpolar"
           }
          ],
          "carpet": [
           {
            "aaxis": {
             "endlinecolor": "#2a3f5f",
             "gridcolor": "white",
             "linecolor": "white",
             "minorgridcolor": "white",
             "startlinecolor": "#2a3f5f"
            },
            "baxis": {
             "endlinecolor": "#2a3f5f",
             "gridcolor": "white",
             "linecolor": "white",
             "minorgridcolor": "white",
             "startlinecolor": "#2a3f5f"
            },
            "type": "carpet"
           }
          ],
          "choropleth": [
           {
            "colorbar": {
             "outlinewidth": 0,
             "ticks": ""
            },
            "type": "choropleth"
           }
          ],
          "contour": [
           {
            "colorbar": {
             "outlinewidth": 0,
             "ticks": ""
            },
            "colorscale": [
             [
              0,
              "#0d0887"
             ],
             [
              0.1111111111111111,
              "#46039f"
             ],
             [
              0.2222222222222222,
              "#7201a8"
             ],
             [
              0.3333333333333333,
              "#9c179e"
             ],
             [
              0.4444444444444444,
              "#bd3786"
             ],
             [
              0.5555555555555556,
              "#d8576b"
             ],
             [
              0.6666666666666666,
              "#ed7953"
             ],
             [
              0.7777777777777778,
              "#fb9f3a"
             ],
             [
              0.8888888888888888,
              "#fdca26"
             ],
             [
              1,
              "#f0f921"
             ]
            ],
            "type": "contour"
           }
          ],
          "contourcarpet": [
           {
            "colorbar": {
             "outlinewidth": 0,
             "ticks": ""
            },
            "type": "contourcarpet"
           }
          ],
          "heatmap": [
           {
            "colorbar": {
             "outlinewidth": 0,
             "ticks": ""
            },
            "colorscale": [
             [
              0,
              "#0d0887"
             ],
             [
              0.1111111111111111,
              "#46039f"
             ],
             [
              0.2222222222222222,
              "#7201a8"
             ],
             [
              0.3333333333333333,
              "#9c179e"
             ],
             [
              0.4444444444444444,
              "#bd3786"
             ],
             [
              0.5555555555555556,
              "#d8576b"
             ],
             [
              0.6666666666666666,
              "#ed7953"
             ],
             [
              0.7777777777777778,
              "#fb9f3a"
             ],
             [
              0.8888888888888888,
              "#fdca26"
             ],
             [
              1,
              "#f0f921"
             ]
            ],
            "type": "heatmap"
           }
          ],
          "heatmapgl": [
           {
            "colorbar": {
             "outlinewidth": 0,
             "ticks": ""
            },
            "colorscale": [
             [
              0,
              "#0d0887"
             ],
             [
              0.1111111111111111,
              "#46039f"
             ],
             [
              0.2222222222222222,
              "#7201a8"
             ],
             [
              0.3333333333333333,
              "#9c179e"
             ],
             [
              0.4444444444444444,
              "#bd3786"
             ],
             [
              0.5555555555555556,
              "#d8576b"
             ],
             [
              0.6666666666666666,
              "#ed7953"
             ],
             [
              0.7777777777777778,
              "#fb9f3a"
             ],
             [
              0.8888888888888888,
              "#fdca26"
             ],
             [
              1,
              "#f0f921"
             ]
            ],
            "type": "heatmapgl"
           }
          ],
          "histogram": [
           {
            "marker": {
             "pattern": {
              "fillmode": "overlay",
              "size": 10,
              "solidity": 0.2
             }
            },
            "type": "histogram"
           }
          ],
          "histogram2d": [
           {
            "colorbar": {
             "outlinewidth": 0,
             "ticks": ""
            },
            "colorscale": [
             [
              0,
              "#0d0887"
             ],
             [
              0.1111111111111111,
              "#46039f"
             ],
             [
              0.2222222222222222,
              "#7201a8"
             ],
             [
              0.3333333333333333,
              "#9c179e"
             ],
             [
              0.4444444444444444,
              "#bd3786"
             ],
             [
              0.5555555555555556,
              "#d8576b"
             ],
             [
              0.6666666666666666,
              "#ed7953"
             ],
             [
              0.7777777777777778,
              "#fb9f3a"
             ],
             [
              0.8888888888888888,
              "#fdca26"
             ],
             [
              1,
              "#f0f921"
             ]
            ],
            "type": "histogram2d"
           }
          ],
          "histogram2dcontour": [
           {
            "colorbar": {
             "outlinewidth": 0,
             "ticks": ""
            },
            "colorscale": [
             [
              0,
              "#0d0887"
             ],
             [
              0.1111111111111111,
              "#46039f"
             ],
             [
              0.2222222222222222,
              "#7201a8"
             ],
             [
              0.3333333333333333,
              "#9c179e"
             ],
             [
              0.4444444444444444,
              "#bd3786"
             ],
             [
              0.5555555555555556,
              "#d8576b"
             ],
             [
              0.6666666666666666,
              "#ed7953"
             ],
             [
              0.7777777777777778,
              "#fb9f3a"
             ],
             [
              0.8888888888888888,
              "#fdca26"
             ],
             [
              1,
              "#f0f921"
             ]
            ],
            "type": "histogram2dcontour"
           }
          ],
          "mesh3d": [
           {
            "colorbar": {
             "outlinewidth": 0,
             "ticks": ""
            },
            "type": "mesh3d"
           }
          ],
          "parcoords": [
           {
            "line": {
             "colorbar": {
              "outlinewidth": 0,
              "ticks": ""
             }
            },
            "type": "parcoords"
           }
          ],
          "pie": [
           {
            "automargin": true,
            "type": "pie"
           }
          ],
          "scatter": [
           {
            "fillpattern": {
             "fillmode": "overlay",
             "size": 10,
             "solidity": 0.2
            },
            "type": "scatter"
           }
          ],
          "scatter3d": [
           {
            "line": {
             "colorbar": {
              "outlinewidth": 0,
              "ticks": ""
             }
            },
            "marker": {
             "colorbar": {
              "outlinewidth": 0,
              "ticks": ""
             }
            },
            "type": "scatter3d"
           }
          ],
          "scattercarpet": [
           {
            "marker": {
             "colorbar": {
              "outlinewidth": 0,
              "ticks": ""
             }
            },
            "type": "scattercarpet"
           }
          ],
          "scattergeo": [
           {
            "marker": {
             "colorbar": {
              "outlinewidth": 0,
              "ticks": ""
             }
            },
            "type": "scattergeo"
           }
          ],
          "scattergl": [
           {
            "marker": {
             "colorbar": {
              "outlinewidth": 0,
              "ticks": ""
             }
            },
            "type": "scattergl"
           }
          ],
          "scattermapbox": [
           {
            "marker": {
             "colorbar": {
              "outlinewidth": 0,
              "ticks": ""
             }
            },
            "type": "scattermapbox"
           }
          ],
          "scatterpolar": [
           {
            "marker": {
             "colorbar": {
              "outlinewidth": 0,
              "ticks": ""
             }
            },
            "type": "scatterpolar"
           }
          ],
          "scatterpolargl": [
           {
            "marker": {
             "colorbar": {
              "outlinewidth": 0,
              "ticks": ""
             }
            },
            "type": "scatterpolargl"
           }
          ],
          "scatterternary": [
           {
            "marker": {
             "colorbar": {
              "outlinewidth": 0,
              "ticks": ""
             }
            },
            "type": "scatterternary"
           }
          ],
          "surface": [
           {
            "colorbar": {
             "outlinewidth": 0,
             "ticks": ""
            },
            "colorscale": [
             [
              0,
              "#0d0887"
             ],
             [
              0.1111111111111111,
              "#46039f"
             ],
             [
              0.2222222222222222,
              "#7201a8"
             ],
             [
              0.3333333333333333,
              "#9c179e"
             ],
             [
              0.4444444444444444,
              "#bd3786"
             ],
             [
              0.5555555555555556,
              "#d8576b"
             ],
             [
              0.6666666666666666,
              "#ed7953"
             ],
             [
              0.7777777777777778,
              "#fb9f3a"
             ],
             [
              0.8888888888888888,
              "#fdca26"
             ],
             [
              1,
              "#f0f921"
             ]
            ],
            "type": "surface"
           }
          ],
          "table": [
           {
            "cells": {
             "fill": {
              "color": "#EBF0F8"
             },
             "line": {
              "color": "white"
             }
            },
            "header": {
             "fill": {
              "color": "#C8D4E3"
             },
             "line": {
              "color": "white"
             }
            },
            "type": "table"
           }
          ]
         },
         "layout": {
          "annotationdefaults": {
           "arrowcolor": "#2a3f5f",
           "arrowhead": 0,
           "arrowwidth": 1
          },
          "autotypenumbers": "strict",
          "coloraxis": {
           "colorbar": {
            "outlinewidth": 0,
            "ticks": ""
           }
          },
          "colorscale": {
           "diverging": [
            [
             0,
             "#8e0152"
            ],
            [
             0.1,
             "#c51b7d"
            ],
            [
             0.2,
             "#de77ae"
            ],
            [
             0.3,
             "#f1b6da"
            ],
            [
             0.4,
             "#fde0ef"
            ],
            [
             0.5,
             "#f7f7f7"
            ],
            [
             0.6,
             "#e6f5d0"
            ],
            [
             0.7,
             "#b8e186"
            ],
            [
             0.8,
             "#7fbc41"
            ],
            [
             0.9,
             "#4d9221"
            ],
            [
             1,
             "#276419"
            ]
           ],
           "sequential": [
            [
             0,
             "#0d0887"
            ],
            [
             0.1111111111111111,
             "#46039f"
            ],
            [
             0.2222222222222222,
             "#7201a8"
            ],
            [
             0.3333333333333333,
             "#9c179e"
            ],
            [
             0.4444444444444444,
             "#bd3786"
            ],
            [
             0.5555555555555556,
             "#d8576b"
            ],
            [
             0.6666666666666666,
             "#ed7953"
            ],
            [
             0.7777777777777778,
             "#fb9f3a"
            ],
            [
             0.8888888888888888,
             "#fdca26"
            ],
            [
             1,
             "#f0f921"
            ]
           ],
           "sequentialminus": [
            [
             0,
             "#0d0887"
            ],
            [
             0.1111111111111111,
             "#46039f"
            ],
            [
             0.2222222222222222,
             "#7201a8"
            ],
            [
             0.3333333333333333,
             "#9c179e"
            ],
            [
             0.4444444444444444,
             "#bd3786"
            ],
            [
             0.5555555555555556,
             "#d8576b"
            ],
            [
             0.6666666666666666,
             "#ed7953"
            ],
            [
             0.7777777777777778,
             "#fb9f3a"
            ],
            [
             0.8888888888888888,
             "#fdca26"
            ],
            [
             1,
             "#f0f921"
            ]
           ]
          },
          "colorway": [
           "#636efa",
           "#EF553B",
           "#00cc96",
           "#ab63fa",
           "#FFA15A",
           "#19d3f3",
           "#FF6692",
           "#B6E880",
           "#FF97FF",
           "#FECB52"
          ],
          "font": {
           "color": "#2a3f5f"
          },
          "geo": {
           "bgcolor": "white",
           "lakecolor": "white",
           "landcolor": "#E5ECF6",
           "showlakes": true,
           "showland": true,
           "subunitcolor": "white"
          },
          "hoverlabel": {
           "align": "left"
          },
          "hovermode": "closest",
          "mapbox": {
           "style": "light"
          },
          "paper_bgcolor": "white",
          "plot_bgcolor": "#E5ECF6",
          "polar": {
           "angularaxis": {
            "gridcolor": "white",
            "linecolor": "white",
            "ticks": ""
           },
           "bgcolor": "#E5ECF6",
           "radialaxis": {
            "gridcolor": "white",
            "linecolor": "white",
            "ticks": ""
           }
          },
          "scene": {
           "xaxis": {
            "backgroundcolor": "#E5ECF6",
            "gridcolor": "white",
            "gridwidth": 2,
            "linecolor": "white",
            "showbackground": true,
            "ticks": "",
            "zerolinecolor": "white"
           },
           "yaxis": {
            "backgroundcolor": "#E5ECF6",
            "gridcolor": "white",
            "gridwidth": 2,
            "linecolor": "white",
            "showbackground": true,
            "ticks": "",
            "zerolinecolor": "white"
           },
           "zaxis": {
            "backgroundcolor": "#E5ECF6",
            "gridcolor": "white",
            "gridwidth": 2,
            "linecolor": "white",
            "showbackground": true,
            "ticks": "",
            "zerolinecolor": "white"
           }
          },
          "shapedefaults": {
           "line": {
            "color": "#2a3f5f"
           }
          },
          "ternary": {
           "aaxis": {
            "gridcolor": "white",
            "linecolor": "white",
            "ticks": ""
           },
           "baxis": {
            "gridcolor": "white",
            "linecolor": "white",
            "ticks": ""
           },
           "bgcolor": "#E5ECF6",
           "caxis": {
            "gridcolor": "white",
            "linecolor": "white",
            "ticks": ""
           }
          },
          "title": {
           "x": 0.05
          },
          "xaxis": {
           "automargin": true,
           "gridcolor": "white",
           "linecolor": "white",
           "ticks": "",
           "title": {
            "standoff": 15
           },
           "zerolinecolor": "white",
           "zerolinewidth": 2
          },
          "yaxis": {
           "automargin": true,
           "gridcolor": "white",
           "linecolor": "white",
           "ticks": "",
           "title": {
            "standoff": 15
           },
           "zerolinecolor": "white",
           "zerolinewidth": 2
          }
         }
        },
        "title": {
         "text": "Lift Curve"
        },
        "xaxis": {
         "title": {
          "text": "Bin"
         }
        },
        "yaxis": {
         "title": {
          "text": "Lift"
         }
        }
       }
      },
      "text/html": [
       "<div>                            <div id=\"3591b782-c6c5-43fd-979c-ceaf0245219f\" class=\"plotly-graph-div\" style=\"height:525px; width:100%;\"></div>            <script type=\"text/javascript\">                require([\"plotly\"], function(Plotly) {                    window.PLOTLYENV=window.PLOTLYENV || {};                                    if (document.getElementById(\"3591b782-c6c5-43fd-979c-ceaf0245219f\")) {                    Plotly.newPlot(                        \"3591b782-c6c5-43fd-979c-ceaf0245219f\",                        [{\"mode\":\"lines\",\"name\":\"search1\",\"x\":[0,1,2,3,4,5,6,7,8,9],\"y\":[3.3333333333333335,3.022222222222222,1.8222222222222222,1.2444444444444445,0.4444444444444445,0.08888888888888889,0.044444444444444446,0.0,0.0,0.0],\"type\":\"scatter\"},{\"mode\":\"lines\",\"name\":\"search2\",\"x\":[0,1,2,3,4,5,6,7,8,9],\"y\":[3.3333333333333335,3.022222222222222,1.8222222222222222,1.2444444444444445,0.4444444444444445,0.08888888888888889,0.044444444444444446,0.0,0.0,0.0],\"type\":\"scatter\"}],                        {\"template\":{\"data\":{\"histogram2dcontour\":[{\"type\":\"histogram2dcontour\",\"colorbar\":{\"outlinewidth\":0,\"ticks\":\"\"},\"colorscale\":[[0.0,\"#0d0887\"],[0.1111111111111111,\"#46039f\"],[0.2222222222222222,\"#7201a8\"],[0.3333333333333333,\"#9c179e\"],[0.4444444444444444,\"#bd3786\"],[0.5555555555555556,\"#d8576b\"],[0.6666666666666666,\"#ed7953\"],[0.7777777777777778,\"#fb9f3a\"],[0.8888888888888888,\"#fdca26\"],[1.0,\"#f0f921\"]]}],\"choropleth\":[{\"type\":\"choropleth\",\"colorbar\":{\"outlinewidth\":0,\"ticks\":\"\"}}],\"histogram2d\":[{\"type\":\"histogram2d\",\"colorbar\":{\"outlinewidth\":0,\"ticks\":\"\"},\"colorscale\":[[0.0,\"#0d0887\"],[0.1111111111111111,\"#46039f\"],[0.2222222222222222,\"#7201a8\"],[0.3333333333333333,\"#9c179e\"],[0.4444444444444444,\"#bd3786\"],[0.5555555555555556,\"#d8576b\"],[0.6666666666666666,\"#ed7953\"],[0.7777777777777778,\"#fb9f3a\"],[0.8888888888888888,\"#fdca26\"],[1.0,\"#f0f921\"]]}],\"heatmap\":[{\"type\":\"heatmap\",\"colorbar\":{\"outlinewidth\":0,\"ticks\":\"\"},\"colorscale\":[[0.0,\"#0d0887\"],[0.1111111111111111,\"#46039f\"],[0.2222222222222222,\"#7201a8\"],[0.3333333333333333,\"#9c179e\"],[0.4444444444444444,\"#bd3786\"],[0.5555555555555556,\"#d8576b\"],[0.6666666666666666,\"#ed7953\"],[0.7777777777777778,\"#fb9f3a\"],[0.8888888888888888,\"#fdca26\"],[1.0,\"#f0f921\"]]}],\"heatmapgl\":[{\"type\":\"heatmapgl\",\"colorbar\":{\"outlinewidth\":0,\"ticks\":\"\"},\"colorscale\":[[0.0,\"#0d0887\"],[0.1111111111111111,\"#46039f\"],[0.2222222222222222,\"#7201a8\"],[0.3333333333333333,\"#9c179e\"],[0.4444444444444444,\"#bd3786\"],[0.5555555555555556,\"#d8576b\"],[0.6666666666666666,\"#ed7953\"],[0.7777777777777778,\"#fb9f3a\"],[0.8888888888888888,\"#fdca26\"],[1.0,\"#f0f921\"]]}],\"contourcarpet\":[{\"type\":\"contourcarpet\",\"colorbar\":{\"outlinewidth\":0,\"ticks\":\"\"}}],\"contour\":[{\"type\":\"contour\",\"colorbar\":{\"outlinewidth\":0,\"ticks\":\"\"},\"colorscale\":[[0.0,\"#0d0887\"],[0.1111111111111111,\"#46039f\"],[0.2222222222222222,\"#7201a8\"],[0.3333333333333333,\"#9c179e\"],[0.4444444444444444,\"#bd3786\"],[0.5555555555555556,\"#d8576b\"],[0.6666666666666666,\"#ed7953\"],[0.7777777777777778,\"#fb9f3a\"],[0.8888888888888888,\"#fdca26\"],[1.0,\"#f0f921\"]]}],\"surface\":[{\"type\":\"surface\",\"colorbar\":{\"outlinewidth\":0,\"ticks\":\"\"},\"colorscale\":[[0.0,\"#0d0887\"],[0.1111111111111111,\"#46039f\"],[0.2222222222222222,\"#7201a8\"],[0.3333333333333333,\"#9c179e\"],[0.4444444444444444,\"#bd3786\"],[0.5555555555555556,\"#d8576b\"],[0.6666666666666666,\"#ed7953\"],[0.7777777777777778,\"#fb9f3a\"],[0.8888888888888888,\"#fdca26\"],[1.0,\"#f0f921\"]]}],\"mesh3d\":[{\"type\":\"mesh3d\",\"colorbar\":{\"outlinewidth\":0,\"ticks\":\"\"}}],\"scatter\":[{\"fillpattern\":{\"fillmode\":\"overlay\",\"size\":10,\"solidity\":0.2},\"type\":\"scatter\"}],\"parcoords\":[{\"type\":\"parcoords\",\"line\":{\"colorbar\":{\"outlinewidth\":0,\"ticks\":\"\"}}}],\"scatterpolargl\":[{\"type\":\"scatterpolargl\",\"marker\":{\"colorbar\":{\"outlinewidth\":0,\"ticks\":\"\"}}}],\"bar\":[{\"error_x\":{\"color\":\"#2a3f5f\"},\"error_y\":{\"color\":\"#2a3f5f\"},\"marker\":{\"line\":{\"color\":\"#E5ECF6\",\"width\":0.5},\"pattern\":{\"fillmode\":\"overlay\",\"size\":10,\"solidity\":0.2}},\"type\":\"bar\"}],\"scattergeo\":[{\"type\":\"scattergeo\",\"marker\":{\"colorbar\":{\"outlinewidth\":0,\"ticks\":\"\"}}}],\"scatterpolar\":[{\"type\":\"scatterpolar\",\"marker\":{\"colorbar\":{\"outlinewidth\":0,\"ticks\":\"\"}}}],\"histogram\":[{\"marker\":{\"pattern\":{\"fillmode\":\"overlay\",\"size\":10,\"solidity\":0.2}},\"type\":\"histogram\"}],\"scattergl\":[{\"type\":\"scattergl\",\"marker\":{\"colorbar\":{\"outlinewidth\":0,\"ticks\":\"\"}}}],\"scatter3d\":[{\"type\":\"scatter3d\",\"line\":{\"colorbar\":{\"outlinewidth\":0,\"ticks\":\"\"}},\"marker\":{\"colorbar\":{\"outlinewidth\":0,\"ticks\":\"\"}}}],\"scattermapbox\":[{\"type\":\"scattermapbox\",\"marker\":{\"colorbar\":{\"outlinewidth\":0,\"ticks\":\"\"}}}],\"scatterternary\":[{\"type\":\"scatterternary\",\"marker\":{\"colorbar\":{\"outlinewidth\":0,\"ticks\":\"\"}}}],\"scattercarpet\":[{\"type\":\"scattercarpet\",\"marker\":{\"colorbar\":{\"outlinewidth\":0,\"ticks\":\"\"}}}],\"carpet\":[{\"aaxis\":{\"endlinecolor\":\"#2a3f5f\",\"gridcolor\":\"white\",\"linecolor\":\"white\",\"minorgridcolor\":\"white\",\"startlinecolor\":\"#2a3f5f\"},\"baxis\":{\"endlinecolor\":\"#2a3f5f\",\"gridcolor\":\"white\",\"linecolor\":\"white\",\"minorgridcolor\":\"white\",\"startlinecolor\":\"#2a3f5f\"},\"type\":\"carpet\"}],\"table\":[{\"cells\":{\"fill\":{\"color\":\"#EBF0F8\"},\"line\":{\"color\":\"white\"}},\"header\":{\"fill\":{\"color\":\"#C8D4E3\"},\"line\":{\"color\":\"white\"}},\"type\":\"table\"}],\"barpolar\":[{\"marker\":{\"line\":{\"color\":\"#E5ECF6\",\"width\":0.5},\"pattern\":{\"fillmode\":\"overlay\",\"size\":10,\"solidity\":0.2}},\"type\":\"barpolar\"}],\"pie\":[{\"automargin\":true,\"type\":\"pie\"}]},\"layout\":{\"autotypenumbers\":\"strict\",\"colorway\":[\"#636efa\",\"#EF553B\",\"#00cc96\",\"#ab63fa\",\"#FFA15A\",\"#19d3f3\",\"#FF6692\",\"#B6E880\",\"#FF97FF\",\"#FECB52\"],\"font\":{\"color\":\"#2a3f5f\"},\"hovermode\":\"closest\",\"hoverlabel\":{\"align\":\"left\"},\"paper_bgcolor\":\"white\",\"plot_bgcolor\":\"#E5ECF6\",\"polar\":{\"bgcolor\":\"#E5ECF6\",\"angularaxis\":{\"gridcolor\":\"white\",\"linecolor\":\"white\",\"ticks\":\"\"},\"radialaxis\":{\"gridcolor\":\"white\",\"linecolor\":\"white\",\"ticks\":\"\"}},\"ternary\":{\"bgcolor\":\"#E5ECF6\",\"aaxis\":{\"gridcolor\":\"white\",\"linecolor\":\"white\",\"ticks\":\"\"},\"baxis\":{\"gridcolor\":\"white\",\"linecolor\":\"white\",\"ticks\":\"\"},\"caxis\":{\"gridcolor\":\"white\",\"linecolor\":\"white\",\"ticks\":\"\"}},\"coloraxis\":{\"colorbar\":{\"outlinewidth\":0,\"ticks\":\"\"}},\"colorscale\":{\"sequential\":[[0.0,\"#0d0887\"],[0.1111111111111111,\"#46039f\"],[0.2222222222222222,\"#7201a8\"],[0.3333333333333333,\"#9c179e\"],[0.4444444444444444,\"#bd3786\"],[0.5555555555555556,\"#d8576b\"],[0.6666666666666666,\"#ed7953\"],[0.7777777777777778,\"#fb9f3a\"],[0.8888888888888888,\"#fdca26\"],[1.0,\"#f0f921\"]],\"sequentialminus\":[[0.0,\"#0d0887\"],[0.1111111111111111,\"#46039f\"],[0.2222222222222222,\"#7201a8\"],[0.3333333333333333,\"#9c179e\"],[0.4444444444444444,\"#bd3786\"],[0.5555555555555556,\"#d8576b\"],[0.6666666666666666,\"#ed7953\"],[0.7777777777777778,\"#fb9f3a\"],[0.8888888888888888,\"#fdca26\"],[1.0,\"#f0f921\"]],\"diverging\":[[0,\"#8e0152\"],[0.1,\"#c51b7d\"],[0.2,\"#de77ae\"],[0.3,\"#f1b6da\"],[0.4,\"#fde0ef\"],[0.5,\"#f7f7f7\"],[0.6,\"#e6f5d0\"],[0.7,\"#b8e186\"],[0.8,\"#7fbc41\"],[0.9,\"#4d9221\"],[1,\"#276419\"]]},\"xaxis\":{\"gridcolor\":\"white\",\"linecolor\":\"white\",\"ticks\":\"\",\"title\":{\"standoff\":15},\"zerolinecolor\":\"white\",\"automargin\":true,\"zerolinewidth\":2},\"yaxis\":{\"gridcolor\":\"white\",\"linecolor\":\"white\",\"ticks\":\"\",\"title\":{\"standoff\":15},\"zerolinecolor\":\"white\",\"automargin\":true,\"zerolinewidth\":2},\"scene\":{\"xaxis\":{\"backgroundcolor\":\"#E5ECF6\",\"gridcolor\":\"white\",\"linecolor\":\"white\",\"showbackground\":true,\"ticks\":\"\",\"zerolinecolor\":\"white\",\"gridwidth\":2},\"yaxis\":{\"backgroundcolor\":\"#E5ECF6\",\"gridcolor\":\"white\",\"linecolor\":\"white\",\"showbackground\":true,\"ticks\":\"\",\"zerolinecolor\":\"white\",\"gridwidth\":2},\"zaxis\":{\"backgroundcolor\":\"#E5ECF6\",\"gridcolor\":\"white\",\"linecolor\":\"white\",\"showbackground\":true,\"ticks\":\"\",\"zerolinecolor\":\"white\",\"gridwidth\":2}},\"shapedefaults\":{\"line\":{\"color\":\"#2a3f5f\"}},\"annotationdefaults\":{\"arrowcolor\":\"#2a3f5f\",\"arrowhead\":0,\"arrowwidth\":1},\"geo\":{\"bgcolor\":\"white\",\"landcolor\":\"#E5ECF6\",\"subunitcolor\":\"white\",\"showland\":true,\"showlakes\":true,\"lakecolor\":\"white\"},\"title\":{\"x\":0.05},\"mapbox\":{\"style\":\"light\"}}},\"shapes\":[{\"line\":{\"color\":\"gray\",\"dash\":\"dash\"},\"type\":\"line\",\"x0\":0,\"x1\":9,\"xref\":\"x\",\"y0\":1,\"y1\":1,\"yref\":\"y\"}],\"title\":{\"text\":\"Lift Curve\"},\"xaxis\":{\"title\":{\"text\":\"Bin\"}},\"yaxis\":{\"title\":{\"text\":\"Lift\"}}},                        {\"responsive\": true}                    ).then(function(){\n",
       "                            \n",
       "var gd = document.getElementById('3591b782-c6c5-43fd-979c-ceaf0245219f');\n",
       "var x = new MutationObserver(function (mutations, observer) {{\n",
       "        var display = window.getComputedStyle(gd).display;\n",
       "        if (!display || display === 'none') {{\n",
       "            console.log([gd, 'removed!']);\n",
       "            Plotly.purge(gd);\n",
       "            observer.disconnect();\n",
       "        }}\n",
       "}});\n",
       "\n",
       "// Listen for the removal of the full notebook cells\n",
       "var notebookContainer = gd.closest('#notebook-container');\n",
       "if (notebookContainer) {{\n",
       "    x.observe(notebookContainer, {childList: true});\n",
       "}}\n",
       "\n",
       "// Listen for the clearing of the current output cell\n",
       "var outputEl = gd.closest('.output');\n",
       "if (outputEl) {{\n",
       "    x.observe(outputEl, {childList: true});\n",
       "}}\n",
       "\n",
       "                        })                };                });            </script>        </div>"
      ]
     },
     "metadata": {},
     "output_type": "display_data"
    }
   ],
   "source": [
    "lift_dfs, lift_plot = classifier_lift_plot(y_train,probas_list,model_names,show=True)"
   ]
  }
 ],
 "metadata": {
  "kernelspec": {
   "display_name": "Python 3 (ipykernel)",
   "language": "python",
   "name": "python3"
  },
  "language_info": {
   "codemirror_mode": {
    "name": "ipython",
    "version": 3
   },
   "file_extension": ".py",
   "mimetype": "text/x-python",
   "name": "python",
   "nbconvert_exporter": "python",
   "pygments_lexer": "ipython3",
   "version": "3.9.6"
  },
  "toc": {
   "base_numbering": 1,
   "nav_menu": {},
   "number_sections": true,
   "sideBar": true,
   "skip_h1_title": false,
   "title_cell": "Table of Contents",
   "title_sidebar": "Contents",
   "toc_cell": false,
   "toc_position": {},
   "toc_section_display": true,
   "toc_window_display": false
  }
 },
 "nbformat": 4,
 "nbformat_minor": 5
}
